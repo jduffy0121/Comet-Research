{
 "cells": [
  {
   "cell_type": "code",
   "execution_count": 122,
   "id": "e903f28a-8a21-4c62-82cc-3e18e8800903",
   "metadata": {},
   "outputs": [],
   "source": [
    "import requests\n",
    "from bs4 import BeautifulSoup\n",
    "from typing import List, Tuple"
   ]
  },
  {
   "cell_type": "code",
   "execution_count": 123,
   "id": "25dacfef-ec30-44f1-8055-dfad68bd1404",
   "metadata": {},
   "outputs": [],
   "source": [
    "def get_all_search_results(search_term: str) -> List[Tuple[str, str]]:\n",
    "    \n",
    "    # construct the search url\n",
    "    base_search_url = 'https://www.swift.ac.uk/dead_portal/getobject.php'\n",
    "    search_url = base_search_url + '?name=' + search_term + '&submit=Search+Names'\n",
    "    \n",
    "    # download the search page and parse it\n",
    "    page_html = requests.get(search_url)\n",
    "    search_soup = BeautifulSoup(page_html.text, features=\"lxml\")\n",
    "    \n",
    "    # get the main results table\n",
    "    results_table = search_soup.find(\"table\", {\"class\": \"chTable\"})\n",
    "    \n",
    "    # ignore the first row with the names of the columns, and the last row with links for all of the data\n",
    "    table_rows = results_table.find_all(\"tr\")[1:-1]\n",
    "    \n",
    "    # .contents is a list, our table has only one element in it, so take contents[0]\n",
    "    tids = [row.find(\"td\", {\"headers\": \"row_targ\"}).contents[0] for row in table_rows]\n",
    "    tnames = [row.find(\"td\", {\"headers\": \"row_name\"}).contents[0] for row in table_rows]\n",
    "    tobservations = [row.find(\"td\", {\"headers\": \"row_num\"}).contents[0] for row in table_rows]\n",
    "    \n",
    "    # zips and returns the tids and tnames as a list of type Tuple\n",
    "    all_targets_zip = zip(tids, tnames)\n",
    "    return list(all_targets_zip)"
   ]
  },
  {
   "cell_type": "code",
   "execution_count": 124,
   "id": "1dceb7f3-de07-48ed-93ef-a0a2e12db805",
   "metadata": {},
   "outputs": [],
   "source": [
    "def combine_results(list_1: list, list_2: list, list_3: list) -> List[Tuple[str, str]]:\n",
    "    \n",
    "    # combines all list and converts it to a set to remove any duplicate results\n",
    "    # returns the combined set\n",
    "    full_list = list_1 + list_2 + list_3\n",
    "    combined_set = set(full_list)\n",
    "    \n",
    "    # converts the set back to a list to be able to iterate through the data\n",
    "    combined_list = list(combined_set)\n",
    "    return combined_list"
   ]
  },
  {
   "cell_type": "code",
   "execution_count": 125,
   "id": "b59fc157-e534-4bc4-84ec-3f3823b3441a",
   "metadata": {},
   "outputs": [],
   "source": [
    "def create_file(finalized_list: list) -> None:\n",
    "    string = ''\n",
    "    \n",
    "    # writes the file called swift_comet_database.txt\n",
    "    # creates the heading and iterates through the list for each tuple[obsid, tname]\n",
    "    with open('swift_comet_database.txt', 'w') as f:\n",
    "        f.write(f'Name of observation'.ljust(85) + f'Observation ID\\n' + string.ljust(19, '-') + string.ljust(66) + string.ljust(14, '-')  + f'\\n')\n",
    "        i = 0\n",
    "        while i < len(finalized_list):\n",
    "            f.write(f'{finalized_list[i][1]}'.ljust(85) + f'{finalized_list[i][0]}' + f'\\n')\n",
    "            i += 1\n",
    "    f.close()\n",
    "    return"
   ]
  },
  {
   "cell_type": "code",
   "execution_count": 131,
   "id": "888af694-3af6-443a-9b4f-269cd1a17956",
   "metadata": {},
   "outputs": [],
   "source": [
    "def update_list_elements(input_list: list):\n",
    "    \n",
    "    # creates a new_list to store the converted tid to obsid\n",
    "    # input_list[tuples(tid, tname)] -> new_list[tuple(obsid, tname)]\n",
    "    new_list = []\n",
    "    i = 0\n",
    "    j = 0\n",
    "    \n",
    "    # iterates through the input_list for each target tuple(tid, tname)\n",
    "    # gets all obsid for each tid and appends it to new_list\n",
    "    while i < len(input_list):\n",
    "        j = 0\n",
    "        obsids = get_obs_id(input_list[i][0])\n",
    "        while j < len(obsids):\n",
    "            new_list.append((obsids[j], input_list[i][1]))\n",
    "            j += 1\n",
    "        i += 1\n",
    "    return new_list"
   ]
  },
  {
   "cell_type": "code",
   "execution_count": 132,
   "id": "a5c6a3a2-c7b1-4d66-b049-0c2bb514f8e1",
   "metadata": {},
   "outputs": [],
   "source": [
    "def get_obs_id(tid: str):\n",
    "    \n",
    "    # for any given target id, there may be multiple observations in their own directories,\n",
    "    # with the naming scheme {target id}001/, {target id}002/, etc.\n",
    "    # so we let the server give us the appropriate wget commands because it knows how\n",
    "    # many observations each target id has\n",
    "    \n",
    "    overwrite_option = '-nc'\n",
    "    base_wget_url = f'https://www.swift.ac.uk/archive/download.sh?reproc=1&tid={tid}&source=obs&subdir=auxil'\n",
    "    wget_response = requests.get(base_wget_url)\n",
    "    wget_commands = [line for line in wget_response.text.splitlines() if 'wget' in line]\n",
    "    urls = [command.split()[-1] for command in wget_commands]\n",
    "    \n",
    "    # iterates through each wget url created for all obsids\n",
    "    obsids = []\n",
    "    i = 0\n",
    "    while i < len(urls):\n",
    "        link = urls[i]\n",
    "        obsids.append(link[38:-7])\n",
    "        i += 1\n",
    "    return obsids"
   ]
  },
  {
   "cell_type": "code",
   "execution_count": 133,
   "id": "850555bb-d0fe-406f-9098-9ec29b626694",
   "metadata": {},
   "outputs": [],
   "source": [
    "search_term_1 = 'C/'\n",
    "search_term_2 = 'Comet'\n",
    "search_term_3 = 'P/'\n",
    "\n",
    "all_search_1 = get_all_search_results(search_term_1)\n",
    "all_search_2 = get_all_search_results(search_term_2)\n",
    "all_search_3 = get_all_search_results(search_term_3)\n",
    "\n",
    "combined_list = combine_results(all_search_1, all_search_2, all_search_3)\n",
    "updated_list = update_list_elements(combined_list)\n",
    "create_file(updated_list)"
   ]
  }
 ],
 "metadata": {
  "kernelspec": {
   "display_name": "Python 3 (ipykernel)",
   "language": "python",
   "name": "python3"
  },
  "language_info": {
   "codemirror_mode": {
    "name": "ipython",
    "version": 3
   },
   "file_extension": ".py",
   "mimetype": "text/x-python",
   "name": "python",
   "nbconvert_exporter": "python",
   "pygments_lexer": "ipython3",
   "version": "3.9.15"
  },
  "widgets": {
   "application/vnd.jupyter.widget-state+json": {
    "state": {},
    "version_major": 2,
    "version_minor": 0
   }
  }
 },
 "nbformat": 4,
 "nbformat_minor": 5
}
