{
 "cells": [
  {
   "cell_type": "code",
   "execution_count": 2,
   "id": "a6d1e535-d9c4-45a6-acc0-d16ddd72f201",
   "metadata": {},
   "outputs": [],
   "source": [
    "import pathlib\n",
    "import requests\n",
    "import subprocess\n",
    "import os\n",
    "import shutil\n",
    "from typing import List, Tuple\n",
    "from astropy.io import fits\n",
    "import astropy\n",
    "import pandas as pd"
   ]
  },
  {
   "cell_type": "markdown",
   "id": "29131be4-8245-46d3-86a6-c64e72abbc68",
   "metadata": {},
   "source": [
    "#### The input_file needs to be formatted properly if you do not use the one created from swift_database_creator.ipynb\n",
    "Space delimited data with each line containing a target name -> observation id (no commas or any other characters between these elements)   \n",
    "*Note: This data can have any amount of spacing between the name and observation id, just none* ***before the name*** *and/or* ***after the id***"
   ]
  },
  {
   "cell_type": "code",
   "execution_count": 3,
   "id": "bcb03a97-20bc-474d-b015-cc713842a255",
   "metadata": {},
   "outputs": [],
   "source": [
    "def create_tlist(input_file: str) -> List[Tuple[str, str]]:\n",
    "    tlist = []\n",
    "    file = open(f'{input_file}', \"r\")\n",
    "    lines = file.readlines()\n",
    "    i = 0\n",
    "    while i < len(lines):\n",
    "        current_line = lines[i]\n",
    "        obsid = current_line.split()[-1]\n",
    "        tname = current_line.split()[0]\n",
    "        if (tname != 'Name' and tname != '-------------------'):\n",
    "            tlist.append((obsid, tname))\n",
    "        i += 1\n",
    "    file.close()\n",
    "    return tlist"
   ]
  },
  {
   "cell_type": "code",
   "execution_count": 4,
   "id": "45a6653b-42fd-46e2-bcd3-5b438e7d9f2b",
   "metadata": {},
   "outputs": [],
   "source": [
    "def create_swift_wget_commands(obsid: str, dtype: str, overwrite: bool=False) -> str:\n",
    "    \n",
    "    # -nc ==> no clobber: don't replace already downloaded files\n",
    "    # -q ==> quiet mode, no output\n",
    "    # -w 2 ==> wait 2 seconds between files\n",
    "    # -nH ==> don't create a directory based on the host, in this case no folder named www.swift.ac.uk/\n",
    "    # --cut-dirs=2 ==> remove the /archive/reproc/ folders on the server from being created locally\n",
    "    # -r ==> recursive: grab everything under this folder on the server\n",
    "    # --reject ... ==> specify files that we don't want from the server\n",
    "    \n",
    "    if overwrite is False:\n",
    "        overwrite_option = '-nc'\n",
    "    else:\n",
    "        overwrite_option = ''\n",
    "    wget_command = 'wget ' + overwrite_option + f' -q -w 2 -nH --cut-dirs=2 -r --no-parent --reject index.html*,robots.txt*  http://www.swift.ac.uk/archive/reproc/{obsid}/{dtype}/'\n",
    "    return wget_command"
   ]
  },
  {
   "cell_type": "code",
   "execution_count": 5,
   "id": "ec23ff8c-47d6-4f90-ba01-856d1218d440",
   "metadata": {},
   "outputs": [],
   "source": [
    "def swift_download_uncompressed(obsid: str, updated_name: str, dtype: str, dest_dir: pathlib.Path = None, overwrite: bool=False) -> None:\n",
    "    \n",
    "    wget_command = create_swift_wget_commands(obsid, dtype, overwrite)\n",
    "    old_cwd = os.getcwd()\n",
    "    if dest_dir is not None:\n",
    "        os.chdir(dest_dir)\n",
    "    if (overwrite == False and os.path.isdir(f'{os.getcwd()}/{updated_name}_{obsid}/{dtype}') == True):\n",
    "        print(f'{dtype} data for observation id {obsid} is already found in {os.getcwd()}')\n",
    "        return\n",
    "    print(f\"Downloading {dtype} data of observation id {obsid} to {os.getcwd()} ...\")\n",
    "    print(wget_command.split(' ')[-1])\n",
    "    presult = subprocess.run(wget_command.split())\n",
    "    if presult.returncode != 0:\n",
    "        print(f\"Non-zero return code {presult.returncode} for {wget_command}!\")\n",
    "        return\n",
    "    if (os.path.isdir(f'{os.getcwd()}/{updated_name}_{obsid}')):\n",
    "        try:\n",
    "            shutil.move(f'{os.getcwd()}/{obsid}/{dtype}', f'{os.getcwd()}/{updated_name}_{obsid}/{dtype}')\n",
    "            shutil.rmtree(f'{os.getcwd()}/{obsid}')\n",
    "        except FileNotFoundError:\n",
    "            shutil.rmtree(f'{os.getcwd()}/{obsid}')\n",
    "    try:\n",
    "        os.rename(f'{os.getcwd()}/{obsid}', f'{os.getcwd()}/{updated_name}_{obsid}')\n",
    "        os.chdir(old_cwd)\n",
    "    except (os.error, FileNotFoundError):\n",
    "        os.chdir(old_cwd)"
   ]
  },
  {
   "cell_type": "code",
   "execution_count": 6,
   "id": "d370a09d-34e1-4cc6-b527-abb38096a70a",
   "metadata": {},
   "outputs": [],
   "source": [
    "def swift_download_compressed() -> None:\n",
    "    return"
   ]
  },
  {
   "cell_type": "code",
   "execution_count": 7,
   "id": "93f304da-096e-42e6-8754-88c1abf9c084",
   "metadata": {},
   "outputs": [],
   "source": [
    "def download_data(tlist: str, dtype_list: str, dest_dir: pathlib.Path, download_type: str, overwrite=False) -> None:\n",
    "    for obsid, tname in tlist:\n",
    "        updated_name = tname.replace('/', '_')\n",
    "        if (overwrite == True and os.path.isdir(f'{os.getcwd()}/{updated_name}_{obsid}')):\n",
    "            shutil.rmtree(f'{os.getcwd()}/{updated_name}_{obsid}')\n",
    "        for dtype in dtype_list:\n",
    "            if download_type == 'uncompressed':\n",
    "                swift_download_uncompressed(obsid=obsid, updated_name=updated_name, dtype=dtype, dest_dir=dest_dir, overwrite=overwrite)\n",
    "            if download_type == 'tar':\n",
    "                swift_download_compressed()\n",
    "    print(f'\\nDownload Completed!')"
   ]
  },
  {
   "cell_type": "code",
   "execution_count": 8,
   "id": "8a53a812-0544-4ff5-bef5-b3d91a844f91",
   "metadata": {},
   "outputs": [],
   "source": [
    "dtype_list = ['auxil', 'bat', 'xrt', 'uvot', 'log']\n",
    "download_type = ['uncompressed', 'tar']\n",
    "dest_dir = '/Volumes/Swift Data'\n",
    "file_name = 'test.txt'\n",
    "tlist = create_tlist(input_file=file_name)\n",
    "\n",
    "#download_data(tlist=tlist, dtype_list=dtype_list, dest_dir=dest_dir, download_type=download_type[0], overwrite=False)"
   ]
  },
  {
   "cell_type": "code",
   "execution_count": 9,
   "id": "4abae51c-dae2-4e44-924d-3df331324fe3",
   "metadata": {},
   "outputs": [],
   "source": [
    "def count_uvot_images(tname: str, obsid: str, filter_type: str) -> int:\n",
    "    updated_name = tname.replace('/', '_')\n",
    "    try:\n",
    "        files = os.listdir(f'/Volumes/Swift Data/{updated_name}_{obsid}/uvot/image/')\n",
    "    except (os.error, FileNotFoundError):\n",
    "        return 0\n",
    "    image_paths = []\n",
    "    for j in files:\n",
    "        if filter_type in j:\n",
    "            image_paths.append(f'/Volumes/Swift Data/{updated_name}_{obsid}/uvot/image/{j}')\n",
    "    if image_paths == None:\n",
    "        return 0\n",
    "    count = 0\n",
    "    for path in image_paths:\n",
    "        image = fits.open(path)\n",
    "        for i in image:\n",
    "            if (isinstance(image[i], astropy.io.fits.hdu.image.ImageHDU)):\n",
    "                count += 1\n",
    "    return count"
   ]
  },
  {
   "cell_type": "code",
   "execution_count": 10,
   "id": "f496778c-40dd-416a-8231-be13c3e07bc5",
   "metadata": {},
   "outputs": [
    {
     "data": {
      "text/plain": [
       "6"
      ]
     },
     "execution_count": 10,
     "metadata": {},
     "output_type": "execute_result"
    }
   ],
   "source": [
    "count_uvot_images('Comet73P_3-C','00030682001','_sk')"
   ]
  },
  {
   "cell_type": "code",
   "execution_count": 17,
   "id": "d0913782-a42a-4413-ab41-06ce0954f789",
   "metadata": {},
   "outputs": [],
   "source": [
    "def update_tlist(tlist: list) -> List[Tuple[str, str, int, int, int, int]]:\n",
    "    new_list = []\n",
    "    i = 0\n",
    "    while i < len(tlist):\n",
    "        sk_count = count_uvot_images(tname=tlist[i][1],obsid=tlist[i][0],filter_type='_sk')\n",
    "        rw_count = count_uvot_images(tname=tlist[i][1],obsid=tlist[i][0],filter_type='_rw')\n",
    "        ex_count = count_uvot_images(tname=tlist[i][1],obsid=tlist[i][0],filter_type='_ex')\n",
    "        total_count = sk_count + rw_count + ex_count\n",
    "        new_list.append((tlist[i][0], tlist[i][1], sk_count, rw_count, ex_count, total_count))\n",
    "        i += 1\n",
    "        if (i % 100 == 0):\n",
    "            print(f'{i/len(tlist)} percent remaining.')\n",
    "    return new_list"
   ]
  },
  {
   "cell_type": "code",
   "execution_count": 18,
   "id": "133d2554-f7ec-4678-b06f-22966afb97e6",
   "metadata": {},
   "outputs": [
    {
     "name": "stdout",
     "output_type": "stream",
     "text": [
      "0.031928480204342274 percent remaining.\n",
      "0.06385696040868455 percent remaining.\n",
      "0.09578544061302682 percent remaining.\n",
      "0.1277139208173691 percent remaining.\n",
      "0.15964240102171137 percent remaining.\n",
      "0.19157088122605365 percent remaining.\n",
      "0.22349936143039592 percent remaining.\n",
      "0.2554278416347382 percent remaining.\n",
      "0.28735632183908044 percent remaining.\n",
      "0.31928480204342274 percent remaining.\n",
      "0.351213282247765 percent remaining.\n",
      "0.3831417624521073 percent remaining.\n",
      "0.41507024265644954 percent remaining.\n",
      "0.44699872286079184 percent remaining.\n",
      "0.4789272030651341 percent remaining.\n",
      "0.5108556832694764 percent remaining.\n",
      "0.5427841634738186 percent remaining.\n",
      "0.5747126436781609 percent remaining.\n",
      "0.6066411238825032 percent remaining.\n",
      "0.6385696040868455 percent remaining.\n",
      "0.6704980842911877 percent remaining.\n",
      "0.70242656449553 percent remaining.\n",
      "0.7343550446998723 percent remaining.\n",
      "0.7662835249042146 percent remaining.\n",
      "0.7982120051085568 percent remaining.\n",
      "0.8301404853128991 percent remaining.\n",
      "0.8620689655172413 percent remaining.\n",
      "0.8939974457215837 percent remaining.\n",
      "0.9259259259259259 percent remaining.\n",
      "0.9578544061302682 percent remaining.\n",
      "0.9897828863346104 percent remaining.\n"
     ]
    }
   ],
   "source": [
    "file_name = 'swift_comet_database.txt'\n",
    "tlist = create_tlist(input_file=file_name)\n",
    "new_list = update_tlist(tlist)\n",
    "#print(new_list)"
   ]
  },
  {
   "cell_type": "code",
   "execution_count": 21,
   "id": "a39c4fe9-d9e9-4e60-8bc5-acc9bea622ae",
   "metadata": {},
   "outputs": [
    {
     "name": "stdout",
     "output_type": "stream",
     "text": [
      "3132\n",
      "3132\n"
     ]
    }
   ],
   "source": [
    "os.chdir('/Users/jduffy0121/Desktop/')\n",
    "fname = '/Users/jduffy0121/Downloads/swift_comet_database_normalized.csv'\n",
    "comet_dataframe = pd.read_csv(filepath_or_buffer=fname)\n",
    "sorted_list = sorted(new_list, key=lambda tobs: int(tobs[0]))\n",
    "comet_dataframe.sort_values('obsid', inplace=True)\n",
    "comet_dataframe.reset_index(drop=True, inplace=True)\n",
    "print(len(comet_dataframe))\n",
    "print(len(sorted_list))\n",
    "#print(comet_dataframe)\n",
    "#print(sorted_list[-5:])\n",
    "#print(comet_dataframe[:5])\n",
    "#print(sorted_list[0])\n",
    "comet_dataframe.insert(\n",
    "    loc=3,\n",
    "    column=\"sk_image_count\",\n",
    "    value=[x[2] for x in sorted_list],\n",
    ")\n",
    "comet_dataframe.insert(\n",
    "    loc=4,\n",
    "    column=\"rw_image_count\",\n",
    "    value=[x[3] for x in sorted_list],\n",
    ")\n",
    "comet_dataframe.insert(\n",
    "    loc=5,\n",
    "    column=\"ex_image_count\",\n",
    "    value=[x[4] for x in sorted_list],\n",
    ")\n",
    "comet_dataframe.insert(\n",
    "    loc=6,\n",
    "    column=\"total_image_count\",\n",
    "    value=[x[5] for x in sorted_list],\n",
    ")\n",
    "comet_dataframe.to_csv('/Users/jduffy0121/Downloads/swift_comet_database_test_main.csv', index=False)"
   ]
  },
  {
   "cell_type": "code",
   "execution_count": null,
   "id": "5e8a8024-7d44-4ed3-84fa-fe416cf23634",
   "metadata": {},
   "outputs": [],
   "source": [
    "#or j in sorted_list:\n",
    "#    if int(j[0]) == int('30396001'):\n",
    "#        print(j[2])\n",
    "print(sorted_list)"
   ]
  },
  {
   "cell_type": "code",
   "execution_count": 24,
   "id": "d2f635ad-a27d-47df-9e59-c678cfa43864",
   "metadata": {},
   "outputs": [
    {
     "name": "stdout",
     "output_type": "stream",
     "text": [
      "2654\n"
     ]
    }
   ],
   "source": [
    "sw_mask = comet_dataframe['conventional_names'] == '73P'\n",
    "print(sum(comet_dataframe[sw_mask]['total_image_count']))"
   ]
  }
 ],
 "metadata": {
  "kernelspec": {
   "display_name": "Python 3 (ipykernel)",
   "language": "python",
   "name": "python3"
  },
  "language_info": {
   "codemirror_mode": {
    "name": "ipython",
    "version": 3
   },
   "file_extension": ".py",
   "mimetype": "text/x-python",
   "name": "python",
   "nbconvert_exporter": "python",
   "pygments_lexer": "ipython3",
   "version": "3.9.15"
  },
  "widgets": {
   "application/vnd.jupyter.widget-state+json": {
    "state": {},
    "version_major": 2,
    "version_minor": 0
   }
  }
 },
 "nbformat": 4,
 "nbformat_minor": 5
}
