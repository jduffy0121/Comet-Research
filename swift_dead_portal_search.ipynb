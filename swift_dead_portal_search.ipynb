{
 "cells": [
  {
   "cell_type": "markdown",
   "id": "b9b2ced9-8d21-44c4-bb99-c324b14c6160",
   "metadata": {
    "tags": []
   },
   "source": [
    "# Swift Archive Portal Search\n",
    "\n",
    "The program allows the user to searches dead swift portal found [here](https://www.swift.ac.uk/dead_portal/index.php) and automatically downloads the data to the user's hard drive.  \n",
    "  \n",
    "To run the code blocks, go to ```Run``` -> ```Run All Cells```  \n",
    "To hide code blocks, go to ```View``` -> ```Collapse All Code``` \n",
    "\n",
    "### Porgam Requirements\n",
    "This program requires the installation the following packages: ipywidgets and wget. \n",
    "  \n",
    ">To install ipywidgets run the following command in terminal: ```conda install -c conda-forge ipywidgets```  \n",
    ">To install wget run the following command in terminal: ```brew install wget```  \n",
    "\n",
    "***Note:*** *if you do not have Homebrew installed already, check this documentation found [here](https://brew.sh/) to install it first, then come back and install wget*\n",
    "\n",
    "### User Interface\n",
    "The user interface allows for a specified download type (```tar``` or ```uncompressed```) and multiple file types (```auxil``` and/or ```bat``` and/or```xrt``` and/or ```uvolt``` and/or ```log```).  \n",
    "Also the user can specify the download location (it defaults to the current directory) and skip files that are already created by the program (in case of the program timing out when downloading).  \n",
    "This user interface uses elements from ipywidgets and tkinter."
   ]
  },
  {
   "cell_type": "code",
   "execution_count": 6,
   "id": "5aa8e090-4545-48be-818f-2f671b77de58",
   "metadata": {
    "jupyter": {
     "source_hidden": true
    },
    "tags": []
   },
   "outputs": [
    {
     "data": {
      "application/vnd.jupyter.widget-view+json": {
       "model_id": "6d43d6c1a40f4bd0a2f7e8029a511fc1",
       "version_major": 2,
       "version_minor": 0
      },
      "text/plain": [
       "Text(value='', description='Search Term:', placeholder='')"
      ]
     },
     "metadata": {},
     "output_type": "display_data"
    },
    {
     "data": {
      "application/vnd.jupyter.widget-view+json": {
       "model_id": "349ee46f5ac4443f9849fe23f6b207ab",
       "version_major": 2,
       "version_minor": 0
      },
      "text/plain": [
       "ToggleButtons(description='Download Type:', options=('tar', 'uncompressed'), tooltips=('uncompressed', 'tar'),…"
      ]
     },
     "metadata": {},
     "output_type": "display_data"
    },
    {
     "data": {
      "application/vnd.jupyter.widget-view+json": {
       "model_id": "4f0489c5b0fc4b93a670a461d4592409",
       "version_major": 2,
       "version_minor": 0
      },
      "text/plain": [
       "SelectMultiple(description='File Type(s)', index=(3,), options=('auxil', 'bat', 'xrt', 'uvot', 'log'), value=(…"
      ]
     },
     "metadata": {},
     "output_type": "display_data"
    },
    {
     "name": "stdout",
     "output_type": "stream",
     "text": [
      "\n"
     ]
    },
    {
     "data": {
      "application/vnd.jupyter.widget-view+json": {
       "model_id": "6e6650cdbb15448aa6d9ba79dac1ec70",
       "version_major": 2,
       "version_minor": 0
      },
      "text/plain": [
       "Text(value='/Users/jduffy0121/Desktop/Comet-Research', description='Download Location:', disabled=True, layout…"
      ]
     },
     "metadata": {},
     "output_type": "display_data"
    },
    {
     "data": {
      "application/vnd.jupyter.widget-view+json": {
       "model_id": "46fdbcc946f842ca9769d08fc2a1c576",
       "version_major": 2,
       "version_minor": 0
      },
      "text/plain": [
       "Button(description='Change Download Location', layout=Layout(width='200px'), style=ButtonStyle(), tooltip='Cha…"
      ]
     },
     "metadata": {},
     "output_type": "display_data"
    },
    {
     "name": "stdout",
     "output_type": "stream",
     "text": [
      "\n"
     ]
    },
    {
     "data": {
      "application/vnd.jupyter.widget-view+json": {
       "model_id": "27945f30885348258c5e8a3cab8b1adf",
       "version_major": 2,
       "version_minor": 0
      },
      "text/plain": [
       "Checkbox(value=True, description='Skip already downloaded files', indent=False)"
      ]
     },
     "metadata": {},
     "output_type": "display_data"
    },
    {
     "name": "stdout",
     "output_type": "stream",
     "text": [
      "\n"
     ]
    },
    {
     "data": {
      "application/vnd.jupyter.widget-view+json": {
       "model_id": "107737d61b804429b0e733d05e70d1da",
       "version_major": 2,
       "version_minor": 0
      },
      "text/plain": [
       "Button(description='Search Archives', style=ButtonStyle(), tooltip='Search the Swift archives')"
      ]
     },
     "metadata": {},
     "output_type": "display_data"
    },
    {
     "data": {
      "application/vnd.jupyter.widget-view+json": {
       "model_id": "1cd46de65f734a7e9a2c4e7bfefa43ce",
       "version_major": 2,
       "version_minor": 0
      },
      "text/plain": [
       "Output()"
      ]
     },
     "metadata": {},
     "output_type": "display_data"
    }
   ],
   "source": [
    "import pathlib\n",
    "import requests\n",
    "import subprocess\n",
    "import os\n",
    "import ipywidgets as widgets\n",
    "from dataclasses import dataclass\n",
    "from tkinter import filedialog\n",
    "from bs4 import BeautifulSoup\n",
    "from typing import List, Tuple\n",
    "\n",
    "# data class to manage reading and passing the data around to methods\n",
    "#\n",
    "# -----------------------------------------------Parameters-----------------------------------------------\n",
    "#\n",
    "# search_term: string of striped result that user puts into the search box\n",
    "# download_type: string result that user selects as their download type, download_type are ['uncompressed', 'tar']\n",
    "# dtype_list: list of strings that represent all the data being downloaded, dtype_list are ['auxil', 'bat', 'xrt', 'uvot', 'log']\n",
    "# overwrite: bool representing the to either overwrite a file if it alreadys exist\n",
    "# dest_dir: path to store all downloaded files\n",
    "# page_html: raw string literal of the html page\n",
    "# search_soup: parse of the page_html to easier nagivate and search through it (using the BeautifulSoup class)\n",
    "# search_type: string value representing if the server found 0 results, 1 result, or 2+ results as each has a different html\n",
    "# tlist: list of type Tuple (for 2+ results) or type string (for 1 result) that contains all tname(s) and tid(s) to download\n",
    "# tname(s): string(s) representing the target name found on the search page\n",
    "# tid(s): string(s) representing the 8 digit long target identification number for each target found in tnames\n",
    "#\n",
    "# --------------------------------------------------------------------------------------------------------\n",
    "\n",
    "@dataclass\n",
    "class SearchInfo:\n",
    "    search_term: str\n",
    "    download_type: str\n",
    "    dtype_list: list\n",
    "    overwrite: bool\n",
    "    dest_dir: str\n",
    "    page_html: str\n",
    "    search_soup: str\n",
    "    search_type: str\n",
    "    tlist: list\n",
    "    \n",
    "def get_swift_wget_commands(tid: str, dtype: str, overwrite: bool) -> List[str]:\n",
    "\n",
    "    # for any given target id, there may be multiple observations in their own directories,\n",
    "    # with the naming scheme {target id}001/, {target id}002/, etc.\n",
    "    # so we let the server give us the appropriate wget commands because it knows how\n",
    "    # many observations each target id has\n",
    "    \n",
    "    if overwrite is False:\n",
    "        overwrite_option = '-nc'\n",
    "    else:\n",
    "        overwrite_option = ''\n",
    "        \n",
    "    # this page returns a script with wget commands to download our data\n",
    "    base_wget_url = f'https://www.swift.ac.uk/archive/download.sh?reproc=1&tid={tid}&source=obs&subdir={dtype}'\n",
    "    wget_response = requests.get(base_wget_url)\n",
    "    wget_commands = [line for line in wget_response.text.splitlines() if 'wget' in line]\n",
    "    urls = [command.split()[-1] for command in wget_commands]\n",
    "    \n",
    "    # -nc ==> no clobber: don't replace already downloaded files\n",
    "    # -q ==> quiet mode, no output\n",
    "    # -w 2 ==> wait 2 seconds between files\n",
    "    # -nH ==> don't create a directory based on the host, in this case no folder named www.swift.ac.uk/\n",
    "    # --cut-dirs=2 ==> remove the /archive/reproc/ folders on the server from being created locally\n",
    "    # -r ==> recursive: grab everything under this folder on the server\n",
    "    # --reject ... ==> specify files that we don't want from the server\n",
    "    adjusted_wget_commands = ['wget ' + overwrite_option + ' -q -w 2 -nH --cut-dirs=2 -r --no-parent --reject index.html*,robots.txt* ' + url for url in urls]\n",
    "    \n",
    "    return adjusted_wget_commands\n",
    "\n",
    "def swift_download_uncompressed(tid: str, dtype: str, dest_dir: pathlib.Path = None, overwrite: bool = False) -> None:\n",
    "    \n",
    "    # given a Swift target id and type of data, this function downloads the uncompressed\n",
    "    # data to the directory dest_dir\n",
    "    \n",
    "    # get our download commands from the server\n",
    "    wget_commands = get_swift_wget_commands(tid=tid, dtype=dtype, overwrite=overwrite)\n",
    "    if wget_commands is None:\n",
    "        print(\"No wget commands to execute, skipping downloads...\")\n",
    "        return\n",
    "    \n",
    "    # change folders if we need to\n",
    "    old_cwd = os.getcwd()\n",
    "    if dest_dir is not None:\n",
    "        os.chdir(dest_dir)\n",
    "    print(f\"Downloading {dtype} data of target id {tid} to {os.getcwd()} ...\")\n",
    "    \n",
    "    # run each command to grab the individual observations for this target id\n",
    "    for command in wget_commands:\n",
    "        presult = subprocess.run(command.split())\n",
    "        if presult.returncode != 0:\n",
    "            print(f\"Non-zero return code {presult.returncode} for {command}!\")\n",
    "    \n",
    "    # change folders back\n",
    "    os.chdir(old_cwd)\n",
    "\n",
    "def swift_download_compressed(tid: str, tname: str, dtype: str, archive_type: str, dest_dir: pathlib.Path, overwrite: bool = False) -> None:\n",
    "\n",
    "    \"\"\"\n",
    "        Downloads an archive of Swift data from swift.ac.uk to dest_dir\n",
    "\n",
    "        Parameters\n",
    "        ----------\n",
    "        tid : string\n",
    "            The target ID to be downloaded, e.g. '00020405'\n",
    "        tname: string\n",
    "            The name of the target, e.g. 'CometC/2031US10(Catalina)'\n",
    "        dtype: string\n",
    "            The type of data being downloaded, e.g. 'uvot'\n",
    "        archive_type: string\n",
    "            One of 'zip' or 'tar' to download the corresponding type\n",
    "        dest_dir: pathlib.Path\n",
    "            Directory to place files\n",
    "        overwrite: bool\n",
    "            Whether or not to overwrite the file if it already exists\n",
    "    \"\"\"\n",
    "    \n",
    "    # change folders if we need to\n",
    "    old_cwd = os.getcwd()\n",
    "    if dest_dir is not None:\n",
    "        os.chdir(dest_dir)\n",
    "    \n",
    "    # name the archive with the target id and data type, because the server returns 'download.tar' no matter what\n",
    "    out_file_stem = pathlib.Path(tid + f\"_{dtype}\")\n",
    "    \n",
    "    # download\n",
    "    if archive_type == 'zip':\n",
    "        print(f\"Downloading .zip archives is broken server-side so is currently unsupported.\")\n",
    "    if archive_type == 'tar':\n",
    "        swift_download_compressed_tar(tid=tid, tname=tname, dtype=dtype, out_file_stem=out_file_stem, overwrite=overwrite)\n",
    "\n",
    "    os.chdir(old_cwd)\n",
    "    return\n",
    "\n",
    "def swift_download_compressed_tar(tid: str, tname: str, dtype: str, out_file_stem: pathlib.Path, overwrite: bool) -> None:\n",
    "\n",
    "    out_file = out_file_stem.with_suffix('.tar')\n",
    "    if out_file.exists() and overwrite is False:\n",
    "        print(f\"Found {str(out_file)} and overwriting was forbidden, skipping download.\")\n",
    "        return\n",
    "    \n",
    "    # build our urls and params to send the server\n",
    "    swift_referer_base_url = 'https://www.swift.ac.uk/archive/prepdata.php'\n",
    "    swift_download_portal_base_url = 'https://www.swift.ac.uk/archive/download.tar'\n",
    "\n",
    "    referer_url = f\"{swift_referer_base_url}?tid={tid}&source=obs&name={tname}&referer=portal\"\n",
    "    params = {\n",
    "        'reproc': '1',\n",
    "        'tid': tid,\n",
    "        'source': 'obs',\n",
    "        'subdir': dtype,\n",
    "    }\n",
    "\n",
    "    # lie to the server\n",
    "    request_header = {\n",
    "        'User-Agent': 'Mozilla/5.0 (Macintosh; Intel Mac OS X 10.15; rv:109.0) Gecko/20100101 Firefox/109.0',\n",
    "        'Accept': 'text/html,application/xhtml+xml,application/xml;q=0.9,image/avif,image/webp,*/*;q=0.8',\n",
    "        'Accept-Language': 'en-US,en;q=0.5',\n",
    "        'Referer': referer_url,\n",
    "        'DNT': '1',\n",
    "        'Connection': 'keep-alive',\n",
    "        'Upgrade-Insecure-Requests': '1',\n",
    "        'Sec-Fetch-Dest': 'document',\n",
    "        'Sec-Fetch-Mode': 'navigate',\n",
    "        'Sec-Fetch-Site': 'same-origin',\n",
    "        'Sec-Fetch-User': '?1',\n",
    "        'Sec-GPC': '1',\n",
    "    }\n",
    "\n",
    "    print(f\"Attempting to download {tid} of {tname} to {out_file}, please wait ...\")\n",
    "    response = requests.get(swift_download_portal_base_url, params=params, headers=request_header)\n",
    "    print(f\"Requested data from {response.url}, response code {response.status_code} ...\")\n",
    "\n",
    "    # name the output file if it wasn't passed in an argument\n",
    "    with open(out_file, 'wb') as f:\n",
    "        f.write(response.content)\n",
    "    \n",
    "    print(f\"Wrote {str(out_file)}.\")\n",
    "\n",
    "    return\n",
    "\n",
    "def search_page() -> None:\n",
    "    global SearchClass\n",
    "    # construct the search url\n",
    "    base_search_url = 'https://www.swift.ac.uk/dead_portal/getobject.php'\n",
    "    search_url = base_search_url + '?name=' + SearchClass.search_term + '&submit=Search+Names'\n",
    "    \n",
    "    # download the search page and parse it\n",
    "    SearchClass.page_html = requests.get(search_url)\n",
    "    SearchClass.search_soup = BeautifulSoup(SearchClass.page_html.text, features=\"lxml\")\n",
    "    \n",
    "def results_type() -> str:\n",
    "    global SearchClass\n",
    "    string = ''\n",
    "    # reads the html to see if the page showed that there is no results by displaying the string \n",
    "    # find() will return -1 if that exact string is not found     \n",
    "    if(SearchClass.search_soup.get_text().find('No entry found in the database with object name matching') != -1):\n",
    "        print(f'\\nUnable to find any search results for \\'{SearchClass.search_term}\\'. \\nPlease try again.\\n')\n",
    "        print(string.ljust(100, '-'))\n",
    "        return '0 results'\n",
    "    elif(SearchClass.search_soup.get_text().find('Download archive data') != -1):\n",
    "        return '1 result'\n",
    "    else:\n",
    "        return '2 or more results'\n",
    "    \n",
    "def get_single_tlist() -> [str, str]:\n",
    "    global SearchClass\n",
    "    string = ''\n",
    "    \n",
    "    # searches the saved soup html of the page for the tid and tname\n",
    "    page_head = str(SearchClass.search_soup.find_all('h1')[0])\n",
    "    tname = page_head[30:-5]\n",
    "    page_label = str(SearchClass.search_soup.find_all('label')[1])\n",
    "    tid = page_label[29:37]\n",
    "    \n",
    "    # displays the results to the user\n",
    "    print(f'\\nFound a single data file for the search term \\'{SearchClass.search_term}\\':\\n')\n",
    "    print(string.ljust(100, '-'))\n",
    "    print()\n",
    "    print(f'Name of observation: {tname}'.ljust(67) + 'Total number of observations: 1\\n')\n",
    "    print(string.ljust(100, '-'))\n",
    "    print(f'Confirm or cancel the download of the single file above to the directory {SearchClass.dest_dir}\\n')\n",
    "    \n",
    "    # returns the tname and tid as a list\n",
    "    return [tname, tid]\n",
    "\n",
    "def get_multi_tlists() -> List[Tuple[str, str]]:\n",
    "    global SearchClass\n",
    "    string = ''\n",
    "    \n",
    "    # get the main results table\n",
    "    results_table = SearchClass.search_soup.find(\"table\", {\"class\": \"chTable\"})\n",
    "    \n",
    "    # ignore the first row with the names of the columns, and the last row with links for all of the data\n",
    "    table_rows = results_table.find_all(\"tr\")[1:-1]\n",
    "    \n",
    "    # .contents is a list, our table has only one element in it, so take contents[0]\n",
    "    tids = [row.find(\"td\", {\"headers\": \"row_targ\"}).contents[0] for row in table_rows]\n",
    "    tnames = [row.find(\"td\", {\"headers\": \"row_name\"}).contents[0] for row in table_rows]\n",
    "    tobservations = [row.find(\"td\", {\"headers\": \"row_num\"}).contents[0] for row in table_rows]\n",
    "    \n",
    "    # create a dict to show the user the total ammount of data for each observation in tname\n",
    "    # iterates through tnames and tobservations to count the total times for each tname, storing these values in print_table\n",
    "    print_table = {}\n",
    "    i = 0\n",
    "    while i < len(table_rows):\n",
    "        print_table[f'{tnames[i]}'] = print_table.get(f'{tnames[i]}', 0) + int(tobservations[i])\n",
    "        i += 1\n",
    "    print(f'\\nFound the following data for the search term \\'{SearchClass.search_term}\\':\\n')\n",
    "    print(string.ljust(100, '-'))\n",
    "    print()\n",
    "    \n",
    "    # prints the table of files found for the user to see what their search results are\n",
    "    # cast elements in the print_table to be able to index the tname and toal tobservations separately\n",
    "    j = 0\n",
    "    while j < len(print_table):\n",
    "        print(f'Name of observation: {tuple(print_table.items())[j][0]}'.ljust(67) + f'Total number of observations: {tuple(print_table.items())[j][1]}\\n')\n",
    "        j += 1\n",
    "    print(string.ljust(100, '-'))\n",
    "    print(f'Confirm or cancel the download of all files above to the directory {SearchClass.dest_dir}\\n')\n",
    "    \n",
    "    # zips and returns the tids and tnames as a list of type Tuple\n",
    "    all_targets_zip = zip(tids, tnames)\n",
    "    return list(all_targets_zip)\n",
    "\n",
    "def download_single_file(tlist: str, dtype_list: str, dest_dir: pathlib.Path, download_type: str, overwrite=False) -> None:\n",
    "    print()\n",
    "    string = ''\n",
    "    # downloads the file for a single result when searching\n",
    "    for dtype in dtype_list:\n",
    "        if download_type == 'uncompressed':\n",
    "            swift_download_uncompressed(tid=tlist[1], dtype=dtype, dest_dir=dest_dir, overwrite=overwrite)\n",
    "        if download_type in ['tar', 'zip']:\n",
    "            swift_download_compressed(tid=tlist[1], tname=tlist[0], dtype=dtype, archive_type=download_type, dest_dir=dest_dir, overwrite=overwrite)\n",
    "    print(f'Download Completed!\\n')\n",
    "    print(string.ljust(100, '-'))\n",
    "    \n",
    "def download_multi_files(tlist: str, dtype_list: str, dest_dir: pathlib.Path, download_type: str, overwrite=False) -> None:\n",
    "    print()\n",
    "    string = ''\n",
    "    # downloads the files for 2+ results when searching\n",
    "    # iterates over each requested data type and observation collected from get_multi_tlists()\n",
    "    for dtype in dtype_list:\n",
    "        for tid, tname in tlist:\n",
    "            if download_type == 'uncompressed':\n",
    "                swift_download_uncompressed(tid=tid, dtype=dtype, dest_dir=dest_dir, overwrite=overwrite)\n",
    "            if download_type in ['tar', 'zip']:\n",
    "                swift_download_compressed(tid=tid, tname=tname, dtype=dtype, archive_type=download_type, dest_dir=dest_dir, overwrite=overwrite)\n",
    "    print(f'Download Completed!\\n')\n",
    "    print(string.ljust(100, '-'))\n",
    "    \n",
    "def confirm_button_click(button) -> None: \n",
    "    global SearchClass\n",
    "    cancel_button.disabled = True\n",
    "    confirm_button.disabled = True\n",
    "    with output:\n",
    "        string = ''\n",
    "        # downloads files depending on type\n",
    "        if (SearchClass.search_type == '1 result'):\n",
    "            download_single_file(SearchClass.tlist, SearchClass.dtype_list, SearchClass.dest_dir, \n",
    "                                 SearchClass.download_type, SearchClass.overwrite)\n",
    "        else:\n",
    "            download_multi_files(SearchClass.tlist, SearchClass.dtype_list, SearchClass.dest_dir, \n",
    "                                 SearchClass.download_type, SearchClass.overwrite)\n",
    "    enable_inputs()\n",
    "    \n",
    "def cancel_button_click(button) -> None:\n",
    "    # cancels program run without downloading files\n",
    "    cancel_button.disabled = True\n",
    "    confirm_button.disabled = True\n",
    "    with output:\n",
    "        string = ''\n",
    "        print(f'\\nNo files downloaded\\n')\n",
    "        print(string.ljust(100, '-'))\n",
    "        enable_inputs()\n",
    "        \n",
    "def get_page_information() -> None:\n",
    "    global SearchClass\n",
    "    output = widgets.Output()\n",
    "    cancel_button.disabled = False\n",
    "    confirm_button.disabled = False\n",
    "    string = ''\n",
    "    print(string.ljust(100, '-'))\n",
    "    \n",
    "    # gets all the results from the UI\n",
    "    SearchClass.download_type = download_box.value\n",
    "    SearchClass.dtype_list = list(dtype_box.value)\n",
    "    \n",
    "    # flips bool value for overwrite to fit common wget formatting\n",
    "    if (overwrite_box.value == True):\n",
    "        SearchClass.overwrite = False\n",
    "    else:\n",
    "        SearchClass.overwrite = True\n",
    "    SearchClass.dest_dir = path_box.value\n",
    "    \n",
    "    # test to see if the search term is not empty\n",
    "    if(search_box.value.strip() == ''):\n",
    "        print(f'\\nNo search term entered.\\nPlease try again.\\n')\n",
    "        print(string.ljust(100, '-'))\n",
    "        enable_inputs()\n",
    "        return\n",
    "        \n",
    "    # gets page download and runs the downloads based on how many results come back (1 or 2+)\n",
    "    else:\n",
    "        # only gets the new page if the previous non empty search term stored in the data class is different \n",
    "        # than the current term in the box\n",
    "        if (search_box.value.strip() != SearchClass.search_term):\n",
    "            SearchClass.search_term = search_box.value.strip()\n",
    "            search_page()\n",
    "            \n",
    "        # reads the page to see how many results are present\n",
    "        SearchClass.search_type = results_type()\n",
    "        \n",
    "        # gets tlist from the search_soup and prints the results to the counsel \n",
    "        if (SearchClass.search_type == '1 result'):\n",
    "            SearchClass.tlist = get_single_tlist()\n",
    "        elif (SearchClass.search_type == '2 or more results'):\n",
    "            SearchClass.tlist = get_multi_tlists()\n",
    "        else:\n",
    "            enable_inputs()\n",
    "            return\n",
    "        \n",
    "        # creates UI elements to confirm/cancel download\n",
    "        display(confirm_button, output)\n",
    "        display(cancel_button, output)\n",
    "        print(string.ljust(100, '-'))\n",
    "        cancel_button.on_click(cancel_button_click)\n",
    "        confirm_button.on_click(confirm_button_click)\n",
    "        \n",
    "def search_button_click(button) -> None:\n",
    "    # disables all UI input elements while running to ensure multiple searches do not happen at the same time\n",
    "    search_box.disabled = True\n",
    "    dtype_box.disabled = True\n",
    "    download_box.disabled = True\n",
    "    path_button.disabled = True\n",
    "    overwrite_box.disabled = True\n",
    "    search_button.disabled = True\n",
    "    with output:\n",
    "        get_page_information()\n",
    "\n",
    "def path_button_click(button) -> None:\n",
    "    # gets the new user path if they select to change from current dir\n",
    "    path_button.disabled = True\n",
    "    with output:\n",
    "        user_path = filedialog.askdirectory()\n",
    "        output.clear_output()\n",
    "        # test to see if they actually submitted a valid path\n",
    "        if user_path == '' or user_path == '/':\n",
    "            path_button.disabled = False\n",
    "            return\n",
    "        # updates path value if it is valid\n",
    "        path_box.value = user_path\n",
    "    path_button.disabled = False\n",
    "\n",
    "def enable_inputs() -> None:\n",
    "    # re enables all UI input elements to allow for user to attempt another download and clears the output\n",
    "    search_box.disabled = False\n",
    "    dtype_box.disabled = False\n",
    "    download_box.disabled = False\n",
    "    path_button.disabled = False\n",
    "    overwrite_box.disabled = False\n",
    "    search_button.disabled = False\n",
    "    output.clear_output(wait=True)\n",
    "\n",
    "# creates an empty new SearchInfo data class\n",
    "SearchClass = SearchInfo(search_term='', download_type='', dtype_list = [], overwrite=False, \n",
    "                         dest_dir='', page_html='', search_soup='', search_type='', tlist = [])\n",
    "\n",
    "# creates all UI elements using ipywidgets\n",
    "output = widgets.Output()\n",
    "search_box = widgets.Text(\n",
    "    value='',\n",
    "    placeholder='',\n",
    "    description='Search Term:',\n",
    "    disabled=False\n",
    ")\n",
    "download_box = widgets.ToggleButtons(\n",
    "    # zip file download type is not working on the portal\n",
    "    # on the small chance it does start working again, uncommit the below two lines and commit following two lines\n",
    "    \n",
    "    #options=['tar', 'uncompressed', 'zip'],\n",
    "    #tooltips=['uncompressed', 'tar', 'zip'],\n",
    "    options=['tar', 'uncompressed'],\n",
    "    tooltips=['uncompressed', 'tar'],\n",
    "    description='Download Type:',\n",
    "    disabled=False\n",
    ")\n",
    "dtype_box = widgets.SelectMultiple(\n",
    "    options=['auxil', 'bat', 'xrt', 'uvot', 'log'],\n",
    "    value=['uvot'],\n",
    "    description='File Type(s)',\n",
    "    disabled=False\n",
    ")\n",
    "path_box = widgets.Text(\n",
    "    value=f'{os.getcwd()}',\n",
    "    placeholder='',\n",
    "    style = {'description_width': 'initial'},\n",
    "    description='Download Location:',\n",
    "    disabled=True,\n",
    "    layout={'width': '500px'}\n",
    ")\n",
    "path_button = widgets.Button(\n",
    "    description=\"Change Download Location\",\n",
    "    disabled=False,\n",
    "    button_style='',\n",
    "    tooltip=\"Change the download path\",\n",
    "    layout={'width': '200px'}\n",
    ")\n",
    "overwrite_box = widgets.Checkbox(\n",
    "    value=True,\n",
    "    description='Skip already downloaded files',\n",
    "    disabled=False,\n",
    "    indent=False\n",
    ")\n",
    "search_button = widgets.Button(\n",
    "    description=\"Search Archives\",\n",
    "    disabled=False,\n",
    "    button_style='',\n",
    "    tooltip=\"Search the Swift archives\"\n",
    ")\n",
    "confirm_button = widgets.Button(\n",
    "    description=\"Confirm\",\n",
    "    disabled=False,\n",
    "    button_style='',\n",
    "    tooltip=\"Confirm download\"\n",
    ")\n",
    "cancel_button = widgets.Button(\n",
    "    description=\"Cancel\",\n",
    "    disabled=False,\n",
    "    button_style='',\n",
    "    tooltip=\"Cancel download\"\n",
    ")\n",
    "\n",
    "# displays the UI input elements\n",
    "display(search_box)\n",
    "display(download_box)\n",
    "display(dtype_box)\n",
    "print()\n",
    "display(path_box)\n",
    "display(path_button)\n",
    "print()\n",
    "display(overwrite_box)\n",
    "print()\n",
    "display(search_button, output)\n",
    "path_button.on_click(path_button_click)\n",
    "search_button.on_click(search_button_click)"
   ]
  }
 ],
 "metadata": {
  "kernelspec": {
   "display_name": "Python 3 (ipykernel)",
   "language": "python",
   "name": "python3"
  },
  "language_info": {
   "codemirror_mode": {
    "name": "ipython",
    "version": 3
   },
   "file_extension": ".py",
   "mimetype": "text/x-python",
   "name": "python",
   "nbconvert_exporter": "python",
   "pygments_lexer": "ipython3",
   "version": "3.9.15"
  },
  "toc-showcode": true,
  "widgets": {
   "application/vnd.jupyter.widget-state+json": {
    "state": {
     "0062bc9b43b04116b5c3bf15baa91ff0": {
      "model_module": "@jupyter-widgets/controls",
      "model_module_version": "2.0.0",
      "model_name": "ButtonModel",
      "state": {
       "description": "Confirm",
       "layout": "IPY_MODEL_bc32465f8cee4c458ca34d42ec32e303",
       "style": "IPY_MODEL_40dd78e538c546edbc0ca62760943b64",
       "tooltip": "Confirm download"
      }
     },
     "0066c3f3c56c4bc6813a4acc02e58882": {
      "model_module": "@jupyter-widgets/controls",
      "model_module_version": "2.0.0",
      "model_name": "ToggleButtonsStyleModel",
      "state": {
       "button_width": "",
       "description_width": ""
      }
     },
     "00f005fbd2584228b67619ac5fd616b1": {
      "model_module": "@jupyter-widgets/controls",
      "model_module_version": "2.0.0",
      "model_name": "DescriptionStyleModel",
      "state": {
       "description_width": ""
      }
     },
     "0381db5083a04c238f763b8ad4c190bb": {
      "model_module": "@jupyter-widgets/controls",
      "model_module_version": "2.0.0",
      "model_name": "DescriptionStyleModel",
      "state": {
       "description_width": ""
      }
     },
     "03d0490b28ae4292a4166a7bf3034797": {
      "model_module": "@jupyter-widgets/base",
      "model_module_version": "2.0.0",
      "model_name": "LayoutModel",
      "state": {}
     },
     "051f7f505c1e4b99a9636a727a4d7902": {
      "model_module": "@jupyter-widgets/base",
      "model_module_version": "2.0.0",
      "model_name": "LayoutModel",
      "state": {}
     },
     "07205999b1454dccac32f9aca619fdcf": {
      "model_module": "@jupyter-widgets/controls",
      "model_module_version": "2.0.0",
      "model_name": "TextStyleModel",
      "state": {
       "description_width": "initial",
       "font_size": null,
       "text_color": null
      }
     },
     "093b2e32efc7414998654303b4393fd7": {
      "model_module": "@jupyter-widgets/output",
      "model_module_version": "1.0.0",
      "model_name": "OutputModel",
      "state": {
       "layout": "IPY_MODEL_21eac22fec01411fabddc17abcf959e8"
      }
     },
     "093c69b9d55e452eab5533d8b95ac9e6": {
      "model_module": "@jupyter-widgets/base",
      "model_module_version": "2.0.0",
      "model_name": "LayoutModel",
      "state": {}
     },
     "0a1b4be1e5fd47cb9fb0b6ec1f4ab174": {
      "model_module": "@jupyter-widgets/controls",
      "model_module_version": "2.0.0",
      "model_name": "TextStyleModel",
      "state": {
       "description_width": "initial",
       "font_size": null,
       "text_color": null
      }
     },
     "0a954a3c9b834f71bdd5a364752ed293": {
      "model_module": "@jupyter-widgets/base",
      "model_module_version": "2.0.0",
      "model_name": "LayoutModel",
      "state": {}
     },
     "0bd3a79e188f4286bf543c5bbf71f34c": {
      "model_module": "@jupyter-widgets/controls",
      "model_module_version": "2.0.0",
      "model_name": "ButtonStyleModel",
      "state": {
       "font_family": null,
       "font_size": null,
       "font_style": null,
       "font_variant": null,
       "font_weight": null,
       "text_color": null,
       "text_decoration": null
      }
     },
     "0bdda0b269e74dc593dc7bb48bc6d2d4": {
      "model_module": "@jupyter-widgets/output",
      "model_module_version": "1.0.0",
      "model_name": "OutputModel",
      "state": {
       "layout": "IPY_MODEL_fb5bbf663c2043fe86c319882f0347fc"
      }
     },
     "0c2bc33b6fb74e7898d04bdfa351e424": {
      "model_module": "@jupyter-widgets/controls",
      "model_module_version": "2.0.0",
      "model_name": "TextModel",
      "state": {
       "description": "Search Term:",
       "layout": "IPY_MODEL_0ced4834f7034a9ba2ea60ac78a11680",
       "placeholder": "",
       "style": "IPY_MODEL_8baab53d8e1841879960a3c5e82146bf"
      }
     },
     "0c9b4d21f30f4856b0bcf43be409f468": {
      "model_module": "@jupyter-widgets/controls",
      "model_module_version": "2.0.0",
      "model_name": "ButtonModel",
      "state": {
       "description": "Confirm",
       "disabled": true,
       "layout": "IPY_MODEL_935dbc4bb5dc4820b292122ef316f0bc",
       "style": "IPY_MODEL_4020ba83539548a49f6c22752dc59197",
       "tooltip": "Confirm download"
      }
     },
     "0cd6049435d94ad28e000fd22d5cd003": {
      "model_module": "@jupyter-widgets/controls",
      "model_module_version": "2.0.0",
      "model_name": "ButtonStyleModel",
      "state": {
       "font_family": null,
       "font_size": null,
       "font_style": null,
       "font_variant": null,
       "font_weight": null,
       "text_color": null,
       "text_decoration": null
      }
     },
     "0ced4834f7034a9ba2ea60ac78a11680": {
      "model_module": "@jupyter-widgets/base",
      "model_module_version": "2.0.0",
      "model_name": "LayoutModel",
      "state": {}
     },
     "0dbbc019c6e54c45b68c86d8402a52d7": {
      "model_module": "@jupyter-widgets/controls",
      "model_module_version": "2.0.0",
      "model_name": "DescriptionStyleModel",
      "state": {
       "description_width": ""
      }
     },
     "0e4bf252f64b456a8d7eb736472a940a": {
      "model_module": "@jupyter-widgets/base",
      "model_module_version": "2.0.0",
      "model_name": "LayoutModel",
      "state": {}
     },
     "107737d61b804429b0e733d05e70d1da": {
      "model_module": "@jupyter-widgets/controls",
      "model_module_version": "2.0.0",
      "model_name": "ButtonModel",
      "state": {
       "description": "Search Archives",
       "layout": "IPY_MODEL_7648c46c885a44a59a91f62619dca18c",
       "style": "IPY_MODEL_4680d1da233e4d64a2d75cbc4c0a044a",
       "tooltip": "Search the Swift archives"
      }
     },
     "11cddcc888524cf08d142b1b7d08c356": {
      "model_module": "@jupyter-widgets/controls",
      "model_module_version": "2.0.0",
      "model_name": "SelectMultipleModel",
      "state": {
       "_options_labels": [
        "auxil",
        "bat",
        "xrt",
        "uvot",
        "log"
       ],
       "description": "File Type(s)",
       "index": [
        3
       ],
       "layout": "IPY_MODEL_213ccbe6d1774d8184136509900de706",
       "rows": 5,
       "style": "IPY_MODEL_00f005fbd2584228b67619ac5fd616b1"
      }
     },
     "125ec1df6a214bbcb4dc6f35d64c03bd": {
      "model_module": "@jupyter-widgets/base",
      "model_module_version": "2.0.0",
      "model_name": "LayoutModel",
      "state": {}
     },
     "134981670e8146e38ca253a2449fef21": {
      "model_module": "@jupyter-widgets/base",
      "model_module_version": "2.0.0",
      "model_name": "LayoutModel",
      "state": {}
     },
     "1483aff8974c4fe6864104a1461a0955": {
      "model_module": "@jupyter-widgets/base",
      "model_module_version": "2.0.0",
      "model_name": "LayoutModel",
      "state": {}
     },
     "1498f288ee044b13beda527c88668781": {
      "model_module": "@jupyter-widgets/controls",
      "model_module_version": "2.0.0",
      "model_name": "TextModel",
      "state": {
       "description": "Download Location:",
       "disabled": true,
       "layout": "IPY_MODEL_1639c868cb864254ac49356fd2810946",
       "placeholder": "",
       "style": "IPY_MODEL_4034a9f3465846bca631b02003f47735",
       "value": "/Users/jduffy0121/Desktop/Comet-Research"
      }
     },
     "152e594450f34e6284dace36f4a6f9fe": {
      "model_module": "@jupyter-widgets/base",
      "model_module_version": "2.0.0",
      "model_name": "LayoutModel",
      "state": {}
     },
     "1639c868cb864254ac49356fd2810946": {
      "model_module": "@jupyter-widgets/base",
      "model_module_version": "2.0.0",
      "model_name": "LayoutModel",
      "state": {
       "width": "500px"
      }
     },
     "179c2571aebf49f8ae07a3ac3ef603cd": {
      "model_module": "@jupyter-widgets/controls",
      "model_module_version": "2.0.0",
      "model_name": "ButtonModel",
      "state": {
       "description": "Change Download Location",
       "layout": "IPY_MODEL_891f763a1b60432983e838941b5c8f5c",
       "style": "IPY_MODEL_0bd3a79e188f4286bf543c5bbf71f34c",
       "tooltip": "Change the download path"
      }
     },
     "183ca450268a43fabd7c0887d5a8c82e": {
      "model_module": "@jupyter-widgets/controls",
      "model_module_version": "2.0.0",
      "model_name": "ToggleButtonsModel",
      "state": {
       "_options_labels": [
        "tar",
        "uncompressed"
       ],
       "button_style": "",
       "description": "Download Type:",
       "icons": [],
       "index": 0,
       "layout": "IPY_MODEL_735e724657ae484eac206590b32bc167",
       "style": "IPY_MODEL_2cc878ea563d454db5cc461e98d05b57",
       "tooltips": [
        "uncompressed",
        "tar"
       ]
      }
     },
     "185b69c3688a49e085fb4cbcd6ff29dc": {
      "model_module": "@jupyter-widgets/controls",
      "model_module_version": "2.0.0",
      "model_name": "ButtonStyleModel",
      "state": {
       "font_family": null,
       "font_size": null,
       "font_style": null,
       "font_variant": null,
       "font_weight": null,
       "text_color": null,
       "text_decoration": null
      }
     },
     "186cdeb870294e958ac698e2a1d444db": {
      "model_module": "@jupyter-widgets/controls",
      "model_module_version": "2.0.0",
      "model_name": "ButtonStyleModel",
      "state": {
       "font_family": null,
       "font_size": null,
       "font_style": null,
       "font_variant": null,
       "font_weight": null,
       "text_color": null,
       "text_decoration": null
      }
     },
     "1a9ec6b1b97a4b538036f0fdac2b53ad": {
      "model_module": "@jupyter-widgets/base",
      "model_module_version": "2.0.0",
      "model_name": "LayoutModel",
      "state": {}
     },
     "1bd82779a6a642c5890f58207e65ef9d": {
      "model_module": "@jupyter-widgets/controls",
      "model_module_version": "2.0.0",
      "model_name": "ButtonStyleModel",
      "state": {
       "font_family": null,
       "font_size": null,
       "font_style": null,
       "font_variant": null,
       "font_weight": null,
       "text_color": null,
       "text_decoration": null
      }
     },
     "1cd46de65f734a7e9a2c4e7bfefa43ce": {
      "model_module": "@jupyter-widgets/output",
      "model_module_version": "1.0.0",
      "model_name": "OutputModel",
      "state": {
       "layout": "IPY_MODEL_093c69b9d55e452eab5533d8b95ac9e6"
      }
     },
     "20282e7c043f4120bf6f9e43faca4f4c": {
      "model_module": "@jupyter-widgets/controls",
      "model_module_version": "2.0.0",
      "model_name": "ButtonStyleModel",
      "state": {
       "font_family": null,
       "font_size": null,
       "font_style": null,
       "font_variant": null,
       "font_weight": null,
       "text_color": null,
       "text_decoration": null
      }
     },
     "213ccbe6d1774d8184136509900de706": {
      "model_module": "@jupyter-widgets/base",
      "model_module_version": "2.0.0",
      "model_name": "LayoutModel",
      "state": {}
     },
     "21eac22fec01411fabddc17abcf959e8": {
      "model_module": "@jupyter-widgets/base",
      "model_module_version": "2.0.0",
      "model_name": "LayoutModel",
      "state": {}
     },
     "223fb0b78bb944168e5d13c1994c5952": {
      "model_module": "@jupyter-widgets/base",
      "model_module_version": "2.0.0",
      "model_name": "LayoutModel",
      "state": {}
     },
     "25b7359a12aa49eda3f786bfc66a2217": {
      "model_module": "@jupyter-widgets/output",
      "model_module_version": "1.0.0",
      "model_name": "OutputModel",
      "state": {
       "layout": "IPY_MODEL_0e4bf252f64b456a8d7eb736472a940a",
       "outputs": [
        {
         "name": "stdout",
         "output_type": "stream",
         "text": "----------------------------------------------------------------------------------------------------\n\nFound the following data for the search term 'Catalina':\n\n----------------------------------------------------------------------------------------------------\n\nName of observation: CometC/2013US10(Catalina)                     Total number of observations: 6\n\nName of observation: CometC/2013US10Catalina                       Total number of observations: 25\n\nName of observation: C/2013US10(Catalina)                          Total number of observations: 60\n\nName of observation: C/2013USCatalina                              Total number of observations: 5\n\nName of observation: C/2013US10CatalinaOrbit2                      Total number of observations: 2\n\nName of observation: C/2013US10CatalinaOrbit2Ptg2                  Total number of observations: 1\n\nName of observation: C/2013US10CatalinaOrbit3                      Total number of observations: 5\n\nName of observation: C/2013US10CatalinaOrbit4                      Total number of observations: 2\n\nName of observation: C/2013US10CatalinaOrbit4Ptg2                  Total number of observations: 1\n\nName of observation: CometCatalinaOrbit1                           Total number of observations: 5\n\nName of observation: CometCatalinaOrbit2                           Total number of observations: 3\n\nName of observation: CometCatalinaOrbit3                           Total number of observations: 5\n\nName of observation: CometCatalinaOrbit4                           Total number of observations: 3\n\nName of observation: C/2013US10Catalina                            Total number of observations: 9\n\nName of observation: Comet2013US10Catalina                         Total number of observations: 9\n\n----------------------------------------------------------------------------------------------------\nConfirm or cancel the download of all files above to the directory /Users/jduffy0121/Desktop/Comet-Research\n\n"
        },
        {
         "data": {
          "application/vnd.jupyter.widget-view+json": {
           "model_id": "0c9b4d21f30f4856b0bcf43be409f468",
           "version_major": 2,
           "version_minor": 0
          },
          "text/plain": "Button(description='Confirm', style=ButtonStyle(), tooltip='Confirm download')"
         },
         "metadata": {},
         "output_type": "display_data"
        },
        {
         "data": {
          "application/vnd.jupyter.widget-view+json": {
           "model_id": "309cd426df17468b816d851f813badfa",
           "version_major": 2,
           "version_minor": 0
          },
          "text/plain": "Output()"
         },
         "metadata": {},
         "output_type": "display_data"
        },
        {
         "data": {
          "application/vnd.jupyter.widget-view+json": {
           "model_id": "e66ebf438e5846819acdf44657314c53",
           "version_major": 2,
           "version_minor": 0
          },
          "text/plain": "Button(description='Cancel', style=ButtonStyle(), tooltip='Cancel download')"
         },
         "metadata": {},
         "output_type": "display_data"
        },
        {
         "data": {
          "application/vnd.jupyter.widget-view+json": {
           "model_id": "309cd426df17468b816d851f813badfa",
           "version_major": 2,
           "version_minor": 0
          },
          "text/plain": "Output()"
         },
         "metadata": {},
         "output_type": "display_data"
        },
        {
         "name": "stdout",
         "output_type": "stream",
         "text": "----------------------------------------------------------------------------------------------------\n\nAttempting to download 00020405 of CometC/2013US10(Catalina) to 00020405_uvot.tar, please wait ...\n"
        },
        {
         "ename": "KeyboardInterrupt",
         "evalue": "",
         "output_type": "error",
         "traceback": [
          "\u001b[0;31m---------------------------------------------------------------------------\u001b[0m",
          "\u001b[0;31mKeyboardInterrupt\u001b[0m                         Traceback (most recent call last)",
          "Cell \u001b[0;32mIn[3], line 303\u001b[0m, in \u001b[0;36mconfirm_button_click\u001b[0;34m(button)\u001b[0m\n\u001b[1;32m    300\u001b[0m         download_single_file(SearchClass\u001b[38;5;241m.\u001b[39mtlist, SearchClass\u001b[38;5;241m.\u001b[39mdtype_list, SearchClass\u001b[38;5;241m.\u001b[39mdest_dir, \n\u001b[1;32m    301\u001b[0m                              SearchClass\u001b[38;5;241m.\u001b[39mdownload_type, SearchClass\u001b[38;5;241m.\u001b[39moverwrite)\n\u001b[1;32m    302\u001b[0m     \u001b[38;5;28;01melse\u001b[39;00m:\n\u001b[0;32m--> 303\u001b[0m         \u001b[43mdownload_multi_files\u001b[49m\u001b[43m(\u001b[49m\u001b[43mSearchClass\u001b[49m\u001b[38;5;241;43m.\u001b[39;49m\u001b[43mtlist\u001b[49m\u001b[43m,\u001b[49m\u001b[43m \u001b[49m\u001b[43mSearchClass\u001b[49m\u001b[38;5;241;43m.\u001b[39;49m\u001b[43mdtype_list\u001b[49m\u001b[43m,\u001b[49m\u001b[43m \u001b[49m\u001b[43mSearchClass\u001b[49m\u001b[38;5;241;43m.\u001b[39;49m\u001b[43mdest_dir\u001b[49m\u001b[43m,\u001b[49m\u001b[43m \u001b[49m\n\u001b[1;32m    304\u001b[0m \u001b[43m                             \u001b[49m\u001b[43mSearchClass\u001b[49m\u001b[38;5;241;43m.\u001b[39;49m\u001b[43mdownload_type\u001b[49m\u001b[43m,\u001b[49m\u001b[43m \u001b[49m\u001b[43mSearchClass\u001b[49m\u001b[38;5;241;43m.\u001b[39;49m\u001b[43moverwrite\u001b[49m\u001b[43m)\u001b[49m\n\u001b[1;32m    305\u001b[0m enable_inputs()\n",
          "Cell \u001b[0;32mIn[3], line 288\u001b[0m, in \u001b[0;36mdownload_multi_files\u001b[0;34m(tlist, dtype_list, dest_dir, download_type, overwrite)\u001b[0m\n\u001b[1;32m    286\u001b[0m             swift_download_uncompressed(tid\u001b[38;5;241m=\u001b[39mtid, dtype\u001b[38;5;241m=\u001b[39mdtype, dest_dir\u001b[38;5;241m=\u001b[39mdest_dir, overwrite\u001b[38;5;241m=\u001b[39moverwrite)\n\u001b[1;32m    287\u001b[0m         \u001b[38;5;28;01mif\u001b[39;00m download_type \u001b[38;5;129;01min\u001b[39;00m [\u001b[38;5;124m'\u001b[39m\u001b[38;5;124mtar\u001b[39m\u001b[38;5;124m'\u001b[39m, \u001b[38;5;124m'\u001b[39m\u001b[38;5;124mzip\u001b[39m\u001b[38;5;124m'\u001b[39m]:\n\u001b[0;32m--> 288\u001b[0m             \u001b[43mswift_download_compressed\u001b[49m\u001b[43m(\u001b[49m\u001b[43mtid\u001b[49m\u001b[38;5;241;43m=\u001b[39;49m\u001b[43mtid\u001b[49m\u001b[43m,\u001b[49m\u001b[43m \u001b[49m\u001b[43mtname\u001b[49m\u001b[38;5;241;43m=\u001b[39;49m\u001b[43mtname\u001b[49m\u001b[43m,\u001b[49m\u001b[43m \u001b[49m\u001b[43mdtype\u001b[49m\u001b[38;5;241;43m=\u001b[39;49m\u001b[43mdtype\u001b[49m\u001b[43m,\u001b[49m\u001b[43m \u001b[49m\u001b[43marchive_type\u001b[49m\u001b[38;5;241;43m=\u001b[39;49m\u001b[43mdownload_type\u001b[49m\u001b[43m,\u001b[49m\u001b[43m \u001b[49m\u001b[43mdest_dir\u001b[49m\u001b[38;5;241;43m=\u001b[39;49m\u001b[43mdest_dir\u001b[49m\u001b[43m,\u001b[49m\u001b[43m \u001b[49m\u001b[43moverwrite\u001b[49m\u001b[38;5;241;43m=\u001b[39;49m\u001b[43moverwrite\u001b[49m\u001b[43m)\u001b[49m\n\u001b[1;32m    289\u001b[0m \u001b[38;5;28mprint\u001b[39m(\u001b[38;5;124mf\u001b[39m\u001b[38;5;124m'\u001b[39m\u001b[38;5;124mDownload Completed!\u001b[39m\u001b[38;5;130;01m\\n\u001b[39;00m\u001b[38;5;124m'\u001b[39m)\n\u001b[1;32m    290\u001b[0m \u001b[38;5;28mprint\u001b[39m(string\u001b[38;5;241m.\u001b[39mljust(\u001b[38;5;241m100\u001b[39m, \u001b[38;5;124m'\u001b[39m\u001b[38;5;124m-\u001b[39m\u001b[38;5;124m'\u001b[39m))\n",
          "Cell \u001b[0;32mIn[3], line 130\u001b[0m, in \u001b[0;36mswift_download_compressed\u001b[0;34m(tid, tname, dtype, archive_type, dest_dir, overwrite)\u001b[0m\n\u001b[1;32m    128\u001b[0m     \u001b[38;5;28mprint\u001b[39m(\u001b[38;5;124mf\u001b[39m\u001b[38;5;124m\"\u001b[39m\u001b[38;5;124mDownloading .zip archives is broken server-side so is currently unsupported.\u001b[39m\u001b[38;5;124m\"\u001b[39m)\n\u001b[1;32m    129\u001b[0m \u001b[38;5;28;01mif\u001b[39;00m archive_type \u001b[38;5;241m==\u001b[39m \u001b[38;5;124m'\u001b[39m\u001b[38;5;124mtar\u001b[39m\u001b[38;5;124m'\u001b[39m:\n\u001b[0;32m--> 130\u001b[0m     \u001b[43mswift_download_compressed_tar\u001b[49m\u001b[43m(\u001b[49m\u001b[43mtid\u001b[49m\u001b[38;5;241;43m=\u001b[39;49m\u001b[43mtid\u001b[49m\u001b[43m,\u001b[49m\u001b[43m \u001b[49m\u001b[43mtname\u001b[49m\u001b[38;5;241;43m=\u001b[39;49m\u001b[43mtname\u001b[49m\u001b[43m,\u001b[49m\u001b[43m \u001b[49m\u001b[43mdtype\u001b[49m\u001b[38;5;241;43m=\u001b[39;49m\u001b[43mdtype\u001b[49m\u001b[43m,\u001b[49m\u001b[43m \u001b[49m\u001b[43mout_file_stem\u001b[49m\u001b[38;5;241;43m=\u001b[39;49m\u001b[43mout_file_stem\u001b[49m\u001b[43m,\u001b[49m\u001b[43m \u001b[49m\u001b[43moverwrite\u001b[49m\u001b[38;5;241;43m=\u001b[39;49m\u001b[43moverwrite\u001b[49m\u001b[43m)\u001b[49m\n\u001b[1;32m    132\u001b[0m os\u001b[38;5;241m.\u001b[39mchdir(old_cwd)\n\u001b[1;32m    133\u001b[0m \u001b[38;5;28;01mreturn\u001b[39;00m\n",
          "Cell \u001b[0;32mIn[3], line 171\u001b[0m, in \u001b[0;36mswift_download_compressed_tar\u001b[0;34m(tid, tname, dtype, out_file_stem, overwrite)\u001b[0m\n\u001b[1;32m    155\u001b[0m request_header \u001b[38;5;241m=\u001b[39m {\n\u001b[1;32m    156\u001b[0m     \u001b[38;5;124m'\u001b[39m\u001b[38;5;124mUser-Agent\u001b[39m\u001b[38;5;124m'\u001b[39m: \u001b[38;5;124m'\u001b[39m\u001b[38;5;124mMozilla/5.0 (Macintosh; Intel Mac OS X 10.15; rv:109.0) Gecko/20100101 Firefox/109.0\u001b[39m\u001b[38;5;124m'\u001b[39m,\n\u001b[1;32m    157\u001b[0m     \u001b[38;5;124m'\u001b[39m\u001b[38;5;124mAccept\u001b[39m\u001b[38;5;124m'\u001b[39m: \u001b[38;5;124m'\u001b[39m\u001b[38;5;124mtext/html,application/xhtml+xml,application/xml;q=0.9,image/avif,image/webp,*/*;q=0.8\u001b[39m\u001b[38;5;124m'\u001b[39m,\n\u001b[0;32m   (...)\u001b[0m\n\u001b[1;32m    167\u001b[0m     \u001b[38;5;124m'\u001b[39m\u001b[38;5;124mSec-GPC\u001b[39m\u001b[38;5;124m'\u001b[39m: \u001b[38;5;124m'\u001b[39m\u001b[38;5;124m1\u001b[39m\u001b[38;5;124m'\u001b[39m,\n\u001b[1;32m    168\u001b[0m }\n\u001b[1;32m    170\u001b[0m \u001b[38;5;28mprint\u001b[39m(\u001b[38;5;124mf\u001b[39m\u001b[38;5;124m\"\u001b[39m\u001b[38;5;124mAttempting to download \u001b[39m\u001b[38;5;132;01m{\u001b[39;00mtid\u001b[38;5;132;01m}\u001b[39;00m\u001b[38;5;124m of \u001b[39m\u001b[38;5;132;01m{\u001b[39;00mtname\u001b[38;5;132;01m}\u001b[39;00m\u001b[38;5;124m to \u001b[39m\u001b[38;5;132;01m{\u001b[39;00mout_file\u001b[38;5;132;01m}\u001b[39;00m\u001b[38;5;124m, please wait ...\u001b[39m\u001b[38;5;124m\"\u001b[39m)\n\u001b[0;32m--> 171\u001b[0m response \u001b[38;5;241m=\u001b[39m \u001b[43mrequests\u001b[49m\u001b[38;5;241;43m.\u001b[39;49m\u001b[43mget\u001b[49m\u001b[43m(\u001b[49m\u001b[43mswift_download_portal_base_url\u001b[49m\u001b[43m,\u001b[49m\u001b[43m \u001b[49m\u001b[43mparams\u001b[49m\u001b[38;5;241;43m=\u001b[39;49m\u001b[43mparams\u001b[49m\u001b[43m,\u001b[49m\u001b[43m \u001b[49m\u001b[43mheaders\u001b[49m\u001b[38;5;241;43m=\u001b[39;49m\u001b[43mrequest_header\u001b[49m\u001b[43m)\u001b[49m\n\u001b[1;32m    172\u001b[0m \u001b[38;5;28mprint\u001b[39m(\u001b[38;5;124mf\u001b[39m\u001b[38;5;124m\"\u001b[39m\u001b[38;5;124mRequested data from \u001b[39m\u001b[38;5;132;01m{\u001b[39;00mresponse\u001b[38;5;241m.\u001b[39murl\u001b[38;5;132;01m}\u001b[39;00m\u001b[38;5;124m, response code \u001b[39m\u001b[38;5;132;01m{\u001b[39;00mresponse\u001b[38;5;241m.\u001b[39mstatus_code\u001b[38;5;132;01m}\u001b[39;00m\u001b[38;5;124m ...\u001b[39m\u001b[38;5;124m\"\u001b[39m)\n\u001b[1;32m    174\u001b[0m \u001b[38;5;66;03m# name the output file if it wasn't passed in an argument\u001b[39;00m\n",
          "File \u001b[0;32m/opt/anaconda3/envs/tensorflow/lib/python3.9/site-packages/requests/api.py:73\u001b[0m, in \u001b[0;36mget\u001b[0;34m(url, params, **kwargs)\u001b[0m\n\u001b[1;32m     62\u001b[0m \u001b[38;5;28;01mdef\u001b[39;00m \u001b[38;5;21mget\u001b[39m(url, params\u001b[38;5;241m=\u001b[39m\u001b[38;5;28;01mNone\u001b[39;00m, \u001b[38;5;241m*\u001b[39m\u001b[38;5;241m*\u001b[39mkwargs):\n\u001b[1;32m     63\u001b[0m     \u001b[38;5;124mr\u001b[39m\u001b[38;5;124;03m\"\"\"Sends a GET request.\u001b[39;00m\n\u001b[1;32m     64\u001b[0m \n\u001b[1;32m     65\u001b[0m \u001b[38;5;124;03m    :param url: URL for the new :class:`Request` object.\u001b[39;00m\n\u001b[0;32m   (...)\u001b[0m\n\u001b[1;32m     70\u001b[0m \u001b[38;5;124;03m    :rtype: requests.Response\u001b[39;00m\n\u001b[1;32m     71\u001b[0m \u001b[38;5;124;03m    \"\"\"\u001b[39;00m\n\u001b[0;32m---> 73\u001b[0m     \u001b[38;5;28;01mreturn\u001b[39;00m \u001b[43mrequest\u001b[49m\u001b[43m(\u001b[49m\u001b[38;5;124;43m\"\u001b[39;49m\u001b[38;5;124;43mget\u001b[39;49m\u001b[38;5;124;43m\"\u001b[39;49m\u001b[43m,\u001b[49m\u001b[43m \u001b[49m\u001b[43murl\u001b[49m\u001b[43m,\u001b[49m\u001b[43m \u001b[49m\u001b[43mparams\u001b[49m\u001b[38;5;241;43m=\u001b[39;49m\u001b[43mparams\u001b[49m\u001b[43m,\u001b[49m\u001b[43m \u001b[49m\u001b[38;5;241;43m*\u001b[39;49m\u001b[38;5;241;43m*\u001b[39;49m\u001b[43mkwargs\u001b[49m\u001b[43m)\u001b[49m\n",
          "File \u001b[0;32m/opt/anaconda3/envs/tensorflow/lib/python3.9/site-packages/requests/api.py:59\u001b[0m, in \u001b[0;36mrequest\u001b[0;34m(method, url, **kwargs)\u001b[0m\n\u001b[1;32m     55\u001b[0m \u001b[38;5;66;03m# By using the 'with' statement we are sure the session is closed, thus we\u001b[39;00m\n\u001b[1;32m     56\u001b[0m \u001b[38;5;66;03m# avoid leaving sockets open which can trigger a ResourceWarning in some\u001b[39;00m\n\u001b[1;32m     57\u001b[0m \u001b[38;5;66;03m# cases, and look like a memory leak in others.\u001b[39;00m\n\u001b[1;32m     58\u001b[0m \u001b[38;5;28;01mwith\u001b[39;00m sessions\u001b[38;5;241m.\u001b[39mSession() \u001b[38;5;28;01mas\u001b[39;00m session:\n\u001b[0;32m---> 59\u001b[0m     \u001b[38;5;28;01mreturn\u001b[39;00m \u001b[43msession\u001b[49m\u001b[38;5;241;43m.\u001b[39;49m\u001b[43mrequest\u001b[49m\u001b[43m(\u001b[49m\u001b[43mmethod\u001b[49m\u001b[38;5;241;43m=\u001b[39;49m\u001b[43mmethod\u001b[49m\u001b[43m,\u001b[49m\u001b[43m \u001b[49m\u001b[43murl\u001b[49m\u001b[38;5;241;43m=\u001b[39;49m\u001b[43murl\u001b[49m\u001b[43m,\u001b[49m\u001b[43m \u001b[49m\u001b[38;5;241;43m*\u001b[39;49m\u001b[38;5;241;43m*\u001b[39;49m\u001b[43mkwargs\u001b[49m\u001b[43m)\u001b[49m\n",
          "File \u001b[0;32m/opt/anaconda3/envs/tensorflow/lib/python3.9/site-packages/requests/sessions.py:587\u001b[0m, in \u001b[0;36mSession.request\u001b[0;34m(self, method, url, params, data, headers, cookies, files, auth, timeout, allow_redirects, proxies, hooks, stream, verify, cert, json)\u001b[0m\n\u001b[1;32m    582\u001b[0m send_kwargs \u001b[38;5;241m=\u001b[39m {\n\u001b[1;32m    583\u001b[0m     \u001b[38;5;124m\"\u001b[39m\u001b[38;5;124mtimeout\u001b[39m\u001b[38;5;124m\"\u001b[39m: timeout,\n\u001b[1;32m    584\u001b[0m     \u001b[38;5;124m\"\u001b[39m\u001b[38;5;124mallow_redirects\u001b[39m\u001b[38;5;124m\"\u001b[39m: allow_redirects,\n\u001b[1;32m    585\u001b[0m }\n\u001b[1;32m    586\u001b[0m send_kwargs\u001b[38;5;241m.\u001b[39mupdate(settings)\n\u001b[0;32m--> 587\u001b[0m resp \u001b[38;5;241m=\u001b[39m \u001b[38;5;28;43mself\u001b[39;49m\u001b[38;5;241;43m.\u001b[39;49m\u001b[43msend\u001b[49m\u001b[43m(\u001b[49m\u001b[43mprep\u001b[49m\u001b[43m,\u001b[49m\u001b[43m \u001b[49m\u001b[38;5;241;43m*\u001b[39;49m\u001b[38;5;241;43m*\u001b[39;49m\u001b[43msend_kwargs\u001b[49m\u001b[43m)\u001b[49m\n\u001b[1;32m    589\u001b[0m \u001b[38;5;28;01mreturn\u001b[39;00m resp\n",
          "File \u001b[0;32m/opt/anaconda3/envs/tensorflow/lib/python3.9/site-packages/requests/sessions.py:745\u001b[0m, in \u001b[0;36mSession.send\u001b[0;34m(self, request, **kwargs)\u001b[0m\n\u001b[1;32m    742\u001b[0m         \u001b[38;5;28;01mpass\u001b[39;00m\n\u001b[1;32m    744\u001b[0m \u001b[38;5;28;01mif\u001b[39;00m \u001b[38;5;129;01mnot\u001b[39;00m stream:\n\u001b[0;32m--> 745\u001b[0m     \u001b[43mr\u001b[49m\u001b[38;5;241;43m.\u001b[39;49m\u001b[43mcontent\u001b[49m\n\u001b[1;32m    747\u001b[0m \u001b[38;5;28;01mreturn\u001b[39;00m r\n",
          "File \u001b[0;32m/opt/anaconda3/envs/tensorflow/lib/python3.9/site-packages/requests/models.py:899\u001b[0m, in \u001b[0;36mResponse.content\u001b[0;34m(self)\u001b[0m\n\u001b[1;32m    897\u001b[0m         \u001b[38;5;28mself\u001b[39m\u001b[38;5;241m.\u001b[39m_content \u001b[38;5;241m=\u001b[39m \u001b[38;5;28;01mNone\u001b[39;00m\n\u001b[1;32m    898\u001b[0m     \u001b[38;5;28;01melse\u001b[39;00m:\n\u001b[0;32m--> 899\u001b[0m         \u001b[38;5;28mself\u001b[39m\u001b[38;5;241m.\u001b[39m_content \u001b[38;5;241m=\u001b[39m \u001b[38;5;124;43mb\u001b[39;49m\u001b[38;5;124;43m\"\u001b[39;49m\u001b[38;5;124;43m\"\u001b[39;49m\u001b[38;5;241;43m.\u001b[39;49m\u001b[43mjoin\u001b[49m\u001b[43m(\u001b[49m\u001b[38;5;28;43mself\u001b[39;49m\u001b[38;5;241;43m.\u001b[39;49m\u001b[43miter_content\u001b[49m\u001b[43m(\u001b[49m\u001b[43mCONTENT_CHUNK_SIZE\u001b[49m\u001b[43m)\u001b[49m\u001b[43m)\u001b[49m \u001b[38;5;129;01mor\u001b[39;00m \u001b[38;5;124mb\u001b[39m\u001b[38;5;124m\"\u001b[39m\u001b[38;5;124m\"\u001b[39m\n\u001b[1;32m    901\u001b[0m \u001b[38;5;28mself\u001b[39m\u001b[38;5;241m.\u001b[39m_content_consumed \u001b[38;5;241m=\u001b[39m \u001b[38;5;28;01mTrue\u001b[39;00m\n\u001b[1;32m    902\u001b[0m \u001b[38;5;66;03m# don't need to release the connection; that's been handled by urllib3\u001b[39;00m\n\u001b[1;32m    903\u001b[0m \u001b[38;5;66;03m# since we exhausted the data.\u001b[39;00m\n",
          "File \u001b[0;32m/opt/anaconda3/envs/tensorflow/lib/python3.9/site-packages/requests/models.py:816\u001b[0m, in \u001b[0;36mResponse.iter_content.<locals>.generate\u001b[0;34m()\u001b[0m\n\u001b[1;32m    814\u001b[0m \u001b[38;5;28;01mif\u001b[39;00m \u001b[38;5;28mhasattr\u001b[39m(\u001b[38;5;28mself\u001b[39m\u001b[38;5;241m.\u001b[39mraw, \u001b[38;5;124m\"\u001b[39m\u001b[38;5;124mstream\u001b[39m\u001b[38;5;124m\"\u001b[39m):\n\u001b[1;32m    815\u001b[0m     \u001b[38;5;28;01mtry\u001b[39;00m:\n\u001b[0;32m--> 816\u001b[0m         \u001b[38;5;28;01myield from\u001b[39;00m \u001b[38;5;28mself\u001b[39m\u001b[38;5;241m.\u001b[39mraw\u001b[38;5;241m.\u001b[39mstream(chunk_size, decode_content\u001b[38;5;241m=\u001b[39m\u001b[38;5;28;01mTrue\u001b[39;00m)\n\u001b[1;32m    817\u001b[0m     \u001b[38;5;28;01mexcept\u001b[39;00m ProtocolError \u001b[38;5;28;01mas\u001b[39;00m e:\n\u001b[1;32m    818\u001b[0m         \u001b[38;5;28;01mraise\u001b[39;00m ChunkedEncodingError(e)\n",
          "File \u001b[0;32m/opt/anaconda3/envs/tensorflow/lib/python3.9/site-packages/urllib3/response.py:628\u001b[0m, in \u001b[0;36mHTTPResponse.stream\u001b[0;34m(self, amt, decode_content)\u001b[0m\n\u001b[1;32m    626\u001b[0m \u001b[38;5;28;01melse\u001b[39;00m:\n\u001b[1;32m    627\u001b[0m     \u001b[38;5;28;01mwhile\u001b[39;00m \u001b[38;5;129;01mnot\u001b[39;00m is_fp_closed(\u001b[38;5;28mself\u001b[39m\u001b[38;5;241m.\u001b[39m_fp):\n\u001b[0;32m--> 628\u001b[0m         data \u001b[38;5;241m=\u001b[39m \u001b[38;5;28;43mself\u001b[39;49m\u001b[38;5;241;43m.\u001b[39;49m\u001b[43mread\u001b[49m\u001b[43m(\u001b[49m\u001b[43mamt\u001b[49m\u001b[38;5;241;43m=\u001b[39;49m\u001b[43mamt\u001b[49m\u001b[43m,\u001b[49m\u001b[43m \u001b[49m\u001b[43mdecode_content\u001b[49m\u001b[38;5;241;43m=\u001b[39;49m\u001b[43mdecode_content\u001b[49m\u001b[43m)\u001b[49m\n\u001b[1;32m    630\u001b[0m         \u001b[38;5;28;01mif\u001b[39;00m data:\n\u001b[1;32m    631\u001b[0m             \u001b[38;5;28;01myield\u001b[39;00m data\n",
          "File \u001b[0;32m/opt/anaconda3/envs/tensorflow/lib/python3.9/site-packages/urllib3/response.py:567\u001b[0m, in \u001b[0;36mHTTPResponse.read\u001b[0;34m(self, amt, decode_content, cache_content)\u001b[0m\n\u001b[1;32m    564\u001b[0m fp_closed \u001b[38;5;241m=\u001b[39m \u001b[38;5;28mgetattr\u001b[39m(\u001b[38;5;28mself\u001b[39m\u001b[38;5;241m.\u001b[39m_fp, \u001b[38;5;124m\"\u001b[39m\u001b[38;5;124mclosed\u001b[39m\u001b[38;5;124m\"\u001b[39m, \u001b[38;5;28;01mFalse\u001b[39;00m)\n\u001b[1;32m    566\u001b[0m \u001b[38;5;28;01mwith\u001b[39;00m \u001b[38;5;28mself\u001b[39m\u001b[38;5;241m.\u001b[39m_error_catcher():\n\u001b[0;32m--> 567\u001b[0m     data \u001b[38;5;241m=\u001b[39m \u001b[38;5;28;43mself\u001b[39;49m\u001b[38;5;241;43m.\u001b[39;49m\u001b[43m_fp_read\u001b[49m\u001b[43m(\u001b[49m\u001b[43mamt\u001b[49m\u001b[43m)\u001b[49m \u001b[38;5;28;01mif\u001b[39;00m \u001b[38;5;129;01mnot\u001b[39;00m fp_closed \u001b[38;5;28;01melse\u001b[39;00m \u001b[38;5;124mb\u001b[39m\u001b[38;5;124m\"\u001b[39m\u001b[38;5;124m\"\u001b[39m\n\u001b[1;32m    568\u001b[0m     \u001b[38;5;28;01mif\u001b[39;00m amt \u001b[38;5;129;01mis\u001b[39;00m \u001b[38;5;28;01mNone\u001b[39;00m:\n\u001b[1;32m    569\u001b[0m         flush_decoder \u001b[38;5;241m=\u001b[39m \u001b[38;5;28;01mTrue\u001b[39;00m\n",
          "File \u001b[0;32m/opt/anaconda3/envs/tensorflow/lib/python3.9/site-packages/urllib3/response.py:533\u001b[0m, in \u001b[0;36mHTTPResponse._fp_read\u001b[0;34m(self, amt)\u001b[0m\n\u001b[1;32m    530\u001b[0m     \u001b[38;5;28;01mreturn\u001b[39;00m buffer\u001b[38;5;241m.\u001b[39mgetvalue()\n\u001b[1;32m    531\u001b[0m \u001b[38;5;28;01melse\u001b[39;00m:\n\u001b[1;32m    532\u001b[0m     \u001b[38;5;66;03m# StringIO doesn't like amt=None\u001b[39;00m\n\u001b[0;32m--> 533\u001b[0m     \u001b[38;5;28;01mreturn\u001b[39;00m \u001b[38;5;28;43mself\u001b[39;49m\u001b[38;5;241;43m.\u001b[39;49m\u001b[43m_fp\u001b[49m\u001b[38;5;241;43m.\u001b[39;49m\u001b[43mread\u001b[49m\u001b[43m(\u001b[49m\u001b[43mamt\u001b[49m\u001b[43m)\u001b[49m \u001b[38;5;28;01mif\u001b[39;00m amt \u001b[38;5;129;01mis\u001b[39;00m \u001b[38;5;129;01mnot\u001b[39;00m \u001b[38;5;28;01mNone\u001b[39;00m \u001b[38;5;28;01melse\u001b[39;00m \u001b[38;5;28mself\u001b[39m\u001b[38;5;241m.\u001b[39m_fp\u001b[38;5;241m.\u001b[39mread()\n",
          "File \u001b[0;32m/opt/anaconda3/envs/tensorflow/lib/python3.9/http/client.py:463\u001b[0m, in \u001b[0;36mHTTPResponse.read\u001b[0;34m(self, amt)\u001b[0m\n\u001b[1;32m    460\u001b[0m \u001b[38;5;28;01mif\u001b[39;00m amt \u001b[38;5;129;01mis\u001b[39;00m \u001b[38;5;129;01mnot\u001b[39;00m \u001b[38;5;28;01mNone\u001b[39;00m:\n\u001b[1;32m    461\u001b[0m     \u001b[38;5;66;03m# Amount is given, implement using readinto\u001b[39;00m\n\u001b[1;32m    462\u001b[0m     b \u001b[38;5;241m=\u001b[39m \u001b[38;5;28mbytearray\u001b[39m(amt)\n\u001b[0;32m--> 463\u001b[0m     n \u001b[38;5;241m=\u001b[39m \u001b[38;5;28;43mself\u001b[39;49m\u001b[38;5;241;43m.\u001b[39;49m\u001b[43mreadinto\u001b[49m\u001b[43m(\u001b[49m\u001b[43mb\u001b[49m\u001b[43m)\u001b[49m\n\u001b[1;32m    464\u001b[0m     \u001b[38;5;28;01mreturn\u001b[39;00m \u001b[38;5;28mmemoryview\u001b[39m(b)[:n]\u001b[38;5;241m.\u001b[39mtobytes()\n\u001b[1;32m    465\u001b[0m \u001b[38;5;28;01melse\u001b[39;00m:\n\u001b[1;32m    466\u001b[0m     \u001b[38;5;66;03m# Amount is not given (unbounded read) so we must check self.length\u001b[39;00m\n\u001b[1;32m    467\u001b[0m     \u001b[38;5;66;03m# and self.chunked\u001b[39;00m\n",
          "File \u001b[0;32m/opt/anaconda3/envs/tensorflow/lib/python3.9/http/client.py:507\u001b[0m, in \u001b[0;36mHTTPResponse.readinto\u001b[0;34m(self, b)\u001b[0m\n\u001b[1;32m    502\u001b[0m         b \u001b[38;5;241m=\u001b[39m \u001b[38;5;28mmemoryview\u001b[39m(b)[\u001b[38;5;241m0\u001b[39m:\u001b[38;5;28mself\u001b[39m\u001b[38;5;241m.\u001b[39mlength]\n\u001b[1;32m    504\u001b[0m \u001b[38;5;66;03m# we do not use _safe_read() here because this may be a .will_close\u001b[39;00m\n\u001b[1;32m    505\u001b[0m \u001b[38;5;66;03m# connection, and the user is reading more bytes than will be provided\u001b[39;00m\n\u001b[1;32m    506\u001b[0m \u001b[38;5;66;03m# (for example, reading in 1k chunks)\u001b[39;00m\n\u001b[0;32m--> 507\u001b[0m n \u001b[38;5;241m=\u001b[39m \u001b[38;5;28;43mself\u001b[39;49m\u001b[38;5;241;43m.\u001b[39;49m\u001b[43mfp\u001b[49m\u001b[38;5;241;43m.\u001b[39;49m\u001b[43mreadinto\u001b[49m\u001b[43m(\u001b[49m\u001b[43mb\u001b[49m\u001b[43m)\u001b[49m\n\u001b[1;32m    508\u001b[0m \u001b[38;5;28;01mif\u001b[39;00m \u001b[38;5;129;01mnot\u001b[39;00m n \u001b[38;5;129;01mand\u001b[39;00m b:\n\u001b[1;32m    509\u001b[0m     \u001b[38;5;66;03m# Ideally, we would raise IncompleteRead if the content-length\u001b[39;00m\n\u001b[1;32m    510\u001b[0m     \u001b[38;5;66;03m# wasn't satisfied, but it might break compatibility.\u001b[39;00m\n\u001b[1;32m    511\u001b[0m     \u001b[38;5;28mself\u001b[39m\u001b[38;5;241m.\u001b[39m_close_conn()\n",
          "File \u001b[0;32m/opt/anaconda3/envs/tensorflow/lib/python3.9/socket.py:704\u001b[0m, in \u001b[0;36mSocketIO.readinto\u001b[0;34m(self, b)\u001b[0m\n\u001b[1;32m    702\u001b[0m \u001b[38;5;28;01mwhile\u001b[39;00m \u001b[38;5;28;01mTrue\u001b[39;00m:\n\u001b[1;32m    703\u001b[0m     \u001b[38;5;28;01mtry\u001b[39;00m:\n\u001b[0;32m--> 704\u001b[0m         \u001b[38;5;28;01mreturn\u001b[39;00m \u001b[38;5;28;43mself\u001b[39;49m\u001b[38;5;241;43m.\u001b[39;49m\u001b[43m_sock\u001b[49m\u001b[38;5;241;43m.\u001b[39;49m\u001b[43mrecv_into\u001b[49m\u001b[43m(\u001b[49m\u001b[43mb\u001b[49m\u001b[43m)\u001b[49m\n\u001b[1;32m    705\u001b[0m     \u001b[38;5;28;01mexcept\u001b[39;00m timeout:\n\u001b[1;32m    706\u001b[0m         \u001b[38;5;28mself\u001b[39m\u001b[38;5;241m.\u001b[39m_timeout_occurred \u001b[38;5;241m=\u001b[39m \u001b[38;5;28;01mTrue\u001b[39;00m\n",
          "File \u001b[0;32m/opt/anaconda3/envs/tensorflow/lib/python3.9/ssl.py:1242\u001b[0m, in \u001b[0;36mSSLSocket.recv_into\u001b[0;34m(self, buffer, nbytes, flags)\u001b[0m\n\u001b[1;32m   1238\u001b[0m     \u001b[38;5;28;01mif\u001b[39;00m flags \u001b[38;5;241m!=\u001b[39m \u001b[38;5;241m0\u001b[39m:\n\u001b[1;32m   1239\u001b[0m         \u001b[38;5;28;01mraise\u001b[39;00m \u001b[38;5;167;01mValueError\u001b[39;00m(\n\u001b[1;32m   1240\u001b[0m           \u001b[38;5;124m\"\u001b[39m\u001b[38;5;124mnon-zero flags not allowed in calls to recv_into() on \u001b[39m\u001b[38;5;132;01m%s\u001b[39;00m\u001b[38;5;124m\"\u001b[39m \u001b[38;5;241m%\u001b[39m\n\u001b[1;32m   1241\u001b[0m           \u001b[38;5;28mself\u001b[39m\u001b[38;5;241m.\u001b[39m\u001b[38;5;18m__class__\u001b[39m)\n\u001b[0;32m-> 1242\u001b[0m     \u001b[38;5;28;01mreturn\u001b[39;00m \u001b[38;5;28;43mself\u001b[39;49m\u001b[38;5;241;43m.\u001b[39;49m\u001b[43mread\u001b[49m\u001b[43m(\u001b[49m\u001b[43mnbytes\u001b[49m\u001b[43m,\u001b[49m\u001b[43m \u001b[49m\u001b[43mbuffer\u001b[49m\u001b[43m)\u001b[49m\n\u001b[1;32m   1243\u001b[0m \u001b[38;5;28;01melse\u001b[39;00m:\n\u001b[1;32m   1244\u001b[0m     \u001b[38;5;28;01mreturn\u001b[39;00m \u001b[38;5;28msuper\u001b[39m()\u001b[38;5;241m.\u001b[39mrecv_into(buffer, nbytes, flags)\n",
          "File \u001b[0;32m/opt/anaconda3/envs/tensorflow/lib/python3.9/ssl.py:1100\u001b[0m, in \u001b[0;36mSSLSocket.read\u001b[0;34m(self, len, buffer)\u001b[0m\n\u001b[1;32m   1098\u001b[0m \u001b[38;5;28;01mtry\u001b[39;00m:\n\u001b[1;32m   1099\u001b[0m     \u001b[38;5;28;01mif\u001b[39;00m buffer \u001b[38;5;129;01mis\u001b[39;00m \u001b[38;5;129;01mnot\u001b[39;00m \u001b[38;5;28;01mNone\u001b[39;00m:\n\u001b[0;32m-> 1100\u001b[0m         \u001b[38;5;28;01mreturn\u001b[39;00m \u001b[38;5;28;43mself\u001b[39;49m\u001b[38;5;241;43m.\u001b[39;49m\u001b[43m_sslobj\u001b[49m\u001b[38;5;241;43m.\u001b[39;49m\u001b[43mread\u001b[49m\u001b[43m(\u001b[49m\u001b[38;5;28;43mlen\u001b[39;49m\u001b[43m,\u001b[49m\u001b[43m \u001b[49m\u001b[43mbuffer\u001b[49m\u001b[43m)\u001b[49m\n\u001b[1;32m   1101\u001b[0m     \u001b[38;5;28;01melse\u001b[39;00m:\n\u001b[1;32m   1102\u001b[0m         \u001b[38;5;28;01mreturn\u001b[39;00m \u001b[38;5;28mself\u001b[39m\u001b[38;5;241m.\u001b[39m_sslobj\u001b[38;5;241m.\u001b[39mread(\u001b[38;5;28mlen\u001b[39m)\n",
          "\u001b[0;31mKeyboardInterrupt\u001b[0m: "
         ]
        }
       ]
      }
     },
     "26892ebfabee42fe901d1f20ea38e60d": {
      "model_module": "@jupyter-widgets/controls",
      "model_module_version": "2.0.0",
      "model_name": "CheckboxStyleModel",
      "state": {
       "description_width": ""
      }
     },
     "27945f30885348258c5e8a3cab8b1adf": {
      "model_module": "@jupyter-widgets/controls",
      "model_module_version": "2.0.0",
      "model_name": "CheckboxModel",
      "state": {
       "description": "Skip already downloaded files",
       "disabled": false,
       "indent": false,
       "layout": "IPY_MODEL_b769fb9ddebd4e39872d9f96d2309c56",
       "style": "IPY_MODEL_c1814bc1af4d4420a6196a8c7bd387b7",
       "value": true
      }
     },
     "2cc878ea563d454db5cc461e98d05b57": {
      "model_module": "@jupyter-widgets/controls",
      "model_module_version": "2.0.0",
      "model_name": "ToggleButtonsStyleModel",
      "state": {
       "button_width": "",
       "description_width": ""
      }
     },
     "2cd409b4a70446dd9d81d2d5d11619f3": {
      "model_module": "@jupyter-widgets/base",
      "model_module_version": "2.0.0",
      "model_name": "LayoutModel",
      "state": {}
     },
     "309cd426df17468b816d851f813badfa": {
      "model_module": "@jupyter-widgets/output",
      "model_module_version": "1.0.0",
      "model_name": "OutputModel",
      "state": {
       "layout": "IPY_MODEL_cf8be07b12b14cedb410090ba14c9a92"
      }
     },
     "349ee46f5ac4443f9849fe23f6b207ab": {
      "model_module": "@jupyter-widgets/controls",
      "model_module_version": "2.0.0",
      "model_name": "ToggleButtonsModel",
      "state": {
       "_options_labels": [
        "tar",
        "uncompressed"
       ],
       "button_style": "",
       "description": "Download Type:",
       "icons": [],
       "index": 0,
       "layout": "IPY_MODEL_6b08aebfd9234e01abf218a55079e6ab",
       "style": "IPY_MODEL_375ace14276e449eb8059619bbaf821e",
       "tooltips": [
        "uncompressed",
        "tar"
       ]
      }
     },
     "359012711e454275a80dcc92848a47ed": {
      "model_module": "@jupyter-widgets/output",
      "model_module_version": "1.0.0",
      "model_name": "OutputModel",
      "state": {
       "layout": "IPY_MODEL_5215a6e1ef5249aaa357b5b9d03f06cc"
      }
     },
     "375ace14276e449eb8059619bbaf821e": {
      "model_module": "@jupyter-widgets/controls",
      "model_module_version": "2.0.0",
      "model_name": "ToggleButtonsStyleModel",
      "state": {
       "button_width": "",
       "description_width": ""
      }
     },
     "392731af8bea4efeab726f91dec7a8b0": {
      "model_module": "@jupyter-widgets/controls",
      "model_module_version": "2.0.0",
      "model_name": "ButtonModel",
      "state": {
       "description": "Change Download Location",
       "layout": "IPY_MODEL_f046eb844ddb4419af55a1ee29d10b66",
       "style": "IPY_MODEL_185b69c3688a49e085fb4cbcd6ff29dc",
       "tooltip": "Change the download path"
      }
     },
     "39ebcf8960144470b50bb1c617a17fb1": {
      "model_module": "@jupyter-widgets/controls",
      "model_module_version": "2.0.0",
      "model_name": "ButtonModel",
      "state": {
       "description": "Change Download Location",
       "layout": "IPY_MODEL_ca63983e75ed4c06bf0a7079bce54433",
       "style": "IPY_MODEL_9421afca980241a5a10c10b3d4b4792f",
       "tooltip": "Change the download path"
      }
     },
     "4020ba83539548a49f6c22752dc59197": {
      "model_module": "@jupyter-widgets/controls",
      "model_module_version": "2.0.0",
      "model_name": "ButtonStyleModel",
      "state": {
       "font_family": null,
       "font_size": null,
       "font_style": null,
       "font_variant": null,
       "font_weight": null,
       "text_color": null,
       "text_decoration": null
      }
     },
     "4034a9f3465846bca631b02003f47735": {
      "model_module": "@jupyter-widgets/controls",
      "model_module_version": "2.0.0",
      "model_name": "TextStyleModel",
      "state": {
       "description_width": "initial",
       "font_size": null,
       "text_color": null
      }
     },
     "40dd78e538c546edbc0ca62760943b64": {
      "model_module": "@jupyter-widgets/controls",
      "model_module_version": "2.0.0",
      "model_name": "ButtonStyleModel",
      "state": {
       "font_family": null,
       "font_size": null,
       "font_style": null,
       "font_variant": null,
       "font_weight": null,
       "text_color": null,
       "text_decoration": null
      }
     },
     "416b5935d0cc43748f629fb0665e0142": {
      "model_module": "@jupyter-widgets/controls",
      "model_module_version": "2.0.0",
      "model_name": "ButtonStyleModel",
      "state": {
       "font_family": null,
       "font_size": null,
       "font_style": null,
       "font_variant": null,
       "font_weight": null,
       "text_color": null,
       "text_decoration": null
      }
     },
     "41a7c4d523594e9b9246a8a59f24a2ad": {
      "model_module": "@jupyter-widgets/controls",
      "model_module_version": "2.0.0",
      "model_name": "ButtonModel",
      "state": {
       "description": "Search Archives",
       "layout": "IPY_MODEL_d34bdbf93e7f40afad84394051772425",
       "style": "IPY_MODEL_20282e7c043f4120bf6f9e43faca4f4c",
       "tooltip": "Search the Swift archives"
      }
     },
     "42d1eac4cc624b31bc92d6b1b4e705b1": {
      "model_module": "@jupyter-widgets/base",
      "model_module_version": "2.0.0",
      "model_name": "LayoutModel",
      "state": {}
     },
     "42ed2635aeaa415cad73c8c975392ec5": {
      "model_module": "@jupyter-widgets/base",
      "model_module_version": "2.0.0",
      "model_name": "LayoutModel",
      "state": {}
     },
     "43794c59ec22463ea5bd7a172ab57705": {
      "model_module": "@jupyter-widgets/controls",
      "model_module_version": "2.0.0",
      "model_name": "ButtonStyleModel",
      "state": {
       "font_family": null,
       "font_size": null,
       "font_style": null,
       "font_variant": null,
       "font_weight": null,
       "text_color": null,
       "text_decoration": null
      }
     },
     "448a8606ee5e489b99814df9d6efee15": {
      "model_module": "@jupyter-widgets/controls",
      "model_module_version": "2.0.0",
      "model_name": "ButtonModel",
      "state": {
       "description": "Search Archives",
       "layout": "IPY_MODEL_a31c303492a64582918bc12cc00c8e96",
       "style": "IPY_MODEL_6b1fd8aab5d8463f81a383f9c1bd578a",
       "tooltip": "Search the Swift archives"
      }
     },
     "45637d0ae1f04ffaa06f6ea59e06a035": {
      "model_module": "@jupyter-widgets/output",
      "model_module_version": "1.0.0",
      "model_name": "OutputModel",
      "state": {
       "layout": "IPY_MODEL_47c7ca80ac34442f8a2dfd312e9ae24a"
      }
     },
     "456b938251c041c195ec0626bffbc220": {
      "model_module": "@jupyter-widgets/controls",
      "model_module_version": "2.0.0",
      "model_name": "ToggleButtonsModel",
      "state": {
       "_options_labels": [
        "tar",
        "uncompressed"
       ],
       "button_style": "",
       "description": "Download Type:",
       "icons": [],
       "index": 0,
       "layout": "IPY_MODEL_fccfabe5f5b14579b7753c47f81694ec",
       "style": "IPY_MODEL_0066c3f3c56c4bc6813a4acc02e58882",
       "tooltips": [
        "uncompressed",
        "tar"
       ]
      }
     },
     "45992b183ba04f34976f56f412b64162": {
      "model_module": "@jupyter-widgets/controls",
      "model_module_version": "2.0.0",
      "model_name": "CheckboxModel",
      "state": {
       "description": "Skip already downloaded files",
       "disabled": false,
       "indent": false,
       "layout": "IPY_MODEL_e0a743138a1f4b549c3f59ca8e687914",
       "style": "IPY_MODEL_f82ac148782f4b97856a271532569546",
       "value": true
      }
     },
     "4680d1da233e4d64a2d75cbc4c0a044a": {
      "model_module": "@jupyter-widgets/controls",
      "model_module_version": "2.0.0",
      "model_name": "ButtonStyleModel",
      "state": {
       "font_family": null,
       "font_size": null,
       "font_style": null,
       "font_variant": null,
       "font_weight": null,
       "text_color": null,
       "text_decoration": null
      }
     },
     "46fdbcc946f842ca9769d08fc2a1c576": {
      "model_module": "@jupyter-widgets/controls",
      "model_module_version": "2.0.0",
      "model_name": "ButtonModel",
      "state": {
       "description": "Change Download Location",
       "layout": "IPY_MODEL_a8351935af2e4920a4e1bde8aa785176",
       "style": "IPY_MODEL_8fc3ce1a581c4883932a5fd4115d7925",
       "tooltip": "Change the download path"
      }
     },
     "47135259424f442da73e254ca279e8d9": {
      "model_module": "@jupyter-widgets/controls",
      "model_module_version": "2.0.0",
      "model_name": "ToggleButtonsModel",
      "state": {
       "_options_labels": [
        "tar",
        "uncompressed"
       ],
       "button_style": "",
       "description": "Download Type:",
       "icons": [],
       "index": 0,
       "layout": "IPY_MODEL_b4e3adf46cba419e8f25f983b0e0bba9",
       "style": "IPY_MODEL_d6b6cf961835424d86e38f18b126f0c4",
       "tooltips": [
        "uncompressed",
        "tar"
       ]
      }
     },
     "47c7ca80ac34442f8a2dfd312e9ae24a": {
      "model_module": "@jupyter-widgets/base",
      "model_module_version": "2.0.0",
      "model_name": "LayoutModel",
      "state": {}
     },
     "4994851b22f44acd98ab5dbbf0ada946": {
      "model_module": "@jupyter-widgets/base",
      "model_module_version": "2.0.0",
      "model_name": "LayoutModel",
      "state": {}
     },
     "4a0bfa61ebdb414b9ef1f1944d157d60": {
      "model_module": "@jupyter-widgets/base",
      "model_module_version": "2.0.0",
      "model_name": "LayoutModel",
      "state": {}
     },
     "4a5fe57de82740f0aaf3c678a4c8298f": {
      "model_module": "@jupyter-widgets/base",
      "model_module_version": "2.0.0",
      "model_name": "LayoutModel",
      "state": {}
     },
     "4b3dc95cf5244b648ca9132331c96ad2": {
      "model_module": "@jupyter-widgets/controls",
      "model_module_version": "2.0.0",
      "model_name": "SelectMultipleModel",
      "state": {
       "_options_labels": [
        "auxil",
        "bat",
        "xrt",
        "uvot",
        "log"
       ],
       "description": "File Type(s)",
       "index": [
        3
       ],
       "layout": "IPY_MODEL_8be0fb73ea7243dc87135996eddcd141",
       "rows": 5,
       "style": "IPY_MODEL_0381db5083a04c238f763b8ad4c190bb"
      }
     },
     "4ccfb79322df47db988a9387391e9c87": {
      "model_module": "@jupyter-widgets/base",
      "model_module_version": "2.0.0",
      "model_name": "LayoutModel",
      "state": {
       "width": "500px"
      }
     },
     "4dbf4a70f683475a9e5b0146e21ebf14": {
      "model_module": "@jupyter-widgets/controls",
      "model_module_version": "2.0.0",
      "model_name": "TextStyleModel",
      "state": {
       "description_width": "",
       "font_size": null,
       "text_color": null
      }
     },
     "4f0489c5b0fc4b93a670a461d4592409": {
      "model_module": "@jupyter-widgets/controls",
      "model_module_version": "2.0.0",
      "model_name": "SelectMultipleModel",
      "state": {
       "_options_labels": [
        "auxil",
        "bat",
        "xrt",
        "uvot",
        "log"
       ],
       "description": "File Type(s)",
       "index": [
        3
       ],
       "layout": "IPY_MODEL_cbeae9d2fc654a49bf42666385326f74",
       "rows": 5,
       "style": "IPY_MODEL_0dbbc019c6e54c45b68c86d8402a52d7"
      }
     },
     "51bb9cc36a294c9d93f46f6e7979f4ca": {
      "model_module": "@jupyter-widgets/controls",
      "model_module_version": "2.0.0",
      "model_name": "ToggleButtonsModel",
      "state": {
       "_options_labels": [
        "tar",
        "uncompressed"
       ],
       "button_style": "",
       "description": "Download Type:",
       "icons": [],
       "index": 0,
       "layout": "IPY_MODEL_4a5fe57de82740f0aaf3c678a4c8298f",
       "style": "IPY_MODEL_c06908063b5844c1803ac8fe08436ea2",
       "tooltips": [
        "uncompressed",
        "tar"
       ]
      }
     },
     "52110b99459147a5b72addbea1255265": {
      "model_module": "@jupyter-widgets/controls",
      "model_module_version": "2.0.0",
      "model_name": "ButtonModel",
      "state": {
       "description": "Confirm",
       "layout": "IPY_MODEL_a62ef73bc4c84f2db34ab1fa206efd09",
       "style": "IPY_MODEL_af9d968b049a486c85f91c32348ba91f",
       "tooltip": "Confirm download"
      }
     },
     "5215a6e1ef5249aaa357b5b9d03f06cc": {
      "model_module": "@jupyter-widgets/base",
      "model_module_version": "2.0.0",
      "model_name": "LayoutModel",
      "state": {}
     },
     "5445817635454506aee302103213357a": {
      "model_module": "@jupyter-widgets/controls",
      "model_module_version": "2.0.0",
      "model_name": "TextStyleModel",
      "state": {
       "description_width": "initial",
       "font_size": null,
       "text_color": null
      }
     },
     "54cdd44c72b4480ebebb3851ae95b6b7": {
      "model_module": "@jupyter-widgets/controls",
      "model_module_version": "2.0.0",
      "model_name": "ButtonModel",
      "state": {
       "description": "Search Archives",
       "layout": "IPY_MODEL_b4e5f6b51fdd4bec8ceda9155f51760b",
       "style": "IPY_MODEL_43794c59ec22463ea5bd7a172ab57705",
       "tooltip": "Search the Swift archives"
      }
     },
     "56376c4da0aa46e2a2995cad7a3c41b4": {
      "model_module": "@jupyter-widgets/output",
      "model_module_version": "1.0.0",
      "model_name": "OutputModel",
      "state": {
       "layout": "IPY_MODEL_051f7f505c1e4b99a9636a727a4d7902"
      }
     },
     "5703ecb56f0946058d86088ea353da3f": {
      "model_module": "@jupyter-widgets/output",
      "model_module_version": "1.0.0",
      "model_name": "OutputModel",
      "state": {
       "layout": "IPY_MODEL_83450497a211454da7a4df3962a2c130"
      }
     },
     "5f0c8cfdab33481094bc0549ac801d6c": {
      "model_module": "@jupyter-widgets/base",
      "model_module_version": "2.0.0",
      "model_name": "LayoutModel",
      "state": {}
     },
     "60cc006647ce4ab899867814f47ea353": {
      "model_module": "@jupyter-widgets/base",
      "model_module_version": "2.0.0",
      "model_name": "LayoutModel",
      "state": {}
     },
     "61f8cfd1891049a88cf5a2c065b1e3e6": {
      "model_module": "@jupyter-widgets/base",
      "model_module_version": "2.0.0",
      "model_name": "LayoutModel",
      "state": {}
     },
     "62020959de064861b90263e7ffb2a250": {
      "model_module": "@jupyter-widgets/base",
      "model_module_version": "2.0.0",
      "model_name": "LayoutModel",
      "state": {}
     },
     "62221f70a9814584a267224a3d536a71": {
      "model_module": "@jupyter-widgets/controls",
      "model_module_version": "2.0.0",
      "model_name": "CheckboxStyleModel",
      "state": {
       "description_width": ""
      }
     },
     "64f85c31a6224a8faa66fcdbf2ef2884": {
      "model_module": "@jupyter-widgets/base",
      "model_module_version": "2.0.0",
      "model_name": "LayoutModel",
      "state": {}
     },
     "6553d4006e8342ae9000e5a714c90a91": {
      "model_module": "@jupyter-widgets/controls",
      "model_module_version": "2.0.0",
      "model_name": "ButtonStyleModel",
      "state": {
       "font_family": null,
       "font_size": null,
       "font_style": null,
       "font_variant": null,
       "font_weight": null,
       "text_color": null,
       "text_decoration": null
      }
     },
     "66ec1b77928f4fc8be29e34d320cb0ec": {
      "model_module": "@jupyter-widgets/base",
      "model_module_version": "2.0.0",
      "model_name": "LayoutModel",
      "state": {}
     },
     "68fc1bdf30db456db47301d660890a37": {
      "model_module": "@jupyter-widgets/controls",
      "model_module_version": "2.0.0",
      "model_name": "TextModel",
      "state": {
       "description": "Search Term:",
       "layout": "IPY_MODEL_e2ec869f994140348d2c809be0934e79",
       "placeholder": "",
       "style": "IPY_MODEL_8e253b8b984c45d2a3580ca7dda2e463",
       "value": "Catalina"
      }
     },
     "6b08aebfd9234e01abf218a55079e6ab": {
      "model_module": "@jupyter-widgets/base",
      "model_module_version": "2.0.0",
      "model_name": "LayoutModel",
      "state": {}
     },
     "6b1fd8aab5d8463f81a383f9c1bd578a": {
      "model_module": "@jupyter-widgets/controls",
      "model_module_version": "2.0.0",
      "model_name": "ButtonStyleModel",
      "state": {
       "font_family": null,
       "font_size": null,
       "font_style": null,
       "font_variant": null,
       "font_weight": null,
       "text_color": null,
       "text_decoration": null
      }
     },
     "6c9c28228b6f413d97d9737bc09b8ba8": {
      "model_module": "@jupyter-widgets/controls",
      "model_module_version": "2.0.0",
      "model_name": "TextStyleModel",
      "state": {
       "description_width": "",
       "font_size": null,
       "text_color": null
      }
     },
     "6d43d6c1a40f4bd0a2f7e8029a511fc1": {
      "model_module": "@jupyter-widgets/controls",
      "model_module_version": "2.0.0",
      "model_name": "TextModel",
      "state": {
       "description": "Search Term:",
       "layout": "IPY_MODEL_64f85c31a6224a8faa66fcdbf2ef2884",
       "placeholder": "",
       "style": "IPY_MODEL_907956af1f3049c39791743664720462"
      }
     },
     "6e1ee29121c748c3b953d6b0ad25d6da": {
      "model_module": "@jupyter-widgets/base",
      "model_module_version": "2.0.0",
      "model_name": "LayoutModel",
      "state": {}
     },
     "6e6650cdbb15448aa6d9ba79dac1ec70": {
      "model_module": "@jupyter-widgets/controls",
      "model_module_version": "2.0.0",
      "model_name": "TextModel",
      "state": {
       "description": "Download Location:",
       "disabled": true,
       "layout": "IPY_MODEL_fca1e30569284129bf86b96cb4603bfc",
       "placeholder": "",
       "style": "IPY_MODEL_eacffc2152414feb9bdb48d3a840c9b3",
       "value": "/Users/jduffy0121/Desktop/Comet-Research"
      }
     },
     "6f144c1aee944c0c96fdf507da73c15b": {
      "model_module": "@jupyter-widgets/output",
      "model_module_version": "1.0.0",
      "model_name": "OutputModel",
      "state": {
       "layout": "IPY_MODEL_0a954a3c9b834f71bdd5a364752ed293"
      }
     },
     "6f145a4a43f640e1b93ac65868fd0387": {
      "model_module": "@jupyter-widgets/output",
      "model_module_version": "1.0.0",
      "model_name": "OutputModel",
      "state": {
       "layout": "IPY_MODEL_2cd409b4a70446dd9d81d2d5d11619f3"
      }
     },
     "6f7106ba1c3142f39b7dc532364cd84c": {
      "model_module": "@jupyter-widgets/controls",
      "model_module_version": "2.0.0",
      "model_name": "ButtonStyleModel",
      "state": {
       "font_family": null,
       "font_size": null,
       "font_style": null,
       "font_variant": null,
       "font_weight": null,
       "text_color": null,
       "text_decoration": null
      }
     },
     "70d347dcfb284f328d0bf0cedd4c9f6c": {
      "model_module": "@jupyter-widgets/base",
      "model_module_version": "2.0.0",
      "model_name": "LayoutModel",
      "state": {}
     },
     "70f85706767948a5a2b96e0950171d28": {
      "model_module": "@jupyter-widgets/base",
      "model_module_version": "2.0.0",
      "model_name": "LayoutModel",
      "state": {}
     },
     "72252360580c494988771524ab886a1e": {
      "model_module": "@jupyter-widgets/controls",
      "model_module_version": "2.0.0",
      "model_name": "ButtonModel",
      "state": {
       "description": "Change Download Location",
       "layout": "IPY_MODEL_dc06b74d55a44c6eb39bdddc9508a3b1",
       "style": "IPY_MODEL_0cd6049435d94ad28e000fd22d5cd003",
       "tooltip": "Change the download path"
      }
     },
     "735e724657ae484eac206590b32bc167": {
      "model_module": "@jupyter-widgets/base",
      "model_module_version": "2.0.0",
      "model_name": "LayoutModel",
      "state": {}
     },
     "753ec424241f4fb4b9dd5fe04807e4b5": {
      "model_module": "@jupyter-widgets/base",
      "model_module_version": "2.0.0",
      "model_name": "LayoutModel",
      "state": {}
     },
     "7549f27df1de4f3f8c928c7e238840cb": {
      "model_module": "@jupyter-widgets/base",
      "model_module_version": "2.0.0",
      "model_name": "LayoutModel",
      "state": {}
     },
     "75d4f98599874ab6be500510082b69de": {
      "model_module": "@jupyter-widgets/base",
      "model_module_version": "2.0.0",
      "model_name": "LayoutModel",
      "state": {
       "width": "500px"
      }
     },
     "761ce27fd47a44c9887f330e7e517e87": {
      "model_module": "@jupyter-widgets/controls",
      "model_module_version": "2.0.0",
      "model_name": "ButtonModel",
      "state": {
       "description": "Cancel",
       "layout": "IPY_MODEL_cc72e50b96e64eecb4dd0da92c5882d0",
       "style": "IPY_MODEL_b2e2012bfcfa460a858609dccb133f1c",
       "tooltip": "Cancel download"
      }
     },
     "7648c46c885a44a59a91f62619dca18c": {
      "model_module": "@jupyter-widgets/base",
      "model_module_version": "2.0.0",
      "model_name": "LayoutModel",
      "state": {}
     },
     "76b851a7ce064f51b4baeb8362242c3e": {
      "model_module": "@jupyter-widgets/base",
      "model_module_version": "2.0.0",
      "model_name": "LayoutModel",
      "state": {}
     },
     "7772993666fe4611a25d0f4b4ce340bf": {
      "model_module": "@jupyter-widgets/controls",
      "model_module_version": "2.0.0",
      "model_name": "DescriptionStyleModel",
      "state": {
       "description_width": ""
      }
     },
     "785110b52c224ef8b03e803e94638b83": {
      "model_module": "@jupyter-widgets/output",
      "model_module_version": "1.0.0",
      "model_name": "OutputModel",
      "state": {
       "layout": "IPY_MODEL_62020959de064861b90263e7ffb2a250"
      }
     },
     "7e3a7aecf1884d0287bfafe99c6f6165": {
      "model_module": "@jupyter-widgets/controls",
      "model_module_version": "2.0.0",
      "model_name": "ButtonModel",
      "state": {
       "description": "Cancel",
       "layout": "IPY_MODEL_70d347dcfb284f328d0bf0cedd4c9f6c",
       "style": "IPY_MODEL_6f7106ba1c3142f39b7dc532364cd84c",
       "tooltip": "Cancel download"
      }
     },
     "7ec0dbd14df94c9198b8eaabf4652b34": {
      "model_module": "@jupyter-widgets/controls",
      "model_module_version": "2.0.0",
      "model_name": "ButtonModel",
      "state": {
       "description": "Search Archives",
       "layout": "IPY_MODEL_87cd6c8e5cd742fb8bf2d4622a101e26",
       "style": "IPY_MODEL_6553d4006e8342ae9000e5a714c90a91",
       "tooltip": "Search the Swift archives"
      }
     },
     "80e06cfe22ba4f30a3b858f08c822701": {
      "model_module": "@jupyter-widgets/controls",
      "model_module_version": "2.0.0",
      "model_name": "TextStyleModel",
      "state": {
       "description_width": "initial",
       "font_size": null,
       "text_color": null
      }
     },
     "81f354cbfe254c67a515ec410b8f962a": {
      "model_module": "@jupyter-widgets/base",
      "model_module_version": "2.0.0",
      "model_name": "LayoutModel",
      "state": {}
     },
     "83103e2f00c644b2bc78ef48c0e9f292": {
      "model_module": "@jupyter-widgets/output",
      "model_module_version": "1.0.0",
      "model_name": "OutputModel",
      "state": {
       "layout": "IPY_MODEL_134981670e8146e38ca253a2449fef21"
      }
     },
     "83450497a211454da7a4df3962a2c130": {
      "model_module": "@jupyter-widgets/base",
      "model_module_version": "2.0.0",
      "model_name": "LayoutModel",
      "state": {}
     },
     "84bb5868d9854f7ead661d2667fe1d9c": {
      "model_module": "@jupyter-widgets/base",
      "model_module_version": "2.0.0",
      "model_name": "LayoutModel",
      "state": {}
     },
     "87cd6c8e5cd742fb8bf2d4622a101e26": {
      "model_module": "@jupyter-widgets/base",
      "model_module_version": "2.0.0",
      "model_name": "LayoutModel",
      "state": {}
     },
     "88f4b8a7ec5f44b7bd3bbffa9a5a74b9": {
      "model_module": "@jupyter-widgets/controls",
      "model_module_version": "2.0.0",
      "model_name": "TextModel",
      "state": {
       "description": "Download Location:",
       "disabled": true,
       "layout": "IPY_MODEL_ed64cd45f0d649c1840d945c1a57b7d8",
       "placeholder": "",
       "style": "IPY_MODEL_0a1b4be1e5fd47cb9fb0b6ec1f4ab174",
       "value": "/Users/jduffy0121/Desktop/Comet-Research"
      }
     },
     "891f763a1b60432983e838941b5c8f5c": {
      "model_module": "@jupyter-widgets/base",
      "model_module_version": "2.0.0",
      "model_name": "LayoutModel",
      "state": {
       "width": "200px"
      }
     },
     "895b01b935084fbba421d0bb8575aa29": {
      "model_module": "@jupyter-widgets/controls",
      "model_module_version": "2.0.0",
      "model_name": "DescriptionStyleModel",
      "state": {
       "description_width": ""
      }
     },
     "8a3b506e70d342a9bb031725b013ea61": {
      "model_module": "@jupyter-widgets/output",
      "model_module_version": "1.0.0",
      "model_name": "OutputModel",
      "state": {
       "layout": "IPY_MODEL_70f85706767948a5a2b96e0950171d28"
      }
     },
     "8baab53d8e1841879960a3c5e82146bf": {
      "model_module": "@jupyter-widgets/controls",
      "model_module_version": "2.0.0",
      "model_name": "TextStyleModel",
      "state": {
       "description_width": "",
       "font_size": null,
       "text_color": null
      }
     },
     "8bcbb8e3d44f4d23964b73823279fd2e": {
      "model_module": "@jupyter-widgets/controls",
      "model_module_version": "2.0.0",
      "model_name": "TextModel",
      "state": {
       "description": "Download Location:",
       "disabled": true,
       "layout": "IPY_MODEL_4ccfb79322df47db988a9387391e9c87",
       "placeholder": "",
       "style": "IPY_MODEL_5445817635454506aee302103213357a",
       "value": "/Users/jduffy0121/Desktop/Comet-Research"
      }
     },
     "8be0fb73ea7243dc87135996eddcd141": {
      "model_module": "@jupyter-widgets/base",
      "model_module_version": "2.0.0",
      "model_name": "LayoutModel",
      "state": {}
     },
     "8cf8544f5ee9458da9c706459889504c": {
      "model_module": "@jupyter-widgets/controls",
      "model_module_version": "2.0.0",
      "model_name": "ToggleButtonsModel",
      "state": {
       "_options_labels": [
        "tar",
        "uncompressed"
       ],
       "button_style": "",
       "description": "Download Type:",
       "icons": [],
       "index": 0,
       "layout": "IPY_MODEL_1483aff8974c4fe6864104a1461a0955",
       "style": "IPY_MODEL_b46485e5084c498ab3d1dbfc966e2bfe",
       "tooltips": [
        "uncompressed",
        "tar"
       ]
      }
     },
     "8d601f54f36844a5b03b660461316361": {
      "model_module": "@jupyter-widgets/output",
      "model_module_version": "1.0.0",
      "model_name": "OutputModel",
      "state": {
       "layout": "IPY_MODEL_61f8cfd1891049a88cf5a2c065b1e3e6",
       "outputs": [
        {
         "name": "stdout",
         "output_type": "stream",
         "text": "----------------------------------------------------------------------------------------------------\n\nNo search term entered.\nPlease try again.\n\n----------------------------------------------------------------------------------------------------\n"
        }
       ]
      }
     },
     "8e253b8b984c45d2a3580ca7dda2e463": {
      "model_module": "@jupyter-widgets/controls",
      "model_module_version": "2.0.0",
      "model_name": "TextStyleModel",
      "state": {
       "description_width": "",
       "font_size": null,
       "text_color": null
      }
     },
     "8e3a80cd3f7f451b8441f1c8d97f1ded": {
      "model_module": "@jupyter-widgets/controls",
      "model_module_version": "2.0.0",
      "model_name": "ButtonStyleModel",
      "state": {
       "font_family": null,
       "font_size": null,
       "font_style": null,
       "font_variant": null,
       "font_weight": null,
       "text_color": null,
       "text_decoration": null
      }
     },
     "8f4a6651e1694f8880b375286821cfc3": {
      "model_module": "@jupyter-widgets/controls",
      "model_module_version": "2.0.0",
      "model_name": "TextModel",
      "state": {
       "description": "Search Term:",
       "layout": "IPY_MODEL_b88eafb8f6b94a5f94e48697c89a6951",
       "placeholder": "",
       "style": "IPY_MODEL_4dbf4a70f683475a9e5b0146e21ebf14"
      }
     },
     "8fc3ce1a581c4883932a5fd4115d7925": {
      "model_module": "@jupyter-widgets/controls",
      "model_module_version": "2.0.0",
      "model_name": "ButtonStyleModel",
      "state": {
       "font_family": null,
       "font_size": null,
       "font_style": null,
       "font_variant": null,
       "font_weight": null,
       "text_color": null,
       "text_decoration": null
      }
     },
     "8fd077d3bd3342e3b46f78435c6a5ba9": {
      "model_module": "@jupyter-widgets/controls",
      "model_module_version": "2.0.0",
      "model_name": "TextModel",
      "state": {
       "description": "Search Term:",
       "layout": "IPY_MODEL_84bb5868d9854f7ead661d2667fe1d9c",
       "placeholder": "",
       "style": "IPY_MODEL_6c9c28228b6f413d97d9737bc09b8ba8"
      }
     },
     "907956af1f3049c39791743664720462": {
      "model_module": "@jupyter-widgets/controls",
      "model_module_version": "2.0.0",
      "model_name": "TextStyleModel",
      "state": {
       "description_width": "",
       "font_size": null,
       "text_color": null
      }
     },
     "935dbc4bb5dc4820b292122ef316f0bc": {
      "model_module": "@jupyter-widgets/base",
      "model_module_version": "2.0.0",
      "model_name": "LayoutModel",
      "state": {}
     },
     "93c23f0c97114a1193798b16004e8fa9": {
      "model_module": "@jupyter-widgets/controls",
      "model_module_version": "2.0.0",
      "model_name": "ButtonModel",
      "state": {
       "description": "Cancel",
       "layout": "IPY_MODEL_4994851b22f44acd98ab5dbbf0ada946",
       "style": "IPY_MODEL_186cdeb870294e958ac698e2a1d444db",
       "tooltip": "Cancel download"
      }
     },
     "9421afca980241a5a10c10b3d4b4792f": {
      "model_module": "@jupyter-widgets/controls",
      "model_module_version": "2.0.0",
      "model_name": "ButtonStyleModel",
      "state": {
       "font_family": null,
       "font_size": null,
       "font_style": null,
       "font_variant": null,
       "font_weight": null,
       "text_color": null,
       "text_decoration": null
      }
     },
     "9d44529af948462188aaebb971ad6d8a": {
      "model_module": "@jupyter-widgets/base",
      "model_module_version": "2.0.0",
      "model_name": "LayoutModel",
      "state": {}
     },
     "a191b52575e74a0b8973af5cd3167334": {
      "model_module": "@jupyter-widgets/controls",
      "model_module_version": "2.0.0",
      "model_name": "SelectMultipleModel",
      "state": {
       "_options_labels": [
        "auxil",
        "bat",
        "xrt",
        "uvot",
        "log"
       ],
       "description": "File Type(s)",
       "index": [
        3
       ],
       "layout": "IPY_MODEL_66ec1b77928f4fc8be29e34d320cb0ec",
       "rows": 5,
       "style": "IPY_MODEL_7772993666fe4611a25d0f4b4ce340bf"
      }
     },
     "a31c303492a64582918bc12cc00c8e96": {
      "model_module": "@jupyter-widgets/base",
      "model_module_version": "2.0.0",
      "model_name": "LayoutModel",
      "state": {}
     },
     "a62ef73bc4c84f2db34ab1fa206efd09": {
      "model_module": "@jupyter-widgets/base",
      "model_module_version": "2.0.0",
      "model_name": "LayoutModel",
      "state": {}
     },
     "a73664dfa2a04bba90a07134a8380f7f": {
      "model_module": "@jupyter-widgets/controls",
      "model_module_version": "2.0.0",
      "model_name": "ButtonModel",
      "state": {
       "description": "Cancel",
       "layout": "IPY_MODEL_60cc006647ce4ab899867814f47ea353",
       "style": "IPY_MODEL_d5a00f84280b477ab7cfbd92e1e92239",
       "tooltip": "Cancel download"
      }
     },
     "a8351935af2e4920a4e1bde8aa785176": {
      "model_module": "@jupyter-widgets/base",
      "model_module_version": "2.0.0",
      "model_name": "LayoutModel",
      "state": {
       "width": "200px"
      }
     },
     "a9d2573431f74137b6d152b4e7c39fa3": {
      "model_module": "@jupyter-widgets/output",
      "model_module_version": "1.0.0",
      "model_name": "OutputModel",
      "state": {
       "layout": "IPY_MODEL_76b851a7ce064f51b4baeb8362242c3e"
      }
     },
     "ae3d8173a3f84fcfb2cd70b7c4f29c5b": {
      "model_module": "@jupyter-widgets/controls",
      "model_module_version": "2.0.0",
      "model_name": "ButtonModel",
      "state": {
       "description": "Confirm",
       "layout": "IPY_MODEL_753ec424241f4fb4b9dd5fe04807e4b5",
       "style": "IPY_MODEL_1bd82779a6a642c5890f58207e65ef9d",
       "tooltip": "Confirm download"
      }
     },
     "ae8b0a3b492a465da95ca252dd1491b5": {
      "model_module": "@jupyter-widgets/controls",
      "model_module_version": "2.0.0",
      "model_name": "ButtonModel",
      "state": {
       "description": "Confirm",
       "layout": "IPY_MODEL_7549f27df1de4f3f8c928c7e238840cb",
       "style": "IPY_MODEL_fbdc5ff39ce6409394206c4efd5c8405",
       "tooltip": "Confirm download"
      }
     },
     "af26d6b895c046f59a7df3ac2dc44fd0": {
      "model_module": "@jupyter-widgets/output",
      "model_module_version": "1.0.0",
      "model_name": "OutputModel",
      "state": {
       "layout": "IPY_MODEL_125ec1df6a214bbcb4dc6f35d64c03bd"
      }
     },
     "af7b2ead6d0247188b76b52c5e7c3030": {
      "model_module": "@jupyter-widgets/base",
      "model_module_version": "2.0.0",
      "model_name": "LayoutModel",
      "state": {}
     },
     "af88116c18a24119ac44ff0713dbf1d5": {
      "model_module": "@jupyter-widgets/controls",
      "model_module_version": "2.0.0",
      "model_name": "ButtonStyleModel",
      "state": {
       "font_family": null,
       "font_size": null,
       "font_style": null,
       "font_variant": null,
       "font_weight": null,
       "text_color": null,
       "text_decoration": null
      }
     },
     "af9d968b049a486c85f91c32348ba91f": {
      "model_module": "@jupyter-widgets/controls",
      "model_module_version": "2.0.0",
      "model_name": "ButtonStyleModel",
      "state": {
       "font_family": null,
       "font_size": null,
       "font_style": null,
       "font_variant": null,
       "font_weight": null,
       "text_color": null,
       "text_decoration": null
      }
     },
     "afebf18081b24cf091ff8c6a5e630922": {
      "model_module": "@jupyter-widgets/base",
      "model_module_version": "2.0.0",
      "model_name": "LayoutModel",
      "state": {
       "width": "500px"
      }
     },
     "b2e2012bfcfa460a858609dccb133f1c": {
      "model_module": "@jupyter-widgets/controls",
      "model_module_version": "2.0.0",
      "model_name": "ButtonStyleModel",
      "state": {
       "font_family": null,
       "font_size": null,
       "font_style": null,
       "font_variant": null,
       "font_weight": null,
       "text_color": null,
       "text_decoration": null
      }
     },
     "b46485e5084c498ab3d1dbfc966e2bfe": {
      "model_module": "@jupyter-widgets/controls",
      "model_module_version": "2.0.0",
      "model_name": "ToggleButtonsStyleModel",
      "state": {
       "button_width": "",
       "description_width": ""
      }
     },
     "b4e3adf46cba419e8f25f983b0e0bba9": {
      "model_module": "@jupyter-widgets/base",
      "model_module_version": "2.0.0",
      "model_name": "LayoutModel",
      "state": {}
     },
     "b4e5f6b51fdd4bec8ceda9155f51760b": {
      "model_module": "@jupyter-widgets/base",
      "model_module_version": "2.0.0",
      "model_name": "LayoutModel",
      "state": {}
     },
     "b769fb9ddebd4e39872d9f96d2309c56": {
      "model_module": "@jupyter-widgets/base",
      "model_module_version": "2.0.0",
      "model_name": "LayoutModel",
      "state": {}
     },
     "b88eafb8f6b94a5f94e48697c89a6951": {
      "model_module": "@jupyter-widgets/base",
      "model_module_version": "2.0.0",
      "model_name": "LayoutModel",
      "state": {}
     },
     "bb17c3d3d7be497cae76162212fff948": {
      "model_module": "@jupyter-widgets/controls",
      "model_module_version": "2.0.0",
      "model_name": "CheckboxModel",
      "state": {
       "description": "Skip already downloaded files",
       "disabled": false,
       "indent": false,
       "layout": "IPY_MODEL_1a9ec6b1b97a4b538036f0fdac2b53ad",
       "style": "IPY_MODEL_bc7fa26e72de49e2a7c2bc1dc6614e91",
       "value": true
      }
     },
     "bbdfc2bbdeaa4c49aed9695bbe3b0efa": {
      "model_module": "@jupyter-widgets/output",
      "model_module_version": "1.0.0",
      "model_name": "OutputModel",
      "state": {
       "layout": "IPY_MODEL_03d0490b28ae4292a4166a7bf3034797"
      }
     },
     "bc32465f8cee4c458ca34d42ec32e303": {
      "model_module": "@jupyter-widgets/base",
      "model_module_version": "2.0.0",
      "model_name": "LayoutModel",
      "state": {}
     },
     "bc7fa26e72de49e2a7c2bc1dc6614e91": {
      "model_module": "@jupyter-widgets/controls",
      "model_module_version": "2.0.0",
      "model_name": "CheckboxStyleModel",
      "state": {
       "description_width": ""
      }
     },
     "be5faa4189694807bc80a9e86cb2cb88": {
      "model_module": "@jupyter-widgets/output",
      "model_module_version": "1.0.0",
      "model_name": "OutputModel",
      "state": {
       "layout": "IPY_MODEL_4a0bfa61ebdb414b9ef1f1944d157d60"
      }
     },
     "c06908063b5844c1803ac8fe08436ea2": {
      "model_module": "@jupyter-widgets/controls",
      "model_module_version": "2.0.0",
      "model_name": "ToggleButtonsStyleModel",
      "state": {
       "button_width": "",
       "description_width": ""
      }
     },
     "c1814bc1af4d4420a6196a8c7bd387b7": {
      "model_module": "@jupyter-widgets/controls",
      "model_module_version": "2.0.0",
      "model_name": "CheckboxStyleModel",
      "state": {
       "description_width": ""
      }
     },
     "c8eead9681eb4f4eb0e69925eab175c1": {
      "model_module": "@jupyter-widgets/controls",
      "model_module_version": "2.0.0",
      "model_name": "ButtonStyleModel",
      "state": {
       "font_family": null,
       "font_size": null,
       "font_style": null,
       "font_variant": null,
       "font_weight": null,
       "text_color": null,
       "text_decoration": null
      }
     },
     "c95d376b3f684447a34a81b28899017e": {
      "model_module": "@jupyter-widgets/controls",
      "model_module_version": "2.0.0",
      "model_name": "ButtonModel",
      "state": {
       "description": "Change Download Location",
       "layout": "IPY_MODEL_e6cdf5a268b94553bab5299d9585dd62",
       "style": "IPY_MODEL_416b5935d0cc43748f629fb0665e0142",
       "tooltip": "Change the download path"
      }
     },
     "ca63983e75ed4c06bf0a7079bce54433": {
      "model_module": "@jupyter-widgets/base",
      "model_module_version": "2.0.0",
      "model_name": "LayoutModel",
      "state": {
       "width": "200px"
      }
     },
     "ca6c4d08baf64ba8a476dd76e9cc90bf": {
      "model_module": "@jupyter-widgets/controls",
      "model_module_version": "2.0.0",
      "model_name": "CheckboxModel",
      "state": {
       "description": "Skip already downloaded files",
       "disabled": false,
       "indent": false,
       "layout": "IPY_MODEL_152e594450f34e6284dace36f4a6f9fe",
       "style": "IPY_MODEL_d32456e8cc8342a489d825a15cb70b0a",
       "value": true
      }
     },
     "cb1e5389ef6a481189b907b345a38dfd": {
      "model_module": "@jupyter-widgets/controls",
      "model_module_version": "2.0.0",
      "model_name": "ButtonModel",
      "state": {
       "description": "Cancel",
       "layout": "IPY_MODEL_42d1eac4cc624b31bc92d6b1b4e705b1",
       "style": "IPY_MODEL_f83f36032b51484e8d56db6d0a256d77",
       "tooltip": "Cancel download"
      }
     },
     "cbeae9d2fc654a49bf42666385326f74": {
      "model_module": "@jupyter-widgets/base",
      "model_module_version": "2.0.0",
      "model_name": "LayoutModel",
      "state": {}
     },
     "cc72e50b96e64eecb4dd0da92c5882d0": {
      "model_module": "@jupyter-widgets/base",
      "model_module_version": "2.0.0",
      "model_name": "LayoutModel",
      "state": {}
     },
     "cf06bbb5019849b99cd28de7466487a8": {
      "model_module": "@jupyter-widgets/controls",
      "model_module_version": "2.0.0",
      "model_name": "TextStyleModel",
      "state": {
       "description_width": "",
       "font_size": null,
       "text_color": null
      }
     },
     "cf8be07b12b14cedb410090ba14c9a92": {
      "model_module": "@jupyter-widgets/base",
      "model_module_version": "2.0.0",
      "model_name": "LayoutModel",
      "state": {}
     },
     "d2dc9e29763d4e85ab69645733389132": {
      "model_module": "@jupyter-widgets/controls",
      "model_module_version": "2.0.0",
      "model_name": "SelectMultipleModel",
      "state": {
       "_options_labels": [
        "auxil",
        "bat",
        "xrt",
        "uvot",
        "log"
       ],
       "description": "File Type(s)",
       "index": [
        3
       ],
       "layout": "IPY_MODEL_9d44529af948462188aaebb971ad6d8a",
       "rows": 5,
       "style": "IPY_MODEL_d90bc5d3cd9a44529450365dd71655f3"
      }
     },
     "d32456e8cc8342a489d825a15cb70b0a": {
      "model_module": "@jupyter-widgets/controls",
      "model_module_version": "2.0.0",
      "model_name": "CheckboxStyleModel",
      "state": {
       "description_width": ""
      }
     },
     "d324c0eab1d94d1f9202d8bc5f62c477": {
      "model_module": "@jupyter-widgets/controls",
      "model_module_version": "2.0.0",
      "model_name": "TextModel",
      "state": {
       "description": "Download Location:",
       "disabled": true,
       "layout": "IPY_MODEL_afebf18081b24cf091ff8c6a5e630922",
       "placeholder": "",
       "style": "IPY_MODEL_80e06cfe22ba4f30a3b858f08c822701",
       "value": "/Users/jduffy0121/Desktop/Comet-Research"
      }
     },
     "d34bdbf93e7f40afad84394051772425": {
      "model_module": "@jupyter-widgets/base",
      "model_module_version": "2.0.0",
      "model_name": "LayoutModel",
      "state": {}
     },
     "d5a00f84280b477ab7cfbd92e1e92239": {
      "model_module": "@jupyter-widgets/controls",
      "model_module_version": "2.0.0",
      "model_name": "ButtonStyleModel",
      "state": {
       "font_family": null,
       "font_size": null,
       "font_style": null,
       "font_variant": null,
       "font_weight": null,
       "text_color": null,
       "text_decoration": null
      }
     },
     "d6b6cf961835424d86e38f18b126f0c4": {
      "model_module": "@jupyter-widgets/controls",
      "model_module_version": "2.0.0",
      "model_name": "ToggleButtonsStyleModel",
      "state": {
       "button_width": "",
       "description_width": ""
      }
     },
     "d75b785e7f1049e0b63936d89053efc5": {
      "model_module": "@jupyter-widgets/controls",
      "model_module_version": "2.0.0",
      "model_name": "CheckboxModel",
      "state": {
       "description": "Skip already downloaded files",
       "disabled": false,
       "indent": false,
       "layout": "IPY_MODEL_81f354cbfe254c67a515ec410b8f962a",
       "style": "IPY_MODEL_62221f70a9814584a267224a3d536a71",
       "value": true
      }
     },
     "d90bc5d3cd9a44529450365dd71655f3": {
      "model_module": "@jupyter-widgets/controls",
      "model_module_version": "2.0.0",
      "model_name": "DescriptionStyleModel",
      "state": {
       "description_width": ""
      }
     },
     "dc06b74d55a44c6eb39bdddc9508a3b1": {
      "model_module": "@jupyter-widgets/base",
      "model_module_version": "2.0.0",
      "model_name": "LayoutModel",
      "state": {
       "width": "200px"
      }
     },
     "dd787b0f12224ff09ac9a1e6e4ce20f2": {
      "model_module": "@jupyter-widgets/controls",
      "model_module_version": "2.0.0",
      "model_name": "TextModel",
      "state": {
       "description": "Download Location:",
       "disabled": true,
       "layout": "IPY_MODEL_75d4f98599874ab6be500510082b69de",
       "placeholder": "",
       "style": "IPY_MODEL_07205999b1454dccac32f9aca619fdcf",
       "value": "/Users/jduffy0121/Desktop/Comet-Research"
      }
     },
     "deed6b83cb484e7e8714020c6d47b535": {
      "model_module": "@jupyter-widgets/controls",
      "model_module_version": "2.0.0",
      "model_name": "TextModel",
      "state": {
       "description": "Search Term:",
       "layout": "IPY_MODEL_5f0c8cfdab33481094bc0549ac801d6c",
       "placeholder": "",
       "style": "IPY_MODEL_cf06bbb5019849b99cd28de7466487a8"
      }
     },
     "df32e82d0eed43368acdc6feb4ed7132": {
      "model_module": "@jupyter-widgets/base",
      "model_module_version": "2.0.0",
      "model_name": "LayoutModel",
      "state": {}
     },
     "e0a743138a1f4b549c3f59ca8e687914": {
      "model_module": "@jupyter-widgets/base",
      "model_module_version": "2.0.0",
      "model_name": "LayoutModel",
      "state": {}
     },
     "e1a1ff24a8de4e77bf97d3852152a722": {
      "model_module": "@jupyter-widgets/base",
      "model_module_version": "2.0.0",
      "model_name": "LayoutModel",
      "state": {}
     },
     "e2ec869f994140348d2c809be0934e79": {
      "model_module": "@jupyter-widgets/base",
      "model_module_version": "2.0.0",
      "model_name": "LayoutModel",
      "state": {}
     },
     "e3571617799d4f10917bdc6f1a0acd03": {
      "model_module": "@jupyter-widgets/controls",
      "model_module_version": "2.0.0",
      "model_name": "ButtonModel",
      "state": {
       "description": "Search Archives",
       "layout": "IPY_MODEL_42ed2635aeaa415cad73c8c975392ec5",
       "style": "IPY_MODEL_8e3a80cd3f7f451b8441f1c8d97f1ded",
       "tooltip": "Search the Swift archives"
      }
     },
     "e66ebf438e5846819acdf44657314c53": {
      "model_module": "@jupyter-widgets/controls",
      "model_module_version": "2.0.0",
      "model_name": "ButtonModel",
      "state": {
       "description": "Cancel",
       "disabled": true,
       "layout": "IPY_MODEL_223fb0b78bb944168e5d13c1994c5952",
       "style": "IPY_MODEL_af88116c18a24119ac44ff0713dbf1d5",
       "tooltip": "Cancel download"
      }
     },
     "e6cdf5a268b94553bab5299d9585dd62": {
      "model_module": "@jupyter-widgets/base",
      "model_module_version": "2.0.0",
      "model_name": "LayoutModel",
      "state": {
       "width": "200px"
      }
     },
     "e9464e2180f54070b27637655f80dc5a": {
      "model_module": "@jupyter-widgets/controls",
      "model_module_version": "2.0.0",
      "model_name": "CheckboxModel",
      "state": {
       "description": "Skip already downloaded files",
       "disabled": false,
       "indent": false,
       "layout": "IPY_MODEL_df32e82d0eed43368acdc6feb4ed7132",
       "style": "IPY_MODEL_26892ebfabee42fe901d1f20ea38e60d",
       "value": true
      }
     },
     "eacffc2152414feb9bdb48d3a840c9b3": {
      "model_module": "@jupyter-widgets/controls",
      "model_module_version": "2.0.0",
      "model_name": "TextStyleModel",
      "state": {
       "description_width": "initial",
       "font_size": null,
       "text_color": null
      }
     },
     "ed64cd45f0d649c1840d945c1a57b7d8": {
      "model_module": "@jupyter-widgets/base",
      "model_module_version": "2.0.0",
      "model_name": "LayoutModel",
      "state": {
       "width": "500px"
      }
     },
     "f046eb844ddb4419af55a1ee29d10b66": {
      "model_module": "@jupyter-widgets/base",
      "model_module_version": "2.0.0",
      "model_name": "LayoutModel",
      "state": {
       "width": "200px"
      }
     },
     "f42dfae6616d48dd8e2f9731b28f9458": {
      "model_module": "@jupyter-widgets/controls",
      "model_module_version": "2.0.0",
      "model_name": "SelectMultipleModel",
      "state": {
       "_options_labels": [
        "auxil",
        "bat",
        "xrt",
        "uvot",
        "log"
       ],
       "description": "File Type(s)",
       "index": [
        3
       ],
       "layout": "IPY_MODEL_e1a1ff24a8de4e77bf97d3852152a722",
       "rows": 5,
       "style": "IPY_MODEL_895b01b935084fbba421d0bb8575aa29"
      }
     },
     "f5833f1410794aa08ede94982d910c0e": {
      "model_module": "@jupyter-widgets/controls",
      "model_module_version": "2.0.0",
      "model_name": "ButtonModel",
      "state": {
       "description": "Confirm",
       "layout": "IPY_MODEL_6e1ee29121c748c3b953d6b0ad25d6da",
       "style": "IPY_MODEL_c8eead9681eb4f4eb0e69925eab175c1",
       "tooltip": "Confirm download"
      }
     },
     "f82ac148782f4b97856a271532569546": {
      "model_module": "@jupyter-widgets/controls",
      "model_module_version": "2.0.0",
      "model_name": "CheckboxStyleModel",
      "state": {
       "description_width": ""
      }
     },
     "f83f36032b51484e8d56db6d0a256d77": {
      "model_module": "@jupyter-widgets/controls",
      "model_module_version": "2.0.0",
      "model_name": "ButtonStyleModel",
      "state": {
       "font_family": null,
       "font_size": null,
       "font_style": null,
       "font_variant": null,
       "font_weight": null,
       "text_color": null,
       "text_decoration": null
      }
     },
     "f84224b7e0a441c595fc9efe97b8fbb2": {
      "model_module": "@jupyter-widgets/output",
      "model_module_version": "1.0.0",
      "model_name": "OutputModel",
      "state": {
       "layout": "IPY_MODEL_af7b2ead6d0247188b76b52c5e7c3030"
      }
     },
     "fb5bbf663c2043fe86c319882f0347fc": {
      "model_module": "@jupyter-widgets/base",
      "model_module_version": "2.0.0",
      "model_name": "LayoutModel",
      "state": {}
     },
     "fbdc5ff39ce6409394206c4efd5c8405": {
      "model_module": "@jupyter-widgets/controls",
      "model_module_version": "2.0.0",
      "model_name": "ButtonStyleModel",
      "state": {
       "font_family": null,
       "font_size": null,
       "font_style": null,
       "font_variant": null,
       "font_weight": null,
       "text_color": null,
       "text_decoration": null
      }
     },
     "fca1e30569284129bf86b96cb4603bfc": {
      "model_module": "@jupyter-widgets/base",
      "model_module_version": "2.0.0",
      "model_name": "LayoutModel",
      "state": {
       "width": "500px"
      }
     },
     "fccfabe5f5b14579b7753c47f81694ec": {
      "model_module": "@jupyter-widgets/base",
      "model_module_version": "2.0.0",
      "model_name": "LayoutModel",
      "state": {}
     }
    },
    "version_major": 2,
    "version_minor": 0
   }
  }
 },
 "nbformat": 4,
 "nbformat_minor": 5
}
