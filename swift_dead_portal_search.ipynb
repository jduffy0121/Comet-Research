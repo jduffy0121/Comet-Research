{
 "cells": [
  {
   "cell_type": "markdown",
   "id": "b9b2ced9-8d21-44c4-bb99-c324b14c6160",
   "metadata": {},
   "source": [
    "# Swift Dead Portal Search"
   ]
  },
  {
   "cell_type": "code",
   "execution_count": 51,
   "id": "5aa8e090-4545-48be-818f-2f671b77de58",
   "metadata": {
    "jupyter": {
     "source_hidden": true
    },
    "tags": []
   },
   "outputs": [],
   "source": [
    "import pathlib\n",
    "import requests\n",
    "import subprocess\n",
    "import os\n",
    "import ipywidgets as widgets\n",
    "\n",
    "from dataclasses import dataclass\n",
    "from tkinter import filedialog\n",
    "from bs4 import BeautifulSoup\n",
    "from typing import List, Tuple\n",
    "from urllib.parse import urlparse"
   ]
  },
  {
   "cell_type": "code",
   "execution_count": 52,
   "id": "a0e7bafe-0072-4fa7-84dd-9c1198a8795c",
   "metadata": {
    "jupyter": {
     "source_hidden": true
    }
   },
   "outputs": [],
   "source": [
    "# data class to manage reading and passing the data around to methods\n",
    "#\n",
    "# -----------------------------------------------Parameters-----------------------------------------------\n",
    "#\n",
    "# search_term: string of striped result that user puts into the search box\n",
    "# download_type: string result that user selects as their download type, download_type are ['uncompressed', 'tar']\n",
    "# dtype_list: list of strings that represent all the data being downloaded, dtype_list are ['auxil', 'bat', 'xrt', 'uvot', 'log']\n",
    "# overwrite: bool representing the to either overwrite a file if it alreadys exist\n",
    "# dest_dir: path to store all downloaded files\n",
    "# page_html: raw string literal of the html page\n",
    "# search_soup: parse of the page_html to easier nagivate and search through it (using the BeautifulSoup class)\n",
    "# search_type: string value representing if the server found 0 results, 1 result, or 2+ results as each has a different html\n",
    "# tlist: list of type Tuple (for 2+ results) or type string (for 1 result) that contains all tname(s) and tid(s) to download\n",
    "# tname(s): string(s) representing the target name found on the search page\n",
    "# tid(s): string(s) representing the 8 digit long target identification number for each target found in tnames\n",
    "#\n",
    "# --------------------------------------------------------------------------------------------------------\n",
    "\n",
    "@dataclass\n",
    "class SearchInfo:\n",
    "    search_term: str\n",
    "    download_type: str\n",
    "    dtype_list: list\n",
    "    overwrite: bool\n",
    "    dest_dir: str\n",
    "    page_html: str\n",
    "    search_soup: str\n",
    "    search_type: str\n",
    "    tlist: list"
   ]
  },
  {
   "cell_type": "code",
   "execution_count": 53,
   "id": "6a2c06af-6224-4440-b067-35d6cb49da20",
   "metadata": {
    "jupyter": {
     "source_hidden": true
    },
    "tags": []
   },
   "outputs": [],
   "source": [
    "def get_swift_wget_commands(tid: str, dtype: str, overwrite: bool) -> List[str]:\n",
    "\n",
    "    # for any given target id, there may be multiple observations in their own directories,\n",
    "    # with the naming scheme {target id}001/, {target id}002/, etc.\n",
    "    # so we let the server give us the appropriate wget commands because it knows how\n",
    "    # many observations each target id has\n",
    "    \n",
    "    if overwrite is False:\n",
    "        overwrite_option = '-nc'\n",
    "    else:\n",
    "        overwrite_option = ''\n",
    "        \n",
    "    # this page returns a script with wget commands to download our data\n",
    "    base_wget_url = f'https://www.swift.ac.uk/archive/download.sh?reproc=1&tid={tid}&source=obs&subdir={dtype}'\n",
    "    wget_response = requests.get(base_wget_url)\n",
    "    wget_commands = [line for line in wget_response.text.splitlines() if 'wget' in line]\n",
    "    urls = [command.split()[-1] for command in wget_commands]\n",
    "    \n",
    "    # -nc ==> no clobber: don't replace already downloaded files\n",
    "    # -q ==> quiet mode, no output\n",
    "    # -w 2 ==> wait 2 seconds between files\n",
    "    # -nH ==> don't create a directory based on the host, in this case no folder named www.swift.ac.uk/\n",
    "    # --cut-dirs=2 ==> remove the /archive/reproc/ folders on the server from being created locally\n",
    "    # -r ==> recursive: grab everything under this folder on the server\n",
    "    # --reject ... ==> specify files that we don't want from the server\n",
    "    adjusted_wget_commands = ['wget ' + overwrite_option + ' -q -w 2 -nH --cut-dirs=2 -r --no-parent --reject index.html*,robots.txt* ' + url for url in urls]\n",
    "    \n",
    "    return adjusted_wget_commands"
   ]
  },
  {
   "cell_type": "code",
   "execution_count": 54,
   "id": "ecb3d9f1-3c32-4fa1-926d-139eb570f16a",
   "metadata": {
    "jupyter": {
     "source_hidden": true
    },
    "tags": []
   },
   "outputs": [],
   "source": [
    "def swift_download_uncompressed(tid: str, dtype: str, dest_dir: pathlib.Path = None, overwrite: bool = False) -> None:\n",
    "    \n",
    "    # given a Swift target id and type of data, this function downloads the uncompressed\n",
    "    # data to the directory dest_dir\n",
    "    \n",
    "    # get our download commands from the server\n",
    "    wget_commands = get_swift_wget_commands(tid=tid, dtype=dtype, overwrite=overwrite)\n",
    "    if wget_commands is None:\n",
    "        print(\"No wget commands to execute, skipping downloads...\")\n",
    "        return\n",
    "    \n",
    "    # change folders if we need to\n",
    "    old_cwd = os.getcwd()\n",
    "    if dest_dir is not None:\n",
    "        os.chdir(dest_dir)\n",
    "    print(f\"Downloading {dtype} data of target id {tid} to {os.getcwd()} ...\")\n",
    "    \n",
    "    # run each command to grab the individual observations for this target id\n",
    "    for command in wget_commands:\n",
    "        presult = subprocess.run(command.split())\n",
    "        if presult.returncode != 0:\n",
    "            print(f\"Non-zero return code {presult.returncode} for {command}!\")\n",
    "    \n",
    "    # change folders back\n",
    "    os.chdir(old_cwd)"
   ]
  },
  {
   "cell_type": "code",
   "execution_count": 55,
   "id": "abfbb9e9-f109-41fd-b354-e7d389f69fc0",
   "metadata": {
    "jupyter": {
     "source_hidden": true
    },
    "tags": []
   },
   "outputs": [],
   "source": [
    "def swift_download_compressed(tid: str, tname: str, dtype: str, archive_type: str, dest_dir: pathlib.Path, overwrite: bool = False) -> None:\n",
    "\n",
    "    \"\"\"\n",
    "        Downloads an archive of Swift data from swift.ac.uk to dest_dir\n",
    "\n",
    "        Parameters\n",
    "        ----------\n",
    "        tid : string\n",
    "            The target ID to be downloaded, e.g. '00020405'\n",
    "        tname: string\n",
    "            The name of the target, e.g. 'CometC/2031US10(Catalina)'\n",
    "        dtype: string\n",
    "            The type of data being downloaded, e.g. 'uvot'\n",
    "        archive_type: string\n",
    "            One of 'zip' or 'tar' to download the corresponding type\n",
    "        dest_dir: pathlib.Path\n",
    "            Directory to place files\n",
    "        overwrite: bool\n",
    "            Whether or not to overwrite the file if it already exists\n",
    "    \"\"\"\n",
    "    \n",
    "    # change folders if we need to\n",
    "    old_cwd = os.getcwd()\n",
    "    if dest_dir is not None:\n",
    "        os.chdir(dest_dir)\n",
    "    \n",
    "    # name the archive with the target id and data type, because the server returns 'download.tar' no matter what\n",
    "    out_file_stem = pathlib.Path(tid + f\"_{dtype}\")\n",
    "    \n",
    "    # download\n",
    "    if archive_type == 'zip':\n",
    "        print(f\"Downloading .zip archives is broken server-side so is currently unsupported.\")\n",
    "    if archive_type == 'tar':\n",
    "        swift_download_compressed_tar(tid=tid, tname=tname, dtype=dtype, out_file_stem=out_file_stem, overwrite=overwrite)\n",
    "\n",
    "    os.chdir(old_cwd)\n",
    "    return"
   ]
  },
  {
   "cell_type": "code",
   "execution_count": 56,
   "id": "75942ce0-ecc3-436c-9378-fba0086308bc",
   "metadata": {
    "jupyter": {
     "source_hidden": true
    },
    "tags": []
   },
   "outputs": [],
   "source": [
    "def swift_download_compressed_tar(tid: str, tname: str, dtype: str, out_file_stem: pathlib.Path, overwrite: bool) -> None:\n",
    "\n",
    "    out_file = out_file_stem.with_suffix('.tar')\n",
    "    if out_file.exists() and overwrite is False:\n",
    "        print(f\"Found {str(out_file)} and overwriting was forbidden, skipping download.\")\n",
    "        return\n",
    "    \n",
    "    # build our urls and params to send the server\n",
    "    swift_referer_base_url = 'https://www.swift.ac.uk/archive/prepdata.php'\n",
    "    swift_download_portal_base_url = 'https://www.swift.ac.uk/archive/download.tar'\n",
    "\n",
    "    referer_url = f\"{swift_referer_base_url}?tid={tid}&source=obs&name={tname}&referer=portal\"\n",
    "    params = {\n",
    "        'reproc': '1',\n",
    "        'tid': tid,\n",
    "        'source': 'obs',\n",
    "        'subdir': dtype,\n",
    "    }\n",
    "\n",
    "    # lie to the server\n",
    "    request_header = {\n",
    "        'User-Agent': 'Mozilla/5.0 (Macintosh; Intel Mac OS X 10.15; rv:109.0) Gecko/20100101 Firefox/109.0',\n",
    "        'Accept': 'text/html,application/xhtml+xml,application/xml;q=0.9,image/avif,image/webp,*/*;q=0.8',\n",
    "        'Accept-Language': 'en-US,en;q=0.5',\n",
    "        'Referer': referer_url,\n",
    "        'DNT': '1',\n",
    "        'Connection': 'keep-alive',\n",
    "        'Upgrade-Insecure-Requests': '1',\n",
    "        'Sec-Fetch-Dest': 'document',\n",
    "        'Sec-Fetch-Mode': 'navigate',\n",
    "        'Sec-Fetch-Site': 'same-origin',\n",
    "        'Sec-Fetch-User': '?1',\n",
    "        'Sec-GPC': '1',\n",
    "    }\n",
    "\n",
    "    print(f\"Attempting to download {tid} of {tname} to {out_file}, please wait ...\")\n",
    "    response = requests.get(swift_download_portal_base_url, params=params, headers=request_header)\n",
    "    print(f\"Requested data from {response.url}, response code {response.status_code} ...\")\n",
    "\n",
    "    # name the output file if it wasn't passed in an argument\n",
    "    with open(out_file, 'wb') as f:\n",
    "        f.write(response.content)\n",
    "    \n",
    "    print(f\"Wrote {str(out_file)}.\")\n",
    "\n",
    "    return"
   ]
  },
  {
   "cell_type": "code",
   "execution_count": 57,
   "id": "50574bda-b583-422e-9420-fe2510f685d7",
   "metadata": {
    "jupyter": {
     "source_hidden": true
    }
   },
   "outputs": [],
   "source": [
    "def search_page() -> None:\n",
    "    global SearchClass\n",
    "    # construct the search url\n",
    "    base_search_url = 'https://www.swift.ac.uk/dead_portal/getobject.php'\n",
    "    search_url = base_search_url + '?name=' + SearchClass.search_term + '&submit=Search+Names'\n",
    "    \n",
    "    # download the search page and parse it\n",
    "    SearchClass.page_html = requests.get(search_url)\n",
    "    SearchClass.search_soup = BeautifulSoup(SearchClass.page_html.text, features=\"lxml\")"
   ]
  },
  {
   "cell_type": "code",
   "execution_count": 58,
   "id": "e44ec729-f551-4cb7-a464-5f348632c105",
   "metadata": {
    "jupyter": {
     "source_hidden": true
    }
   },
   "outputs": [],
   "source": [
    "def results_type() -> str:\n",
    "    global SearchClass\n",
    "    string = ''\n",
    "    # reads the html to see if the page showed that there is no results by displaying the string \n",
    "    # find() will return -1 if that exact string is not found     \n",
    "    if(SearchClass.search_soup.get_text().find('No entry found in the database with object name matching') != -1):\n",
    "        print(f'\\nUnable to find any search results for \\'{SearchClass.search_term}\\'. \\nPlease try again.\\n')\n",
    "        print(string.ljust(100, '-'))\n",
    "        return '0 results'\n",
    "    elif(SearchClass.search_soup.get_text().find('Download archive data') != -1):\n",
    "        return '1 result'\n",
    "    else:\n",
    "        return '2 or more results'"
   ]
  },
  {
   "cell_type": "code",
   "execution_count": 82,
   "id": "b1069a9b-6c67-4ed0-9e27-43c5dba51ae0",
   "metadata": {
    "jupyter": {
     "source_hidden": true
    }
   },
   "outputs": [],
   "source": [
    "def get_single_tlist() -> [str, str]:\n",
    "    global SearchClass\n",
    "    string = ''\n",
    "    \n",
    "    # searches the saved soup html of the page for the tid and tname\n",
    "    page_head = str(SearchClass.search_soup.find_all('h1')[0])\n",
    "    tname = page_head[30:-5]\n",
    "    page_label = str(SearchClass.search_soup.find_all('label')[1])\n",
    "    tid = page_label[29:37]\n",
    "    \n",
    "    # displays the results to the user\n",
    "    print(f'\\nFound a single data file for the search term \\'{SearchClass.search_term}\\':\\n')\n",
    "    print(string.ljust(100, '-'))\n",
    "    print()\n",
    "    print(f'Name of observation: {tname}'.ljust(67) + 'Total number of observations: 1\\n')\n",
    "    print(string.ljust(100, '-'))\n",
    "    print(f'Confirm or cancel the download of the single file above to the directory {SearchClass.dest_dir}\\n')\n",
    "    \n",
    "    # returns the tname and tid as a list\n",
    "    return [tname, tid]"
   ]
  },
  {
   "cell_type": "code",
   "execution_count": 74,
   "id": "50210090-8dc1-41cd-8dc4-f849d3b1a7c4",
   "metadata": {
    "jupyter": {
     "source_hidden": true
    }
   },
   "outputs": [],
   "source": [
    "def get_multi_tlists() -> List[Tuple[str, str]]:\n",
    "    global SearchClass\n",
    "    string = ''\n",
    "    \n",
    "    # get the main results table\n",
    "    results_table = SearchClass.search_soup.find(\"table\", {\"class\": \"chTable\"})\n",
    "    \n",
    "    # ignore the first row with the names of the columns, and the last row with links for all of the data\n",
    "    table_rows = results_table.find_all(\"tr\")[1:-1]\n",
    "    \n",
    "    # .contents is a list, our table has only one element in it, so take contents[0]\n",
    "    tids = [row.find(\"td\", {\"headers\": \"row_targ\"}).contents[0] for row in table_rows]\n",
    "    tnames = [row.find(\"td\", {\"headers\": \"row_name\"}).contents[0] for row in table_rows]\n",
    "    tobservations = [row.find(\"td\", {\"headers\": \"row_num\"}).contents[0] for row in table_rows]\n",
    "    \n",
    "    # create a dict to show the user the total ammount of data for each observation in tname\n",
    "    # iterates through tnames and tobservations to count the total times for each tname, storing these values in print_table\n",
    "    print_table = {}\n",
    "    i = 0\n",
    "    while i < len(table_rows):\n",
    "        print_table[f'{tnames[i]}'] = print_table.get(f'{tnames[i]}', 0) + int(tobservations[i])\n",
    "        i += 1\n",
    "    print(f'\\nFound the following data for the search term \\'{SearchClass.search_term}\\':\\n')\n",
    "    print(string.ljust(100, '-'))\n",
    "    print()\n",
    "    \n",
    "    # prints the table of files found for the user to see what their search results are\n",
    "    # cast elements in the print_table to be able to index the tname and toal tobservations separately\n",
    "    j = 0\n",
    "    while j < len(print_table):\n",
    "        print(f'Name of observation: {tuple(print_table.items())[j][0]}'.ljust(67) + f'Total number of observations: {tuple(print_table.items())[j][1]}\\n')\n",
    "        j += 1\n",
    "    print(string.ljust(100, '-'))\n",
    "    print(f'Confirm or cancel the download of all files above to the directory {SearchClass.dest_dir}\\n')\n",
    "    \n",
    "    # zips and returns the tids and tnames as a list of type Tuple\n",
    "    all_targets_zip = zip(tids, tnames)\n",
    "    return list(all_targets_zip)"
   ]
  },
  {
   "cell_type": "code",
   "execution_count": 61,
   "id": "88aadedd-4315-41b7-948d-c1a0f21eb123",
   "metadata": {
    "jupyter": {
     "source_hidden": true
    }
   },
   "outputs": [],
   "source": [
    "def download_single_file(tlist: str, dtype_list: str, dest_dir: pathlib.Path, download_type: str, overwrite=False) -> None:\n",
    "    print()\n",
    "    string = ''\n",
    "    # downloads the file for a single result when searching\n",
    "    for dtype in dtype_list:\n",
    "        if download_type == 'uncompressed':\n",
    "            swift_download_uncompressed(tid=tlist[1], dtype=dtype, dest_dir=dest_dir, overwrite=overwrite)\n",
    "        if download_type in ['tar', 'zip']:\n",
    "            swift_download_compressed(tid=tlist[1], tname=tlist[0], dtype=dtype, archive_type=download_type, dest_dir=dest_dir, overwrite=overwrite)\n",
    "    print(f'Download Completed!\\n')\n",
    "    print(string.ljust(100, '-'))"
   ]
  },
  {
   "cell_type": "code",
   "execution_count": 62,
   "id": "6739cbb8-d36f-4650-a7e7-d68e86021eef",
   "metadata": {
    "jupyter": {
     "source_hidden": true
    },
    "tags": []
   },
   "outputs": [],
   "source": [
    "def download_multi_files(tlist: str, dtype_list: str, dest_dir: pathlib.Path, download_type: str, overwrite=False) -> None:\n",
    "    print()\n",
    "    string = ''\n",
    "    # downloads the files for 2+ results when searching\n",
    "    # iterates over each requested data type and observation collected from get_multi_tlists()\n",
    "    for dtype in dtype_list:\n",
    "        for tid, tname in tlist:\n",
    "            if download_type == 'uncompressed':\n",
    "                swift_download_uncompressed(tid=tid, dtype=dtype, dest_dir=dest_dir, overwrite=overwrite)\n",
    "            if download_type in ['tar', 'zip']:\n",
    "                swift_download_compressed(tid=tid, tname=tname, dtype=dtype, archive_type=download_type, dest_dir=dest_dir, overwrite=overwrite)\n",
    "    print(f'Download Completed!\\n')\n",
    "    print(string.ljust(100, '-'))"
   ]
  },
  {
   "cell_type": "code",
   "execution_count": 63,
   "id": "2a76ab4b-968a-4fd0-af81-2f6fad6fabde",
   "metadata": {
    "jupyter": {
     "source_hidden": true
    }
   },
   "outputs": [],
   "source": [
    "def confirm_button_click(button) -> None: \n",
    "    global SearchClass\n",
    "    cancel_button.disabled = True\n",
    "    confirm_button.disabled = True\n",
    "    with output:\n",
    "        string = ''\n",
    "        # downloads files depending on type\n",
    "        if (SearchClass.search_type == '1 result'):\n",
    "            download_single_file(SearchClass.tlist, SearchClass.dtype_list, SearchClass.dest_dir, \n",
    "                                 SearchClass.download_type, SearchClass.overwrite)\n",
    "        else:\n",
    "            download_multi_files(SearchClass.tlist, SearchClass.dtype_list, SearchClass.dest_dir, \n",
    "                                 SearchClass.download_type, SearchClass.overwrite)\n",
    "    enable_inputs()"
   ]
  },
  {
   "cell_type": "code",
   "execution_count": 81,
   "id": "91f055f9-17ea-4fec-9734-e9a3c3993ffb",
   "metadata": {
    "jupyter": {
     "source_hidden": true
    }
   },
   "outputs": [],
   "source": [
    "def cancel_button_click(button) -> None:\n",
    "    # cancels program run without downloading files\n",
    "    cancel_button.disabled = True\n",
    "    confirm_button.disabled = True\n",
    "    with output:\n",
    "        string = ''\n",
    "        print(f'\\nNo files downloaded\\n')\n",
    "        print(string.ljust(100, '-'))\n",
    "        enable_inputs()"
   ]
  },
  {
   "cell_type": "code",
   "execution_count": 79,
   "id": "b9f442ce-f5f3-4e67-a96a-2fc73bea0ba3",
   "metadata": {
    "jupyter": {
     "source_hidden": true
    },
    "tags": []
   },
   "outputs": [],
   "source": [
    "def get_page_information() -> None:\n",
    "    global SearchClass\n",
    "    output = widgets.Output()\n",
    "    cancel_button.disabled = False\n",
    "    confirm_button.disabled = False\n",
    "    string = ''\n",
    "    print(string.ljust(100, '-'))\n",
    "    \n",
    "    # gets all the results from the UI\n",
    "    SearchClass.download_type = download_box.value\n",
    "    SearchClass.dtype_list = list(dtype_box.value)\n",
    "    \n",
    "    # flips bool value for overwrite to fit common wget formatting\n",
    "    if (overwrite_box.value == True):\n",
    "        SearchClass.overwrite = False\n",
    "    else:\n",
    "        SearchClass.overwrite = True\n",
    "    SearchClass.dest_dir = path_box.value\n",
    "    \n",
    "    # test to see if the search term is not empty\n",
    "    if(search_box.value.strip() == ''):\n",
    "        print(f'\\nNo search term entered.\\nPlease try again.\\n')\n",
    "        print(string.ljust(100, '-'))\n",
    "        enable_inputs()\n",
    "        return\n",
    "        \n",
    "    # gets page download and runs the downloads based on how many results come back (1 or 2+)\n",
    "    else:\n",
    "        # only gets the new page if the previous non empty search term stored in the data class is different \n",
    "        # than the current term in the box\n",
    "        if (search_box.value.strip() != SearchClass.search_term):\n",
    "            SearchClass.search_term = search_box.value.strip()\n",
    "            search_page()\n",
    "            \n",
    "        # reads the page to see how many results are present\n",
    "        SearchClass.search_type = results_type()\n",
    "        \n",
    "        # gets tlist from the search_soup and prints the results to the counsel \n",
    "        if (SearchClass.search_type == '1 result'):\n",
    "            SearchClass.tlist = get_single_tlist()\n",
    "        elif (SearchClass.search_type == '2 or more results'):\n",
    "            SearchClass.tlist = get_multi_tlists()\n",
    "        else:\n",
    "            enable_inputs()\n",
    "            return\n",
    "        \n",
    "        # creates UI elements to confirm/cancel download\n",
    "        display(confirm_button, output)\n",
    "        display(cancel_button, output)\n",
    "        print(string.ljust(100, '-'))\n",
    "        cancel_button.on_click(cancel_button_click)\n",
    "        confirm_button.on_click(confirm_button_click)"
   ]
  },
  {
   "cell_type": "code",
   "execution_count": 66,
   "id": "1ce80088-6adc-4903-8504-3f8c765030c3",
   "metadata": {
    "jupyter": {
     "source_hidden": true
    }
   },
   "outputs": [],
   "source": [
    "def search_button_click(button) -> None:\n",
    "    # disables all UI input elements while running to ensure multiple searches do not happen at the same time\n",
    "    search_box.disabled = True\n",
    "    dtype_box.disabled = True\n",
    "    download_box.disabled = True\n",
    "    path_button.disabled = True\n",
    "    overwrite_box.disabled = True\n",
    "    search_button.disabled = True\n",
    "    with output:\n",
    "        get_page_information()"
   ]
  },
  {
   "cell_type": "code",
   "execution_count": 78,
   "id": "fcdfa4a6-4702-48df-a635-1ad3c4ea67a1",
   "metadata": {
    "jupyter": {
     "source_hidden": true
    }
   },
   "outputs": [],
   "source": [
    "def path_button_click(button) -> None:\n",
    "    # gets the new user path if they select to change from current dir\n",
    "    path_button.disabled = True\n",
    "    with output:\n",
    "        user_path = filedialog.askdirectory()\n",
    "        output.clear_output()\n",
    "        # test to see if they actually submitted a valid path\n",
    "        if user_path == '' or user_path == '/':\n",
    "            path_button.disabled = False\n",
    "            return\n",
    "        # updates path value if it is valid\n",
    "        path_box.value = user_path\n",
    "    path_button.disabled = False"
   ]
  },
  {
   "cell_type": "code",
   "execution_count": 68,
   "id": "6c63a921-7f52-4343-bd05-f8f59dcdb3c0",
   "metadata": {
    "jupyter": {
     "source_hidden": true
    }
   },
   "outputs": [],
   "source": [
    "def enable_inputs() -> None:\n",
    "    # re enables all UI input elements to allow for user to attempt another download and clears the output\n",
    "    search_box.disabled = False\n",
    "    dtype_box.disabled = False\n",
    "    download_box.disabled = False\n",
    "    path_button.disabled = False\n",
    "    overwrite_box.disabled = False\n",
    "    search_button.disabled = False\n",
    "    output.clear_output(wait=True)"
   ]
  },
  {
   "cell_type": "code",
   "execution_count": 77,
   "id": "33a29656-ea00-4347-bccc-350a6eb5fd26",
   "metadata": {
    "jupyter": {
     "source_hidden": true
    },
    "tags": []
   },
   "outputs": [
    {
     "data": {
      "application/vnd.jupyter.widget-view+json": {
       "model_id": "6305859bd70141b8b73d79de1aea03d3",
       "version_major": 2,
       "version_minor": 0
      },
      "text/plain": [
       "Text(value='', description='Search Term:', placeholder='')"
      ]
     },
     "metadata": {},
     "output_type": "display_data"
    },
    {
     "data": {
      "application/vnd.jupyter.widget-view+json": {
       "model_id": "8fa0e0ca339f42108a274227a353ad31",
       "version_major": 2,
       "version_minor": 0
      },
      "text/plain": [
       "ToggleButtons(description='Download Type:', options=('tar', 'uncompressed'), tooltips=('uncompressed', 'tar'),…"
      ]
     },
     "metadata": {},
     "output_type": "display_data"
    },
    {
     "data": {
      "application/vnd.jupyter.widget-view+json": {
       "model_id": "c2d32174db9c4726a5572848b8319ec5",
       "version_major": 2,
       "version_minor": 0
      },
      "text/plain": [
       "SelectMultiple(description='File Type(s)', index=(3,), options=('auxil', 'bat', 'xrt', 'uvot', 'log'), value=(…"
      ]
     },
     "metadata": {},
     "output_type": "display_data"
    },
    {
     "name": "stdout",
     "output_type": "stream",
     "text": [
      "\n"
     ]
    },
    {
     "data": {
      "application/vnd.jupyter.widget-view+json": {
       "model_id": "4c01180a64894f32bcee5dbaf08b741e",
       "version_major": 2,
       "version_minor": 0
      },
      "text/plain": [
       "Text(value='/Users/jduffy0121/Desktop/Comet-Research', description='Download Location:', disabled=True, layout…"
      ]
     },
     "metadata": {},
     "output_type": "display_data"
    },
    {
     "data": {
      "application/vnd.jupyter.widget-view+json": {
       "model_id": "0c09be7d8636454c92e2168a36d092f4",
       "version_major": 2,
       "version_minor": 0
      },
      "text/plain": [
       "Button(description='Change Download Location', layout=Layout(width='200px'), style=ButtonStyle(), tooltip='Cha…"
      ]
     },
     "metadata": {},
     "output_type": "display_data"
    },
    {
     "name": "stdout",
     "output_type": "stream",
     "text": [
      "\n"
     ]
    },
    {
     "data": {
      "application/vnd.jupyter.widget-view+json": {
       "model_id": "f80c0d61185c4eccb6a16d6282783c1c",
       "version_major": 2,
       "version_minor": 0
      },
      "text/plain": [
       "Checkbox(value=True, description='Skip already downloaded files', indent=False)"
      ]
     },
     "metadata": {},
     "output_type": "display_data"
    },
    {
     "name": "stdout",
     "output_type": "stream",
     "text": [
      "\n"
     ]
    },
    {
     "data": {
      "application/vnd.jupyter.widget-view+json": {
       "model_id": "3fb37bf2895243c39826bde6a4eee511",
       "version_major": 2,
       "version_minor": 0
      },
      "text/plain": [
       "Button(description='Search Archives', style=ButtonStyle(), tooltip='Search the Swift archives')"
      ]
     },
     "metadata": {},
     "output_type": "display_data"
    },
    {
     "data": {
      "application/vnd.jupyter.widget-view+json": {
       "model_id": "927dc8231e9f4f74833c0dabdbc63775",
       "version_major": 2,
       "version_minor": 0
      },
      "text/plain": [
       "Output()"
      ]
     },
     "metadata": {},
     "output_type": "display_data"
    }
   ],
   "source": [
    "# creates an empty new SearchInfo data class\n",
    "SearchClass = SearchInfo(search_term='', download_type='', dtype_list = [], overwrite=False, \n",
    "                         dest_dir='', page_html='', search_soup='', search_type='', tlist = [])\n",
    "\n",
    "# creates all UI elements using ipywidgets\n",
    "output = widgets.Output()\n",
    "search_box = widgets.Text(\n",
    "    value='',\n",
    "    placeholder='',\n",
    "    description='Search Term:',\n",
    "    disabled=False\n",
    ")\n",
    "download_box = widgets.ToggleButtons(\n",
    "    # zip file download type is not working on the portal\n",
    "    # on the small chance it does start working, uncommit the below two lines and commit following two lines\n",
    "    \n",
    "    #options=['tar', 'uncompressed', 'zip'],\n",
    "    #tooltips=['uncompressed', 'tar', 'zip'],\n",
    "    options=['tar', 'uncompressed'],\n",
    "    tooltips=['uncompressed', 'tar'],\n",
    "    description='Download Type:',\n",
    "    disabled=False\n",
    ")\n",
    "dtype_box = widgets.SelectMultiple(\n",
    "    options=['auxil', 'bat', 'xrt', 'uvot', 'log'],\n",
    "    value=['uvot'],\n",
    "    description='File Type(s)',\n",
    "    disabled=False\n",
    ")\n",
    "path_box = widgets.Text(\n",
    "    value=f'{os.getcwd()}',\n",
    "    placeholder='',\n",
    "    style = {'description_width': 'initial'},\n",
    "    description='Download Location:',\n",
    "    disabled=True,\n",
    "    layout={'width': '500px'}\n",
    ")\n",
    "path_button = widgets.Button(\n",
    "    description=\"Change Download Location\",\n",
    "    disabled=False,\n",
    "    button_style='',\n",
    "    tooltip=\"Change the download path\",\n",
    "    layout={'width': '200px'}\n",
    ")\n",
    "overwrite_box = widgets.Checkbox(\n",
    "    value=True,\n",
    "    description='Skip already downloaded files',\n",
    "    disabled=False,\n",
    "    indent=False\n",
    ")\n",
    "search_button = widgets.Button(\n",
    "    description=\"Search Archives\",\n",
    "    disabled=False,\n",
    "    button_style='',\n",
    "    tooltip=\"Search the Swift archives\"\n",
    ")\n",
    "confirm_button = widgets.Button(\n",
    "    description=\"Confirm\",\n",
    "    disabled=False,\n",
    "    button_style='',\n",
    "    tooltip=\"Confirm download\"\n",
    ")\n",
    "cancel_button = widgets.Button(\n",
    "    description=\"Cancel\",\n",
    "    disabled=False,\n",
    "    button_style='',\n",
    "    tooltip=\"Cancel download\"\n",
    ")\n",
    "\n",
    "# displays the UI input elements\n",
    "display(search_box)\n",
    "display(download_box)\n",
    "display(dtype_box)\n",
    "print()\n",
    "display(path_box)\n",
    "display(path_button)\n",
    "print()\n",
    "display(overwrite_box)\n",
    "print()\n",
    "display(search_button, output)\n",
    "path_button.on_click(path_button_click)\n",
    "search_button.on_click(search_button_click)"
   ]
  }
 ],
 "metadata": {
  "kernelspec": {
   "display_name": "Python 3 (ipykernel)",
   "language": "python",
   "name": "python3"
  },
  "language_info": {
   "codemirror_mode": {
    "name": "ipython",
    "version": 3
   },
   "file_extension": ".py",
   "mimetype": "text/x-python",
   "name": "python",
   "nbconvert_exporter": "python",
   "pygments_lexer": "ipython3",
   "version": "3.9.15"
  },
  "toc-showcode": true,
  "widgets": {
   "application/vnd.jupyter.widget-state+json": {
    "state": {
     "013393d1b24d4b1abdbf41fb7bec4431": {
      "model_module": "@jupyter-widgets/output",
      "model_module_version": "1.0.0",
      "model_name": "OutputModel",
      "state": {
       "layout": "IPY_MODEL_2d48237714aa46a3b40a638773b9d64f"
      }
     },
     "01c1eab7b1184556b41a7133df5d3693": {
      "model_module": "@jupyter-widgets/base",
      "model_module_version": "2.0.0",
      "model_name": "LayoutModel",
      "state": {}
     },
     "02227010163f4a128808008a30f8dc09": {
      "model_module": "@jupyter-widgets/base",
      "model_module_version": "2.0.0",
      "model_name": "LayoutModel",
      "state": {}
     },
     "056783ab82c84806b465a4c6cd2ce835": {
      "model_module": "@jupyter-widgets/controls",
      "model_module_version": "2.0.0",
      "model_name": "TextModel",
      "state": {
       "description": "Search Term:",
       "layout": "IPY_MODEL_14295384abc74c8e95a23a06233fe640",
       "placeholder": "",
       "style": "IPY_MODEL_09038e27df1f4660a12c05ecef3fe33e",
       "value": "Catalina"
      }
     },
     "05da760de81c4ff0ba11be5e03d5872b": {
      "model_module": "@jupyter-widgets/controls",
      "model_module_version": "2.0.0",
      "model_name": "ToggleButtonsModel",
      "state": {
       "_options_labels": [
        "tar",
        "uncompressed"
       ],
       "button_style": "",
       "description": "Download Type:",
       "icons": [],
       "index": 0,
       "layout": "IPY_MODEL_292326dafc1a432bb7090422f837520e",
       "style": "IPY_MODEL_7731cf6fd2cc46d6ad56572abb50a544",
       "tooltips": [
        "uncompressed",
        "tar"
       ]
      }
     },
     "07edcc94f7804881b8fdce9f42b12966": {
      "model_module": "@jupyter-widgets/controls",
      "model_module_version": "2.0.0",
      "model_name": "ButtonStyleModel",
      "state": {
       "font_family": null,
       "font_size": null,
       "font_style": null,
       "font_variant": null,
       "font_weight": null,
       "text_color": null,
       "text_decoration": null
      }
     },
     "09038e27df1f4660a12c05ecef3fe33e": {
      "model_module": "@jupyter-widgets/controls",
      "model_module_version": "2.0.0",
      "model_name": "TextStyleModel",
      "state": {
       "description_width": "",
       "font_size": null,
       "text_color": null
      }
     },
     "0aa9161903eb40278125a5fe9e00492d": {
      "model_module": "@jupyter-widgets/controls",
      "model_module_version": "2.0.0",
      "model_name": "ButtonModel",
      "state": {
       "description": "Cancel",
       "layout": "IPY_MODEL_49f20a81caf148b0973fa27d51ce3c36",
       "style": "IPY_MODEL_ca27587bea444df7b2ab2babc050fc95",
       "tooltip": "Cancel download"
      }
     },
     "0bfa4496669c4b7b8b660a15f547e36b": {
      "model_module": "@jupyter-widgets/output",
      "model_module_version": "1.0.0",
      "model_name": "OutputModel",
      "state": {
       "layout": "IPY_MODEL_ae8a40d0a3874f3caddb42ad0edf68a7"
      }
     },
     "0c09be7d8636454c92e2168a36d092f4": {
      "model_module": "@jupyter-widgets/controls",
      "model_module_version": "2.0.0",
      "model_name": "ButtonModel",
      "state": {
       "description": "Change Download Location",
       "layout": "IPY_MODEL_21512cd98df94f0196873012d8370a87",
       "style": "IPY_MODEL_c55c2ab329754d3c9ca37d7c7604c92b",
       "tooltip": "Change the download path"
      }
     },
     "0da7739a27474212aabfbf56de219b3f": {
      "model_module": "@jupyter-widgets/controls",
      "model_module_version": "2.0.0",
      "model_name": "TextStyleModel",
      "state": {
       "description_width": "initial",
       "font_size": null,
       "text_color": null
      }
     },
     "0fa58fdddcdf4a0ca48712bb16d0955a": {
      "model_module": "@jupyter-widgets/base",
      "model_module_version": "2.0.0",
      "model_name": "LayoutModel",
      "state": {}
     },
     "108f4aed61ea46ff9fe99812a80c1f1a": {
      "model_module": "@jupyter-widgets/controls",
      "model_module_version": "2.0.0",
      "model_name": "TextModel",
      "state": {
       "description": "Download Location:",
       "disabled": true,
       "layout": "IPY_MODEL_426a43fd9fbd4b6f82d27aacabbb3a67",
       "placeholder": "",
       "style": "IPY_MODEL_7884eb30eb014c73a5b5c904f6011f91",
       "value": "/Users/jduffy0121/Desktop/Comet-Research"
      }
     },
     "115be333232446099fc15aa6e51da472": {
      "model_module": "@jupyter-widgets/controls",
      "model_module_version": "2.0.0",
      "model_name": "ButtonStyleModel",
      "state": {
       "font_family": null,
       "font_size": null,
       "font_style": null,
       "font_variant": null,
       "font_weight": null,
       "text_color": null,
       "text_decoration": null
      }
     },
     "11ef2ab9486c420998a251785812dc7c": {
      "model_module": "@jupyter-widgets/base",
      "model_module_version": "2.0.0",
      "model_name": "LayoutModel",
      "state": {}
     },
     "137285361e5e499d8eaa716506407de2": {
      "model_module": "@jupyter-widgets/base",
      "model_module_version": "2.0.0",
      "model_name": "LayoutModel",
      "state": {}
     },
     "14295384abc74c8e95a23a06233fe640": {
      "model_module": "@jupyter-widgets/base",
      "model_module_version": "2.0.0",
      "model_name": "LayoutModel",
      "state": {}
     },
     "15aa3333053b4911b2f87d86b74a2aeb": {
      "model_module": "@jupyter-widgets/base",
      "model_module_version": "2.0.0",
      "model_name": "LayoutModel",
      "state": {}
     },
     "17271ac2010842ce8c184df9163b37bf": {
      "model_module": "@jupyter-widgets/controls",
      "model_module_version": "2.0.0",
      "model_name": "SelectMultipleModel",
      "state": {
       "_options_labels": [
        "auxil",
        "bat",
        "xrt",
        "uvot",
        "log"
       ],
       "description": "File Type(s)",
       "index": [
        3
       ],
       "layout": "IPY_MODEL_de31a27989d74ab58d8038f3f500eb94",
       "rows": 5,
       "style": "IPY_MODEL_58b7142d44474c2aa7d780cb8729092a"
      }
     },
     "19acc65266db48309ce687aa80b729af": {
      "model_module": "@jupyter-widgets/controls",
      "model_module_version": "2.0.0",
      "model_name": "ButtonStyleModel",
      "state": {
       "font_family": null,
       "font_size": null,
       "font_style": null,
       "font_variant": null,
       "font_weight": null,
       "text_color": null,
       "text_decoration": null
      }
     },
     "1a2effb40d944318b170458b7bb9356d": {
      "model_module": "@jupyter-widgets/output",
      "model_module_version": "1.0.0",
      "model_name": "OutputModel",
      "state": {
       "layout": "IPY_MODEL_9103c430a8bb4205b9687f82e32c22e4",
       "outputs": [
        {
         "name": "stdout",
         "output_type": "stream",
         "text": "\nNo files downloaded\n\n----------------------------------------------------------------------------------------------------\n"
        }
       ]
      }
     },
     "1abe89c421a74698900b45e0617f540a": {
      "model_module": "@jupyter-widgets/controls",
      "model_module_version": "2.0.0",
      "model_name": "TextModel",
      "state": {
       "description": "Search Term:",
       "layout": "IPY_MODEL_02227010163f4a128808008a30f8dc09",
       "placeholder": "",
       "style": "IPY_MODEL_779aac015c414454b63b04fec0e91299",
       "value": "C/2013US10CatalinaOrbit4Ptg2"
      }
     },
     "1b1c69a108a14cb9829bb1d2ac92320b": {
      "model_module": "@jupyter-widgets/controls",
      "model_module_version": "2.0.0",
      "model_name": "CheckboxModel",
      "state": {
       "description": "Skip already downloaded files",
       "disabled": true,
       "indent": false,
       "layout": "IPY_MODEL_2f789ee941974ebd99d0c41041494fb2",
       "style": "IPY_MODEL_aeabacbd2dd948afb02297886be6e12d",
       "value": true
      }
     },
     "1ef0212902354256ad348dea7523ab31": {
      "model_module": "@jupyter-widgets/controls",
      "model_module_version": "2.0.0",
      "model_name": "TextStyleModel",
      "state": {
       "description_width": "initial",
       "font_size": null,
       "text_color": null
      }
     },
     "1efa825a815249538f5614fe12cfb64c": {
      "model_module": "@jupyter-widgets/output",
      "model_module_version": "1.0.0",
      "model_name": "OutputModel",
      "state": {
       "layout": "IPY_MODEL_e92c95602da7490386366c9c248d697b"
      }
     },
     "21064efe8ac9408d8d2c4abaad41a46f": {
      "model_module": "@jupyter-widgets/controls",
      "model_module_version": "2.0.0",
      "model_name": "ButtonStyleModel",
      "state": {
       "font_family": null,
       "font_size": null,
       "font_style": null,
       "font_variant": null,
       "font_weight": null,
       "text_color": null,
       "text_decoration": null
      }
     },
     "2121951ac8204a04b546adfd42a7cfbe": {
      "model_module": "@jupyter-widgets/base",
      "model_module_version": "2.0.0",
      "model_name": "LayoutModel",
      "state": {}
     },
     "21512cd98df94f0196873012d8370a87": {
      "model_module": "@jupyter-widgets/base",
      "model_module_version": "2.0.0",
      "model_name": "LayoutModel",
      "state": {
       "width": "200px"
      }
     },
     "230f59defbbd46eda8decfdda64801b5": {
      "model_module": "@jupyter-widgets/controls",
      "model_module_version": "2.0.0",
      "model_name": "ButtonStyleModel",
      "state": {
       "font_family": null,
       "font_size": null,
       "font_style": null,
       "font_variant": null,
       "font_weight": null,
       "text_color": null,
       "text_decoration": null
      }
     },
     "23a3f58e1ffa4fb0801fcffe99c0377d": {
      "model_module": "@jupyter-widgets/output",
      "model_module_version": "1.0.0",
      "model_name": "OutputModel",
      "state": {
       "layout": "IPY_MODEL_d185cb96b4d34baf9f999cfdf9358a3c"
      }
     },
     "24228b8083d745f5b5616f4c785e134c": {
      "model_module": "@jupyter-widgets/output",
      "model_module_version": "1.0.0",
      "model_name": "OutputModel",
      "state": {
       "layout": "IPY_MODEL_b41038102bea428385a521fae624cb42",
       "outputs": [
        {
         "name": "stdout",
         "output_type": "stream",
         "text": "----------------------------------------------------------------------------------------------------\n\nFound the following data for the search term 'Catalina':\n\n----------------------------------------------------------------------------------------------------\n\nName of observation: CometC/2013US10(Catalina)                     Total number of observations: 6\n\nName of observation: CometC/2013US10Catalina                       Total number of observations: 25\n\nName of observation: C/2013US10(Catalina)                          Total number of observations: 60\n\nName of observation: C/2013USCatalina                              Total number of observations: 5\n\nName of observation: C/2013US10CatalinaOrbit2                      Total number of observations: 2\n\nName of observation: C/2013US10CatalinaOrbit2Ptg2                  Total number of observations: 1\n\nName of observation: C/2013US10CatalinaOrbit3                      Total number of observations: 5\n\nName of observation: C/2013US10CatalinaOrbit4                      Total number of observations: 2\n\nName of observation: C/2013US10CatalinaOrbit4Ptg2                  Total number of observations: 1\n\nName of observation: CometCatalinaOrbit1                           Total number of observations: 5\n\nName of observation: CometCatalinaOrbit2                           Total number of observations: 3\n\nName of observation: CometCatalinaOrbit3                           Total number of observations: 5\n\nName of observation: CometCatalinaOrbit4                           Total number of observations: 3\n\nName of observation: C/2013US10Catalina                            Total number of observations: 9\n\nName of observation: Comet2013US10Catalina                         Total number of observations: 9\n\n----------------------------------------------------------------------------------------------------\nConfirm or cancel the download of all files above to the following path: /Users/jduffy0121/Desktop\n\n"
        },
        {
         "data": {
          "application/vnd.jupyter.widget-view+json": {
           "model_id": "cd862d989ce449a5ac52a85b296d5e82",
           "version_major": 2,
           "version_minor": 0
          },
          "text/plain": "Button(description='Confirm', style=ButtonStyle(), tooltip='Confirm download')"
         },
         "metadata": {},
         "output_type": "display_data"
        },
        {
         "data": {
          "application/vnd.jupyter.widget-view+json": {
           "model_id": "935b8c364e324ccaae5511bd6c8df496",
           "version_major": 2,
           "version_minor": 0
          },
          "text/plain": "Output()"
         },
         "metadata": {},
         "output_type": "display_data"
        },
        {
         "data": {
          "application/vnd.jupyter.widget-view+json": {
           "model_id": "d76c609823fc47de923cd9ec2fab7728",
           "version_major": 2,
           "version_minor": 0
          },
          "text/plain": "Button(description='Cancel', style=ButtonStyle(), tooltip='Cancel download')"
         },
         "metadata": {},
         "output_type": "display_data"
        },
        {
         "data": {
          "application/vnd.jupyter.widget-view+json": {
           "model_id": "935b8c364e324ccaae5511bd6c8df496",
           "version_major": 2,
           "version_minor": 0
          },
          "text/plain": "Output()"
         },
         "metadata": {},
         "output_type": "display_data"
        },
        {
         "name": "stdout",
         "output_type": "stream",
         "text": "----------------------------------------------------------------------------------------------------\n"
        }
       ]
      }
     },
     "25a2b139a49f4717b3dcc50cc312cbac": {
      "model_module": "@jupyter-widgets/controls",
      "model_module_version": "2.0.0",
      "model_name": "CheckboxStyleModel",
      "state": {
       "description_width": ""
      }
     },
     "25db43ed4e34484dadba6b57b80eabc4": {
      "model_module": "@jupyter-widgets/controls",
      "model_module_version": "2.0.0",
      "model_name": "ButtonModel",
      "state": {
       "description": "Cancel",
       "disabled": true,
       "layout": "IPY_MODEL_ae18ed0fd3c4450fbc7dce75876d844f",
       "style": "IPY_MODEL_cd05df09cac04251a0d640f3da686a90",
       "tooltip": "Cancel download"
      }
     },
     "292326dafc1a432bb7090422f837520e": {
      "model_module": "@jupyter-widgets/base",
      "model_module_version": "2.0.0",
      "model_name": "LayoutModel",
      "state": {}
     },
     "29cc42833f5641beb496f2709ed0c134": {
      "model_module": "@jupyter-widgets/controls",
      "model_module_version": "2.0.0",
      "model_name": "ButtonModel",
      "state": {
       "description": "Search Archives",
       "layout": "IPY_MODEL_ce581d4e4f1d4af28f0581b4a660f0f0",
       "style": "IPY_MODEL_36202f84ca25476e89aa6a2acd46b312",
       "tooltip": "Search the Swift archives"
      }
     },
     "2af1e2deb80a454d9710452ef80ee1f9": {
      "model_module": "@jupyter-widgets/controls",
      "model_module_version": "2.0.0",
      "model_name": "ButtonStyleModel",
      "state": {
       "font_family": null,
       "font_size": null,
       "font_style": null,
       "font_variant": null,
       "font_weight": null,
       "text_color": null,
       "text_decoration": null
      }
     },
     "2d48237714aa46a3b40a638773b9d64f": {
      "model_module": "@jupyter-widgets/base",
      "model_module_version": "2.0.0",
      "model_name": "LayoutModel",
      "state": {}
     },
     "2f789ee941974ebd99d0c41041494fb2": {
      "model_module": "@jupyter-widgets/base",
      "model_module_version": "2.0.0",
      "model_name": "LayoutModel",
      "state": {}
     },
     "306e745a39a54e94a01c6fa82d10efbc": {
      "model_module": "@jupyter-widgets/output",
      "model_module_version": "1.0.0",
      "model_name": "OutputModel",
      "state": {
       "layout": "IPY_MODEL_11ef2ab9486c420998a251785812dc7c"
      }
     },
     "3139588bcf514213a7acb4fd3b1c3856": {
      "model_module": "@jupyter-widgets/base",
      "model_module_version": "2.0.0",
      "model_name": "LayoutModel",
      "state": {}
     },
     "327bb334f16c4fbda2feb807a986ee2a": {
      "model_module": "@jupyter-widgets/base",
      "model_module_version": "2.0.0",
      "model_name": "LayoutModel",
      "state": {}
     },
     "32ef34806cb14794a8ae72165dc085f3": {
      "model_module": "@jupyter-widgets/controls",
      "model_module_version": "2.0.0",
      "model_name": "ButtonStyleModel",
      "state": {
       "font_family": null,
       "font_size": null,
       "font_style": null,
       "font_variant": null,
       "font_weight": null,
       "text_color": null,
       "text_decoration": null
      }
     },
     "34eb98037d4c43d7b7a29b6ed3d82545": {
      "model_module": "@jupyter-widgets/controls",
      "model_module_version": "2.0.0",
      "model_name": "TextModel",
      "state": {
       "description": "Search Term:",
       "disabled": true,
       "layout": "IPY_MODEL_dda34446485844498a0c99f7efb51f33",
       "placeholder": "",
       "style": "IPY_MODEL_a39e6a72ba7b4dc7b3b2f126e7cbcc90",
       "value": "Catalina"
      }
     },
     "36202f84ca25476e89aa6a2acd46b312": {
      "model_module": "@jupyter-widgets/controls",
      "model_module_version": "2.0.0",
      "model_name": "ButtonStyleModel",
      "state": {
       "font_family": null,
       "font_size": null,
       "font_style": null,
       "font_variant": null,
       "font_weight": null,
       "text_color": null,
       "text_decoration": null
      }
     },
     "39ba50846ad8405087c26674e2b8ddfb": {
      "model_module": "@jupyter-widgets/base",
      "model_module_version": "2.0.0",
      "model_name": "LayoutModel",
      "state": {}
     },
     "3a77d580f48543c5b776d5b1e3d99a1b": {
      "model_module": "@jupyter-widgets/output",
      "model_module_version": "1.0.0",
      "model_name": "OutputModel",
      "state": {
       "layout": "IPY_MODEL_7307bc0b89874968a2f755496ea3662b"
      }
     },
     "3b3c8c2572de43d39a149523281314da": {
      "model_module": "@jupyter-widgets/controls",
      "model_module_version": "2.0.0",
      "model_name": "ButtonStyleModel",
      "state": {
       "font_family": null,
       "font_size": null,
       "font_style": null,
       "font_variant": null,
       "font_weight": null,
       "text_color": null,
       "text_decoration": null
      }
     },
     "3bb165e310034a35b4b7727a80cfbc9c": {
      "model_module": "@jupyter-widgets/controls",
      "model_module_version": "2.0.0",
      "model_name": "ToggleButtonsStyleModel",
      "state": {
       "button_width": "",
       "description_width": ""
      }
     },
     "3fb37bf2895243c39826bde6a4eee511": {
      "model_module": "@jupyter-widgets/controls",
      "model_module_version": "2.0.0",
      "model_name": "ButtonModel",
      "state": {
       "description": "Search Archives",
       "layout": "IPY_MODEL_9d4a57e1350148ca8c9f152410b003d9",
       "style": "IPY_MODEL_9116b98dfb7944c7ad099b3fbae778cc",
       "tooltip": "Search the Swift archives"
      }
     },
     "410e7e65b3ad4398a8bb7f352bce2ad2": {
      "model_module": "@jupyter-widgets/output",
      "model_module_version": "1.0.0",
      "model_name": "OutputModel",
      "state": {
       "layout": "IPY_MODEL_c2ed3e2463094d92b612f51f7f2d0db3"
      }
     },
     "415b5751be9f4f0fb2889fe51f8e2389": {
      "model_module": "@jupyter-widgets/base",
      "model_module_version": "2.0.0",
      "model_name": "LayoutModel",
      "state": {}
     },
     "426a43fd9fbd4b6f82d27aacabbb3a67": {
      "model_module": "@jupyter-widgets/base",
      "model_module_version": "2.0.0",
      "model_name": "LayoutModel",
      "state": {
       "width": "500px"
      }
     },
     "44a04ad633b64aa28f0469a218f82c59": {
      "model_module": "@jupyter-widgets/controls",
      "model_module_version": "2.0.0",
      "model_name": "TextModel",
      "state": {
       "description": "Download Location:",
       "disabled": true,
       "layout": "IPY_MODEL_c05459365ed1444fbd998e916ade173b",
       "placeholder": "",
       "style": "IPY_MODEL_c8c081f71da64104a01536a1d9d2cf52",
       "value": "/Users/jduffy0121/Desktop"
      }
     },
     "44a9a5265e6c4de1b958cb95a7806daa": {
      "model_module": "@jupyter-widgets/base",
      "model_module_version": "2.0.0",
      "model_name": "LayoutModel",
      "state": {}
     },
     "45967101204448fabcab547cf65e7f41": {
      "model_module": "@jupyter-widgets/base",
      "model_module_version": "2.0.0",
      "model_name": "LayoutModel",
      "state": {}
     },
     "49e95ddef7ac473bbd043f984551a8e8": {
      "model_module": "@jupyter-widgets/base",
      "model_module_version": "2.0.0",
      "model_name": "LayoutModel",
      "state": {
       "width": "200px"
      }
     },
     "49f20a81caf148b0973fa27d51ce3c36": {
      "model_module": "@jupyter-widgets/base",
      "model_module_version": "2.0.0",
      "model_name": "LayoutModel",
      "state": {}
     },
     "4afd7d423c6546dd95db5728c97fbd4b": {
      "model_module": "@jupyter-widgets/output",
      "model_module_version": "1.0.0",
      "model_name": "OutputModel",
      "state": {
       "layout": "IPY_MODEL_8d2fe43f1f2b44b3902d88113175ceaa"
      }
     },
     "4c01180a64894f32bcee5dbaf08b741e": {
      "model_module": "@jupyter-widgets/controls",
      "model_module_version": "2.0.0",
      "model_name": "TextModel",
      "state": {
       "description": "Download Location:",
       "disabled": true,
       "layout": "IPY_MODEL_f225c55619b241ef8d57f14f21fa7046",
       "placeholder": "",
       "style": "IPY_MODEL_1ef0212902354256ad348dea7523ab31",
       "value": "/Users/jduffy0121/Desktop/Comet-Research"
      }
     },
     "4e31ebc5909a4ce9b1678b23de5770dd": {
      "model_module": "@jupyter-widgets/base",
      "model_module_version": "2.0.0",
      "model_name": "LayoutModel",
      "state": {}
     },
     "51e7b9ead46049b28bfec85458bf7be3": {
      "model_module": "@jupyter-widgets/base",
      "model_module_version": "2.0.0",
      "model_name": "LayoutModel",
      "state": {}
     },
     "534d509017b44608b8260abbc3b50247": {
      "model_module": "@jupyter-widgets/controls",
      "model_module_version": "2.0.0",
      "model_name": "ButtonModel",
      "state": {
       "description": "Change Download Location",
       "layout": "IPY_MODEL_c194c2d326064cba92b5fdd0ff5579d7",
       "style": "IPY_MODEL_68490d0ec0ca4042905f6ccc01b3adc0",
       "tooltip": "Change the download path"
      }
     },
     "546512d9de4747368e4c03c7cd36b949": {
      "model_module": "@jupyter-widgets/controls",
      "model_module_version": "2.0.0",
      "model_name": "ButtonStyleModel",
      "state": {
       "font_family": null,
       "font_size": null,
       "font_style": null,
       "font_variant": null,
       "font_weight": null,
       "text_color": null,
       "text_decoration": null
      }
     },
     "56a39661bb3644c08c8f3323082f21ef": {
      "model_module": "@jupyter-widgets/controls",
      "model_module_version": "2.0.0",
      "model_name": "CheckboxModel",
      "state": {
       "description": "Skip already downloaded files",
       "disabled": false,
       "indent": false,
       "layout": "IPY_MODEL_8dce156f25e342b5affe07a5c15ab43c",
       "style": "IPY_MODEL_98aee20049eb4ca4b70a64ba0b291d69",
       "value": true
      }
     },
     "584c724bd6ca4fcba1312f7b2203a352": {
      "model_module": "@jupyter-widgets/base",
      "model_module_version": "2.0.0",
      "model_name": "LayoutModel",
      "state": {}
     },
     "587520c7062641b0bef4594e182cd93c": {
      "model_module": "@jupyter-widgets/controls",
      "model_module_version": "2.0.0",
      "model_name": "ButtonModel",
      "state": {
       "description": "Search Archives",
       "layout": "IPY_MODEL_99c5b452c73343fea51497e5a21738e6",
       "style": "IPY_MODEL_19acc65266db48309ce687aa80b729af",
       "tooltip": "Search the Swift archives"
      }
     },
     "589784f5ffa04201ab22453ce48bcb8b": {
      "model_module": "@jupyter-widgets/base",
      "model_module_version": "2.0.0",
      "model_name": "LayoutModel",
      "state": {}
     },
     "58b7142d44474c2aa7d780cb8729092a": {
      "model_module": "@jupyter-widgets/controls",
      "model_module_version": "2.0.0",
      "model_name": "DescriptionStyleModel",
      "state": {
       "description_width": ""
      }
     },
     "5bfe580d015d477590eb73aa9a800a52": {
      "model_module": "@jupyter-widgets/base",
      "model_module_version": "2.0.0",
      "model_name": "LayoutModel",
      "state": {}
     },
     "5c095e396fe141fe9e4a7b9c5a525155": {
      "model_module": "@jupyter-widgets/base",
      "model_module_version": "2.0.0",
      "model_name": "LayoutModel",
      "state": {}
     },
     "5cd6d56ea9ee416499812cc2130b4edb": {
      "model_module": "@jupyter-widgets/controls",
      "model_module_version": "2.0.0",
      "model_name": "ButtonModel",
      "state": {
       "description": "Change Download Location",
       "layout": "IPY_MODEL_cd3308e51bee4ec39e2772d0210a345f",
       "style": "IPY_MODEL_b5edd23ebba743dcbf47db6ba2af9a01",
       "tooltip": "Change the download path"
      }
     },
     "5d997956c6784862820c4d2fc479b2c4": {
      "model_module": "@jupyter-widgets/base",
      "model_module_version": "2.0.0",
      "model_name": "LayoutModel",
      "state": {}
     },
     "61a3e2537e2b40bc9e2246948e526293": {
      "model_module": "@jupyter-widgets/controls",
      "model_module_version": "2.0.0",
      "model_name": "ToggleButtonsStyleModel",
      "state": {
       "button_width": "",
       "description_width": ""
      }
     },
     "61a81cf0c30e48e88bed36d9ad712f33": {
      "model_module": "@jupyter-widgets/controls",
      "model_module_version": "2.0.0",
      "model_name": "DescriptionStyleModel",
      "state": {
       "description_width": ""
      }
     },
     "6305859bd70141b8b73d79de1aea03d3": {
      "model_module": "@jupyter-widgets/controls",
      "model_module_version": "2.0.0",
      "model_name": "TextModel",
      "state": {
       "description": "Search Term:",
       "layout": "IPY_MODEL_9cb9ffffbd9845f7a657263967647ee3",
       "placeholder": "",
       "style": "IPY_MODEL_96028110b3094887a7e54fcb746460ee"
      }
     },
     "630ea6668dc74982a98fa5435e930597": {
      "model_module": "@jupyter-widgets/output",
      "model_module_version": "1.0.0",
      "model_name": "OutputModel",
      "state": {
       "layout": "IPY_MODEL_15aa3333053b4911b2f87d86b74a2aeb"
      }
     },
     "66ed9aea39ce486a947eaa9f664dfb1f": {
      "model_module": "@jupyter-widgets/controls",
      "model_module_version": "2.0.0",
      "model_name": "ButtonStyleModel",
      "state": {
       "font_family": null,
       "font_size": null,
       "font_style": null,
       "font_variant": null,
       "font_weight": null,
       "text_color": null,
       "text_decoration": null
      }
     },
     "67068b56da8b43afb203d4d57aa97286": {
      "model_module": "@jupyter-widgets/controls",
      "model_module_version": "2.0.0",
      "model_name": "ButtonStyleModel",
      "state": {
       "font_family": null,
       "font_size": null,
       "font_style": null,
       "font_variant": null,
       "font_weight": null,
       "text_color": null,
       "text_decoration": null
      }
     },
     "6779883870514220b57cc3b27367a863": {
      "model_module": "@jupyter-widgets/controls",
      "model_module_version": "2.0.0",
      "model_name": "ToggleButtonsModel",
      "state": {
       "_options_labels": [
        "tar",
        "uncompressed"
       ],
       "button_style": "",
       "description": "Download Type:",
       "icons": [],
       "index": 0,
       "layout": "IPY_MODEL_e35338537e7a403daac201ae6e396939",
       "style": "IPY_MODEL_e0aa4d526012480eb824a6a438449d02",
       "tooltips": [
        "uncompressed",
        "tar"
       ]
      }
     },
     "67d0e17b98e0429581b6f217ae46ae49": {
      "model_module": "@jupyter-widgets/base",
      "model_module_version": "2.0.0",
      "model_name": "LayoutModel",
      "state": {}
     },
     "68490d0ec0ca4042905f6ccc01b3adc0": {
      "model_module": "@jupyter-widgets/controls",
      "model_module_version": "2.0.0",
      "model_name": "ButtonStyleModel",
      "state": {
       "font_family": null,
       "font_size": null,
       "font_style": null,
       "font_variant": null,
       "font_weight": null,
       "text_color": null,
       "text_decoration": null
      }
     },
     "6e125732040e4dddb1339e750b5f4269": {
      "model_module": "@jupyter-widgets/output",
      "model_module_version": "1.0.0",
      "model_name": "OutputModel",
      "state": {
       "layout": "IPY_MODEL_137285361e5e499d8eaa716506407de2"
      }
     },
     "6f370bb37fa3497481307a042ba94a77": {
      "model_module": "@jupyter-widgets/base",
      "model_module_version": "2.0.0",
      "model_name": "LayoutModel",
      "state": {
       "width": "500px"
      }
     },
     "7307bc0b89874968a2f755496ea3662b": {
      "model_module": "@jupyter-widgets/base",
      "model_module_version": "2.0.0",
      "model_name": "LayoutModel",
      "state": {}
     },
     "7380ca179fcd4716b77e39f64427ec9f": {
      "model_module": "@jupyter-widgets/controls",
      "model_module_version": "2.0.0",
      "model_name": "ButtonModel",
      "state": {
       "description": "Confirm",
       "layout": "IPY_MODEL_327bb334f16c4fbda2feb807a986ee2a",
       "style": "IPY_MODEL_21064efe8ac9408d8d2c4abaad41a46f",
       "tooltip": "Confirm download"
      }
     },
     "73ec0d4afd864ff0a72611d91cba7e8a": {
      "model_module": "@jupyter-widgets/controls",
      "model_module_version": "2.0.0",
      "model_name": "ToggleButtonsModel",
      "state": {
       "_options_labels": [
        "tar",
        "uncompressed"
       ],
       "button_style": "",
       "description": "Download Type:",
       "disabled": true,
       "icons": [],
       "index": 0,
       "layout": "IPY_MODEL_aee52d3b10c744e8afdd31b2f96f1ec5",
       "style": "IPY_MODEL_8351ef84e4e94138ac849da2bfec8290",
       "tooltips": [
        "uncompressed",
        "tar"
       ]
      }
     },
     "7731cf6fd2cc46d6ad56572abb50a544": {
      "model_module": "@jupyter-widgets/controls",
      "model_module_version": "2.0.0",
      "model_name": "ToggleButtonsStyleModel",
      "state": {
       "button_width": "",
       "description_width": ""
      }
     },
     "779aac015c414454b63b04fec0e91299": {
      "model_module": "@jupyter-widgets/controls",
      "model_module_version": "2.0.0",
      "model_name": "TextStyleModel",
      "state": {
       "description_width": "",
       "font_size": null,
       "text_color": null
      }
     },
     "77a0ce7c072249d88f40e6736d6b8ef3": {
      "model_module": "@jupyter-widgets/output",
      "model_module_version": "1.0.0",
      "model_name": "OutputModel",
      "state": {
       "layout": "IPY_MODEL_da490b6183164052af42396554ecaba7"
      }
     },
     "7884eb30eb014c73a5b5c904f6011f91": {
      "model_module": "@jupyter-widgets/controls",
      "model_module_version": "2.0.0",
      "model_name": "TextStyleModel",
      "state": {
       "description_width": "initial",
       "font_size": null,
       "text_color": null
      }
     },
     "7a1a9763d85c4468b29804c8e5203cb7": {
      "model_module": "@jupyter-widgets/controls",
      "model_module_version": "2.0.0",
      "model_name": "ButtonModel",
      "state": {
       "description": "Cancel",
       "layout": "IPY_MODEL_67d0e17b98e0429581b6f217ae46ae49",
       "style": "IPY_MODEL_66ed9aea39ce486a947eaa9f664dfb1f",
       "tooltip": "Cancel download"
      }
     },
     "7c5f0480a1194ef8bbc08fd800259a52": {
      "model_module": "@jupyter-widgets/controls",
      "model_module_version": "2.0.0",
      "model_name": "DescriptionStyleModel",
      "state": {
       "description_width": ""
      }
     },
     "7d0f0092a01a457181782135cf483bb7": {
      "model_module": "@jupyter-widgets/output",
      "model_module_version": "1.0.0",
      "model_name": "OutputModel",
      "state": {
       "layout": "IPY_MODEL_44a9a5265e6c4de1b958cb95a7806daa"
      }
     },
     "812d422a29884158809aad79b3b0e63d": {
      "model_module": "@jupyter-widgets/base",
      "model_module_version": "2.0.0",
      "model_name": "LayoutModel",
      "state": {
       "width": "500px"
      }
     },
     "8351ef84e4e94138ac849da2bfec8290": {
      "model_module": "@jupyter-widgets/controls",
      "model_module_version": "2.0.0",
      "model_name": "ToggleButtonsStyleModel",
      "state": {
       "button_width": "",
       "description_width": ""
      }
     },
     "83e12c0ba5124c76992f5bfa2bdc707d": {
      "model_module": "@jupyter-widgets/base",
      "model_module_version": "2.0.0",
      "model_name": "LayoutModel",
      "state": {}
     },
     "84393bc01206436d9d34b513cc3da302": {
      "model_module": "@jupyter-widgets/output",
      "model_module_version": "1.0.0",
      "model_name": "OutputModel",
      "state": {
       "layout": "IPY_MODEL_3139588bcf514213a7acb4fd3b1c3856"
      }
     },
     "85988fa750a24f57933bcc7ceed4a747": {
      "model_module": "@jupyter-widgets/controls",
      "model_module_version": "2.0.0",
      "model_name": "ButtonModel",
      "state": {
       "description": "Search Archives",
       "layout": "IPY_MODEL_51e7b9ead46049b28bfec85458bf7be3",
       "style": "IPY_MODEL_e08014e15000414fbd7c681ba6c34a87",
       "tooltip": "Search the Swift archives"
      }
     },
     "8621d417947642bdb695c121beb8c0f4": {
      "model_module": "@jupyter-widgets/output",
      "model_module_version": "1.0.0",
      "model_name": "OutputModel",
      "state": {
       "layout": "IPY_MODEL_9c60e5f1536244128c27fbd0076b9b1a",
       "outputs": [
        {
         "name": "stdout",
         "output_type": "stream",
         "text": "----------------------------------------------------------------------------------------------------\n\nFound a single data file for the search term 'C/2013US10CatalinaOrbit4Ptg2':\n\n----------------------------------------------------------------------------------------------------\n\nName of observation: C/2013US10CatalinaOrbit4Ptg2                  Total number of observations: 1\n\n----------------------------------------------------------------------------------------------------\nConfirm or cancel the download of the single file above to the directory /Users/jduffy0121/Desktop/Comet-Research\n\n"
        },
        {
         "data": {
          "application/vnd.jupyter.widget-view+json": {
           "model_id": "a0c0ce0e43824b8da9634596be9f48bd",
           "version_major": 2,
           "version_minor": 0
          },
          "text/plain": "Button(description='Confirm', style=ButtonStyle(), tooltip='Confirm download')"
         },
         "metadata": {},
         "output_type": "display_data"
        },
        {
         "data": {
          "application/vnd.jupyter.widget-view+json": {
           "model_id": "7d0f0092a01a457181782135cf483bb7",
           "version_major": 2,
           "version_minor": 0
          },
          "text/plain": "Output()"
         },
         "metadata": {},
         "output_type": "display_data"
        },
        {
         "data": {
          "application/vnd.jupyter.widget-view+json": {
           "model_id": "25db43ed4e34484dadba6b57b80eabc4",
           "version_major": 2,
           "version_minor": 0
          },
          "text/plain": "Button(description='Cancel', style=ButtonStyle(), tooltip='Cancel download')"
         },
         "metadata": {},
         "output_type": "display_data"
        },
        {
         "data": {
          "application/vnd.jupyter.widget-view+json": {
           "model_id": "7d0f0092a01a457181782135cf483bb7",
           "version_major": 2,
           "version_minor": 0
          },
          "text/plain": "Output()"
         },
         "metadata": {},
         "output_type": "display_data"
        },
        {
         "name": "stdout",
         "output_type": "stream",
         "text": "----------------------------------------------------------------------------------------------------\n\nNo files downloaded\n\n----------------------------------------------------------------------------------------------------\n"
        }
       ]
      }
     },
     "8d2fe43f1f2b44b3902d88113175ceaa": {
      "model_module": "@jupyter-widgets/base",
      "model_module_version": "2.0.0",
      "model_name": "LayoutModel",
      "state": {}
     },
     "8d7e5d3de40049cb98c6f6e94ef0ba06": {
      "model_module": "@jupyter-widgets/output",
      "model_module_version": "1.0.0",
      "model_name": "OutputModel",
      "state": {
       "layout": "IPY_MODEL_83e12c0ba5124c76992f5bfa2bdc707d"
      }
     },
     "8dce156f25e342b5affe07a5c15ab43c": {
      "model_module": "@jupyter-widgets/base",
      "model_module_version": "2.0.0",
      "model_name": "LayoutModel",
      "state": {}
     },
     "8f3b0a0805f242c59b6e4bae440379bb": {
      "model_module": "@jupyter-widgets/controls",
      "model_module_version": "2.0.0",
      "model_name": "TextStyleModel",
      "state": {
       "description_width": "",
       "font_size": null,
       "text_color": null
      }
     },
     "8fa0e0ca339f42108a274227a353ad31": {
      "model_module": "@jupyter-widgets/controls",
      "model_module_version": "2.0.0",
      "model_name": "ToggleButtonsModel",
      "state": {
       "_options_labels": [
        "tar",
        "uncompressed"
       ],
       "button_style": "",
       "description": "Download Type:",
       "icons": [],
       "index": 0,
       "layout": "IPY_MODEL_b01c8e2bb299476e944fa7941a562ab6",
       "style": "IPY_MODEL_61a3e2537e2b40bc9e2246948e526293",
       "tooltips": [
        "uncompressed",
        "tar"
       ]
      }
     },
     "9103c430a8bb4205b9687f82e32c22e4": {
      "model_module": "@jupyter-widgets/base",
      "model_module_version": "2.0.0",
      "model_name": "LayoutModel",
      "state": {}
     },
     "9116b98dfb7944c7ad099b3fbae778cc": {
      "model_module": "@jupyter-widgets/controls",
      "model_module_version": "2.0.0",
      "model_name": "ButtonStyleModel",
      "state": {
       "font_family": null,
       "font_size": null,
       "font_style": null,
       "font_variant": null,
       "font_weight": null,
       "text_color": null,
       "text_decoration": null
      }
     },
     "91c42de031f244e785b5cc83a7384f3d": {
      "model_module": "@jupyter-widgets/base",
      "model_module_version": "2.0.0",
      "model_name": "LayoutModel",
      "state": {}
     },
     "927dc8231e9f4f74833c0dabdbc63775": {
      "model_module": "@jupyter-widgets/output",
      "model_module_version": "1.0.0",
      "model_name": "OutputModel",
      "state": {
       "layout": "IPY_MODEL_b6a553d85f194b5280f341ba7f3db7b3"
      }
     },
     "935b8c364e324ccaae5511bd6c8df496": {
      "model_module": "@jupyter-widgets/output",
      "model_module_version": "1.0.0",
      "model_name": "OutputModel",
      "state": {
       "layout": "IPY_MODEL_589784f5ffa04201ab22453ce48bcb8b"
      }
     },
     "96028110b3094887a7e54fcb746460ee": {
      "model_module": "@jupyter-widgets/controls",
      "model_module_version": "2.0.0",
      "model_name": "TextStyleModel",
      "state": {
       "description_width": "",
       "font_size": null,
       "text_color": null
      }
     },
     "97d9ddfb6a7c4082af2fc5ba5b5389f4": {
      "model_module": "@jupyter-widgets/controls",
      "model_module_version": "2.0.0",
      "model_name": "DescriptionStyleModel",
      "state": {
       "description_width": ""
      }
     },
     "98aaf9294a2649029b8a49bbe0b838bd": {
      "model_module": "@jupyter-widgets/controls",
      "model_module_version": "2.0.0",
      "model_name": "SelectMultipleModel",
      "state": {
       "_options_labels": [
        "auxil",
        "bat",
        "xrt",
        "uvot",
        "log"
       ],
       "description": "File Type(s)",
       "index": [
        3
       ],
       "layout": "IPY_MODEL_b2835c2a888546abbd00cd2c7ba90d8e",
       "rows": 5,
       "style": "IPY_MODEL_61a81cf0c30e48e88bed36d9ad712f33"
      }
     },
     "98aee20049eb4ca4b70a64ba0b291d69": {
      "model_module": "@jupyter-widgets/controls",
      "model_module_version": "2.0.0",
      "model_name": "CheckboxStyleModel",
      "state": {
       "description_width": ""
      }
     },
     "99c5b452c73343fea51497e5a21738e6": {
      "model_module": "@jupyter-widgets/base",
      "model_module_version": "2.0.0",
      "model_name": "LayoutModel",
      "state": {}
     },
     "9c60e5f1536244128c27fbd0076b9b1a": {
      "model_module": "@jupyter-widgets/base",
      "model_module_version": "2.0.0",
      "model_name": "LayoutModel",
      "state": {}
     },
     "9c75f5db9ffb437da1dcb4c20ebb569b": {
      "model_module": "@jupyter-widgets/controls",
      "model_module_version": "2.0.0",
      "model_name": "TextModel",
      "state": {
       "description": "Download Location:",
       "disabled": true,
       "layout": "IPY_MODEL_812d422a29884158809aad79b3b0e63d",
       "placeholder": "",
       "style": "IPY_MODEL_f0b258d34cee48198563b8c3249ba4f8",
       "value": "/Users/jduffy0121/Desktop/Comet-Research"
      }
     },
     "9cb9ffffbd9845f7a657263967647ee3": {
      "model_module": "@jupyter-widgets/base",
      "model_module_version": "2.0.0",
      "model_name": "LayoutModel",
      "state": {}
     },
     "9d4a57e1350148ca8c9f152410b003d9": {
      "model_module": "@jupyter-widgets/base",
      "model_module_version": "2.0.0",
      "model_name": "LayoutModel",
      "state": {}
     },
     "9e4e9f9fc4c04468947b9066638f65a3": {
      "model_module": "@jupyter-widgets/base",
      "model_module_version": "2.0.0",
      "model_name": "LayoutModel",
      "state": {}
     },
     "a08ed29a492146898cbbae8be5c5c2ec": {
      "model_module": "@jupyter-widgets/controls",
      "model_module_version": "2.0.0",
      "model_name": "DescriptionStyleModel",
      "state": {
       "description_width": ""
      }
     },
     "a0c0ce0e43824b8da9634596be9f48bd": {
      "model_module": "@jupyter-widgets/controls",
      "model_module_version": "2.0.0",
      "model_name": "ButtonModel",
      "state": {
       "description": "Confirm",
       "disabled": true,
       "layout": "IPY_MODEL_9e4e9f9fc4c04468947b9066638f65a3",
       "style": "IPY_MODEL_115be333232446099fc15aa6e51da472",
       "tooltip": "Confirm download"
      }
     },
     "a2171533c5774a289416107026eb3648": {
      "model_module": "@jupyter-widgets/controls",
      "model_module_version": "2.0.0",
      "model_name": "ButtonModel",
      "state": {
       "description": "Change Download Location",
       "disabled": true,
       "layout": "IPY_MODEL_49e95ddef7ac473bbd043f984551a8e8",
       "style": "IPY_MODEL_230f59defbbd46eda8decfdda64801b5",
       "tooltip": "Change the download path"
      }
     },
     "a32f5b50de4041b29f367d269f1ad05d": {
      "model_module": "@jupyter-widgets/controls",
      "model_module_version": "2.0.0",
      "model_name": "CheckboxModel",
      "state": {
       "description": "Skip already downloaded files",
       "disabled": false,
       "indent": false,
       "layout": "IPY_MODEL_4e31ebc5909a4ce9b1678b23de5770dd",
       "style": "IPY_MODEL_f5f49260a29546e38d6c0da9a0d1d817",
       "value": true
      }
     },
     "a39e6a72ba7b4dc7b3b2f126e7cbcc90": {
      "model_module": "@jupyter-widgets/controls",
      "model_module_version": "2.0.0",
      "model_name": "TextStyleModel",
      "state": {
       "description_width": "",
       "font_size": null,
       "text_color": null
      }
     },
     "a9b5fd7c5cb7472d8bd588795489d5e4": {
      "model_module": "@jupyter-widgets/base",
      "model_module_version": "2.0.0",
      "model_name": "LayoutModel",
      "state": {}
     },
     "adbc8f7b2b8146b0aa9fee8f9437663e": {
      "model_module": "@jupyter-widgets/controls",
      "model_module_version": "2.0.0",
      "model_name": "ButtonModel",
      "state": {
       "description": "Search Archives",
       "disabled": true,
       "layout": "IPY_MODEL_d13179434ee04d4cb436f6b5f754be31",
       "style": "IPY_MODEL_32ef34806cb14794a8ae72165dc085f3",
       "tooltip": "Search the Swift archives"
      }
     },
     "ae18ed0fd3c4450fbc7dce75876d844f": {
      "model_module": "@jupyter-widgets/base",
      "model_module_version": "2.0.0",
      "model_name": "LayoutModel",
      "state": {}
     },
     "ae7545ba054649c1b45f4b47b31f8b90": {
      "model_module": "@jupyter-widgets/output",
      "model_module_version": "1.0.0",
      "model_name": "OutputModel",
      "state": {
       "layout": "IPY_MODEL_e9c657b415e04062b7ebcbe812d7426c"
      }
     },
     "ae8a40d0a3874f3caddb42ad0edf68a7": {
      "model_module": "@jupyter-widgets/base",
      "model_module_version": "2.0.0",
      "model_name": "LayoutModel",
      "state": {}
     },
     "aeabacbd2dd948afb02297886be6e12d": {
      "model_module": "@jupyter-widgets/controls",
      "model_module_version": "2.0.0",
      "model_name": "CheckboxStyleModel",
      "state": {
       "description_width": ""
      }
     },
     "aee52d3b10c744e8afdd31b2f96f1ec5": {
      "model_module": "@jupyter-widgets/base",
      "model_module_version": "2.0.0",
      "model_name": "LayoutModel",
      "state": {}
     },
     "afdcb3cae8614f3fbe99c24f469616df": {
      "model_module": "@jupyter-widgets/output",
      "model_module_version": "1.0.0",
      "model_name": "OutputModel",
      "state": {
       "layout": "IPY_MODEL_584c724bd6ca4fcba1312f7b2203a352"
      }
     },
     "b01c8e2bb299476e944fa7941a562ab6": {
      "model_module": "@jupyter-widgets/base",
      "model_module_version": "2.0.0",
      "model_name": "LayoutModel",
      "state": {}
     },
     "b1241fa88d2c4f2f8ee27b1e90880fd3": {
      "model_module": "@jupyter-widgets/controls",
      "model_module_version": "2.0.0",
      "model_name": "ButtonStyleModel",
      "state": {
       "font_family": null,
       "font_size": null,
       "font_style": null,
       "font_variant": null,
       "font_weight": null,
       "text_color": null,
       "text_decoration": null
      }
     },
     "b2835c2a888546abbd00cd2c7ba90d8e": {
      "model_module": "@jupyter-widgets/base",
      "model_module_version": "2.0.0",
      "model_name": "LayoutModel",
      "state": {}
     },
     "b41038102bea428385a521fae624cb42": {
      "model_module": "@jupyter-widgets/base",
      "model_module_version": "2.0.0",
      "model_name": "LayoutModel",
      "state": {}
     },
     "b5edd23ebba743dcbf47db6ba2af9a01": {
      "model_module": "@jupyter-widgets/controls",
      "model_module_version": "2.0.0",
      "model_name": "ButtonStyleModel",
      "state": {
       "font_family": null,
       "font_size": null,
       "font_style": null,
       "font_variant": null,
       "font_weight": null,
       "text_color": null,
       "text_decoration": null
      }
     },
     "b6a553d85f194b5280f341ba7f3db7b3": {
      "model_module": "@jupyter-widgets/base",
      "model_module_version": "2.0.0",
      "model_name": "LayoutModel",
      "state": {}
     },
     "b83a8f7ea2c946e082b4d5d282e19bff": {
      "model_module": "@jupyter-widgets/controls",
      "model_module_version": "2.0.0",
      "model_name": "SelectMultipleModel",
      "state": {
       "_options_labels": [
        "auxil",
        "bat",
        "xrt",
        "uvot",
        "log"
       ],
       "description": "File Type(s)",
       "index": [
        3
       ],
       "layout": "IPY_MODEL_45967101204448fabcab547cf65e7f41",
       "rows": 5,
       "style": "IPY_MODEL_7c5f0480a1194ef8bbc08fd800259a52"
      }
     },
     "babca533c1af45e2be49a3a308b58269": {
      "model_module": "@jupyter-widgets/output",
      "model_module_version": "1.0.0",
      "model_name": "OutputModel",
      "state": {
       "layout": "IPY_MODEL_f3b4c1409dd94cd29ca8e1c79215ae96"
      }
     },
     "bcea034af25f44cc887c7614a289028f": {
      "model_module": "@jupyter-widgets/controls",
      "model_module_version": "2.0.0",
      "model_name": "ButtonModel",
      "state": {
       "description": "Change Download Location",
       "layout": "IPY_MODEL_cf0811a6915f4907a69e52612481b9f0",
       "style": "IPY_MODEL_07edcc94f7804881b8fdce9f42b12966",
       "tooltip": "Change the download path"
      }
     },
     "c05459365ed1444fbd998e916ade173b": {
      "model_module": "@jupyter-widgets/base",
      "model_module_version": "2.0.0",
      "model_name": "LayoutModel",
      "state": {
       "width": "500px"
      }
     },
     "c194c2d326064cba92b5fdd0ff5579d7": {
      "model_module": "@jupyter-widgets/base",
      "model_module_version": "2.0.0",
      "model_name": "LayoutModel",
      "state": {
       "width": "200px"
      }
     },
     "c1f73d7910f44278aba054480dd7c18e": {
      "model_module": "@jupyter-widgets/controls",
      "model_module_version": "2.0.0",
      "model_name": "SelectMultipleModel",
      "state": {
       "_options_labels": [
        "auxil",
        "bat",
        "xrt",
        "uvot",
        "log"
       ],
       "description": "File Type(s)",
       "disabled": true,
       "index": [
        3
       ],
       "layout": "IPY_MODEL_01c1eab7b1184556b41a7133df5d3693",
       "rows": 5,
       "style": "IPY_MODEL_97d9ddfb6a7c4082af2fc5ba5b5389f4"
      }
     },
     "c2d32174db9c4726a5572848b8319ec5": {
      "model_module": "@jupyter-widgets/controls",
      "model_module_version": "2.0.0",
      "model_name": "SelectMultipleModel",
      "state": {
       "_options_labels": [
        "auxil",
        "bat",
        "xrt",
        "uvot",
        "log"
       ],
       "description": "File Type(s)",
       "index": [
        3
       ],
       "layout": "IPY_MODEL_fef397284c3a40a59f655226b5cdd747",
       "rows": 5,
       "style": "IPY_MODEL_a08ed29a492146898cbbae8be5c5c2ec"
      }
     },
     "c2ed3e2463094d92b612f51f7f2d0db3": {
      "model_module": "@jupyter-widgets/base",
      "model_module_version": "2.0.0",
      "model_name": "LayoutModel",
      "state": {}
     },
     "c3183014368e43fe92df7cf19141f7bf": {
      "model_module": "@jupyter-widgets/base",
      "model_module_version": "2.0.0",
      "model_name": "LayoutModel",
      "state": {}
     },
     "c55c2ab329754d3c9ca37d7c7604c92b": {
      "model_module": "@jupyter-widgets/controls",
      "model_module_version": "2.0.0",
      "model_name": "ButtonStyleModel",
      "state": {
       "font_family": null,
       "font_size": null,
       "font_style": null,
       "font_variant": null,
       "font_weight": null,
       "text_color": null,
       "text_decoration": null
      }
     },
     "c623eeacf80e4b4d8a76bf94e34771ab": {
      "model_module": "@jupyter-widgets/controls",
      "model_module_version": "2.0.0",
      "model_name": "ButtonModel",
      "state": {
       "description": "Confirm",
       "disabled": true,
       "layout": "IPY_MODEL_5bfe580d015d477590eb73aa9a800a52",
       "style": "IPY_MODEL_67068b56da8b43afb203d4d57aa97286",
       "tooltip": "Confirm download"
      }
     },
     "c8c081f71da64104a01536a1d9d2cf52": {
      "model_module": "@jupyter-widgets/controls",
      "model_module_version": "2.0.0",
      "model_name": "TextStyleModel",
      "state": {
       "description_width": "initial",
       "font_size": null,
       "text_color": null
      }
     },
     "ca27587bea444df7b2ab2babc050fc95": {
      "model_module": "@jupyter-widgets/controls",
      "model_module_version": "2.0.0",
      "model_name": "ButtonStyleModel",
      "state": {
       "font_family": null,
       "font_size": null,
       "font_style": null,
       "font_variant": null,
       "font_weight": null,
       "text_color": null,
       "text_decoration": null
      }
     },
     "cd05df09cac04251a0d640f3da686a90": {
      "model_module": "@jupyter-widgets/controls",
      "model_module_version": "2.0.0",
      "model_name": "ButtonStyleModel",
      "state": {
       "font_family": null,
       "font_size": null,
       "font_style": null,
       "font_variant": null,
       "font_weight": null,
       "text_color": null,
       "text_decoration": null
      }
     },
     "cd3308e51bee4ec39e2772d0210a345f": {
      "model_module": "@jupyter-widgets/base",
      "model_module_version": "2.0.0",
      "model_name": "LayoutModel",
      "state": {
       "width": "200px"
      }
     },
     "cd862d989ce449a5ac52a85b296d5e82": {
      "model_module": "@jupyter-widgets/controls",
      "model_module_version": "2.0.0",
      "model_name": "ButtonModel",
      "state": {
       "description": "Confirm",
       "layout": "IPY_MODEL_a9b5fd7c5cb7472d8bd588795489d5e4",
       "style": "IPY_MODEL_2af1e2deb80a454d9710452ef80ee1f9",
       "tooltip": "Confirm download"
      }
     },
     "cdfbc528a0694603b7680ef8d304df0a": {
      "model_module": "@jupyter-widgets/base",
      "model_module_version": "2.0.0",
      "model_name": "LayoutModel",
      "state": {}
     },
     "ce581d4e4f1d4af28f0581b4a660f0f0": {
      "model_module": "@jupyter-widgets/base",
      "model_module_version": "2.0.0",
      "model_name": "LayoutModel",
      "state": {}
     },
     "cf0811a6915f4907a69e52612481b9f0": {
      "model_module": "@jupyter-widgets/base",
      "model_module_version": "2.0.0",
      "model_name": "LayoutModel",
      "state": {
       "width": "200px"
      }
     },
     "d10d75a1a7944084b60d1eb67d98f56f": {
      "model_module": "@jupyter-widgets/base",
      "model_module_version": "2.0.0",
      "model_name": "LayoutModel",
      "state": {}
     },
     "d13179434ee04d4cb436f6b5f754be31": {
      "model_module": "@jupyter-widgets/base",
      "model_module_version": "2.0.0",
      "model_name": "LayoutModel",
      "state": {}
     },
     "d185cb96b4d34baf9f999cfdf9358a3c": {
      "model_module": "@jupyter-widgets/base",
      "model_module_version": "2.0.0",
      "model_name": "LayoutModel",
      "state": {}
     },
     "d50fd0fc203840e3bffca37fd821da8c": {
      "model_module": "@jupyter-widgets/controls",
      "model_module_version": "2.0.0",
      "model_name": "CheckboxStyleModel",
      "state": {
       "description_width": ""
      }
     },
     "d76c609823fc47de923cd9ec2fab7728": {
      "model_module": "@jupyter-widgets/controls",
      "model_module_version": "2.0.0",
      "model_name": "ButtonModel",
      "state": {
       "description": "Cancel",
       "layout": "IPY_MODEL_0fa58fdddcdf4a0ca48712bb16d0955a",
       "style": "IPY_MODEL_546512d9de4747368e4c03c7cd36b949",
       "tooltip": "Cancel download"
      }
     },
     "d7a6d901e6d741fcaa3643a579cb93af": {
      "model_module": "@jupyter-widgets/output",
      "model_module_version": "1.0.0",
      "model_name": "OutputModel",
      "state": {
       "layout": "IPY_MODEL_2121951ac8204a04b546adfd42a7cfbe"
      }
     },
     "da490b6183164052af42396554ecaba7": {
      "model_module": "@jupyter-widgets/base",
      "model_module_version": "2.0.0",
      "model_name": "LayoutModel",
      "state": {}
     },
     "dda34446485844498a0c99f7efb51f33": {
      "model_module": "@jupyter-widgets/base",
      "model_module_version": "2.0.0",
      "model_name": "LayoutModel",
      "state": {}
     },
     "de31a27989d74ab58d8038f3f500eb94": {
      "model_module": "@jupyter-widgets/base",
      "model_module_version": "2.0.0",
      "model_name": "LayoutModel",
      "state": {}
     },
     "e0012cc0a3f6484387a86a2ab4f0dc16": {
      "model_module": "@jupyter-widgets/output",
      "model_module_version": "1.0.0",
      "model_name": "OutputModel",
      "state": {
       "layout": "IPY_MODEL_39ba50846ad8405087c26674e2b8ddfb"
      }
     },
     "e08014e15000414fbd7c681ba6c34a87": {
      "model_module": "@jupyter-widgets/controls",
      "model_module_version": "2.0.0",
      "model_name": "ButtonStyleModel",
      "state": {
       "font_family": null,
       "font_size": null,
       "font_style": null,
       "font_variant": null,
       "font_weight": null,
       "text_color": null,
       "text_decoration": null
      }
     },
     "e0aa4d526012480eb824a6a438449d02": {
      "model_module": "@jupyter-widgets/controls",
      "model_module_version": "2.0.0",
      "model_name": "ToggleButtonsStyleModel",
      "state": {
       "button_width": "",
       "description_width": ""
      }
     },
     "e1b9560a35bc4dbeac57f17beeefc2d5": {
      "model_module": "@jupyter-widgets/output",
      "model_module_version": "1.0.0",
      "model_name": "OutputModel",
      "state": {
       "layout": "IPY_MODEL_cdfbc528a0694603b7680ef8d304df0a"
      }
     },
     "e35338537e7a403daac201ae6e396939": {
      "model_module": "@jupyter-widgets/base",
      "model_module_version": "2.0.0",
      "model_name": "LayoutModel",
      "state": {}
     },
     "e37da7153fb94fe98dc98bfeae03ca6f": {
      "model_module": "@jupyter-widgets/controls",
      "model_module_version": "2.0.0",
      "model_name": "ToggleButtonsModel",
      "state": {
       "_options_labels": [
        "tar",
        "uncompressed"
       ],
       "button_style": "",
       "description": "Download Type:",
       "icons": [],
       "index": 0,
       "layout": "IPY_MODEL_d10d75a1a7944084b60d1eb67d98f56f",
       "style": "IPY_MODEL_3bb165e310034a35b4b7727a80cfbc9c",
       "tooltips": [
        "uncompressed",
        "tar"
       ]
      }
     },
     "e4d6bcc278a24a16a12fbcacf7a39d99": {
      "model_module": "@jupyter-widgets/controls",
      "model_module_version": "2.0.0",
      "model_name": "ButtonModel",
      "state": {
       "description": "Confirm",
       "layout": "IPY_MODEL_5c095e396fe141fe9e4a7b9c5a525155",
       "style": "IPY_MODEL_3b3c8c2572de43d39a149523281314da",
       "tooltip": "Confirm download"
      }
     },
     "e92c95602da7490386366c9c248d697b": {
      "model_module": "@jupyter-widgets/base",
      "model_module_version": "2.0.0",
      "model_name": "LayoutModel",
      "state": {}
     },
     "e9c657b415e04062b7ebcbe812d7426c": {
      "model_module": "@jupyter-widgets/base",
      "model_module_version": "2.0.0",
      "model_name": "LayoutModel",
      "state": {}
     },
     "ebadd311e595487c93d9f83732af888a": {
      "model_module": "@jupyter-widgets/controls",
      "model_module_version": "2.0.0",
      "model_name": "TextModel",
      "state": {
       "description": "Search Term:",
       "layout": "IPY_MODEL_415b5751be9f4f0fb2889fe51f8e2389",
       "placeholder": "",
       "style": "IPY_MODEL_8f3b0a0805f242c59b6e4bae440379bb"
      }
     },
     "f0b258d34cee48198563b8c3249ba4f8": {
      "model_module": "@jupyter-widgets/controls",
      "model_module_version": "2.0.0",
      "model_name": "TextStyleModel",
      "state": {
       "description_width": "initial",
       "font_size": null,
       "text_color": null
      }
     },
     "f225c55619b241ef8d57f14f21fa7046": {
      "model_module": "@jupyter-widgets/base",
      "model_module_version": "2.0.0",
      "model_name": "LayoutModel",
      "state": {
       "width": "500px"
      }
     },
     "f2ed2c4c8b4d4e0290236e1987fb3372": {
      "model_module": "@jupyter-widgets/controls",
      "model_module_version": "2.0.0",
      "model_name": "CheckboxModel",
      "state": {
       "description": "Skip already downloaded files",
       "disabled": false,
       "indent": false,
       "layout": "IPY_MODEL_5d997956c6784862820c4d2fc479b2c4",
       "style": "IPY_MODEL_d50fd0fc203840e3bffca37fd821da8c",
       "value": true
      }
     },
     "f3b4c1409dd94cd29ca8e1c79215ae96": {
      "model_module": "@jupyter-widgets/base",
      "model_module_version": "2.0.0",
      "model_name": "LayoutModel",
      "state": {}
     },
     "f5f49260a29546e38d6c0da9a0d1d817": {
      "model_module": "@jupyter-widgets/controls",
      "model_module_version": "2.0.0",
      "model_name": "CheckboxStyleModel",
      "state": {
       "description_width": ""
      }
     },
     "f80c0d61185c4eccb6a16d6282783c1c": {
      "model_module": "@jupyter-widgets/controls",
      "model_module_version": "2.0.0",
      "model_name": "CheckboxModel",
      "state": {
       "description": "Skip already downloaded files",
       "disabled": false,
       "indent": false,
       "layout": "IPY_MODEL_fdaf688f1de94634b63ff54ec20b3e97",
       "style": "IPY_MODEL_25a2b139a49f4717b3dcc50cc312cbac",
       "value": true
      }
     },
     "f8fb94bed6394731bd23de02ad4dd15c": {
      "model_module": "@jupyter-widgets/controls",
      "model_module_version": "2.0.0",
      "model_name": "TextModel",
      "state": {
       "description": "Download Location:",
       "disabled": true,
       "layout": "IPY_MODEL_6f370bb37fa3497481307a042ba94a77",
       "placeholder": "",
       "style": "IPY_MODEL_0da7739a27474212aabfbf56de219b3f",
       "value": "/Users/jduffy0121/Desktop/Comet-Research"
      }
     },
     "fa41cc2e07c04184a1e187539fc5143f": {
      "model_module": "@jupyter-widgets/output",
      "model_module_version": "1.0.0",
      "model_name": "OutputModel",
      "state": {
       "layout": "IPY_MODEL_c3183014368e43fe92df7cf19141f7bf"
      }
     },
     "fdaf688f1de94634b63ff54ec20b3e97": {
      "model_module": "@jupyter-widgets/base",
      "model_module_version": "2.0.0",
      "model_name": "LayoutModel",
      "state": {}
     },
     "fe194c1d806a4c119bf2c2c645111713": {
      "model_module": "@jupyter-widgets/controls",
      "model_module_version": "2.0.0",
      "model_name": "ButtonModel",
      "state": {
       "description": "Cancel",
       "layout": "IPY_MODEL_91c42de031f244e785b5cc83a7384f3d",
       "style": "IPY_MODEL_b1241fa88d2c4f2f8ee27b1e90880fd3",
       "tooltip": "Cancel download"
      }
     },
     "fef397284c3a40a59f655226b5cdd747": {
      "model_module": "@jupyter-widgets/base",
      "model_module_version": "2.0.0",
      "model_name": "LayoutModel",
      "state": {}
     }
    },
    "version_major": 2,
    "version_minor": 0
   }
  }
 },
 "nbformat": 4,
 "nbformat_minor": 5
}
