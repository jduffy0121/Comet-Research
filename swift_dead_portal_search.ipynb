{
 "cells": [
  {
   "cell_type": "code",
   "execution_count": null,
   "id": "5aa8e090-4545-48be-818f-2f671b77de58",
   "metadata": {
    "tags": []
   },
   "outputs": [],
   "source": [
    "import pathlib\n",
    "import requests\n",
    "import subprocess\n",
    "import os\n",
    "import ipywidgets as widgets\n",
    "\n",
    "from dataclasses import dataclass\n",
    "from bs4 import BeautifulSoup\n",
    "from typing import List, Tuple\n",
    "from urllib.parse import urlparse"
   ]
  },
  {
   "cell_type": "code",
   "execution_count": 122,
   "id": "a0e7bafe-0072-4fa7-84dd-9c1198a8795c",
   "metadata": {},
   "outputs": [],
   "source": [
    "# data class to manage reading and passing the data around to methods\n",
    "#\n",
    "# -----------------------------------------------Parameters-----------------------------------------------\n",
    "#\n",
    "# search_term: string of striped result that user puts into the search box\n",
    "# download_type: string result that user selects as their download type, download_type are ['uncompressed', 'tar', 'zip']\n",
    "# dtype_list: list of strings that represent all the data being downloaded, dtype_list are ['auxil', 'bat', 'xrt', 'uvot', 'log']\n",
    "# overwrite: bool representing the to either overwrite a file if it alreadys exist\n",
    "# dest_dir: path to store all downloaded files\n",
    "# page_html: raw string literal of the html page\n",
    "# search_soup: parse of the page_html to easier nagivate and search through it (using the BeautifulSoup class)\n",
    "# search_type: string value representing if the server found 0 results, 1 result, or 2+ results as each has a different html\n",
    "# tlist: list of type Tuple (for 2+ results) or type string (for 1 result) that contains all tname(s) and tid(s) to download\n",
    "# tname(s): string(s) representing the target name found on the search page\n",
    "# tid(s): string(s) representing the 8 digit long target identification number for each target found in tnames\n",
    "#\n",
    "# --------------------------------------------------------------------------------------------------------\n",
    "\n",
    "@dataclass\n",
    "class SearchInfo:\n",
    "    search_term: str\n",
    "    download_type: str\n",
    "    dtype_list: list\n",
    "    overwrite: bool\n",
    "    dest_dir: str\n",
    "    page_html: str\n",
    "    search_soup: str\n",
    "    search_type: str\n",
    "    tlist: list"
   ]
  },
  {
   "cell_type": "code",
   "execution_count": null,
   "id": "6a2c06af-6224-4440-b067-35d6cb49da20",
   "metadata": {
    "tags": []
   },
   "outputs": [],
   "source": [
    "def get_swift_wget_commands(tid: str, dtype: str, overwrite: bool) -> List[str]:\n",
    "\n",
    "    # for any given target id, there may be multiple observations in their own directories,\n",
    "    # with the naming scheme {target id}001/, {target id}002/, etc.\n",
    "    # so we let the server give us the appropriate wget commands because it knows how\n",
    "    # many observations each target id has\n",
    "    \n",
    "    if overwrite is False:\n",
    "        overwrite_option = '-nc'\n",
    "    else:\n",
    "        overwrite_option = ''\n",
    "        \n",
    "    # this page returns a script with wget commands to download our data\n",
    "    base_wget_url = f'https://www.swift.ac.uk/archive/download.sh?reproc=1&tid={tid}&source=obs&subdir={dtype}'\n",
    "    wget_response = requests.get(base_wget_url)\n",
    "    wget_commands = [line for line in wget_response.text.splitlines() if 'wget' in line]\n",
    "    urls = [command.split()[-1] for command in wget_commands]\n",
    "    \n",
    "    # -nc ==> no clobber: don't replace already downloaded files\n",
    "    # -q ==> quiet mode, no output\n",
    "    # -w 2 ==> wait 2 seconds between files\n",
    "    # -nH ==> don't create a directory based on the host, in this case no folder named www.swift.ac.uk/\n",
    "    # --cut-dirs=2 ==> remove the /archive/reproc/ folders on the server from being created locally\n",
    "    # -r ==> recursive: grab everything under this folder on the server\n",
    "    # --reject ... ==> specify files that we don't want from the server\n",
    "    adjusted_wget_commands = ['wget ' + overwrite_option + ' -q -w 2 -nH --cut-dirs=2 -r --no-parent --reject index.html*,robots.txt* ' + url for url in urls]\n",
    "    \n",
    "    return adjusted_wget_commands"
   ]
  },
  {
   "cell_type": "code",
   "execution_count": null,
   "id": "ecb3d9f1-3c32-4fa1-926d-139eb570f16a",
   "metadata": {
    "tags": []
   },
   "outputs": [],
   "source": [
    "def swift_download_uncompressed(tid: str, dtype: str, dest_dir: pathlib.Path = None, overwrite: bool = False) -> None:\n",
    "    \n",
    "    # given a Swift target id and type of data, this function downloads the uncompressed\n",
    "    # data to the directory dest_dir\n",
    "    \n",
    "    # get our download commands from the server\n",
    "    wget_commands = get_swift_wget_commands(tid=tid, dtype=dtype, overwrite=overwrite)\n",
    "    if wget_commands is None:\n",
    "        print(\"No wget commands to execute, skipping downloads...\")\n",
    "        return\n",
    "    \n",
    "    # change folders if we need to\n",
    "    old_cwd = os.getcwd()\n",
    "    if dest_dir is not None:\n",
    "        os.chdir(dest_dir)\n",
    "    print(f\"Downloading {dtype} data of target id {tid} to {os.getcwd()} ...\")\n",
    "    \n",
    "    # run each command to grab the individual observations for this target id\n",
    "    for command in wget_commands:\n",
    "        presult = subprocess.run(command.split())\n",
    "        if presult.returncode != 0:\n",
    "            print(f\"Non-zero return code {presult.returncode} for {command}!\")\n",
    "    \n",
    "    # change folders back\n",
    "    os.chdir(old_cwd)"
   ]
  },
  {
   "cell_type": "code",
   "execution_count": null,
   "id": "abfbb9e9-f109-41fd-b354-e7d389f69fc0",
   "metadata": {
    "tags": []
   },
   "outputs": [],
   "source": [
    "def swift_download_compressed(tid: str, tname: str, dtype: str, archive_type: str, dest_dir: pathlib.Path, overwrite: bool = False) -> None:\n",
    "\n",
    "    \"\"\"\n",
    "        Downloads an archive of Swift data from swift.ac.uk to dest_dir\n",
    "\n",
    "        Parameters\n",
    "        ----------\n",
    "        tid : string\n",
    "            The target ID to be downloaded, e.g. '00020405'\n",
    "        tname: string\n",
    "            The name of the target, e.g. 'CometC/2031US10(Catalina)'\n",
    "        dtype: string\n",
    "            The type of data being downloaded, e.g. 'uvot'\n",
    "        archive_type: string\n",
    "            One of 'zip' or 'tar' to download the corresponding type\n",
    "        dest_dir: pathlib.Path\n",
    "            Directory to place files\n",
    "        overwrite: bool\n",
    "            Whether or not to overwrite the file if it already exists\n",
    "    \"\"\"\n",
    "    \n",
    "    # change folders if we need to\n",
    "    old_cwd = os.getcwd()\n",
    "    if dest_dir is not None:\n",
    "        os.chdir(dest_dir)\n",
    "    \n",
    "    # name the archive with the target id and data type, because the server returns 'download.tar' no matter what\n",
    "    out_file_stem = pathlib.Path(tid + f\"_{dtype}\")\n",
    "    \n",
    "    # download\n",
    "    if archive_type == 'zip':\n",
    "        print(f\"Downloading .zip archives is broken server-side so is currently unsupported.\")\n",
    "    if archive_type == 'tar':\n",
    "        swift_download_compressed_tar(tid=tid, tname=tname, dtype=dtype, out_file_stem=out_file_stem, overwrite=overwrite)\n",
    "\n",
    "    os.chdir(old_cwd)\n",
    "    return"
   ]
  },
  {
   "cell_type": "code",
   "execution_count": null,
   "id": "75942ce0-ecc3-436c-9378-fba0086308bc",
   "metadata": {
    "tags": []
   },
   "outputs": [],
   "source": [
    "def swift_download_compressed_tar(tid: str, tname: str, dtype: str, out_file_stem: pathlib.Path, overwrite: bool) -> None:\n",
    "\n",
    "    out_file = out_file_stem.with_suffix('.tar')\n",
    "    if out_file.exists() and overwrite is False:\n",
    "        print(f\"Found {str(out_file)} and overwriting was forbidden, skipping download.\")\n",
    "        return\n",
    "    \n",
    "    # build our urls and params to send the server\n",
    "    swift_referer_base_url = 'https://www.swift.ac.uk/archive/prepdata.php'\n",
    "    swift_download_portal_base_url = 'https://www.swift.ac.uk/archive/download.tar'\n",
    "\n",
    "    referer_url = f\"{swift_referer_base_url}?tid={tid}&source=obs&name={tname}&referer=portal\"\n",
    "    params = {\n",
    "        'reproc': '1',\n",
    "        'tid': tid,\n",
    "        'source': 'obs',\n",
    "        'subdir': dtype,\n",
    "    }\n",
    "\n",
    "    # lie to the server\n",
    "    request_header = {\n",
    "        'User-Agent': 'Mozilla/5.0 (Macintosh; Intel Mac OS X 10.15; rv:109.0) Gecko/20100101 Firefox/109.0',\n",
    "        'Accept': 'text/html,application/xhtml+xml,application/xml;q=0.9,image/avif,image/webp,*/*;q=0.8',\n",
    "        'Accept-Language': 'en-US,en;q=0.5',\n",
    "        'Referer': referer_url,\n",
    "        'DNT': '1',\n",
    "        'Connection': 'keep-alive',\n",
    "        'Upgrade-Insecure-Requests': '1',\n",
    "        'Sec-Fetch-Dest': 'document',\n",
    "        'Sec-Fetch-Mode': 'navigate',\n",
    "        'Sec-Fetch-Site': 'same-origin',\n",
    "        'Sec-Fetch-User': '?1',\n",
    "        'Sec-GPC': '1',\n",
    "    }\n",
    "\n",
    "    print(f\"Attempting to download {tid} of {tname} to {out_file}, please wait ...\")\n",
    "    response = requests.get(swift_download_portal_base_url, params=params, headers=request_header)\n",
    "    print(f\"Requested data from {response.url}, response code {response.status_code} ...\")\n",
    "\n",
    "    # name the output file if it wasn't passed in an argument\n",
    "    with open(out_file, 'wb') as f:\n",
    "        f.write(response.content)\n",
    "    \n",
    "    print(f\"Wrote {str(out_file)}.\")\n",
    "\n",
    "    return"
   ]
  },
  {
   "cell_type": "code",
   "execution_count": 107,
   "id": "50574bda-b583-422e-9420-fe2510f685d7",
   "metadata": {},
   "outputs": [],
   "source": [
    "def search_page() -> None:\n",
    "    global SearchClass\n",
    "    # construct the search url\n",
    "    base_search_url = 'https://www.swift.ac.uk/dead_portal/getobject.php'\n",
    "    search_url = base_search_url + '?name=' + SearchClass.search_term + '&submit=Search+Names'\n",
    "    \n",
    "    # download the search page and parse it\n",
    "    SearchClass.page_html = requests.get(search_url)\n",
    "    SearchClass.search_soup = BeautifulSoup(SearchClass.page_html.text, features=\"lxml\")"
   ]
  },
  {
   "cell_type": "code",
   "execution_count": 102,
   "id": "e44ec729-f551-4cb7-a464-5f348632c105",
   "metadata": {},
   "outputs": [],
   "source": [
    "def results_type() -> str:\n",
    "    global SearchClass\n",
    "    # reads the html to see if the page showed that there is no results by displaying the string \n",
    "    # find() will return -1 if that exact string is not found     \n",
    "    if(SearchClass.search_soup.get_text().find('No entry found in the database with object name matching') != -1):\n",
    "        print(f'Unable to find any search results for \\'{SearchClass.search_term}\\'. \\nPlease try again.')\n",
    "        return '0 results'\n",
    "    elif(SearchClass.search_soup.get_text().find('Download archive data') != -1):\n",
    "        return '1 result'\n",
    "    else:\n",
    "        return '2 or more results'"
   ]
  },
  {
   "cell_type": "code",
   "execution_count": 97,
   "id": "b1069a9b-6c67-4ed0-9e27-43c5dba51ae0",
   "metadata": {},
   "outputs": [],
   "source": [
    "def get_single_tlist() -> [str, str]:\n",
    "    global SearchClass\n",
    "    string = ''\n",
    "    \n",
    "    # searches the saved soup html of the page for the tid and tname\n",
    "    page_head = str(SearchClass.search_soup.find_all('h1')[0])\n",
    "    tname = page_head[30:-5]\n",
    "    page_label = str(SearchClass.search_soup.find_all('label')[1])\n",
    "    tid = page_label[29:37]\n",
    "    \n",
    "    print(f'\\nFound a single data file for the search term \\'{SearchClass.search_term}\\':\\n')\n",
    "    print(string.ljust(100, '-'))\n",
    "    print()\n",
    "    print(f'Name of observation: {tname} \\t\\t Total number of observations: 1\\n')\n",
    "    print(string.ljust(100, '-'))\n",
    "    print(f'Select one of the following:\\n\\n\\t\\t0\\tDownload the data file listed above to {SearchClass.dest_dir}\\n\\t\\t1\\tCancel download\\n')\n",
    "    \n",
    "    # returns the tname and tid as a list\n",
    "    return [tname, tid]"
   ]
  },
  {
   "cell_type": "code",
   "execution_count": 116,
   "id": "50210090-8dc1-41cd-8dc4-f849d3b1a7c4",
   "metadata": {},
   "outputs": [],
   "source": [
    "def get_multi_tlists() -> List[Tuple[str, str]]:\n",
    "    global SearchClass\n",
    "    string = ''\n",
    "    \n",
    "    # get the main results table\n",
    "    results_table = SearchClass.search_soup.find(\"table\", {\"class\": \"chTable\"})\n",
    "    \n",
    "    # ignore the first row with the names of the columns, and the last row with links for all of the data\n",
    "    table_rows = results_table.find_all(\"tr\")[1:-1]\n",
    "    \n",
    "    # .contents is a list, our table has only one element in it, so take contents[0]\n",
    "    tids = [row.find(\"td\", {\"headers\": \"row_targ\"}).contents[0] for row in table_rows]\n",
    "    tnames = [row.find(\"td\", {\"headers\": \"row_name\"}).contents[0] for row in table_rows]\n",
    "    tobservations = [row.find(\"td\", {\"headers\": \"row_num\"}).contents[0] for row in table_rows]\n",
    "    \n",
    "    # create a dict to show the user the total ammount of data for each observation in tname\n",
    "    # iterates through tnames and tobservations to count the total times for each tname, storing these values in print_table\n",
    "    print_table = {}\n",
    "    i = 0\n",
    "    while i < len(table_rows):\n",
    "        print_table[f'{tnames[i]}'] = print_table.get(f'{tnames[i]}', 0) + int(tobservations[i])\n",
    "        i += 1\n",
    "    print(f'\\nFound the following data for the search term \\'{SearchClass.search_term}\\':\\n')\n",
    "    print(string.ljust(100, '-'))\n",
    "    print()\n",
    "    \n",
    "    # prints the table of files found for the user to see what their search results are\n",
    "    # cast elements in the print_table to be able to index the tname and toal tobservations separately\n",
    "    j = 0\n",
    "    while j < len(print_table):\n",
    "        print(f'Name of observation: {tuple(print_table.items())[j][0]} \\t\\t Total number of observations: {tuple(print_table.items())[j][1]}\\n')\n",
    "        j += 1\n",
    "    print(string.ljust(100, '-'))\n",
    "    print(f'Select one of the following:\\n\\n\\t\\t0\\tDownload all data listed above to {SearchClass.dest_dir}\\n\\t\\t1\\tCancel download\\n')\n",
    "    \n",
    "    # zips and returns the tids and tnames as a list of type Tuple\n",
    "    all_targets_zip = zip(tids, tnames)\n",
    "    return list(all_targets_zip)"
   ]
  },
  {
   "cell_type": "code",
   "execution_count": null,
   "id": "88aadedd-4315-41b7-948d-c1a0f21eb123",
   "metadata": {},
   "outputs": [],
   "source": [
    "def download_single_file(tlist: str, dtype_list: str, dest_dir: pathlib.Path, download_type: str, overwrite=False) -> None:\n",
    "    print()\n",
    "    string = ''\n",
    "    # downloads the file for a single result when searching\n",
    "    for dtype in dtype_list:\n",
    "        if download_type == 'uncompressed':\n",
    "            swift_download_uncompressed(tid=tlist[1], dtype=dtype, dest_dir=dest_dir, overwrite=overwrite)\n",
    "        if download_type in ['tar', 'zip']:\n",
    "            swift_download_compressed(tid=tlist[1], tname=tlist[0], dtype=dtype, archive_type=download_type, dest_dir=dest_dir, overwrite=overwrite)\n",
    "    print(f'Download Completed!\\n')\n",
    "    print(string.ljust(100, '-'))"
   ]
  },
  {
   "cell_type": "code",
   "execution_count": 99,
   "id": "6739cbb8-d36f-4650-a7e7-d68e86021eef",
   "metadata": {
    "tags": []
   },
   "outputs": [],
   "source": [
    "def download_multi_files(tlist: str, dtype_list: str, dest_dir: pathlib.Path, download_type: str, overwrite=False) -> None:\n",
    "    print()\n",
    "    string = ''\n",
    "    # downloads the files for 2+ results when searching\n",
    "    # iterates over each requested data type and observation collected from get_multi_tlists()\n",
    "    for dtype in dtype_list:\n",
    "        for tid, tname in tlist:\n",
    "            if download_type == 'uncompressed':\n",
    "                swift_download_uncompressed(tid=tid, dtype=dtype, dest_dir=dest_dir, overwrite=overwrite)\n",
    "            if download_type in ['tar', 'zip']:\n",
    "                swift_download_compressed(tid=tid, tname=tname, dtype=dtype, archive_type=download_type, dest_dir=dest_dir, overwrite=overwrite)\n",
    "    print(f'Download Completed!\\n')\n",
    "    print(string.ljust(100, '-'))"
   ]
  },
  {
   "cell_type": "code",
   "execution_count": 105,
   "id": "2a76ab4b-968a-4fd0-af81-2f6fad6fabde",
   "metadata": {},
   "outputs": [],
   "source": [
    "def confirm_button_click(button) -> None: \n",
    "    global SearchClass\n",
    "    confirm_button.disabled = True\n",
    "    selection_value.disabled = True\n",
    "    with output:\n",
    "        string = ''\n",
    "        # cancels download if user selected a 1\n",
    "        if (selection_value.value == 1):\n",
    "            print(f'\\nNo files downloaded\\n')\n",
    "            print(string.ljust(100, '-'))\n",
    "            enable_inputs()\n",
    "            return\n",
    "        # downloads files otherwise\n",
    "        if (SearchClass.search_type == '1 result'):\n",
    "            download_single_file(SearchClass.tlist, SearchClass.dtype_list, SearchClass.dest_dir, \n",
    "                                 SearchClass.download_type, SearchClass.overwrite)\n",
    "        else:\n",
    "            download_multi_files(SearchClass.tlist, SearchClass.dtype_list, SearchClass.dest_dir, \n",
    "                                 SearchClass.download_type, SearchClass.overwrite)\n",
    "    enable_inputs()"
   ]
  },
  {
   "cell_type": "code",
   "execution_count": 112,
   "id": "b9f442ce-f5f3-4e67-a96a-2fc73bea0ba3",
   "metadata": {
    "tags": []
   },
   "outputs": [],
   "source": [
    "def get_page_information() -> None:\n",
    "    global SearchClass\n",
    "    output = widgets.Output()\n",
    "    confirm_button.disabled = False\n",
    "    selection_value.disabled = False\n",
    "    string = ''\n",
    "    print(string.ljust(100, '-'))\n",
    "    \n",
    "    # gets all the results from the UI\n",
    "    SearchClass.download_type = download_box.value\n",
    "    SearchClass.dtype_list = list(dtype_box.value)\n",
    "    SearchClass.overwrite = overwrite_box.value\n",
    "    SearchClass.dest_dir = os.getcwd()\n",
    "    # dest_dir = pathlib.Path.home() / 'Downloads' / 'swift'\n",
    "    \n",
    "    # -----------------------------------------------------------------\n",
    "    # TO DO: Create a new dir for all the downloads to go into, not cwd\n",
    "    # -----------------------------------------------------------------\n",
    "    \n",
    "    # test to see if the search term is not empty\n",
    "    if(search_box.value.strip() == ''):\n",
    "        print(f'\\nNo search term entered.\\nPlease try again.\\n')\n",
    "        print(string.ljust(100, '-'))\n",
    "        enable_inputs()\n",
    "        \n",
    "    # gets page download and runs the downloads based on how many results come back (1 or 2+)\n",
    "    else:\n",
    "        # only gets the new page if the previous non empty search term stored in the data class is different \n",
    "        # than the current term in the box\n",
    "        if (search_box.value.strip() != SearchClass.search_term):\n",
    "            SearchClass.search_term = search_box.value.strip()\n",
    "            search_page()\n",
    "            \n",
    "        # reads the page to see how many results are present\n",
    "        SearchClass.search_type = results_type()\n",
    "        \n",
    "        # gets tlist from the search_soup and prints the results to the counsel \n",
    "        if (SearchClass.search_type == '1 result'):\n",
    "            SearchClass.tlist = get_single_tlist()\n",
    "        elif (SearchClass.search_type == '2 or more results'):\n",
    "            SearchClass.tlist = get_multi_tlists()\n",
    "        \n",
    "        # creates UI elements to confirm/cancel download\n",
    "        display(selection_value)\n",
    "        display(confirm_button, output)\n",
    "        print(string.ljust(100, '-'))\n",
    "        confirm_button.on_click(confirm_button_click)"
   ]
  },
  {
   "cell_type": "code",
   "execution_count": 110,
   "id": "1ce80088-6adc-4903-8504-3f8c765030c3",
   "metadata": {},
   "outputs": [],
   "source": [
    "def search_button_click(button) -> None:\n",
    "    # disables all UI input elements while running to ensure multiple searches do not happen at the same time\n",
    "    search_box.disabled = True\n",
    "    dtype_box.disabled = True\n",
    "    download_box.disabled = True\n",
    "    overwrite_box.disabled = True\n",
    "    search_button.disabled = True\n",
    "    with output:\n",
    "        get_page_information()"
   ]
  },
  {
   "cell_type": "code",
   "execution_count": 108,
   "id": "6c63a921-7f52-4343-bd05-f8f59dcdb3c0",
   "metadata": {},
   "outputs": [],
   "source": [
    "def enable_inputs() -> None:\n",
    "    # re enables all UI input elements to allow for user to attempt another download \n",
    "    search_box.disabled = False\n",
    "    dtype_box.disabled = False\n",
    "    download_box.disabled = False\n",
    "    overwrite_box.disabled = False\n",
    "    search_button.disabled = False"
   ]
  },
  {
   "cell_type": "code",
   "execution_count": 121,
   "id": "33a29656-ea00-4347-bccc-350a6eb5fd26",
   "metadata": {
    "tags": []
   },
   "outputs": [
    {
     "data": {
      "application/vnd.jupyter.widget-view+json": {
       "model_id": "9af072166ec74b9fb68c0b98945d7ccc",
       "version_major": 2,
       "version_minor": 0
      },
      "text/plain": [
       "Text(value='', description='Search Term:', placeholder='')"
      ]
     },
     "metadata": {},
     "output_type": "display_data"
    },
    {
     "data": {
      "application/vnd.jupyter.widget-view+json": {
       "model_id": "5b23d09a4689451fa842eb95b9295edf",
       "version_major": 2,
       "version_minor": 0
      },
      "text/plain": [
       "ToggleButtons(description='Download Type:', options=('uncompressed', 'tar', 'zip'), tooltips=('uncompressed', …"
      ]
     },
     "metadata": {},
     "output_type": "display_data"
    },
    {
     "data": {
      "application/vnd.jupyter.widget-view+json": {
       "model_id": "4f13efe4057648ffa8287e65fc9acd74",
       "version_major": 2,
       "version_minor": 0
      },
      "text/plain": [
       "SelectMultiple(description='File Type(s)', index=(0,), options=('auxil', 'bat', 'xrt', 'uvot', 'log'), value=(…"
      ]
     },
     "metadata": {},
     "output_type": "display_data"
    },
    {
     "data": {
      "application/vnd.jupyter.widget-view+json": {
       "model_id": "883b643edf164e508c415412cb84720d",
       "version_major": 2,
       "version_minor": 0
      },
      "text/plain": [
       "Checkbox(value=False, description='Overwrite Data', indent=False)"
      ]
     },
     "metadata": {},
     "output_type": "display_data"
    },
    {
     "data": {
      "application/vnd.jupyter.widget-view+json": {
       "model_id": "7e87654acf324334913b38488ad62820",
       "version_major": 2,
       "version_minor": 0
      },
      "text/plain": [
       "Button(description='Search Archives', style=ButtonStyle(), tooltip='Search the Swift archives')"
      ]
     },
     "metadata": {},
     "output_type": "display_data"
    },
    {
     "data": {
      "application/vnd.jupyter.widget-view+json": {
       "model_id": "e8c1abf8acd54f5cbc5ea004d75f606a",
       "version_major": 2,
       "version_minor": 0
      },
      "text/plain": [
       "Output()"
      ]
     },
     "metadata": {},
     "output_type": "display_data"
    }
   ],
   "source": [
    "# creates an empty new SearchInfo data class\n",
    "SearchClass = SearchInfo(search_term='', download_type='', dtype_list = [], overwrite=False, \n",
    "                         dest_dir='', page_html='', search_soup='', search_type='', tlist = [])\n",
    "\n",
    "# creates all UI elements using ipywidgets\n",
    "output = widgets.Output()\n",
    "search_box = widgets.Text(\n",
    "    value='',\n",
    "    placeholder='',\n",
    "    description='Search Term:',\n",
    "    disabled=False\n",
    ")\n",
    "download_box = widgets.ToggleButtons(\n",
    "    options=['uncompressed', 'tar', 'zip'],\n",
    "    description='Download Type:',\n",
    "    disabled=False,\n",
    "    tooltips=['uncompressed', 'tar', 'zip'],\n",
    ")\n",
    "dtype_box = widgets.SelectMultiple(\n",
    "    options=['auxil', 'bat', 'xrt', 'uvot', 'log'],\n",
    "    value=['auxil'],\n",
    "    description='File Type(s)',\n",
    "    disabled=False\n",
    ")\n",
    "overwrite_box = widgets.Checkbox(\n",
    "    value=False,\n",
    "    description='Overwrite Data',\n",
    "    disabled=False,\n",
    "    indent=False\n",
    ")\n",
    "search_button = widgets.Button(\n",
    "    description=\"Search Archives\",\n",
    "    disabled=False,\n",
    "    button_style='',\n",
    "    tooltip=\"Search the Swift archives\"\n",
    ")\n",
    "selection_value = widgets.Dropdown(\n",
    "    options=[('0', 0), ('1', 1)],\n",
    "    value=0,\n",
    "    description='Selection:',\n",
    "    disabled=False,\n",
    "    )\n",
    "confirm_button = widgets.Button(\n",
    "    description=\"Confirm\",\n",
    "    disabled=False,\n",
    "    button_style='',\n",
    "    tooltip=\"Confirm or cancel download\"\n",
    ")\n",
    "\n",
    "# displays the UI input elements\n",
    "display(search_box)\n",
    "display(download_box)\n",
    "display(dtype_box)\n",
    "display(overwrite_box)\n",
    "display(search_button, output)\n",
    "search_button.on_click(search_button_click)"
   ]
  }
 ],
 "metadata": {
  "kernelspec": {
   "display_name": "Python 3 (ipykernel)",
   "language": "python",
   "name": "python3"
  },
  "language_info": {
   "codemirror_mode": {
    "name": "ipython",
    "version": 3
   },
   "file_extension": ".py",
   "mimetype": "text/x-python",
   "name": "python",
   "nbconvert_exporter": "python",
   "pygments_lexer": "ipython3",
   "version": "3.9.15"
  },
  "toc-showcode": true,
  "widgets": {
   "application/vnd.jupyter.widget-state+json": {
    "state": {
     "0035d57b61084adea25a746d174cb94a": {
      "model_module": "@jupyter-widgets/controls",
      "model_module_version": "2.0.0",
      "model_name": "ButtonModel",
      "state": {
       "description": "Search Archives",
       "layout": "IPY_MODEL_21ecca539704486ca4d7c20ac54d6eca",
       "style": "IPY_MODEL_fb03d97ac9974100bea82b09b27dd475",
       "tooltip": "Search the Swift archives"
      }
     },
     "0071527ca78544beb8782eb9d2d66a02": {
      "model_module": "@jupyter-widgets/base",
      "model_module_version": "2.0.0",
      "model_name": "LayoutModel",
      "state": {}
     },
     "02542140ca064a609137785ff4e98db9": {
      "model_module": "@jupyter-widgets/controls",
      "model_module_version": "2.0.0",
      "model_name": "DropdownModel",
      "state": {
       "_options_labels": [
        "0",
        "1"
       ],
       "description": "Selection:",
       "index": 0,
       "layout": "IPY_MODEL_ba7f2e63764642ffb99b75658323d3cb",
       "style": "IPY_MODEL_df28fa5925924487884a40908e8c6629"
      }
     },
     "02a9e7ff04864ae29b1c9e36e390355c": {
      "model_module": "@jupyter-widgets/controls",
      "model_module_version": "2.0.0",
      "model_name": "DescriptionStyleModel",
      "state": {
       "description_width": ""
      }
     },
     "02db379ccba7400f9c7ae0ea87a4ffae": {
      "model_module": "@jupyter-widgets/controls",
      "model_module_version": "2.0.0",
      "model_name": "DescriptionStyleModel",
      "state": {
       "description_width": ""
      }
     },
     "035f2d86eb1144e98406aded25248c81": {
      "model_module": "@jupyter-widgets/controls",
      "model_module_version": "2.0.0",
      "model_name": "CheckboxModel",
      "state": {
       "description": "Overwrite Data",
       "disabled": false,
       "indent": false,
       "layout": "IPY_MODEL_d18f5d3946e247788b7610e99d1c3f99",
       "style": "IPY_MODEL_4ebbe415d77949cfb6139ed435b73a37",
       "value": false
      }
     },
     "03e5fc20a36f4703b648b632d3317547": {
      "model_module": "@jupyter-widgets/controls",
      "model_module_version": "2.0.0",
      "model_name": "SelectMultipleModel",
      "state": {
       "_options_labels": [
        "auxil",
        "bat",
        "xrt",
        "uvot",
        "log"
       ],
       "description": "File Type(s)",
       "index": [
        0
       ],
       "layout": "IPY_MODEL_749213385e654251864b4d18882d5fc2",
       "rows": 5,
       "style": "IPY_MODEL_9c889645410b4c4aa00b31b02c8d3b4f"
      }
     },
     "048c6e8528614d9fb127821b48729bbd": {
      "model_module": "@jupyter-widgets/base",
      "model_module_version": "2.0.0",
      "model_name": "LayoutModel",
      "state": {}
     },
     "04c4950c5acc40f895bf2be2f38a97fa": {
      "model_module": "@jupyter-widgets/controls",
      "model_module_version": "2.0.0",
      "model_name": "CheckboxModel",
      "state": {
       "description": "Overwrite Data",
       "disabled": false,
       "indent": false,
       "layout": "IPY_MODEL_a010a22111704c928decd407b3d3c252",
       "style": "IPY_MODEL_41ef6218f73643399d62e08f45eb15fa",
       "value": false
      }
     },
     "057bee7cec944a2ab58c4625a71eb9ca": {
      "model_module": "@jupyter-widgets/controls",
      "model_module_version": "2.0.0",
      "model_name": "ButtonModel",
      "state": {
       "description": "Search Archives",
       "layout": "IPY_MODEL_cf66f66280b34968be30fe5e4aee7a93",
       "style": "IPY_MODEL_a49f99fc17ff4e1e855ad7b11b38c124",
       "tooltip": "Search the Swift archives"
      }
     },
     "057cb059e32149e4ab7a18187031c304": {
      "model_module": "@jupyter-widgets/base",
      "model_module_version": "2.0.0",
      "model_name": "LayoutModel",
      "state": {}
     },
     "05b83a03688244dd9dbd9c23275b127b": {
      "model_module": "@jupyter-widgets/output",
      "model_module_version": "1.0.0",
      "model_name": "OutputModel",
      "state": {
       "layout": "IPY_MODEL_a41978e47e754ab58962df770a871936"
      }
     },
     "05c715f65b824fb883f36b6f71a2cda6": {
      "model_module": "@jupyter-widgets/base",
      "model_module_version": "2.0.0",
      "model_name": "LayoutModel",
      "state": {}
     },
     "05ec588ca03442ed9110f63b7a119670": {
      "model_module": "@jupyter-widgets/base",
      "model_module_version": "2.0.0",
      "model_name": "LayoutModel",
      "state": {}
     },
     "062b9bbc0fd24643aa2c510b5a5765a4": {
      "model_module": "@jupyter-widgets/controls",
      "model_module_version": "2.0.0",
      "model_name": "DropdownModel",
      "state": {
       "_options_labels": [
        "0",
        "1"
       ],
       "description": "Selection:",
       "index": 0,
       "layout": "IPY_MODEL_b4f7b290f2484fee81b8a9591b450fff",
       "style": "IPY_MODEL_15f01a3f69a64ac6ae97cdb584ceec2c"
      }
     },
     "07ea024cdca749028bb6b58cbe3a1bb9": {
      "model_module": "@jupyter-widgets/base",
      "model_module_version": "2.0.0",
      "model_name": "LayoutModel",
      "state": {}
     },
     "082af91cb9ce4b91991516c9e4fb11b9": {
      "model_module": "@jupyter-widgets/controls",
      "model_module_version": "2.0.0",
      "model_name": "ButtonStyleModel",
      "state": {
       "font_family": null,
       "font_size": null,
       "font_style": null,
       "font_variant": null,
       "font_weight": null,
       "text_color": null,
       "text_decoration": null
      }
     },
     "084020403c634cc7a7cade5489c2d108": {
      "model_module": "@jupyter-widgets/controls",
      "model_module_version": "2.0.0",
      "model_name": "ButtonStyleModel",
      "state": {
       "font_family": null,
       "font_size": null,
       "font_style": null,
       "font_variant": null,
       "font_weight": null,
       "text_color": null,
       "text_decoration": null
      }
     },
     "08a54126fa5544598da66a706daecdcf": {
      "model_module": "@jupyter-widgets/output",
      "model_module_version": "1.0.0",
      "model_name": "OutputModel",
      "state": {
       "layout": "IPY_MODEL_83b97c510d664397b373eb10f369269d"
      }
     },
     "097370b7ee0e44c8aecbcf2a7da7a84e": {
      "model_module": "@jupyter-widgets/base",
      "model_module_version": "2.0.0",
      "model_name": "LayoutModel",
      "state": {}
     },
     "098fa7fef1a9417bab2c4d61f553a96b": {
      "model_module": "@jupyter-widgets/controls",
      "model_module_version": "2.0.0",
      "model_name": "CheckboxStyleModel",
      "state": {
       "description_width": ""
      }
     },
     "0ab854250e534897b6320bfb29447a2e": {
      "model_module": "@jupyter-widgets/base",
      "model_module_version": "2.0.0",
      "model_name": "LayoutModel",
      "state": {}
     },
     "0b6d6a17365b455e8b2b555353fdf3bc": {
      "model_module": "@jupyter-widgets/controls",
      "model_module_version": "2.0.0",
      "model_name": "CheckboxStyleModel",
      "state": {
       "description_width": ""
      }
     },
     "0b77eb51c9b641f7aa137cf9be64d04b": {
      "model_module": "@jupyter-widgets/controls",
      "model_module_version": "2.0.0",
      "model_name": "DropdownModel",
      "state": {
       "_options_labels": [
        "0",
        "1"
       ],
       "description": "Selection:",
       "index": 0,
       "layout": "IPY_MODEL_097370b7ee0e44c8aecbcf2a7da7a84e",
       "style": "IPY_MODEL_76a3e8dced8d4e6cac69e7aa477f451c"
      }
     },
     "0be615cc69f843ecb250250745dae86b": {
      "model_module": "@jupyter-widgets/base",
      "model_module_version": "2.0.0",
      "model_name": "LayoutModel",
      "state": {}
     },
     "0bea2c41fc704cdbac89bb7b4902ccbc": {
      "model_module": "@jupyter-widgets/base",
      "model_module_version": "2.0.0",
      "model_name": "LayoutModel",
      "state": {}
     },
     "0cc1303d8a844ef7862e9ec875fd8ba3": {
      "model_module": "@jupyter-widgets/base",
      "model_module_version": "2.0.0",
      "model_name": "LayoutModel",
      "state": {}
     },
     "0d60e250258a4c91931e415a8e8df9d2": {
      "model_module": "@jupyter-widgets/controls",
      "model_module_version": "2.0.0",
      "model_name": "ButtonStyleModel",
      "state": {
       "font_family": null,
       "font_size": null,
       "font_style": null,
       "font_variant": null,
       "font_weight": null,
       "text_color": null,
       "text_decoration": null
      }
     },
     "0da7434db4a94c1a8b8acb27ef140ee0": {
      "model_module": "@jupyter-widgets/base",
      "model_module_version": "2.0.0",
      "model_name": "LayoutModel",
      "state": {}
     },
     "0fed5ed458844da1a7ca050df3be37d4": {
      "model_module": "@jupyter-widgets/controls",
      "model_module_version": "2.0.0",
      "model_name": "CheckboxStyleModel",
      "state": {
       "description_width": ""
      }
     },
     "10497ff0a1ea4e58b7c163d37e87c678": {
      "model_module": "@jupyter-widgets/base",
      "model_module_version": "2.0.0",
      "model_name": "LayoutModel",
      "state": {}
     },
     "1058ee2eed7c489ba907d2e416bf9e97": {
      "model_module": "@jupyter-widgets/base",
      "model_module_version": "2.0.0",
      "model_name": "LayoutModel",
      "state": {}
     },
     "10656dfa167c4aef9aef705cb63b18ad": {
      "model_module": "@jupyter-widgets/controls",
      "model_module_version": "2.0.0",
      "model_name": "SelectMultipleModel",
      "state": {
       "_options_labels": [
        "auxil",
        "bat",
        "xrt",
        "uvot",
        "log"
       ],
       "description": "File Type(s)",
       "index": [
        0
       ],
       "layout": "IPY_MODEL_8d6e9df92e454d7293f0514cae697d57",
       "rows": 5,
       "style": "IPY_MODEL_895f750bb83246adb3a9e2bc3249af78"
      }
     },
     "10df854376f042d9b491adada845ce19": {
      "model_module": "@jupyter-widgets/base",
      "model_module_version": "2.0.0",
      "model_name": "LayoutModel",
      "state": {}
     },
     "110e1afb201e43e0bf0f3c8607ffae4e": {
      "model_module": "@jupyter-widgets/controls",
      "model_module_version": "2.0.0",
      "model_name": "TextStyleModel",
      "state": {
       "description_width": "",
       "font_size": null,
       "text_color": null
      }
     },
     "110e2c26127349de8318c1ba16bc4bcd": {
      "model_module": "@jupyter-widgets/output",
      "model_module_version": "1.0.0",
      "model_name": "OutputModel",
      "state": {
       "layout": "IPY_MODEL_b90f7a82727c4ebdb437b36c4e7aebcb",
       "outputs": [
        {
         "data": {
          "application/vnd.jupyter.widget-view+json": {
           "model_id": "1376c1c9e7e74feca797b1a1c95c46b9",
           "version_major": 2,
           "version_minor": 0
          },
          "text/plain": "Dropdown(description='Selection:', options=(('0', 0), ('1', 1)), value=0)"
         },
         "metadata": {},
         "output_type": "display_data"
        },
        {
         "data": {
          "application/vnd.jupyter.widget-view+json": {
           "model_id": "c9c1a7ae9adb4015b74a04de0ad96157",
           "version_major": 2,
           "version_minor": 0
          },
          "text/plain": "Button(description='Confirm', style=ButtonStyle(), tooltip='Confirm download')"
         },
         "metadata": {},
         "output_type": "display_data"
        },
        {
         "data": {
          "application/vnd.jupyter.widget-view+json": {
           "model_id": "110e2c26127349de8318c1ba16bc4bcd",
           "version_major": 2,
           "version_minor": 0
          },
          "text/plain": "Output(msg_id='9c7f4293-5916-457d-802b-d5461021f60a')"
         },
         "metadata": {},
         "output_type": "display_data"
        }
       ]
      }
     },
     "1121dadcc48a493d998da43650b7f10e": {
      "model_module": "@jupyter-widgets/controls",
      "model_module_version": "2.0.0",
      "model_name": "DescriptionStyleModel",
      "state": {
       "description_width": ""
      }
     },
     "1211da12cad2421682ad4b7e7b77b755": {
      "model_module": "@jupyter-widgets/controls",
      "model_module_version": "2.0.0",
      "model_name": "DescriptionStyleModel",
      "state": {
       "description_width": ""
      }
     },
     "133dd08ffaa94b61b5cea0e1f15c4ac3": {
      "model_module": "@jupyter-widgets/controls",
      "model_module_version": "2.0.0",
      "model_name": "CheckboxStyleModel",
      "state": {
       "description_width": ""
      }
     },
     "136ac2fa9c824f7a9413f4ebedd85a56": {
      "model_module": "@jupyter-widgets/controls",
      "model_module_version": "2.0.0",
      "model_name": "ButtonModel",
      "state": {
       "description": "Confirm",
       "layout": "IPY_MODEL_c413428757ec411cb5134a51d7b406e1",
       "style": "IPY_MODEL_3526f01e630844dbaf7f17cb981cc6e6",
       "tooltip": "Confirm download"
      }
     },
     "1376c1c9e7e74feca797b1a1c95c46b9": {
      "model_module": "@jupyter-widgets/controls",
      "model_module_version": "2.0.0",
      "model_name": "DropdownModel",
      "state": {
       "_options_labels": [
        "0",
        "1"
       ],
       "description": "Selection:",
       "index": 0,
       "layout": "IPY_MODEL_83eca8aac5a7423aac71e360d1661b7a",
       "style": "IPY_MODEL_63ec1f3deeb948f5a91614b0fceba1b0"
      }
     },
     "13bf1665362c441e9a4b855a5666574f": {
      "model_module": "@jupyter-widgets/controls",
      "model_module_version": "2.0.0",
      "model_name": "ToggleButtonsStyleModel",
      "state": {
       "button_width": "",
       "description_width": ""
      }
     },
     "153400312a8843839e8a2f4629cc65d5": {
      "model_module": "@jupyter-widgets/controls",
      "model_module_version": "2.0.0",
      "model_name": "ToggleButtonsStyleModel",
      "state": {
       "button_width": "",
       "description_width": ""
      }
     },
     "15f01a3f69a64ac6ae97cdb584ceec2c": {
      "model_module": "@jupyter-widgets/controls",
      "model_module_version": "2.0.0",
      "model_name": "DescriptionStyleModel",
      "state": {
       "description_width": ""
      }
     },
     "165d48ea829c4a9eb84ce1b2f18e14f4": {
      "model_module": "@jupyter-widgets/controls",
      "model_module_version": "2.0.0",
      "model_name": "CheckboxStyleModel",
      "state": {
       "description_width": ""
      }
     },
     "16b71da78e6a44589f2951eb13bb1f08": {
      "model_module": "@jupyter-widgets/controls",
      "model_module_version": "2.0.0",
      "model_name": "CheckboxStyleModel",
      "state": {
       "description_width": ""
      }
     },
     "16cd08af0b464572a948cb6e5dbce225": {
      "model_module": "@jupyter-widgets/controls",
      "model_module_version": "2.0.0",
      "model_name": "ToggleButtonsStyleModel",
      "state": {
       "button_width": "",
       "description_width": ""
      }
     },
     "17369424d1a9412caa9d64268d12e4bf": {
      "model_module": "@jupyter-widgets/controls",
      "model_module_version": "2.0.0",
      "model_name": "SelectMultipleModel",
      "state": {
       "_options_labels": [
        "auxil",
        "bat",
        "xrt",
        "uvot",
        "log"
       ],
       "description": "File Type(s)",
       "index": [
        0
       ],
       "layout": "IPY_MODEL_f7f316476a934754a9a83037a7f5cf0b",
       "rows": 5,
       "style": "IPY_MODEL_1211da12cad2421682ad4b7e7b77b755"
      }
     },
     "178b56debd8d462ab8c807f41044d402": {
      "model_module": "@jupyter-widgets/controls",
      "model_module_version": "2.0.0",
      "model_name": "ToggleButtonsStyleModel",
      "state": {
       "button_width": "",
       "description_width": ""
      }
     },
     "178dbac6a8e34e3d9af724fc77d5d4e0": {
      "model_module": "@jupyter-widgets/base",
      "model_module_version": "2.0.0",
      "model_name": "LayoutModel",
      "state": {}
     },
     "17b8ae41a41b45a2b07f8651cdc1cdcd": {
      "model_module": "@jupyter-widgets/controls",
      "model_module_version": "2.0.0",
      "model_name": "DescriptionStyleModel",
      "state": {
       "description_width": ""
      }
     },
     "17c019078c5c444fbf51218aedc9207a": {
      "model_module": "@jupyter-widgets/controls",
      "model_module_version": "2.0.0",
      "model_name": "ToggleButtonsStyleModel",
      "state": {
       "button_width": "",
       "description_width": ""
      }
     },
     "17cfa5c0d0e640fda47dca474d5a7abd": {
      "model_module": "@jupyter-widgets/base",
      "model_module_version": "2.0.0",
      "model_name": "LayoutModel",
      "state": {}
     },
     "188037d6e1704c0db4953acf5c13f225": {
      "model_module": "@jupyter-widgets/controls",
      "model_module_version": "2.0.0",
      "model_name": "TextModel",
      "state": {
       "description": "Search Term:",
       "layout": "IPY_MODEL_8accb94af6934dbbbddbf2cbb8fe84b3",
       "placeholder": "",
       "style": "IPY_MODEL_5b3e831479e7453398cdc7a7414a956f"
      }
     },
     "1913df73890e4f9bb35dd4499921f688": {
      "model_module": "@jupyter-widgets/base",
      "model_module_version": "2.0.0",
      "model_name": "LayoutModel",
      "state": {}
     },
     "196cb0d7a88b41d191bf4dd4e53b0adc": {
      "model_module": "@jupyter-widgets/base",
      "model_module_version": "2.0.0",
      "model_name": "LayoutModel",
      "state": {}
     },
     "19becb66ae3c4485bf0d7a559660963f": {
      "model_module": "@jupyter-widgets/base",
      "model_module_version": "2.0.0",
      "model_name": "LayoutModel",
      "state": {}
     },
     "1a04e36b85c040d9853c41deffbdeaa3": {
      "model_module": "@jupyter-widgets/base",
      "model_module_version": "2.0.0",
      "model_name": "LayoutModel",
      "state": {}
     },
     "1a378c1fc15442d9a7f0902914231e76": {
      "model_module": "@jupyter-widgets/controls",
      "model_module_version": "2.0.0",
      "model_name": "ToggleButtonsModel",
      "state": {
       "_options_labels": [
        "uncompressed",
        "tar",
        "zip"
       ],
       "button_style": "",
       "description": "Download Type:",
       "icons": [],
       "index": 0,
       "layout": "IPY_MODEL_2db345794e984ef68c10216a6c042eec",
       "style": "IPY_MODEL_c98994737d2c408e83cd6dad2736cf6b",
       "tooltips": [
        "uncompressed",
        "tar",
        "zip"
       ]
      }
     },
     "1a6da194077d411497d9f53b11cd83de": {
      "model_module": "@jupyter-widgets/base",
      "model_module_version": "2.0.0",
      "model_name": "LayoutModel",
      "state": {}
     },
     "1c3c81298fb844e5a51cdaac8164862e": {
      "model_module": "@jupyter-widgets/controls",
      "model_module_version": "2.0.0",
      "model_name": "CheckboxModel",
      "state": {
       "description": "Overwrite Data",
       "disabled": false,
       "indent": false,
       "layout": "IPY_MODEL_05ec588ca03442ed9110f63b7a119670",
       "style": "IPY_MODEL_7ffa00c003b34150b5914e113d80ba3d",
       "value": false
      }
     },
     "1c53e0328fc340e9a576c0527b7af63e": {
      "model_module": "@jupyter-widgets/output",
      "model_module_version": "1.0.0",
      "model_name": "OutputModel",
      "state": {
       "layout": "IPY_MODEL_cb30528902db4301b7164c4d7c328bf3"
      }
     },
     "1c62b65961da4249852a548e486ea5cb": {
      "model_module": "@jupyter-widgets/output",
      "model_module_version": "1.0.0",
      "model_name": "OutputModel",
      "state": {
       "layout": "IPY_MODEL_95dfd67551eb405db9c5fd8794da39c4"
      }
     },
     "1c7a02aa9f114b0dac9f2cf14d5b15ae": {
      "model_module": "@jupyter-widgets/controls",
      "model_module_version": "2.0.0",
      "model_name": "DescriptionStyleModel",
      "state": {
       "description_width": ""
      }
     },
     "1ca20a28f69049c29e77129010a15850": {
      "model_module": "@jupyter-widgets/controls",
      "model_module_version": "2.0.0",
      "model_name": "DropdownModel",
      "state": {
       "_options_labels": [
        "0",
        "1"
       ],
       "description": "Selection:",
       "disabled": true,
       "index": 1,
       "layout": "IPY_MODEL_efcb47fac03442fa89e22aa1a934ccc8",
       "style": "IPY_MODEL_395cb837f5e14c11a6cd57115c6af66f"
      }
     },
     "1ceeb872fd9040a684d41a18a1d8f2d0": {
      "model_module": "@jupyter-widgets/base",
      "model_module_version": "2.0.0",
      "model_name": "LayoutModel",
      "state": {}
     },
     "1d69d9256c6e474d91aeba9a909b2a57": {
      "model_module": "@jupyter-widgets/base",
      "model_module_version": "2.0.0",
      "model_name": "LayoutModel",
      "state": {}
     },
     "1d835e0cab6045efadc201abda16876f": {
      "model_module": "@jupyter-widgets/controls",
      "model_module_version": "2.0.0",
      "model_name": "ButtonModel",
      "state": {
       "description": "Confirm",
       "layout": "IPY_MODEL_6ded750e74514e8b96b122a925d2aa9e",
       "style": "IPY_MODEL_219eff4a81e741a3aa543a024dd889ec",
       "tooltip": "Confirm download"
      }
     },
     "1dcaca2d06314f4d86aad3be1f3ec535": {
      "model_module": "@jupyter-widgets/controls",
      "model_module_version": "2.0.0",
      "model_name": "ToggleButtonsModel",
      "state": {
       "_options_labels": [
        "uncompressed",
        "tar",
        "zip"
       ],
       "button_style": "",
       "description": "Download Type:",
       "disabled": true,
       "icons": [],
       "index": 0,
       "layout": "IPY_MODEL_264fadcc7b1d40eb8b93be5723142df7",
       "style": "IPY_MODEL_945ee8018a7f4945a5f94396b5ef77d5",
       "tooltips": [
        "uncompressed",
        "tar",
        "zip"
       ]
      }
     },
     "1dd497ac5655460486b0804fe4e4197c": {
      "model_module": "@jupyter-widgets/controls",
      "model_module_version": "2.0.0",
      "model_name": "TextModel",
      "state": {
       "description": "Search Term:",
       "layout": "IPY_MODEL_057cb059e32149e4ab7a18187031c304",
       "placeholder": "",
       "style": "IPY_MODEL_3d407072ec08418b8b94e33c58b2b446"
      }
     },
     "1e820f85b6eb4bf19891a5cf7ea3abe4": {
      "model_module": "@jupyter-widgets/controls",
      "model_module_version": "2.0.0",
      "model_name": "DescriptionStyleModel",
      "state": {
       "description_width": ""
      }
     },
     "1ebeea2971a646c38ad4752248827fc7": {
      "model_module": "@jupyter-widgets/controls",
      "model_module_version": "2.0.0",
      "model_name": "ButtonModel",
      "state": {
       "description": "Confirm",
       "layout": "IPY_MODEL_f80092131f794de5bc118b7ed2db78a1",
       "style": "IPY_MODEL_8886069cec274e55beb42a38a60e4f07",
       "tooltip": "Confirm download"
      }
     },
     "1f4a1e36068a4f71966d8fc2b0df914f": {
      "model_module": "@jupyter-widgets/base",
      "model_module_version": "2.0.0",
      "model_name": "LayoutModel",
      "state": {}
     },
     "1f6611584f194e72be408dda508da479": {
      "model_module": "@jupyter-widgets/controls",
      "model_module_version": "2.0.0",
      "model_name": "TextModel",
      "state": {
       "description": "Search Term:",
       "layout": "IPY_MODEL_a3a97f2a73e94da28efaff2f42222ff0",
       "placeholder": "",
       "style": "IPY_MODEL_4d7b1981ab484ddfbd2937b030f2c2dd",
       "value": "C/2013US10CatalinaOrbit2Ptg2"
      }
     },
     "1f8d6881e2db4ed6befddfb2a89a732b": {
      "model_module": "@jupyter-widgets/controls",
      "model_module_version": "2.0.0",
      "model_name": "DropdownModel",
      "state": {
       "_options_labels": [
        "0",
        "1"
       ],
       "description": "Selection:",
       "index": 0,
       "layout": "IPY_MODEL_b2d8b382cc044451a3fb32df2d65557b",
       "style": "IPY_MODEL_3ad4a6d1946b4daabcf6a466ff3aaee2"
      }
     },
     "1fc590fa91d74f9e9077e070a926c25b": {
      "model_module": "@jupyter-widgets/base",
      "model_module_version": "2.0.0",
      "model_name": "LayoutModel",
      "state": {}
     },
     "2166a2b9cf2847a6bb4a946240bb074d": {
      "model_module": "@jupyter-widgets/output",
      "model_module_version": "1.0.0",
      "model_name": "OutputModel",
      "state": {
       "layout": "IPY_MODEL_5c80f1e048314f5184041c5286f0056c",
       "outputs": [
        {
         "data": {
          "application/vnd.jupyter.widget-view+json": {
           "model_id": "4456446c3413466a867cb53e303aa424",
           "version_major": 2,
           "version_minor": 0
          },
          "text/plain": "Dropdown(description='Selection:', options=(('0', 0), ('1', 1)), value=0)"
         },
         "metadata": {},
         "output_type": "display_data"
        },
        {
         "data": {
          "application/vnd.jupyter.widget-view+json": {
           "model_id": "912b77f2fe054f12b22e0f1392e47cc2",
           "version_major": 2,
           "version_minor": 0
          },
          "text/plain": "Button(description='Confirm', style=ButtonStyle(), tooltip='Confirm download')"
         },
         "metadata": {},
         "output_type": "display_data"
        },
        {
         "data": {
          "application/vnd.jupyter.widget-view+json": {
           "model_id": "2166a2b9cf2847a6bb4a946240bb074d",
           "version_major": 2,
           "version_minor": 0
          },
          "text/plain": "Output(msg_id='0b13f5d2-3dbd-42bd-bb2a-d9e290bf0544')"
         },
         "metadata": {},
         "output_type": "display_data"
        }
       ]
      }
     },
     "219b3778a0904f0493e4fa7a9d082de5": {
      "model_module": "@jupyter-widgets/controls",
      "model_module_version": "2.0.0",
      "model_name": "SelectMultipleModel",
      "state": {
       "_options_labels": [
        "auxil",
        "bat",
        "xrt",
        "uvot",
        "log"
       ],
       "description": "File Type(s)",
       "index": [
        0
       ],
       "layout": "IPY_MODEL_503acb1d961c4f399069eb179451e4f6",
       "rows": 5,
       "style": "IPY_MODEL_d1e00b59b9a44547bfec2fe3efd77b6b"
      }
     },
     "219eff4a81e741a3aa543a024dd889ec": {
      "model_module": "@jupyter-widgets/controls",
      "model_module_version": "2.0.0",
      "model_name": "ButtonStyleModel",
      "state": {
       "font_family": null,
       "font_size": null,
       "font_style": null,
       "font_variant": null,
       "font_weight": null,
       "text_color": null,
       "text_decoration": null
      }
     },
     "21ecca539704486ca4d7c20ac54d6eca": {
      "model_module": "@jupyter-widgets/base",
      "model_module_version": "2.0.0",
      "model_name": "LayoutModel",
      "state": {}
     },
     "22b957701bbc448cb76249055f759c4f": {
      "model_module": "@jupyter-widgets/base",
      "model_module_version": "2.0.0",
      "model_name": "LayoutModel",
      "state": {}
     },
     "22f84d0ae64b41a9b69e6fa5416d1862": {
      "model_module": "@jupyter-widgets/base",
      "model_module_version": "2.0.0",
      "model_name": "LayoutModel",
      "state": {}
     },
     "237ecbc9ade94d8fa88f0c442e5ab012": {
      "model_module": "@jupyter-widgets/base",
      "model_module_version": "2.0.0",
      "model_name": "LayoutModel",
      "state": {}
     },
     "23a458f6884e4e4f834bd1985c36b78e": {
      "model_module": "@jupyter-widgets/controls",
      "model_module_version": "2.0.0",
      "model_name": "ButtonModel",
      "state": {
       "description": "Confirm",
       "layout": "IPY_MODEL_ffd8baf6cc194ec1a14cec85412f5a94",
       "style": "IPY_MODEL_c423adc4377542539c9b4a6250e3ce33",
       "tooltip": "Confirm download"
      }
     },
     "23d2e37f42294a889f3a07c95da588cb": {
      "model_module": "@jupyter-widgets/controls",
      "model_module_version": "2.0.0",
      "model_name": "DescriptionStyleModel",
      "state": {
       "description_width": ""
      }
     },
     "2473d72139b24093878cb30c12cf5957": {
      "model_module": "@jupyter-widgets/controls",
      "model_module_version": "2.0.0",
      "model_name": "CheckboxModel",
      "state": {
       "description": "Overwrite Data",
       "disabled": false,
       "indent": false,
       "layout": "IPY_MODEL_0be615cc69f843ecb250250745dae86b",
       "style": "IPY_MODEL_b5d6523cbf9f4838b89ff7647ab3c727",
       "value": false
      }
     },
     "2513e3620296400dbd87888b96112802": {
      "model_module": "@jupyter-widgets/controls",
      "model_module_version": "2.0.0",
      "model_name": "CheckboxModel",
      "state": {
       "description": "Overwrite Data",
       "disabled": false,
       "indent": false,
       "layout": "IPY_MODEL_4dd4dd80a14042c2bf82a4a967268de4",
       "style": "IPY_MODEL_165d48ea829c4a9eb84ce1b2f18e14f4",
       "value": false
      }
     },
     "251fa7a14a9c445db36fdd965e2bcec1": {
      "model_module": "@jupyter-widgets/controls",
      "model_module_version": "2.0.0",
      "model_name": "DescriptionStyleModel",
      "state": {
       "description_width": ""
      }
     },
     "264fadcc7b1d40eb8b93be5723142df7": {
      "model_module": "@jupyter-widgets/base",
      "model_module_version": "2.0.0",
      "model_name": "LayoutModel",
      "state": {}
     },
     "27023157eaea4431a5dc99e120118e62": {
      "model_module": "@jupyter-widgets/controls",
      "model_module_version": "2.0.0",
      "model_name": "TextModel",
      "state": {
       "description": "Search Term:",
       "layout": "IPY_MODEL_c6714848545e4c029ec8043063557866",
       "placeholder": "",
       "style": "IPY_MODEL_4d8306cf707c4a49ad33b37b80821273"
      }
     },
     "272528059df2413ab8600dd731b84942": {
      "model_module": "@jupyter-widgets/base",
      "model_module_version": "2.0.0",
      "model_name": "LayoutModel",
      "state": {}
     },
     "280f5cc6641a461baa49ea42fa922144": {
      "model_module": "@jupyter-widgets/controls",
      "model_module_version": "2.0.0",
      "model_name": "ButtonModel",
      "state": {
       "description": "Search Archives",
       "layout": "IPY_MODEL_392e5f9bb78b400baa94e4d345b7433c",
       "style": "IPY_MODEL_2c660c883646499d9c506a23b2bcfe1a",
       "tooltip": "Search the Swift archives"
      }
     },
     "290b89d3db054ed0993f7618618f3ce4": {
      "model_module": "@jupyter-widgets/controls",
      "model_module_version": "2.0.0",
      "model_name": "TextStyleModel",
      "state": {
       "description_width": "",
       "font_size": null,
       "text_color": null
      }
     },
     "29fbe222659645ddbc008d737de95cf3": {
      "model_module": "@jupyter-widgets/base",
      "model_module_version": "2.0.0",
      "model_name": "LayoutModel",
      "state": {}
     },
     "2a1244767bdf40e1abb87846114584e8": {
      "model_module": "@jupyter-widgets/base",
      "model_module_version": "2.0.0",
      "model_name": "LayoutModel",
      "state": {}
     },
     "2a3839387f084ee382da2f6b2d77aeb2": {
      "model_module": "@jupyter-widgets/controls",
      "model_module_version": "2.0.0",
      "model_name": "CheckboxStyleModel",
      "state": {
       "description_width": ""
      }
     },
     "2af70ea6f6a041708f23b55c36868d8e": {
      "model_module": "@jupyter-widgets/controls",
      "model_module_version": "2.0.0",
      "model_name": "ToggleButtonsModel",
      "state": {
       "_options_labels": [
        "uncompressed",
        "tar",
        "zip"
       ],
       "button_style": "",
       "description": "Download Type:",
       "icons": [],
       "index": 0,
       "layout": "IPY_MODEL_3866e8b61a9f4b19b979f8982da47d20",
       "style": "IPY_MODEL_dc29ec3659c541beb8fa7ec8ba8076ad",
       "tooltips": [
        "uncompressed",
        "tar",
        "zip"
       ]
      }
     },
     "2b43986c2137498eb0643a9801e757bd": {
      "model_module": "@jupyter-widgets/base",
      "model_module_version": "2.0.0",
      "model_name": "LayoutModel",
      "state": {}
     },
     "2b8082143abf4ccb9b08512401586613": {
      "model_module": "@jupyter-widgets/output",
      "model_module_version": "1.0.0",
      "model_name": "OutputModel",
      "state": {
       "layout": "IPY_MODEL_79909dda64b1453c8a18a2f3cf18574f",
       "outputs": [
        {
         "name": "stdout",
         "output_type": "stream",
         "text": "----------------------------------------------------------------------------------------------------\n\nFound a single data file for the search term 'C/2013US10CatalinaOrbit2Ptg2':\n\n----------------------------------------------------------------------------------------------------\n\nName of observation: C/2013US10CatalinaOrbit2Ptg2 \t\t Total number of observations: 1\n\n----------------------------------------------------------------------------------------------------\nSelect one of the following:\n\n\t\t0\tDownload the data file listed above to /Users/jduffy0121/Desktop\n\t\t1\tCancel download\n\n"
        },
        {
         "data": {
          "application/vnd.jupyter.widget-view+json": {
           "model_id": "823a5ba511f64cf6a8851337be09a755",
           "version_major": 2,
           "version_minor": 0
          },
          "text/plain": "Dropdown(description='Selection:', options=(('0', 0), ('1', 1)), value=0)"
         },
         "metadata": {},
         "output_type": "display_data"
        },
        {
         "data": {
          "application/vnd.jupyter.widget-view+json": {
           "model_id": "5d96f87af4334b9eb80539c992cfc180",
           "version_major": 2,
           "version_minor": 0
          },
          "text/plain": "Button(description='Confirm', style=ButtonStyle(), tooltip='Confirm download')"
         },
         "metadata": {},
         "output_type": "display_data"
        },
        {
         "data": {
          "application/vnd.jupyter.widget-view+json": {
           "model_id": "05b83a03688244dd9dbd9c23275b127b",
           "version_major": 2,
           "version_minor": 0
          },
          "text/plain": "Output()"
         },
         "metadata": {},
         "output_type": "display_data"
        },
        {
         "name": "stdout",
         "output_type": "stream",
         "text": "----------------------------------------------------------------------------------------------------\n\nNo files downloaded\n\n----------------------------------------------------------------------------------------------------\n"
        }
       ]
      }
     },
     "2c50ac9c1ebe4b4b934924a4410f0d2c": {
      "model_module": "@jupyter-widgets/base",
      "model_module_version": "2.0.0",
      "model_name": "LayoutModel",
      "state": {}
     },
     "2c660c883646499d9c506a23b2bcfe1a": {
      "model_module": "@jupyter-widgets/controls",
      "model_module_version": "2.0.0",
      "model_name": "ButtonStyleModel",
      "state": {
       "font_family": null,
       "font_size": null,
       "font_style": null,
       "font_variant": null,
       "font_weight": null,
       "text_color": null,
       "text_decoration": null
      }
     },
     "2c8b0a92a2c94ee98c0ded7bdeee5151": {
      "model_module": "@jupyter-widgets/base",
      "model_module_version": "2.0.0",
      "model_name": "LayoutModel",
      "state": {}
     },
     "2db345794e984ef68c10216a6c042eec": {
      "model_module": "@jupyter-widgets/base",
      "model_module_version": "2.0.0",
      "model_name": "LayoutModel",
      "state": {}
     },
     "2e161293ddcc4c45a0cbacae7b0d395e": {
      "model_module": "@jupyter-widgets/base",
      "model_module_version": "2.0.0",
      "model_name": "LayoutModel",
      "state": {}
     },
     "2e376d084b05426ba872269bc2569b02": {
      "model_module": "@jupyter-widgets/controls",
      "model_module_version": "2.0.0",
      "model_name": "TextStyleModel",
      "state": {
       "description_width": "",
       "font_size": null,
       "text_color": null
      }
     },
     "2e4c963a35944c28b507a1519cd803ff": {
      "model_module": "@jupyter-widgets/output",
      "model_module_version": "1.0.0",
      "model_name": "OutputModel",
      "state": {
       "layout": "IPY_MODEL_fbfdddf6fe5a4cd4b95683e6cabf8ce5"
      }
     },
     "2f53eb3006584d4999563fa71261ef77": {
      "model_module": "@jupyter-widgets/controls",
      "model_module_version": "2.0.0",
      "model_name": "ToggleButtonsStyleModel",
      "state": {
       "button_width": "",
       "description_width": ""
      }
     },
     "2f68ac08666e4a26befe10f288b9c457": {
      "model_module": "@jupyter-widgets/controls",
      "model_module_version": "2.0.0",
      "model_name": "ButtonStyleModel",
      "state": {
       "font_family": null,
       "font_size": null,
       "font_style": null,
       "font_variant": null,
       "font_weight": null,
       "text_color": null,
       "text_decoration": null
      }
     },
     "2f933d515f3a4da788246a1a8f0d8d68": {
      "model_module": "@jupyter-widgets/base",
      "model_module_version": "2.0.0",
      "model_name": "LayoutModel",
      "state": {}
     },
     "2fd063d093e54d8aabb459bab9c84f01": {
      "model_module": "@jupyter-widgets/base",
      "model_module_version": "2.0.0",
      "model_name": "LayoutModel",
      "state": {}
     },
     "2fd29edc3e6140a1a0ee392e17f3b973": {
      "model_module": "@jupyter-widgets/controls",
      "model_module_version": "2.0.0",
      "model_name": "DescriptionStyleModel",
      "state": {
       "description_width": ""
      }
     },
     "3062c652986b45f4b989c6267ce9eb8b": {
      "model_module": "@jupyter-widgets/base",
      "model_module_version": "2.0.0",
      "model_name": "LayoutModel",
      "state": {}
     },
     "30aebd7e263740e0b969001c65b5de4a": {
      "model_module": "@jupyter-widgets/base",
      "model_module_version": "2.0.0",
      "model_name": "LayoutModel",
      "state": {}
     },
     "30cc56f7f7ab4ca384604150d2cb0b58": {
      "model_module": "@jupyter-widgets/controls",
      "model_module_version": "2.0.0",
      "model_name": "TextModel",
      "state": {
       "description": "Search Term:",
       "layout": "IPY_MODEL_f306b5aa9d1d44f8bdb60dda34ffcee3",
       "placeholder": "",
       "style": "IPY_MODEL_f22c80fdceb5442e91f1a31077944fcb"
      }
     },
     "31bd9df8f0994997b25202b851b5286a": {
      "model_module": "@jupyter-widgets/controls",
      "model_module_version": "2.0.0",
      "model_name": "TextModel",
      "state": {
       "description": "Search Term:",
       "layout": "IPY_MODEL_4a129ab0142040b38f705ef4706d762e",
       "placeholder": "",
       "style": "IPY_MODEL_110e1afb201e43e0bf0f3c8607ffae4e",
       "value": "C/2013US10CatalinaOrbit2Ptg2"
      }
     },
     "31f143b556c44858b09f987be6a6c55f": {
      "model_module": "@jupyter-widgets/base",
      "model_module_version": "2.0.0",
      "model_name": "LayoutModel",
      "state": {}
     },
     "320240835b394c6b924e437982e85b94": {
      "model_module": "@jupyter-widgets/controls",
      "model_module_version": "2.0.0",
      "model_name": "CheckboxModel",
      "state": {
       "description": "Overwrite Data",
       "disabled": false,
       "indent": false,
       "layout": "IPY_MODEL_88f6dc2c6360430baf53208300ffc0b5",
       "style": "IPY_MODEL_0fed5ed458844da1a7ca050df3be37d4",
       "value": false
      }
     },
     "320e2c301f8345e68bb45af519da86bb": {
      "model_module": "@jupyter-widgets/controls",
      "model_module_version": "2.0.0",
      "model_name": "ToggleButtonsModel",
      "state": {
       "_options_labels": [
        "uncompressed",
        "tar",
        "zip"
       ],
       "button_style": "",
       "description": "Download Type:",
       "icons": [],
       "index": 0,
       "layout": "IPY_MODEL_b7cc895e7e214d3094b86d2fb216aff0",
       "style": "IPY_MODEL_16cd08af0b464572a948cb6e5dbce225",
       "tooltips": [
        "uncompressed",
        "tar",
        "zip"
       ]
      }
     },
     "32befbc4703b4e8dbd7edbd629c06757": {
      "model_module": "@jupyter-widgets/base",
      "model_module_version": "2.0.0",
      "model_name": "LayoutModel",
      "state": {}
     },
     "32d7b10837b540deb1deee0dc5661dcb": {
      "model_module": "@jupyter-widgets/controls",
      "model_module_version": "2.0.0",
      "model_name": "ButtonStyleModel",
      "state": {
       "font_family": null,
       "font_size": null,
       "font_style": null,
       "font_variant": null,
       "font_weight": null,
       "text_color": null,
       "text_decoration": null
      }
     },
     "331f8418b55b472a8e285372274ec0e4": {
      "model_module": "@jupyter-widgets/base",
      "model_module_version": "2.0.0",
      "model_name": "LayoutModel",
      "state": {}
     },
     "339e9d3474a9458cbd8a23c0becda326": {
      "model_module": "@jupyter-widgets/controls",
      "model_module_version": "2.0.0",
      "model_name": "ToggleButtonsModel",
      "state": {
       "_options_labels": [
        "uncompressed",
        "tar",
        "zip"
       ],
       "button_style": "",
       "description": "Download Type:",
       "icons": [],
       "index": 0,
       "layout": "IPY_MODEL_70cc767f922449ff80ec8f8d08f4bc12",
       "style": "IPY_MODEL_9b5b17c1575a458ca3547f1d878522c8",
       "tooltips": [
        "uncompressed",
        "tar",
        "zip"
       ]
      }
     },
     "33ca9b601fe3492fa7df890153eff108": {
      "model_module": "@jupyter-widgets/controls",
      "model_module_version": "2.0.0",
      "model_name": "ToggleButtonsModel",
      "state": {
       "_options_labels": [
        "uncompressed",
        "tar",
        "zip"
       ],
       "button_style": "",
       "description": "Download Type:",
       "icons": [],
       "index": 0,
       "layout": "IPY_MODEL_3ce3971d9c574541a835551abe5788da",
       "style": "IPY_MODEL_17c019078c5c444fbf51218aedc9207a",
       "tooltips": [
        "uncompressed",
        "tar",
        "zip"
       ]
      }
     },
     "3404f90b392b4e3295d722cfe203fd07": {
      "model_module": "@jupyter-widgets/controls",
      "model_module_version": "2.0.0",
      "model_name": "SelectMultipleModel",
      "state": {
       "_options_labels": [
        "auxil",
        "bat",
        "xrt",
        "uvot",
        "log"
       ],
       "description": "File Type(s)",
       "disabled": true,
       "index": [
        0
       ],
       "layout": "IPY_MODEL_74227b71dfb34445b3f44cfd7d1574c9",
       "rows": 5,
       "style": "IPY_MODEL_65beb45065a94c43b15e04b110d56e8c"
      }
     },
     "346b28293b4c46b4b8d98f8e5fff73e6": {
      "model_module": "@jupyter-widgets/base",
      "model_module_version": "2.0.0",
      "model_name": "LayoutModel",
      "state": {}
     },
     "3514b99d12444cd68a8f2e0356a9c98f": {
      "model_module": "@jupyter-widgets/controls",
      "model_module_version": "2.0.0",
      "model_name": "DropdownModel",
      "state": {
       "_options_labels": [
        "0",
        "1"
       ],
       "description": "Selection:",
       "index": 0,
       "layout": "IPY_MODEL_17cfa5c0d0e640fda47dca474d5a7abd",
       "style": "IPY_MODEL_1121dadcc48a493d998da43650b7f10e"
      }
     },
     "3526f01e630844dbaf7f17cb981cc6e6": {
      "model_module": "@jupyter-widgets/controls",
      "model_module_version": "2.0.0",
      "model_name": "ButtonStyleModel",
      "state": {
       "font_family": null,
       "font_size": null,
       "font_style": null,
       "font_variant": null,
       "font_weight": null,
       "text_color": null,
       "text_decoration": null
      }
     },
     "3550c01816e8408a9b75cd6a4426f076": {
      "model_module": "@jupyter-widgets/base",
      "model_module_version": "2.0.0",
      "model_name": "LayoutModel",
      "state": {}
     },
     "365f028468fc4d0594137da3f38946f3": {
      "model_module": "@jupyter-widgets/controls",
      "model_module_version": "2.0.0",
      "model_name": "CheckboxStyleModel",
      "state": {
       "description_width": ""
      }
     },
     "3721ccddec6b4f26a3638a18a8584501": {
      "model_module": "@jupyter-widgets/base",
      "model_module_version": "2.0.0",
      "model_name": "LayoutModel",
      "state": {}
     },
     "37c3ff8119424144947feb17fbcdc014": {
      "model_module": "@jupyter-widgets/controls",
      "model_module_version": "2.0.0",
      "model_name": "ButtonStyleModel",
      "state": {
       "font_family": null,
       "font_size": null,
       "font_style": null,
       "font_variant": null,
       "font_weight": null,
       "text_color": null,
       "text_decoration": null
      }
     },
     "3866e8b61a9f4b19b979f8982da47d20": {
      "model_module": "@jupyter-widgets/base",
      "model_module_version": "2.0.0",
      "model_name": "LayoutModel",
      "state": {}
     },
     "38c6c87fba3c49d9a8d4c2a99df96fd7": {
      "model_module": "@jupyter-widgets/controls",
      "model_module_version": "2.0.0",
      "model_name": "ButtonStyleModel",
      "state": {
       "font_family": null,
       "font_size": null,
       "font_style": null,
       "font_variant": null,
       "font_weight": null,
       "text_color": null,
       "text_decoration": null
      }
     },
     "392e5f9bb78b400baa94e4d345b7433c": {
      "model_module": "@jupyter-widgets/base",
      "model_module_version": "2.0.0",
      "model_name": "LayoutModel",
      "state": {}
     },
     "395cb837f5e14c11a6cd57115c6af66f": {
      "model_module": "@jupyter-widgets/controls",
      "model_module_version": "2.0.0",
      "model_name": "DescriptionStyleModel",
      "state": {
       "description_width": ""
      }
     },
     "39a34f1528a3487782d957fb69eabb9b": {
      "model_module": "@jupyter-widgets/output",
      "model_module_version": "1.0.0",
      "model_name": "OutputModel",
      "state": {
       "layout": "IPY_MODEL_dedcd8becfd5412aa284eea6c5de4426"
      }
     },
     "3a34c5b753a6435992fe780cf6310913": {
      "model_module": "@jupyter-widgets/base",
      "model_module_version": "2.0.0",
      "model_name": "LayoutModel",
      "state": {}
     },
     "3ad4a6d1946b4daabcf6a466ff3aaee2": {
      "model_module": "@jupyter-widgets/controls",
      "model_module_version": "2.0.0",
      "model_name": "DescriptionStyleModel",
      "state": {
       "description_width": ""
      }
     },
     "3b70194b740f448f814ed540121b645e": {
      "model_module": "@jupyter-widgets/base",
      "model_module_version": "2.0.0",
      "model_name": "LayoutModel",
      "state": {}
     },
     "3c40a84342504df998f986e5046d0a09": {
      "model_module": "@jupyter-widgets/base",
      "model_module_version": "2.0.0",
      "model_name": "LayoutModel",
      "state": {}
     },
     "3c92973b73414043b07d3f8d93ab9ad7": {
      "model_module": "@jupyter-widgets/output",
      "model_module_version": "1.0.0",
      "model_name": "OutputModel",
      "state": {
       "layout": "IPY_MODEL_4bf7d50574bb4e75be3909b1fa617b92",
       "outputs": [
        {
         "name": "stdout",
         "output_type": "stream",
         "text": "----------------------------------------------------------------------------------------------------\n\nFound a single data file for the search term 'C/2013US10CatalinaOrbit2Ptg2':\n\n----------------------------------------------------------------------------------------------------\n\nName of observation: C/2013US10CatalinaOrbit2Ptg2 \t\t Total number of observations: 1\n\n----------------------------------------------------------------------------------------------------\nSelect one of the following:\n\n\t\t0\tDownload the data file listed above to /Users/jduffy0121/Desktop\n\t\t1\tCancel download\n\n"
        },
        {
         "data": {
          "application/vnd.jupyter.widget-view+json": {
           "model_id": "48caa2dff51a44dfafeba15cdfed1972",
           "version_major": 2,
           "version_minor": 0
          },
          "text/plain": "Dropdown(description='Selection:', options=(('0', 0), ('1', 1)), value=0)"
         },
         "metadata": {},
         "output_type": "display_data"
        },
        {
         "data": {
          "application/vnd.jupyter.widget-view+json": {
           "model_id": "78d81a89946741bb9bb12481b6d2deab",
           "version_major": 2,
           "version_minor": 0
          },
          "text/plain": "Button(description='Confirm', style=ButtonStyle(), tooltip='Confirm download')"
         },
         "metadata": {},
         "output_type": "display_data"
        },
        {
         "data": {
          "application/vnd.jupyter.widget-view+json": {
           "model_id": "dbc398e5b9aa4d2db447617ea83b3944",
           "version_major": 2,
           "version_minor": 0
          },
          "text/plain": "Output()"
         },
         "metadata": {},
         "output_type": "display_data"
        },
        {
         "name": "stdout",
         "output_type": "stream",
         "text": "----------------------------------------------------------------------------------------------------\n"
        }
       ]
      }
     },
     "3ce3971d9c574541a835551abe5788da": {
      "model_module": "@jupyter-widgets/base",
      "model_module_version": "2.0.0",
      "model_name": "LayoutModel",
      "state": {}
     },
     "3d407072ec08418b8b94e33c58b2b446": {
      "model_module": "@jupyter-widgets/controls",
      "model_module_version": "2.0.0",
      "model_name": "TextStyleModel",
      "state": {
       "description_width": "",
       "font_size": null,
       "text_color": null
      }
     },
     "3deb1ac8793e4c0bb32c5e85fa1063f1": {
      "model_module": "@jupyter-widgets/controls",
      "model_module_version": "2.0.0",
      "model_name": "SelectMultipleModel",
      "state": {
       "_options_labels": [
        "auxil",
        "bat",
        "xrt",
        "uvot",
        "log"
       ],
       "description": "File Type(s)",
       "index": [
        0
       ],
       "layout": "IPY_MODEL_5a05b5ebf50d41358272a328fc2b8174",
       "rows": 5,
       "style": "IPY_MODEL_02db379ccba7400f9c7ae0ea87a4ffae"
      }
     },
     "3ecf472aeb104f8dad332e4ba6532ce2": {
      "model_module": "@jupyter-widgets/controls",
      "model_module_version": "2.0.0",
      "model_name": "TextStyleModel",
      "state": {
       "description_width": "",
       "font_size": null,
       "text_color": null
      }
     },
     "3efd0cc9b4b7433bac257e62b3e501e1": {
      "model_module": "@jupyter-widgets/base",
      "model_module_version": "2.0.0",
      "model_name": "LayoutModel",
      "state": {}
     },
     "3f2545827a5e489fa3b16eac5671e58b": {
      "model_module": "@jupyter-widgets/controls",
      "model_module_version": "2.0.0",
      "model_name": "ToggleButtonsStyleModel",
      "state": {
       "button_width": "",
       "description_width": ""
      }
     },
     "40088f5e8d4a4f48a2f03f26a3932f87": {
      "model_module": "@jupyter-widgets/output",
      "model_module_version": "1.0.0",
      "model_name": "OutputModel",
      "state": {
       "layout": "IPY_MODEL_9b2c343c8039411a84064ae51e0e37b7"
      }
     },
     "40f1295559ce4c89afd18a3fcb71e1a4": {
      "model_module": "@jupyter-widgets/base",
      "model_module_version": "2.0.0",
      "model_name": "LayoutModel",
      "state": {}
     },
     "411a190b833f4d63b19dbd158c242eff": {
      "model_module": "@jupyter-widgets/base",
      "model_module_version": "2.0.0",
      "model_name": "LayoutModel",
      "state": {}
     },
     "411b6f79fcad42af8d708af35d6fa513": {
      "model_module": "@jupyter-widgets/controls",
      "model_module_version": "2.0.0",
      "model_name": "ToggleButtonsStyleModel",
      "state": {
       "button_width": "",
       "description_width": ""
      }
     },
     "41abbf492c474a46a8080c703dc3bbef": {
      "model_module": "@jupyter-widgets/controls",
      "model_module_version": "2.0.0",
      "model_name": "DescriptionStyleModel",
      "state": {
       "description_width": ""
      }
     },
     "41ef6218f73643399d62e08f45eb15fa": {
      "model_module": "@jupyter-widgets/controls",
      "model_module_version": "2.0.0",
      "model_name": "CheckboxStyleModel",
      "state": {
       "description_width": ""
      }
     },
     "4333821a9028489792c822fe3d25d960": {
      "model_module": "@jupyter-widgets/output",
      "model_module_version": "1.0.0",
      "model_name": "OutputModel",
      "state": {
       "layout": "IPY_MODEL_0ab854250e534897b6320bfb29447a2e"
      }
     },
     "435d7e1e104e456ab76a8b943b9deb56": {
      "model_module": "@jupyter-widgets/base",
      "model_module_version": "2.0.0",
      "model_name": "LayoutModel",
      "state": {}
     },
     "4362d6a55e72449791c45fb6d6e154bc": {
      "model_module": "@jupyter-widgets/controls",
      "model_module_version": "2.0.0",
      "model_name": "ButtonStyleModel",
      "state": {
       "font_family": null,
       "font_size": null,
       "font_style": null,
       "font_variant": null,
       "font_weight": null,
       "text_color": null,
       "text_decoration": null
      }
     },
     "43f388805c1045e696b58c2ba08b28b9": {
      "model_module": "@jupyter-widgets/base",
      "model_module_version": "2.0.0",
      "model_name": "LayoutModel",
      "state": {}
     },
     "43fbe3f5761a4d638c55755c515888a8": {
      "model_module": "@jupyter-widgets/controls",
      "model_module_version": "2.0.0",
      "model_name": "TextModel",
      "state": {
       "description": "Search Term:",
       "layout": "IPY_MODEL_5d52aafc46dd43b9bd56b139e05cd8d0",
       "placeholder": "",
       "style": "IPY_MODEL_45b6846c3bd04cbb80f698ed0f6d1eac",
       "value": "C/2013US10CatalinaOrbit2Ptg2"
      }
     },
     "4456446c3413466a867cb53e303aa424": {
      "model_module": "@jupyter-widgets/controls",
      "model_module_version": "2.0.0",
      "model_name": "DropdownModel",
      "state": {
       "_options_labels": [
        "0",
        "1"
       ],
       "description": "Selection:",
       "index": 0,
       "layout": "IPY_MODEL_e964b23ba1924b3b8143319ec2108240",
       "style": "IPY_MODEL_c52688c5886b4622a9d69acc6c414157"
      }
     },
     "44a9a0a2f74e416db6dab8baf2c07378": {
      "model_module": "@jupyter-widgets/controls",
      "model_module_version": "2.0.0",
      "model_name": "SelectMultipleModel",
      "state": {
       "_options_labels": [
        "auxil",
        "bat",
        "xrt",
        "uvot",
        "log"
       ],
       "description": "File Type(s)",
       "disabled": true,
       "index": [
        0
       ],
       "layout": "IPY_MODEL_1fc590fa91d74f9e9077e070a926c25b",
       "rows": 5,
       "style": "IPY_MODEL_c3c55362c795457e8d3def19a25b9aab"
      }
     },
     "44aa64a077f34a8589e2e0df480df90a": {
      "model_module": "@jupyter-widgets/controls",
      "model_module_version": "2.0.0",
      "model_name": "ToggleButtonsStyleModel",
      "state": {
       "button_width": "",
       "description_width": ""
      }
     },
     "45b6846c3bd04cbb80f698ed0f6d1eac": {
      "model_module": "@jupyter-widgets/controls",
      "model_module_version": "2.0.0",
      "model_name": "TextStyleModel",
      "state": {
       "description_width": "",
       "font_size": null,
       "text_color": null
      }
     },
     "45c859751f3d481998fcf7cf79c17e3c": {
      "model_module": "@jupyter-widgets/controls",
      "model_module_version": "2.0.0",
      "model_name": "ButtonStyleModel",
      "state": {
       "font_family": null,
       "font_size": null,
       "font_style": null,
       "font_variant": null,
       "font_weight": null,
       "text_color": null,
       "text_decoration": null
      }
     },
     "45e7fc111fe449cf96e6490821d8bca5": {
      "model_module": "@jupyter-widgets/output",
      "model_module_version": "1.0.0",
      "model_name": "OutputModel",
      "state": {
       "layout": "IPY_MODEL_d625655f1f7042c081eef61a9b29d155",
       "outputs": [
        {
         "name": "stdout",
         "output_type": "stream",
         "text": "----------------------------------------------------------------------------------------------------\nNo search term entered.\nPlease try again.\n----------------------------------------------------------------------------------------------------\n"
        }
       ]
      }
     },
     "467cc3a2d0754d579a6364cd27b91a4e": {
      "model_module": "@jupyter-widgets/controls",
      "model_module_version": "2.0.0",
      "model_name": "ToggleButtonsModel",
      "state": {
       "_options_labels": [
        "uncompressed",
        "tar",
        "zip"
       ],
       "button_style": "",
       "description": "Download Type:",
       "icons": [],
       "index": 0,
       "layout": "IPY_MODEL_646d58411a434e639e0bc3ee4fe4f8ff",
       "style": "IPY_MODEL_9aa09342fb694f66ab60c3b9e9d6668f",
       "tooltips": [
        "uncompressed",
        "tar",
        "zip"
       ]
      }
     },
     "46aa80084929491296436f6aa21c4824": {
      "model_module": "@jupyter-widgets/controls",
      "model_module_version": "2.0.0",
      "model_name": "ButtonModel",
      "state": {
       "description": "Search Archives",
       "disabled": true,
       "layout": "IPY_MODEL_fae93a3c29d34e26a62698b5c88b4b34",
       "style": "IPY_MODEL_493e3df1566140968a5b8074820241b3",
       "tooltip": "Search the Swift archives"
      }
     },
     "47524cf13c6f4cefa7889cc1e7cff053": {
      "model_module": "@jupyter-widgets/controls",
      "model_module_version": "2.0.0",
      "model_name": "ButtonModel",
      "state": {
       "description": "Search Archives",
       "layout": "IPY_MODEL_9df088a1fc5c424ab98569e4e0c5d715",
       "style": "IPY_MODEL_d057a8f2e8674899a83561fe4768c831",
       "tooltip": "Search the Swift archives"
      }
     },
     "483def4730094e698c773a913ce2d331": {
      "model_module": "@jupyter-widgets/controls",
      "model_module_version": "2.0.0",
      "model_name": "TextStyleModel",
      "state": {
       "description_width": "",
       "font_size": null,
       "text_color": null
      }
     },
     "48798a9a7f3842d1b72d1ed4d61fcd10": {
      "model_module": "@jupyter-widgets/controls",
      "model_module_version": "2.0.0",
      "model_name": "DescriptionStyleModel",
      "state": {
       "description_width": ""
      }
     },
     "488f14c47a7c4af2a9c5d70eb6f2f2b4": {
      "model_module": "@jupyter-widgets/controls",
      "model_module_version": "2.0.0",
      "model_name": "DescriptionStyleModel",
      "state": {
       "description_width": ""
      }
     },
     "48caa2dff51a44dfafeba15cdfed1972": {
      "model_module": "@jupyter-widgets/controls",
      "model_module_version": "2.0.0",
      "model_name": "DropdownModel",
      "state": {
       "_options_labels": [
        "0",
        "1"
       ],
       "description": "Selection:",
       "index": 0,
       "layout": "IPY_MODEL_ff0e3d249ee842dcb83afd14d0c54137",
       "style": "IPY_MODEL_b2f1a05f40da45d0bf95ce84978ae3aa"
      }
     },
     "48e32001f8874328a0d5772ab89368af": {
      "model_module": "@jupyter-widgets/output",
      "model_module_version": "1.0.0",
      "model_name": "OutputModel",
      "state": {
       "layout": "IPY_MODEL_9d8903409ff14674b8a31af775c8df4e",
       "outputs": [
        {
         "name": "stdout",
         "output_type": "stream",
         "text": "----------------------------------------------------------------------------------------------------\n\nFound a single data file for the search term 'C/2013US10CatalinaOrbit2Ptg2':\n\n----------------------------------------------------------------------------------------------------\n\nName of observation: C/2013US10CatalinaOrbit2Ptg2 \t\t Total number of observations: 1\n\n----------------------------------------------------------------------------------------------------\nSelect one of the following:\n\n\t\t0\tDownload the data file listed above to /Users/jduffy0121/Desktop\n\t\t1\tCancel download\n\n----------------------------------------------------------------------------------------------------\n"
        }
       ]
      }
     },
     "493e3df1566140968a5b8074820241b3": {
      "model_module": "@jupyter-widgets/controls",
      "model_module_version": "2.0.0",
      "model_name": "ButtonStyleModel",
      "state": {
       "font_family": null,
       "font_size": null,
       "font_style": null,
       "font_variant": null,
       "font_weight": null,
       "text_color": null,
       "text_decoration": null
      }
     },
     "496bf5e9bc524ec7924802eef835be13": {
      "model_module": "@jupyter-widgets/controls",
      "model_module_version": "2.0.0",
      "model_name": "ToggleButtonsStyleModel",
      "state": {
       "button_width": "",
       "description_width": ""
      }
     },
     "4a129ab0142040b38f705ef4706d762e": {
      "model_module": "@jupyter-widgets/base",
      "model_module_version": "2.0.0",
      "model_name": "LayoutModel",
      "state": {}
     },
     "4a438cca39a54f6fb0bcfca6109793e5": {
      "model_module": "@jupyter-widgets/controls",
      "model_module_version": "2.0.0",
      "model_name": "ButtonModel",
      "state": {
       "description": "Confirm",
       "disabled": true,
       "layout": "IPY_MODEL_dcc35aac7b3e4abfabfed4ef09dc467b",
       "style": "IPY_MODEL_d83c9c07b4ad40249b2d78b2cd00129b",
       "tooltip": "Confirm download"
      }
     },
     "4bf7d50574bb4e75be3909b1fa617b92": {
      "model_module": "@jupyter-widgets/base",
      "model_module_version": "2.0.0",
      "model_name": "LayoutModel",
      "state": {}
     },
     "4cf6f02d7d8e48fdab2c7394228d9c52": {
      "model_module": "@jupyter-widgets/base",
      "model_module_version": "2.0.0",
      "model_name": "LayoutModel",
      "state": {}
     },
     "4d7b1981ab484ddfbd2937b030f2c2dd": {
      "model_module": "@jupyter-widgets/controls",
      "model_module_version": "2.0.0",
      "model_name": "TextStyleModel",
      "state": {
       "description_width": "",
       "font_size": null,
       "text_color": null
      }
     },
     "4d8306cf707c4a49ad33b37b80821273": {
      "model_module": "@jupyter-widgets/controls",
      "model_module_version": "2.0.0",
      "model_name": "TextStyleModel",
      "state": {
       "description_width": "",
       "font_size": null,
       "text_color": null
      }
     },
     "4dd4dd80a14042c2bf82a4a967268de4": {
      "model_module": "@jupyter-widgets/base",
      "model_module_version": "2.0.0",
      "model_name": "LayoutModel",
      "state": {}
     },
     "4ebbe415d77949cfb6139ed435b73a37": {
      "model_module": "@jupyter-widgets/controls",
      "model_module_version": "2.0.0",
      "model_name": "CheckboxStyleModel",
      "state": {
       "description_width": ""
      }
     },
     "4edc7fbe9b754d16bcc1efc4d8564037": {
      "model_module": "@jupyter-widgets/controls",
      "model_module_version": "2.0.0",
      "model_name": "ToggleButtonsModel",
      "state": {
       "_options_labels": [
        "uncompressed",
        "tar",
        "zip"
       ],
       "button_style": "",
       "description": "Download Type:",
       "icons": [],
       "index": 0,
       "layout": "IPY_MODEL_22f84d0ae64b41a9b69e6fa5416d1862",
       "style": "IPY_MODEL_13bf1665362c441e9a4b855a5666574f",
       "tooltips": [
        "uncompressed",
        "tar",
        "zip"
       ]
      }
     },
     "4f13efe4057648ffa8287e65fc9acd74": {
      "model_module": "@jupyter-widgets/controls",
      "model_module_version": "2.0.0",
      "model_name": "SelectMultipleModel",
      "state": {
       "_options_labels": [
        "auxil",
        "bat",
        "xrt",
        "uvot",
        "log"
       ],
       "description": "File Type(s)",
       "index": [
        4
       ],
       "layout": "IPY_MODEL_82415ab788384393a49559a759503da9",
       "rows": 5,
       "style": "IPY_MODEL_667e9873978a4fdd9ea22b1b8992bdf9"
      }
     },
     "4f89424450ee47ab92703af0e5c87a0f": {
      "model_module": "@jupyter-widgets/base",
      "model_module_version": "2.0.0",
      "model_name": "LayoutModel",
      "state": {}
     },
     "4f9c106bef9f4edb94c5bf9184a3c988": {
      "model_module": "@jupyter-widgets/controls",
      "model_module_version": "2.0.0",
      "model_name": "ToggleButtonsModel",
      "state": {
       "_options_labels": [
        "uncompressed",
        "tar",
        "zip"
       ],
       "button_style": "",
       "description": "Download Type:",
       "disabled": true,
       "icons": [],
       "index": 0,
       "layout": "IPY_MODEL_515178f9bcb0437cbbe562278d4fcd1e",
       "style": "IPY_MODEL_c5ad788756cd4275ba72937f0d5c357e",
       "tooltips": [
        "uncompressed",
        "tar",
        "zip"
       ]
      }
     },
     "503acb1d961c4f399069eb179451e4f6": {
      "model_module": "@jupyter-widgets/base",
      "model_module_version": "2.0.0",
      "model_name": "LayoutModel",
      "state": {}
     },
     "5060df962c60437a8e31cb9772de0d97": {
      "model_module": "@jupyter-widgets/controls",
      "model_module_version": "2.0.0",
      "model_name": "ButtonModel",
      "state": {
       "description": "Confirm",
       "layout": "IPY_MODEL_92917d7391374db0b9ff2f6b75101cfc",
       "style": "IPY_MODEL_084020403c634cc7a7cade5489c2d108",
       "tooltip": "Confirm download"
      }
     },
     "50afe263a92840b1b1102a2e6820a77d": {
      "model_module": "@jupyter-widgets/controls",
      "model_module_version": "2.0.0",
      "model_name": "DescriptionStyleModel",
      "state": {
       "description_width": ""
      }
     },
     "50de613cc7024c15a4b5cc78141987d0": {
      "model_module": "@jupyter-widgets/controls",
      "model_module_version": "2.0.0",
      "model_name": "CheckboxModel",
      "state": {
       "description": "Overwrite Data",
       "disabled": false,
       "indent": false,
       "layout": "IPY_MODEL_048c6e8528614d9fb127821b48729bbd",
       "style": "IPY_MODEL_fd0d9eb2fe8a46d58a8955caafdead2e",
       "value": false
      }
     },
     "5129ad9e28b546d3b495aa7a6f887354": {
      "model_module": "@jupyter-widgets/base",
      "model_module_version": "2.0.0",
      "model_name": "LayoutModel",
      "state": {}
     },
     "515178f9bcb0437cbbe562278d4fcd1e": {
      "model_module": "@jupyter-widgets/base",
      "model_module_version": "2.0.0",
      "model_name": "LayoutModel",
      "state": {}
     },
     "5185779236084ad9a3e207aab24d494a": {
      "model_module": "@jupyter-widgets/output",
      "model_module_version": "1.0.0",
      "model_name": "OutputModel",
      "state": {
       "layout": "IPY_MODEL_771fc1ea46354c7c842d09531a2815b4"
      }
     },
     "51d8dbd0f5044cff98df86eae72b061c": {
      "model_module": "@jupyter-widgets/controls",
      "model_module_version": "2.0.0",
      "model_name": "SelectMultipleModel",
      "state": {
       "_options_labels": [
        "auxil",
        "bat",
        "xrt",
        "uvot",
        "log"
       ],
       "description": "File Type(s)",
       "index": [
        0
       ],
       "layout": "IPY_MODEL_84df235df604435cbd332a50f215a111",
       "rows": 5,
       "style": "IPY_MODEL_a7055c634e60478984db3e33c40acb28"
      }
     },
     "52d6458b9a864ff69bf457d831965126": {
      "model_module": "@jupyter-widgets/controls",
      "model_module_version": "2.0.0",
      "model_name": "CheckboxStyleModel",
      "state": {
       "description_width": ""
      }
     },
     "53c75a0e729c462ea15fddca03188a1a": {
      "model_module": "@jupyter-widgets/output",
      "model_module_version": "1.0.0",
      "model_name": "OutputModel",
      "state": {
       "layout": "IPY_MODEL_10df854376f042d9b491adada845ce19",
       "outputs": [
        {
         "name": "stdout",
         "output_type": "stream",
         "text": "----------------------------------------------------------------------------------------------------\n"
        },
        {
         "ename": "NameError",
         "evalue": "name 'search_soup' is not defined",
         "output_type": "error",
         "traceback": [
          "\u001b[0;31m---------------------------------------------------------------------------\u001b[0m",
          "\u001b[0;31mNameError\u001b[0m                                 Traceback (most recent call last)",
          "Cell \u001b[0;32mIn[86], line 9\u001b[0m, in \u001b[0;36msearch_button_click\u001b[0;34m(button)\u001b[0m\n\u001b[1;32m      7\u001b[0m search_button\u001b[38;5;241m.\u001b[39mdisabled \u001b[38;5;241m=\u001b[39m \u001b[38;5;28;01mTrue\u001b[39;00m\n\u001b[1;32m      8\u001b[0m \u001b[38;5;28;01mwith\u001b[39;00m output:\n\u001b[0;32m----> 9\u001b[0m     \u001b[43mcreate_data\u001b[49m\u001b[43m(\u001b[49m\u001b[43m)\u001b[49m\n",
          "Cell \u001b[0;32mIn[98], line 35\u001b[0m, in \u001b[0;36mcreate_data\u001b[0;34m()\u001b[0m\n\u001b[1;32m     32\u001b[0m     search_page()\n\u001b[1;32m     34\u001b[0m \u001b[38;5;66;03m# reads the page to see how many results are present\u001b[39;00m\n\u001b[0;32m---> 35\u001b[0m SearchClass\u001b[38;5;241m.\u001b[39msearch_type \u001b[38;5;241m=\u001b[39m \u001b[43mresults_type\u001b[49m\u001b[43m(\u001b[49m\u001b[43m)\u001b[49m\n\u001b[1;32m     37\u001b[0m \u001b[38;5;66;03m# gets tlist from the page and prints it to the counsel \u001b[39;00m\n\u001b[1;32m     38\u001b[0m \u001b[38;5;28;01mif\u001b[39;00m (SearchClass\u001b[38;5;241m.\u001b[39msearch_type \u001b[38;5;241m==\u001b[39m \u001b[38;5;124m'\u001b[39m\u001b[38;5;124m1 result\u001b[39m\u001b[38;5;124m'\u001b[39m):\n",
          "Cell \u001b[0;32mIn[92], line 8\u001b[0m, in \u001b[0;36mresults_type\u001b[0;34m()\u001b[0m\n\u001b[1;32m      6\u001b[0m     \u001b[38;5;28mprint\u001b[39m(\u001b[38;5;124mf\u001b[39m\u001b[38;5;124m'\u001b[39m\u001b[38;5;124mUnable to find any search results for \u001b[39m\u001b[38;5;130;01m\\'\u001b[39;00m\u001b[38;5;132;01m{\u001b[39;00mSearchClass\u001b[38;5;241m.\u001b[39msearch_term\u001b[38;5;132;01m}\u001b[39;00m\u001b[38;5;130;01m\\'\u001b[39;00m\u001b[38;5;124m. \u001b[39m\u001b[38;5;130;01m\\n\u001b[39;00m\u001b[38;5;124mPlease try again.\u001b[39m\u001b[38;5;124m'\u001b[39m)\n\u001b[1;32m      7\u001b[0m     \u001b[38;5;28;01mreturn\u001b[39;00m \u001b[38;5;124m'\u001b[39m\u001b[38;5;124m0 results\u001b[39m\u001b[38;5;124m'\u001b[39m\n\u001b[0;32m----> 8\u001b[0m \u001b[38;5;28;01melif\u001b[39;00m(\u001b[43msearch_soup\u001b[49m\u001b[38;5;241m.\u001b[39mget_text()\u001b[38;5;241m.\u001b[39mfind(\u001b[38;5;124m'\u001b[39m\u001b[38;5;124mDownload archive data\u001b[39m\u001b[38;5;124m'\u001b[39m) \u001b[38;5;241m!=\u001b[39m \u001b[38;5;241m-\u001b[39m\u001b[38;5;241m1\u001b[39m):\n\u001b[1;32m      9\u001b[0m     \u001b[38;5;28;01mreturn\u001b[39;00m \u001b[38;5;124m'\u001b[39m\u001b[38;5;124m1 result\u001b[39m\u001b[38;5;124m'\u001b[39m\n\u001b[1;32m     10\u001b[0m \u001b[38;5;28;01melse\u001b[39;00m:\n",
          "\u001b[0;31mNameError\u001b[0m: name 'search_soup' is not defined"
         ]
        }
       ]
      }
     },
     "544b32be92eb498e9b631f8ea5110307": {
      "model_module": "@jupyter-widgets/output",
      "model_module_version": "1.0.0",
      "model_name": "OutputModel",
      "state": {
       "layout": "IPY_MODEL_1d69d9256c6e474d91aeba9a909b2a57",
       "outputs": [
        {
         "name": "stdout",
         "output_type": "stream",
         "text": "----------------------------------------------------------------------------------------------------\n\nFound a single data file for the search term 'C/2013US10CatalinaOrbit2Ptg2':\n\n----------------------------------------------------------------------------------------------------\n\nName of observation: C/2013US10CatalinaOrbit2Ptg2 \t\t Total number of observations: 1\n\n----------------------------------------------------------------------------------------------------\nSelect one of the following:\n\n\t\t0\tDownload the data file listed above to /Users/jduffy0121/Desktop\n\t\t1\tCancel download\n\n"
        },
        {
         "data": {
          "application/vnd.jupyter.widget-view+json": {
           "model_id": "b5adcfcf33564273a47362a28160db94",
           "version_major": 2,
           "version_minor": 0
          },
          "text/plain": "Dropdown(description='Selection:', options=(('0', 0), ('1', 1)), value=0)"
         },
         "metadata": {},
         "output_type": "display_data"
        },
        {
         "data": {
          "application/vnd.jupyter.widget-view+json": {
           "model_id": "4a438cca39a54f6fb0bcfca6109793e5",
           "version_major": 2,
           "version_minor": 0
          },
          "text/plain": "Button(description='Confirm', style=ButtonStyle(), tooltip='Confirm download')"
         },
         "metadata": {},
         "output_type": "display_data"
        },
        {
         "data": {
          "application/vnd.jupyter.widget-view+json": {
           "model_id": "db23a954a0634828b99d2603ccb5c623",
           "version_major": 2,
           "version_minor": 0
          },
          "text/plain": "Output()"
         },
         "metadata": {},
         "output_type": "display_data"
        },
        {
         "name": "stdout",
         "output_type": "stream",
         "text": "----------------------------------------------------------------------------------------------------\n\nNo files downloaded\n\n----------------------------------------------------------------------------------------------------\n"
        }
       ]
      }
     },
     "547437c726ed4e5a82104fdf6df7307e": {
      "model_module": "@jupyter-widgets/controls",
      "model_module_version": "2.0.0",
      "model_name": "CheckboxStyleModel",
      "state": {
       "description_width": ""
      }
     },
     "554d198e0b894201b6e67854b3dcadb9": {
      "model_module": "@jupyter-widgets/controls",
      "model_module_version": "2.0.0",
      "model_name": "CheckboxStyleModel",
      "state": {
       "description_width": ""
      }
     },
     "557270cf628944cba0637d75aff46388": {
      "model_module": "@jupyter-widgets/base",
      "model_module_version": "2.0.0",
      "model_name": "LayoutModel",
      "state": {}
     },
     "56528b33ade04b42bea59d27761eaead": {
      "model_module": "@jupyter-widgets/controls",
      "model_module_version": "2.0.0",
      "model_name": "TextModel",
      "state": {
       "description": "Search Term:",
       "layout": "IPY_MODEL_2f933d515f3a4da788246a1a8f0d8d68",
       "placeholder": "",
       "style": "IPY_MODEL_6bbf492a7b854a52947bb57fb8433821",
       "value": "C/2013US10CatalinaOrbit2Ptg2"
      }
     },
     "56b5af4f82694a89a6b024d381fde7ef": {
      "model_module": "@jupyter-widgets/controls",
      "model_module_version": "2.0.0",
      "model_name": "DescriptionStyleModel",
      "state": {
       "description_width": ""
      }
     },
     "56efc6e2f4d54aac9547a7580b9c63a7": {
      "model_module": "@jupyter-widgets/output",
      "model_module_version": "1.0.0",
      "model_name": "OutputModel",
      "state": {
       "layout": "IPY_MODEL_cbd6c3bee1b44942a440151d3fb3590a",
       "outputs": [
        {
         "name": "stdout",
         "output_type": "stream",
         "text": "----------------------------------------------------------------------------------------------------\n\nNo search term entered.\nPlease try again.\n\n----------------------------------------------------------------------------------------------------\n----------------------------------------------------------------------------------------------------\n\nNo search term entered.\nPlease try again.\n\n----------------------------------------------------------------------------------------------------\n----------------------------------------------------------------------------------------------------\n\nNo search term entered.\nPlease try again.\n\n----------------------------------------------------------------------------------------------------\n----------------------------------------------------------------------------------------------------\n\nNo search term entered.\nPlease try again.\n\n----------------------------------------------------------------------------------------------------\n"
        }
       ]
      }
     },
     "58057507667d44ebb89255662c7ea7bd": {
      "model_module": "@jupyter-widgets/controls",
      "model_module_version": "2.0.0",
      "model_name": "DropdownModel",
      "state": {
       "_options_labels": [
        "0",
        "1"
       ],
       "description": "Selection:",
       "index": 0,
       "layout": "IPY_MODEL_7daf3e420bb24faba46a69f1fff2e9ed",
       "style": "IPY_MODEL_a269b0b7c70f44ba8938728fc0caf0c9"
      }
     },
     "5826bdbd9c9e4f2c9371534a8a641461": {
      "model_module": "@jupyter-widgets/base",
      "model_module_version": "2.0.0",
      "model_name": "LayoutModel",
      "state": {}
     },
     "58565069e6814c60b672ffe643f05d35": {
      "model_module": "@jupyter-widgets/base",
      "model_module_version": "2.0.0",
      "model_name": "LayoutModel",
      "state": {}
     },
     "5a05b5ebf50d41358272a328fc2b8174": {
      "model_module": "@jupyter-widgets/base",
      "model_module_version": "2.0.0",
      "model_name": "LayoutModel",
      "state": {}
     },
     "5a1ef1cf75f64d70be789590cc1c443c": {
      "model_module": "@jupyter-widgets/base",
      "model_module_version": "2.0.0",
      "model_name": "LayoutModel",
      "state": {}
     },
     "5a9a94446d1f4577a584ee058af58071": {
      "model_module": "@jupyter-widgets/base",
      "model_module_version": "2.0.0",
      "model_name": "LayoutModel",
      "state": {}
     },
     "5ae749802ef34889a390a46445e4bcb1": {
      "model_module": "@jupyter-widgets/controls",
      "model_module_version": "2.0.0",
      "model_name": "SelectMultipleModel",
      "state": {
       "_options_labels": [
        "auxil",
        "bat",
        "xrt",
        "uvot",
        "log"
       ],
       "description": "File Type(s)",
       "index": [
        0
       ],
       "layout": "IPY_MODEL_fbf21840a7ea40e09721709b8d594a82",
       "rows": 5,
       "style": "IPY_MODEL_a627ec3bc05547f4958a0cc73cfdc635"
      }
     },
     "5b1f5541f6454abf95d203256f864a7b": {
      "model_module": "@jupyter-widgets/controls",
      "model_module_version": "2.0.0",
      "model_name": "DropdownModel",
      "state": {
       "_options_labels": [
        "0",
        "1"
       ],
       "description": "Selection:",
       "index": 0,
       "layout": "IPY_MODEL_b8b71cd7ad0847e2ae8f5c60d3abfc54",
       "style": "IPY_MODEL_6f2178f9d2064403945db247c68a63dc"
      }
     },
     "5b1f652acc0045dcbd93a472a3e7cf98": {
      "model_module": "@jupyter-widgets/controls",
      "model_module_version": "2.0.0",
      "model_name": "ButtonModel",
      "state": {
       "description": "Confirm",
       "layout": "IPY_MODEL_32befbc4703b4e8dbd7edbd629c06757",
       "style": "IPY_MODEL_38c6c87fba3c49d9a8d4c2a99df96fd7",
       "tooltip": "Confirm download"
      }
     },
     "5b23d09a4689451fa842eb95b9295edf": {
      "model_module": "@jupyter-widgets/controls",
      "model_module_version": "2.0.0",
      "model_name": "ToggleButtonsModel",
      "state": {
       "_options_labels": [
        "uncompressed",
        "tar",
        "zip"
       ],
       "button_style": "",
       "description": "Download Type:",
       "icons": [],
       "index": 0,
       "layout": "IPY_MODEL_1ceeb872fd9040a684d41a18a1d8f2d0",
       "style": "IPY_MODEL_2f53eb3006584d4999563fa71261ef77",
       "tooltips": [
        "uncompressed",
        "tar",
        "zip"
       ]
      }
     },
     "5b3e831479e7453398cdc7a7414a956f": {
      "model_module": "@jupyter-widgets/controls",
      "model_module_version": "2.0.0",
      "model_name": "TextStyleModel",
      "state": {
       "description_width": "",
       "font_size": null,
       "text_color": null
      }
     },
     "5b85b3817e6d4ac398f72dfd109f417a": {
      "model_module": "@jupyter-widgets/controls",
      "model_module_version": "2.0.0",
      "model_name": "SelectMultipleModel",
      "state": {
       "_options_labels": [
        "auxil",
        "bat",
        "xrt",
        "uvot",
        "log"
       ],
       "description": "File Type(s)",
       "index": [
        0
       ],
       "layout": "IPY_MODEL_77a5c98476da45999b29d8965f65c6fe",
       "rows": 5,
       "style": "IPY_MODEL_a27c1545f0714362878fc61b6f1cb816"
      }
     },
     "5b89aaccc17f422c865be3b89ef56a07": {
      "model_module": "@jupyter-widgets/output",
      "model_module_version": "1.0.0",
      "model_name": "OutputModel",
      "state": {
       "layout": "IPY_MODEL_bee434c62b024fcfac5b1ed1c7435725"
      }
     },
     "5bc2d85db1924794aaf88bf19d557d19": {
      "model_module": "@jupyter-widgets/controls",
      "model_module_version": "2.0.0",
      "model_name": "CheckboxModel",
      "state": {
       "description": "Overwrite Data",
       "disabled": false,
       "indent": false,
       "layout": "IPY_MODEL_a560cfa008f943efba261c3e5171005e",
       "style": "IPY_MODEL_547437c726ed4e5a82104fdf6df7307e",
       "value": false
      }
     },
     "5bfa16c398ed438dbf2b6a83726041ad": {
      "model_module": "@jupyter-widgets/controls",
      "model_module_version": "2.0.0",
      "model_name": "ButtonModel",
      "state": {
       "description": "Search Archives",
       "disabled": true,
       "layout": "IPY_MODEL_ddd6793f16f54e38886a37ec7963ec3e",
       "style": "IPY_MODEL_32d7b10837b540deb1deee0dc5661dcb",
       "tooltip": "Search the Swift archives"
      }
     },
     "5c80f1e048314f5184041c5286f0056c": {
      "model_module": "@jupyter-widgets/base",
      "model_module_version": "2.0.0",
      "model_name": "LayoutModel",
      "state": {}
     },
     "5d52aafc46dd43b9bd56b139e05cd8d0": {
      "model_module": "@jupyter-widgets/base",
      "model_module_version": "2.0.0",
      "model_name": "LayoutModel",
      "state": {}
     },
     "5d96f87af4334b9eb80539c992cfc180": {
      "model_module": "@jupyter-widgets/controls",
      "model_module_version": "2.0.0",
      "model_name": "ButtonModel",
      "state": {
       "description": "Confirm",
       "disabled": true,
       "layout": "IPY_MODEL_1058ee2eed7c489ba907d2e416bf9e97",
       "style": "IPY_MODEL_95c784a96e26474b8dcc1edd55948910",
       "tooltip": "Confirm download"
      }
     },
     "5da9afa9e53a49269921dc574a4c2912": {
      "model_module": "@jupyter-widgets/controls",
      "model_module_version": "2.0.0",
      "model_name": "ToggleButtonsStyleModel",
      "state": {
       "button_width": "",
       "description_width": ""
      }
     },
     "5e626ccb6fcb42709b40bb26e76d2b9c": {
      "model_module": "@jupyter-widgets/controls",
      "model_module_version": "2.0.0",
      "model_name": "SelectMultipleModel",
      "state": {
       "_options_labels": [
        "auxil",
        "bat",
        "xrt",
        "uvot",
        "log"
       ],
       "description": "File Type(s)",
       "index": [
        0
       ],
       "layout": "IPY_MODEL_fd2728a905e44529911cb2a6961a5382",
       "rows": 5,
       "style": "IPY_MODEL_17b8ae41a41b45a2b07f8651cdc1cdcd"
      }
     },
     "607c71a91d274608b8e2a88de37dab83": {
      "model_module": "@jupyter-widgets/controls",
      "model_module_version": "2.0.0",
      "model_name": "ButtonStyleModel",
      "state": {
       "font_family": null,
       "font_size": null,
       "font_style": null,
       "font_variant": null,
       "font_weight": null,
       "text_color": null,
       "text_decoration": null
      }
     },
     "611f3d96f2ad47929e5bdbe3ab089de5": {
      "model_module": "@jupyter-widgets/controls",
      "model_module_version": "2.0.0",
      "model_name": "DescriptionStyleModel",
      "state": {
       "description_width": ""
      }
     },
     "61274e6531c64421beb960fd94b71f0f": {
      "model_module": "@jupyter-widgets/controls",
      "model_module_version": "2.0.0",
      "model_name": "DropdownModel",
      "state": {
       "_options_labels": [
        "0",
        "1"
       ],
       "description": "Selection:",
       "index": 0,
       "layout": "IPY_MODEL_80e7ebb4071a4afba2d7a0bf9156c19a",
       "style": "IPY_MODEL_23d2e37f42294a889f3a07c95da588cb"
      }
     },
     "61d1f856121442208e9c1885fb39d0e2": {
      "model_module": "@jupyter-widgets/controls",
      "model_module_version": "2.0.0",
      "model_name": "TextModel",
      "state": {
       "description": "Search Term:",
       "layout": "IPY_MODEL_79fa669b5f25475fa114b61b5fcd0bc8",
       "placeholder": "",
       "style": "IPY_MODEL_483def4730094e698c773a913ce2d331",
       "value": "C/2013US10CatalinaOrbit2Ptg2"
      }
     },
     "620b0a5fb6224eb3ac7dda6f07e2f58d": {
      "model_module": "@jupyter-widgets/controls",
      "model_module_version": "2.0.0",
      "model_name": "ButtonModel",
      "state": {
       "description": "Confirm",
       "layout": "IPY_MODEL_65ef2c83561e49839c52a62c6bea1eb4",
       "style": "IPY_MODEL_71d8d18829e24c62a2ef8384cd6a6da3",
       "tooltip": "Confirm download"
      }
     },
     "6294de6ff005466fa1f18ee02dfd1efa": {
      "model_module": "@jupyter-widgets/base",
      "model_module_version": "2.0.0",
      "model_name": "LayoutModel",
      "state": {}
     },
     "6300314c59e74b2d892907f8d618f2cc": {
      "model_module": "@jupyter-widgets/controls",
      "model_module_version": "2.0.0",
      "model_name": "ButtonModel",
      "state": {
       "description": "Search Archives",
       "layout": "IPY_MODEL_f9ea3cc282104e6b8b257c0488478ad8",
       "style": "IPY_MODEL_74676db66ce94c2ca2b6286ba97d8042",
       "tooltip": "Search the Swift archives"
      }
     },
     "6399de36d9274dc7af020763fa3723a5": {
      "model_module": "@jupyter-widgets/controls",
      "model_module_version": "2.0.0",
      "model_name": "ButtonModel",
      "state": {
       "description": "Search Archives",
       "disabled": true,
       "layout": "IPY_MODEL_29fbe222659645ddbc008d737de95cf3",
       "style": "IPY_MODEL_c6f22b527a9f47ad96b76db096d8d2c3",
       "tooltip": "Search the Swift archives"
      }
     },
     "63b29f38c8bb430bbaec254d8be932cb": {
      "model_module": "@jupyter-widgets/base",
      "model_module_version": "2.0.0",
      "model_name": "LayoutModel",
      "state": {}
     },
     "63ec1f3deeb948f5a91614b0fceba1b0": {
      "model_module": "@jupyter-widgets/controls",
      "model_module_version": "2.0.0",
      "model_name": "DescriptionStyleModel",
      "state": {
       "description_width": ""
      }
     },
     "644b51c542ed43b9b45000085e8d15e7": {
      "model_module": "@jupyter-widgets/base",
      "model_module_version": "2.0.0",
      "model_name": "LayoutModel",
      "state": {}
     },
     "646d58411a434e639e0bc3ee4fe4f8ff": {
      "model_module": "@jupyter-widgets/base",
      "model_module_version": "2.0.0",
      "model_name": "LayoutModel",
      "state": {}
     },
     "64a6134c54264a7f8cece7f56b24d5be": {
      "model_module": "@jupyter-widgets/controls",
      "model_module_version": "2.0.0",
      "model_name": "ToggleButtonsModel",
      "state": {
       "_options_labels": [
        "uncompressed",
        "tar",
        "zip"
       ],
       "button_style": "",
       "description": "Download Type:",
       "icons": [],
       "index": 0,
       "layout": "IPY_MODEL_557270cf628944cba0637d75aff46388",
       "style": "IPY_MODEL_44aa64a077f34a8589e2e0df480df90a",
       "tooltips": [
        "uncompressed",
        "tar",
        "zip"
       ]
      }
     },
     "64e60f93a3414740b51c28d695d898b9": {
      "model_module": "@jupyter-widgets/controls",
      "model_module_version": "2.0.0",
      "model_name": "DropdownModel",
      "state": {
       "_options_labels": [
        "0",
        "1"
       ],
       "description": "Selection:",
       "index": 0,
       "layout": "IPY_MODEL_73b986a06a6b44419bf033728419ac1f",
       "style": "IPY_MODEL_9d53f25df06a4d32aa9c092c003348dd"
      }
     },
     "64f930c8e88c451bacb3039532644cbe": {
      "model_module": "@jupyter-widgets/controls",
      "model_module_version": "2.0.0",
      "model_name": "ButtonModel",
      "state": {
       "description": "Confirm",
       "disabled": true,
       "layout": "IPY_MODEL_d9883e1f584c4e188ccd918e78f39174",
       "style": "IPY_MODEL_8db9b81e59ee4c689e538212b2bb821b",
       "tooltip": "Confirm download"
      }
     },
     "65beb45065a94c43b15e04b110d56e8c": {
      "model_module": "@jupyter-widgets/controls",
      "model_module_version": "2.0.0",
      "model_name": "DescriptionStyleModel",
      "state": {
       "description_width": ""
      }
     },
     "65ef2c83561e49839c52a62c6bea1eb4": {
      "model_module": "@jupyter-widgets/base",
      "model_module_version": "2.0.0",
      "model_name": "LayoutModel",
      "state": {}
     },
     "667e9873978a4fdd9ea22b1b8992bdf9": {
      "model_module": "@jupyter-widgets/controls",
      "model_module_version": "2.0.0",
      "model_name": "DescriptionStyleModel",
      "state": {
       "description_width": ""
      }
     },
     "66a5b8ce013c4eeb8b30589a826ced41": {
      "model_module": "@jupyter-widgets/controls",
      "model_module_version": "2.0.0",
      "model_name": "DescriptionStyleModel",
      "state": {
       "description_width": ""
      }
     },
     "6728148d8e1a4ea1b2cf544e7299f940": {
      "model_module": "@jupyter-widgets/base",
      "model_module_version": "2.0.0",
      "model_name": "LayoutModel",
      "state": {}
     },
     "67499afb209d49c48317449a9d0ea84c": {
      "model_module": "@jupyter-widgets/controls",
      "model_module_version": "2.0.0",
      "model_name": "ToggleButtonsModel",
      "state": {
       "_options_labels": [
        "uncompressed",
        "tar",
        "zip"
       ],
       "button_style": "",
       "description": "Download Type:",
       "icons": [],
       "index": 0,
       "layout": "IPY_MODEL_9848f7f021d2426092ba98fcf32fe479",
       "style": "IPY_MODEL_3f2545827a5e489fa3b16eac5671e58b",
       "tooltips": [
        "uncompressed",
        "tar",
        "zip"
       ]
      }
     },
     "67820e087d2f470b915e4923cd00e12d": {
      "model_module": "@jupyter-widgets/base",
      "model_module_version": "2.0.0",
      "model_name": "LayoutModel",
      "state": {}
     },
     "6786b6eb198449018ad4360d8d398013": {
      "model_module": "@jupyter-widgets/controls",
      "model_module_version": "2.0.0",
      "model_name": "ButtonModel",
      "state": {
       "description": "Confirm",
       "disabled": true,
       "layout": "IPY_MODEL_3c40a84342504df998f986e5046d0a09",
       "style": "IPY_MODEL_88fa73ce827a4b06b50d4860aa64c78e",
       "tooltip": "Confirm download"
      }
     },
     "67baef339693431cb8b58be92be36482": {
      "model_module": "@jupyter-widgets/controls",
      "model_module_version": "2.0.0",
      "model_name": "ButtonStyleModel",
      "state": {
       "font_family": null,
       "font_size": null,
       "font_style": null,
       "font_variant": null,
       "font_weight": null,
       "text_color": null,
       "text_decoration": null
      }
     },
     "67d3ad73013c47dba7c731d539f36e0e": {
      "model_module": "@jupyter-widgets/base",
      "model_module_version": "2.0.0",
      "model_name": "LayoutModel",
      "state": {}
     },
     "6852cd2e3df8423098810279a0d5b832": {
      "model_module": "@jupyter-widgets/controls",
      "model_module_version": "2.0.0",
      "model_name": "CheckboxStyleModel",
      "state": {
       "description_width": ""
      }
     },
     "6a9c338e762e4f0c9fff7eac2c0d1e87": {
      "model_module": "@jupyter-widgets/controls",
      "model_module_version": "2.0.0",
      "model_name": "CheckboxStyleModel",
      "state": {
       "description_width": ""
      }
     },
     "6aadfdcd47c54d0985b7bb7b9a5f8f86": {
      "model_module": "@jupyter-widgets/controls",
      "model_module_version": "2.0.0",
      "model_name": "TextModel",
      "state": {
       "description": "Search Term:",
       "layout": "IPY_MODEL_8e369b8ffd42435a84be5ee3b50bc565",
       "placeholder": "",
       "style": "IPY_MODEL_7ebd77f476aa479bb67f47a45dc3b0bc"
      }
     },
     "6b4022871a4e4bd68ff5c60f6773c3dc": {
      "model_module": "@jupyter-widgets/output",
      "model_module_version": "1.0.0",
      "model_name": "OutputModel",
      "state": {
       "layout": "IPY_MODEL_272528059df2413ab8600dd731b84942",
       "outputs": [
        {
         "name": "stdout",
         "output_type": "stream",
         "text": "----------------------------------------------------------------------------------------------------\n\nFound a single data file for the search term 'C/2013US10CatalinaOrbit2Ptg2':\n\n----------------------------------------------------------------------------------------------------\n\nName of observation: C/2013US10CatalinaOrbit2Ptg2 \t\t Total number of observations: 1\n\n----------------------------------------------------------------------------------------------------\nSelect one of the following:\n\n\t\t0\tDownload the data file listed above to /Users/jduffy0121/Desktop\n\t\t1\tCancel download\n\n"
        },
        {
         "data": {
          "application/vnd.jupyter.widget-view+json": {
           "model_id": "062b9bbc0fd24643aa2c510b5a5765a4",
           "version_major": 2,
           "version_minor": 0
          },
          "text/plain": "Dropdown(description='Selection:', options=(('0', 0), ('1', 1)), value=0)"
         },
         "metadata": {},
         "output_type": "display_data"
        },
        {
         "data": {
          "application/vnd.jupyter.widget-view+json": {
           "model_id": "136ac2fa9c824f7a9413f4ebedd85a56",
           "version_major": 2,
           "version_minor": 0
          },
          "text/plain": "Button(description='Confirm', style=ButtonStyle(), tooltip='Confirm download')"
         },
         "metadata": {},
         "output_type": "display_data"
        },
        {
         "data": {
          "application/vnd.jupyter.widget-view+json": {
           "model_id": "72a6a536926042408603c22e51aea393",
           "version_major": 2,
           "version_minor": 0
          },
          "text/plain": "Output()"
         },
         "metadata": {},
         "output_type": "display_data"
        },
        {
         "name": "stdout",
         "output_type": "stream",
         "text": "----------------------------------------------------------------------------------------------------\n\nNo files downloaded\n\n----------------------------------------------------------------------------------------------------\n----------------------------------------------------------------------------------------------------\n\nFound a single data file for the search term 'C/2013US10CatalinaOrbit2Ptg2':\n\n----------------------------------------------------------------------------------------------------\n\nName of observation: C/2013US10CatalinaOrbit2Ptg2 \t\t Total number of observations: 1\n\n----------------------------------------------------------------------------------------------------\nSelect one of the following:\n\n\t\t0\tDownload the data file listed above to /Users/jduffy0121/Desktop\n\t\t1\tCancel download\n\n"
        },
        {
         "data": {
          "application/vnd.jupyter.widget-view+json": {
           "model_id": "062b9bbc0fd24643aa2c510b5a5765a4",
           "version_major": 2,
           "version_minor": 0
          },
          "text/plain": "Dropdown(description='Selection:', index=1, options=(('0', 0), ('1', 1)), value=1)"
         },
         "metadata": {},
         "output_type": "display_data"
        },
        {
         "data": {
          "application/vnd.jupyter.widget-view+json": {
           "model_id": "136ac2fa9c824f7a9413f4ebedd85a56",
           "version_major": 2,
           "version_minor": 0
          },
          "text/plain": "Button(description='Confirm', style=ButtonStyle(), tooltip='Confirm download')"
         },
         "metadata": {},
         "output_type": "display_data"
        },
        {
         "data": {
          "application/vnd.jupyter.widget-view+json": {
           "model_id": "794fdf92c0e24f9595227dce41c3c6ce",
           "version_major": 2,
           "version_minor": 0
          },
          "text/plain": "Output()"
         },
         "metadata": {},
         "output_type": "display_data"
        },
        {
         "name": "stdout",
         "output_type": "stream",
         "text": "----------------------------------------------------------------------------------------------------\n\nDownloading auxil data of target id 00034317 to /Users/jduffy0121/Desktop ...\nDownload Completed!\n\n----------------------------------------------------------------------------------------------------\n----------------------------------------------------------------------------------------------------\n\nFound a single data file for the search term 'C/2013US10CatalinaOrbit2Ptg2':\n\n----------------------------------------------------------------------------------------------------\n\nName of observation: C/2013US10CatalinaOrbit2Ptg2 \t\t Total number of observations: 1\n\n----------------------------------------------------------------------------------------------------\nSelect one of the following:\n\n\t\t0\tDownload the data file listed above to /Users/jduffy0121/Desktop\n\t\t1\tCancel download\n\n"
        },
        {
         "data": {
          "application/vnd.jupyter.widget-view+json": {
           "model_id": "062b9bbc0fd24643aa2c510b5a5765a4",
           "version_major": 2,
           "version_minor": 0
          },
          "text/plain": "Dropdown(description='Selection:', options=(('0', 0), ('1', 1)), value=0)"
         },
         "metadata": {},
         "output_type": "display_data"
        },
        {
         "data": {
          "application/vnd.jupyter.widget-view+json": {
           "model_id": "136ac2fa9c824f7a9413f4ebedd85a56",
           "version_major": 2,
           "version_minor": 0
          },
          "text/plain": "Button(description='Confirm', style=ButtonStyle(), tooltip='Confirm download')"
         },
         "metadata": {},
         "output_type": "display_data"
        },
        {
         "data": {
          "application/vnd.jupyter.widget-view+json": {
           "model_id": "40088f5e8d4a4f48a2f03f26a3932f87",
           "version_major": 2,
           "version_minor": 0
          },
          "text/plain": "Output()"
         },
         "metadata": {},
         "output_type": "display_data"
        },
        {
         "name": "stdout",
         "output_type": "stream",
         "text": "----------------------------------------------------------------------------------------------------\n"
        }
       ]
      }
     },
     "6b780f59f26048b8a49696c4a485a8f2": {
      "model_module": "@jupyter-widgets/base",
      "model_module_version": "2.0.0",
      "model_name": "LayoutModel",
      "state": {}
     },
     "6b78f896162d4b90859fa29c4cab315d": {
      "model_module": "@jupyter-widgets/controls",
      "model_module_version": "2.0.0",
      "model_name": "TextStyleModel",
      "state": {
       "description_width": "",
       "font_size": null,
       "text_color": null
      }
     },
     "6bbf492a7b854a52947bb57fb8433821": {
      "model_module": "@jupyter-widgets/controls",
      "model_module_version": "2.0.0",
      "model_name": "TextStyleModel",
      "state": {
       "description_width": "",
       "font_size": null,
       "text_color": null
      }
     },
     "6be8b3ff8a334b679ce0e88bdae13a0c": {
      "model_module": "@jupyter-widgets/controls",
      "model_module_version": "2.0.0",
      "model_name": "TextModel",
      "state": {
       "description": "Search Term:",
       "disabled": true,
       "layout": "IPY_MODEL_a7437beed8e94a11be0c66e1e1ea176e",
       "placeholder": "",
       "style": "IPY_MODEL_b333b85fbc904c0493c6e671acce6686",
       "value": "C/2013US10CatalinaOrbit2Ptg2"
      }
     },
     "6c5de95707894168b6031af2c9e25460": {
      "model_module": "@jupyter-widgets/controls",
      "model_module_version": "2.0.0",
      "model_name": "ToggleButtonsStyleModel",
      "state": {
       "button_width": "",
       "description_width": ""
      }
     },
     "6db5da2b8c7a4537a5d58f8024a95952": {
      "model_module": "@jupyter-widgets/controls",
      "model_module_version": "2.0.0",
      "model_name": "CheckboxModel",
      "state": {
       "description": "Overwrite Data",
       "disabled": false,
       "indent": false,
       "layout": "IPY_MODEL_237ecbc9ade94d8fa88f0c442e5ab012",
       "style": "IPY_MODEL_c5cfd4cfb0df4a959f49bb6c72d340d6",
       "value": false
      }
     },
     "6de027ef9ef4416984702bafe27e57f7": {
      "model_module": "@jupyter-widgets/controls",
      "model_module_version": "2.0.0",
      "model_name": "CheckboxModel",
      "state": {
       "description": "Overwrite Data",
       "disabled": false,
       "indent": false,
       "layout": "IPY_MODEL_5a9a94446d1f4577a584ee058af58071",
       "style": "IPY_MODEL_afbce40fddb54722bba7362d7fcaa60f",
       "value": false
      }
     },
     "6ded750e74514e8b96b122a925d2aa9e": {
      "model_module": "@jupyter-widgets/base",
      "model_module_version": "2.0.0",
      "model_name": "LayoutModel",
      "state": {}
     },
     "6dfc4ede3a21408998e836c16b9de5d6": {
      "model_module": "@jupyter-widgets/controls",
      "model_module_version": "2.0.0",
      "model_name": "CheckboxStyleModel",
      "state": {
       "description_width": ""
      }
     },
     "6eda16079f064a2d9cf184f81e9a64ab": {
      "model_module": "@jupyter-widgets/base",
      "model_module_version": "2.0.0",
      "model_name": "LayoutModel",
      "state": {}
     },
     "6f2178f9d2064403945db247c68a63dc": {
      "model_module": "@jupyter-widgets/controls",
      "model_module_version": "2.0.0",
      "model_name": "DescriptionStyleModel",
      "state": {
       "description_width": ""
      }
     },
     "6f557621468e487c88c5ffd10d45100d": {
      "model_module": "@jupyter-widgets/base",
      "model_module_version": "2.0.0",
      "model_name": "LayoutModel",
      "state": {}
     },
     "6ff750607c9a429dbb42cff1353ed4fd": {
      "model_module": "@jupyter-widgets/controls",
      "model_module_version": "2.0.0",
      "model_name": "DescriptionStyleModel",
      "state": {
       "description_width": ""
      }
     },
     "70cc767f922449ff80ec8f8d08f4bc12": {
      "model_module": "@jupyter-widgets/base",
      "model_module_version": "2.0.0",
      "model_name": "LayoutModel",
      "state": {}
     },
     "712eca2b39bf4986a540704325dd444d": {
      "model_module": "@jupyter-widgets/controls",
      "model_module_version": "2.0.0",
      "model_name": "CheckboxModel",
      "state": {
       "description": "Overwrite Data",
       "disabled": false,
       "indent": false,
       "layout": "IPY_MODEL_0da7434db4a94c1a8b8acb27ef140ee0",
       "style": "IPY_MODEL_c98991937cd144eb927680cd9b564b7a",
       "value": false
      }
     },
     "71d8d18829e24c62a2ef8384cd6a6da3": {
      "model_module": "@jupyter-widgets/controls",
      "model_module_version": "2.0.0",
      "model_name": "ButtonStyleModel",
      "state": {
       "font_family": null,
       "font_size": null,
       "font_style": null,
       "font_variant": null,
       "font_weight": null,
       "text_color": null,
       "text_decoration": null
      }
     },
     "725778c8e4e948c99bc4846d092fd6f6": {
      "model_module": "@jupyter-widgets/controls",
      "model_module_version": "2.0.0",
      "model_name": "ButtonStyleModel",
      "state": {
       "font_family": null,
       "font_size": null,
       "font_style": null,
       "font_variant": null,
       "font_weight": null,
       "text_color": null,
       "text_decoration": null
      }
     },
     "72596e7bdf4f4810ab46d271ad0fa028": {
      "model_module": "@jupyter-widgets/controls",
      "model_module_version": "2.0.0",
      "model_name": "ButtonModel",
      "state": {
       "description": "Confirm",
       "layout": "IPY_MODEL_db0de1828c5847c4bb759e869c8b98be",
       "style": "IPY_MODEL_a1dacfc1aee44ae9904542b792c82175",
       "tooltip": "Confirm download"
      }
     },
     "72a6a536926042408603c22e51aea393": {
      "model_module": "@jupyter-widgets/output",
      "model_module_version": "1.0.0",
      "model_name": "OutputModel",
      "state": {
       "layout": "IPY_MODEL_3721ccddec6b4f26a3638a18a8584501"
      }
     },
     "72e6381928e441abbceeb6db9eea9dd1": {
      "model_module": "@jupyter-widgets/controls",
      "model_module_version": "2.0.0",
      "model_name": "ToggleButtonsStyleModel",
      "state": {
       "button_width": "",
       "description_width": ""
      }
     },
     "7316d93e0f244004b2fbbd20ee9c7473": {
      "model_module": "@jupyter-widgets/base",
      "model_module_version": "2.0.0",
      "model_name": "LayoutModel",
      "state": {}
     },
     "73b937d31f224e2c9f2455e331bce628": {
      "model_module": "@jupyter-widgets/base",
      "model_module_version": "2.0.0",
      "model_name": "LayoutModel",
      "state": {}
     },
     "73b986a06a6b44419bf033728419ac1f": {
      "model_module": "@jupyter-widgets/base",
      "model_module_version": "2.0.0",
      "model_name": "LayoutModel",
      "state": {}
     },
     "74227b71dfb34445b3f44cfd7d1574c9": {
      "model_module": "@jupyter-widgets/base",
      "model_module_version": "2.0.0",
      "model_name": "LayoutModel",
      "state": {}
     },
     "74676db66ce94c2ca2b6286ba97d8042": {
      "model_module": "@jupyter-widgets/controls",
      "model_module_version": "2.0.0",
      "model_name": "ButtonStyleModel",
      "state": {
       "font_family": null,
       "font_size": null,
       "font_style": null,
       "font_variant": null,
       "font_weight": null,
       "text_color": null,
       "text_decoration": null
      }
     },
     "749213385e654251864b4d18882d5fc2": {
      "model_module": "@jupyter-widgets/base",
      "model_module_version": "2.0.0",
      "model_name": "LayoutModel",
      "state": {}
     },
     "74a984c0845f40d8a0febf235776ffa5": {
      "model_module": "@jupyter-widgets/controls",
      "model_module_version": "2.0.0",
      "model_name": "ButtonModel",
      "state": {
       "description": "Search Archives",
       "disabled": true,
       "layout": "IPY_MODEL_8aa587848cd34e76b41aa58bbe958fe2",
       "style": "IPY_MODEL_37c3ff8119424144947feb17fbcdc014",
       "tooltip": "Search the Swift archives"
      }
     },
     "751043b49a664d45bacb1975bee922af": {
      "model_module": "@jupyter-widgets/controls",
      "model_module_version": "2.0.0",
      "model_name": "DropdownModel",
      "state": {
       "_options_labels": [
        "0",
        "1"
       ],
       "description": "Selection:",
       "disabled": true,
       "index": 1,
       "layout": "IPY_MODEL_3062c652986b45f4b989c6267ce9eb8b",
       "style": "IPY_MODEL_1e820f85b6eb4bf19891a5cf7ea3abe4"
      }
     },
     "756f8218947f4f9698d88f852732349f": {
      "model_module": "@jupyter-widgets/controls",
      "model_module_version": "2.0.0",
      "model_name": "ButtonModel",
      "state": {
       "description": "Search Archives",
       "layout": "IPY_MODEL_caf6ec06ba954d7b800b6f55d5a6276b",
       "style": "IPY_MODEL_cf4e4fa2768b49d2b4eae8e5e05c0553",
       "tooltip": "Search the Swift archives"
      }
     },
     "75960a270f4240288f63261323ab7076": {
      "model_module": "@jupyter-widgets/controls",
      "model_module_version": "2.0.0",
      "model_name": "DescriptionStyleModel",
      "state": {
       "description_width": ""
      }
     },
     "75e3299494674bbfb424734f27d2cf6d": {
      "model_module": "@jupyter-widgets/controls",
      "model_module_version": "2.0.0",
      "model_name": "ButtonStyleModel",
      "state": {
       "font_family": null,
       "font_size": null,
       "font_style": null,
       "font_variant": null,
       "font_weight": null,
       "text_color": null,
       "text_decoration": null
      }
     },
     "760d8c3070794136adc0b7559c1b0669": {
      "model_module": "@jupyter-widgets/controls",
      "model_module_version": "2.0.0",
      "model_name": "TextModel",
      "state": {
       "description": "Search Term:",
       "layout": "IPY_MODEL_dfb56be29e674f1e8f1d2b7c6c03f549",
       "placeholder": "",
       "style": "IPY_MODEL_fc5b2129a59b4151a3bbf9196d08fabd"
      }
     },
     "76491be737ff419cb8a0b6f9b06695aa": {
      "model_module": "@jupyter-widgets/base",
      "model_module_version": "2.0.0",
      "model_name": "LayoutModel",
      "state": {}
     },
     "76a3e8dced8d4e6cac69e7aa477f451c": {
      "model_module": "@jupyter-widgets/controls",
      "model_module_version": "2.0.0",
      "model_name": "DescriptionStyleModel",
      "state": {
       "description_width": ""
      }
     },
     "7714746609d54fe38fbe537b19d8e3af": {
      "model_module": "@jupyter-widgets/base",
      "model_module_version": "2.0.0",
      "model_name": "LayoutModel",
      "state": {}
     },
     "771fc1ea46354c7c842d09531a2815b4": {
      "model_module": "@jupyter-widgets/base",
      "model_module_version": "2.0.0",
      "model_name": "LayoutModel",
      "state": {}
     },
     "77a5c98476da45999b29d8965f65c6fe": {
      "model_module": "@jupyter-widgets/base",
      "model_module_version": "2.0.0",
      "model_name": "LayoutModel",
      "state": {}
     },
     "77e8c2ab34754a1d88bf0503ad53fdaf": {
      "model_module": "@jupyter-widgets/base",
      "model_module_version": "2.0.0",
      "model_name": "LayoutModel",
      "state": {}
     },
     "78c4c3ef9fa144d99c540b06d7336009": {
      "model_module": "@jupyter-widgets/base",
      "model_module_version": "2.0.0",
      "model_name": "LayoutModel",
      "state": {}
     },
     "78d3e97f182a424f9139575ab93ce59c": {
      "model_module": "@jupyter-widgets/output",
      "model_module_version": "1.0.0",
      "model_name": "OutputModel",
      "state": {
       "layout": "IPY_MODEL_7d8c315df1db469c8bf907ff82760c78"
      }
     },
     "78d81a89946741bb9bb12481b6d2deab": {
      "model_module": "@jupyter-widgets/controls",
      "model_module_version": "2.0.0",
      "model_name": "ButtonModel",
      "state": {
       "description": "Confirm",
       "layout": "IPY_MODEL_63b29f38c8bb430bbaec254d8be932cb",
       "style": "IPY_MODEL_67baef339693431cb8b58be92be36482",
       "tooltip": "Confirm download"
      }
     },
     "79312c9e548044d0b26fe23f37ed957d": {
      "model_module": "@jupyter-widgets/base",
      "model_module_version": "2.0.0",
      "model_name": "LayoutModel",
      "state": {}
     },
     "794fdf92c0e24f9595227dce41c3c6ce": {
      "model_module": "@jupyter-widgets/output",
      "model_module_version": "1.0.0",
      "model_name": "OutputModel",
      "state": {
       "layout": "IPY_MODEL_e3aa2537ec504d048ebf582b379102fc"
      }
     },
     "79909dda64b1453c8a18a2f3cf18574f": {
      "model_module": "@jupyter-widgets/base",
      "model_module_version": "2.0.0",
      "model_name": "LayoutModel",
      "state": {}
     },
     "79fa669b5f25475fa114b61b5fcd0bc8": {
      "model_module": "@jupyter-widgets/base",
      "model_module_version": "2.0.0",
      "model_name": "LayoutModel",
      "state": {}
     },
     "7a47969a3164453ca9b4f28255520d17": {
      "model_module": "@jupyter-widgets/output",
      "model_module_version": "1.0.0",
      "model_name": "OutputModel",
      "state": {
       "layout": "IPY_MODEL_1f4a1e36068a4f71966d8fc2b0df914f"
      }
     },
     "7b240b2b4f4b43c5af24b5c27cb81cc0": {
      "model_module": "@jupyter-widgets/controls",
      "model_module_version": "2.0.0",
      "model_name": "DropdownModel",
      "state": {
       "_options_labels": [
        "0",
        "1"
       ],
       "description": "Selection:",
       "index": 0,
       "layout": "IPY_MODEL_0bea2c41fc704cdbac89bb7b4902ccbc",
       "style": "IPY_MODEL_6ff750607c9a429dbb42cff1353ed4fd"
      }
     },
     "7c32033ab16c43da99207b4d3cce2a11": {
      "model_module": "@jupyter-widgets/controls",
      "model_module_version": "2.0.0",
      "model_name": "ButtonModel",
      "state": {
       "description": "Search Archives",
       "disabled": true,
       "layout": "IPY_MODEL_9917609dc6da4c63b36f864f7b0b1c97",
       "style": "IPY_MODEL_bc9d0ee5fd3d41dfa040bc4e415ca41e",
       "tooltip": "Search the Swift archives"
      }
     },
     "7d520658cb1647d9bca7f22c45115eec": {
      "model_module": "@jupyter-widgets/output",
      "model_module_version": "1.0.0",
      "model_name": "OutputModel",
      "state": {
       "layout": "IPY_MODEL_9529ddf3adfc4e5cb635e4267d161bd5"
      }
     },
     "7d8c315df1db469c8bf907ff82760c78": {
      "model_module": "@jupyter-widgets/base",
      "model_module_version": "2.0.0",
      "model_name": "LayoutModel",
      "state": {}
     },
     "7daf3e420bb24faba46a69f1fff2e9ed": {
      "model_module": "@jupyter-widgets/base",
      "model_module_version": "2.0.0",
      "model_name": "LayoutModel",
      "state": {}
     },
     "7e63e22163024192861ec600039f4825": {
      "model_module": "@jupyter-widgets/controls",
      "model_module_version": "2.0.0",
      "model_name": "ToggleButtonsStyleModel",
      "state": {
       "button_width": "",
       "description_width": ""
      }
     },
     "7e87654acf324334913b38488ad62820": {
      "model_module": "@jupyter-widgets/controls",
      "model_module_version": "2.0.0",
      "model_name": "ButtonModel",
      "state": {
       "description": "Search Archives",
       "layout": "IPY_MODEL_fc7004ff2c9442e6b2a5e99290183383",
       "style": "IPY_MODEL_d5d958eda4c54289aa4f152c94945be9",
       "tooltip": "Search the Swift archives"
      }
     },
     "7e9ea6cd03554886b2bc20cb0772b241": {
      "model_module": "@jupyter-widgets/controls",
      "model_module_version": "2.0.0",
      "model_name": "ButtonStyleModel",
      "state": {
       "font_family": null,
       "font_size": null,
       "font_style": null,
       "font_variant": null,
       "font_weight": null,
       "text_color": null,
       "text_decoration": null
      }
     },
     "7ebd77f476aa479bb67f47a45dc3b0bc": {
      "model_module": "@jupyter-widgets/controls",
      "model_module_version": "2.0.0",
      "model_name": "TextStyleModel",
      "state": {
       "description_width": "",
       "font_size": null,
       "text_color": null
      }
     },
     "7ecb6cec5aee4c048c808b970dfaf67b": {
      "model_module": "@jupyter-widgets/controls",
      "model_module_version": "2.0.0",
      "model_name": "ToggleButtonsModel",
      "state": {
       "_options_labels": [
        "uncompressed",
        "tar",
        "zip"
       ],
       "button_style": "",
       "description": "Download Type:",
       "icons": [],
       "index": 0,
       "layout": "IPY_MODEL_31f143b556c44858b09f987be6a6c55f",
       "style": "IPY_MODEL_b897dd4f764a40848d7f6299b622bdbd",
       "tooltips": [
        "uncompressed",
        "tar",
        "zip"
       ]
      }
     },
     "7f5075294bef49e4a05fc723709de671": {
      "model_module": "@jupyter-widgets/controls",
      "model_module_version": "2.0.0",
      "model_name": "SelectMultipleModel",
      "state": {
       "_options_labels": [
        "auxil",
        "bat",
        "xrt",
        "uvot",
        "log"
       ],
       "description": "File Type(s)",
       "index": [
        0
       ],
       "layout": "IPY_MODEL_8dd8d892a5714d31a44dae0a0bd12d08",
       "rows": 5,
       "style": "IPY_MODEL_87e5f8c0d2c34c11bea23f6f397e78a0"
      }
     },
     "7ffa00c003b34150b5914e113d80ba3d": {
      "model_module": "@jupyter-widgets/controls",
      "model_module_version": "2.0.0",
      "model_name": "CheckboxStyleModel",
      "state": {
       "description_width": ""
      }
     },
     "80433425e852461b855afd909b83f9ba": {
      "model_module": "@jupyter-widgets/controls",
      "model_module_version": "2.0.0",
      "model_name": "CheckboxStyleModel",
      "state": {
       "description_width": ""
      }
     },
     "8080112ee9f84883b9c5176ced5d209e": {
      "model_module": "@jupyter-widgets/base",
      "model_module_version": "2.0.0",
      "model_name": "LayoutModel",
      "state": {}
     },
     "80e7ebb4071a4afba2d7a0bf9156c19a": {
      "model_module": "@jupyter-widgets/base",
      "model_module_version": "2.0.0",
      "model_name": "LayoutModel",
      "state": {}
     },
     "823a5ba511f64cf6a8851337be09a755": {
      "model_module": "@jupyter-widgets/controls",
      "model_module_version": "2.0.0",
      "model_name": "DropdownModel",
      "state": {
       "_options_labels": [
        "0",
        "1"
       ],
       "description": "Selection:",
       "disabled": true,
       "index": 1,
       "layout": "IPY_MODEL_5826bdbd9c9e4f2c9371534a8a641461",
       "style": "IPY_MODEL_1c7a02aa9f114b0dac9f2cf14d5b15ae"
      }
     },
     "82415ab788384393a49559a759503da9": {
      "model_module": "@jupyter-widgets/base",
      "model_module_version": "2.0.0",
      "model_name": "LayoutModel",
      "state": {}
     },
     "82559e91d70b4f8baff981d1ef194fbb": {
      "model_module": "@jupyter-widgets/controls",
      "model_module_version": "2.0.0",
      "model_name": "CheckboxModel",
      "state": {
       "description": "Overwrite Data",
       "disabled": true,
       "indent": false,
       "layout": "IPY_MODEL_3efd0cc9b4b7433bac257e62b3e501e1",
       "style": "IPY_MODEL_2a3839387f084ee382da2f6b2d77aeb2",
       "value": false
      }
     },
     "8384d085bf214ac2a959e33dfdf473fe": {
      "model_module": "@jupyter-widgets/controls",
      "model_module_version": "2.0.0",
      "model_name": "TextModel",
      "state": {
       "description": "Search Term:",
       "layout": "IPY_MODEL_3a34c5b753a6435992fe780cf6310913",
       "placeholder": "",
       "style": "IPY_MODEL_a9b475401d1b4213b9f8aabcc1655a4d",
       "value": "C/2013US10CatalinaOrbit2Ptg2"
      }
     },
     "83b97c510d664397b373eb10f369269d": {
      "model_module": "@jupyter-widgets/base",
      "model_module_version": "2.0.0",
      "model_name": "LayoutModel",
      "state": {}
     },
     "83eca8aac5a7423aac71e360d1661b7a": {
      "model_module": "@jupyter-widgets/base",
      "model_module_version": "2.0.0",
      "model_name": "LayoutModel",
      "state": {}
     },
     "84df235df604435cbd332a50f215a111": {
      "model_module": "@jupyter-widgets/base",
      "model_module_version": "2.0.0",
      "model_name": "LayoutModel",
      "state": {}
     },
     "857a767cb19041feba92599a744cb9ec": {
      "model_module": "@jupyter-widgets/controls",
      "model_module_version": "2.0.0",
      "model_name": "TextModel",
      "state": {
       "description": "Search Term:",
       "layout": "IPY_MODEL_411a190b833f4d63b19dbd158c242eff",
       "placeholder": "",
       "style": "IPY_MODEL_6b78f896162d4b90859fa29c4cab315d"
      }
     },
     "85e99e111d704ef98e6a125300b2e3ac": {
      "model_module": "@jupyter-widgets/controls",
      "model_module_version": "2.0.0",
      "model_name": "ButtonStyleModel",
      "state": {
       "font_family": null,
       "font_size": null,
       "font_style": null,
       "font_variant": null,
       "font_weight": null,
       "text_color": null,
       "text_decoration": null
      }
     },
     "86115a6051974f3bb9e847dd8aa14a49": {
      "model_module": "@jupyter-widgets/controls",
      "model_module_version": "2.0.0",
      "model_name": "ToggleButtonsModel",
      "state": {
       "_options_labels": [
        "uncompressed",
        "tar",
        "zip"
       ],
       "button_style": "",
       "description": "Download Type:",
       "icons": [],
       "index": 0,
       "layout": "IPY_MODEL_cd2e85002ade4480986f318e2e830933",
       "style": "IPY_MODEL_178b56debd8d462ab8c807f41044d402",
       "tooltips": [
        "uncompressed",
        "tar",
        "zip"
       ]
      }
     },
     "87221dc06f744600b9b7df5d8253f8d8": {
      "model_module": "@jupyter-widgets/controls",
      "model_module_version": "2.0.0",
      "model_name": "ButtonModel",
      "state": {
       "description": "Confirm",
       "layout": "IPY_MODEL_40f1295559ce4c89afd18a3fcb71e1a4",
       "style": "IPY_MODEL_725778c8e4e948c99bc4846d092fd6f6",
       "tooltip": "Confirm or cancel download"
      }
     },
     "879e272d84af419195f131117f2638d8": {
      "model_module": "@jupyter-widgets/output",
      "model_module_version": "1.0.0",
      "model_name": "OutputModel",
      "state": {
       "layout": "IPY_MODEL_67d3ad73013c47dba7c731d539f36e0e",
       "outputs": [
        {
         "name": "stdout",
         "output_type": "stream",
         "text": "----------------------------------------------------------------------------------------------------\n\nFound a single data file for the search term 'C/2013US10CatalinaOrbit2Ptg2':\n\n----------------------------------------------------------------------------------------------------\n\nName of observation: C/2013US10CatalinaOrbit2Ptg2 \t\t Total number of observations: 1\n\n----------------------------------------------------------------------------------------------------\nSelect one of the following:\n\n\t\t0\tDownload the data file listed above to /Users/jduffy0121/Desktop\n\t\t1\tCancel download\n\n"
        },
        {
         "data": {
          "application/vnd.jupyter.widget-view+json": {
           "model_id": "e55f67bd2cad4d70af960553e1f8d7af",
           "version_major": 2,
           "version_minor": 0
          },
          "text/plain": "Dropdown(description='Selection:', options=(('0', 0), ('1', 1)), value=0)"
         },
         "metadata": {},
         "output_type": "display_data"
        },
        {
         "data": {
          "application/vnd.jupyter.widget-view+json": {
           "model_id": "9393429fb3234914ab348614d478efaf",
           "version_major": 2,
           "version_minor": 0
          },
          "text/plain": "Button(description='Confirm', style=ButtonStyle(), tooltip='Confirm download')"
         },
         "metadata": {},
         "output_type": "display_data"
        },
        {
         "data": {
          "application/vnd.jupyter.widget-view+json": {
           "model_id": "5b89aaccc17f422c865be3b89ef56a07",
           "version_major": 2,
           "version_minor": 0
          },
          "text/plain": "Output()"
         },
         "metadata": {},
         "output_type": "display_data"
        },
        {
         "name": "stdout",
         "output_type": "stream",
         "text": "----------------------------------------------------------------------------------------------------\n"
        }
       ]
      }
     },
     "87e5f8c0d2c34c11bea23f6f397e78a0": {
      "model_module": "@jupyter-widgets/controls",
      "model_module_version": "2.0.0",
      "model_name": "DescriptionStyleModel",
      "state": {
       "description_width": ""
      }
     },
     "883b643edf164e508c415412cb84720d": {
      "model_module": "@jupyter-widgets/controls",
      "model_module_version": "2.0.0",
      "model_name": "CheckboxModel",
      "state": {
       "description": "Overwrite Data",
       "disabled": false,
       "indent": false,
       "layout": "IPY_MODEL_d0dad508e66b4a2681577645e1f3cdda",
       "style": "IPY_MODEL_365f028468fc4d0594137da3f38946f3",
       "value": false
      }
     },
     "8886069cec274e55beb42a38a60e4f07": {
      "model_module": "@jupyter-widgets/controls",
      "model_module_version": "2.0.0",
      "model_name": "ButtonStyleModel",
      "state": {
       "font_family": null,
       "font_size": null,
       "font_style": null,
       "font_variant": null,
       "font_weight": null,
       "text_color": null,
       "text_decoration": null
      }
     },
     "88f6dc2c6360430baf53208300ffc0b5": {
      "model_module": "@jupyter-widgets/base",
      "model_module_version": "2.0.0",
      "model_name": "LayoutModel",
      "state": {}
     },
     "88fa73ce827a4b06b50d4860aa64c78e": {
      "model_module": "@jupyter-widgets/controls",
      "model_module_version": "2.0.0",
      "model_name": "ButtonStyleModel",
      "state": {
       "font_family": null,
       "font_size": null,
       "font_style": null,
       "font_variant": null,
       "font_weight": null,
       "text_color": null,
       "text_decoration": null
      }
     },
     "894baccfbc884761b11c29951b107be4": {
      "model_module": "@jupyter-widgets/controls",
      "model_module_version": "2.0.0",
      "model_name": "ToggleButtonsModel",
      "state": {
       "_options_labels": [
        "uncompressed",
        "tar",
        "zip"
       ],
       "button_style": "",
       "description": "Download Type:",
       "icons": [],
       "index": 0,
       "layout": "IPY_MODEL_a3d3c4719fb345c6babbc4e0c031b4c6",
       "style": "IPY_MODEL_fd8efa1bfd43404cb4413efeb284cdb5",
       "tooltips": [
        "uncompressed",
        "tar",
        "zip"
       ]
      }
     },
     "895f750bb83246adb3a9e2bc3249af78": {
      "model_module": "@jupyter-widgets/controls",
      "model_module_version": "2.0.0",
      "model_name": "DescriptionStyleModel",
      "state": {
       "description_width": ""
      }
     },
     "89e7468c242c4ec8a996bc3fb692535a": {
      "model_module": "@jupyter-widgets/controls",
      "model_module_version": "2.0.0",
      "model_name": "TextStyleModel",
      "state": {
       "description_width": "",
       "font_size": null,
       "text_color": null
      }
     },
     "8a25be229f32402cb44fa51a4289bf41": {
      "model_module": "@jupyter-widgets/base",
      "model_module_version": "2.0.0",
      "model_name": "LayoutModel",
      "state": {}
     },
     "8a92cd40ea7541c58ca2c63f3ce4f0be": {
      "model_module": "@jupyter-widgets/output",
      "model_module_version": "1.0.0",
      "model_name": "OutputModel",
      "state": {
       "layout": "IPY_MODEL_8a25be229f32402cb44fa51a4289bf41"
      }
     },
     "8aa587848cd34e76b41aa58bbe958fe2": {
      "model_module": "@jupyter-widgets/base",
      "model_module_version": "2.0.0",
      "model_name": "LayoutModel",
      "state": {}
     },
     "8abe6ba7a044429781c5b7a1f1cda88d": {
      "model_module": "@jupyter-widgets/output",
      "model_module_version": "1.0.0",
      "model_name": "OutputModel",
      "state": {
       "layout": "IPY_MODEL_79312c9e548044d0b26fe23f37ed957d"
      }
     },
     "8accb94af6934dbbbddbf2cbb8fe84b3": {
      "model_module": "@jupyter-widgets/base",
      "model_module_version": "2.0.0",
      "model_name": "LayoutModel",
      "state": {}
     },
     "8b14e2ac24aa406fb29d05214c2e2073": {
      "model_module": "@jupyter-widgets/output",
      "model_module_version": "1.0.0",
      "model_name": "OutputModel",
      "state": {
       "layout": "IPY_MODEL_ba94524bdd1c449ca8d3d1236fcc7e38"
      }
     },
     "8b4dac6aa14746ec81fe12a17171ec4b": {
      "model_module": "@jupyter-widgets/controls",
      "model_module_version": "2.0.0",
      "model_name": "ButtonStyleModel",
      "state": {
       "font_family": null,
       "font_size": null,
       "font_style": null,
       "font_variant": null,
       "font_weight": null,
       "text_color": null,
       "text_decoration": null
      }
     },
     "8b5a3934a4d042138bccbc57d74847ae": {
      "model_module": "@jupyter-widgets/base",
      "model_module_version": "2.0.0",
      "model_name": "LayoutModel",
      "state": {}
     },
     "8bbc495e2f43410595d8055222345f07": {
      "model_module": "@jupyter-widgets/controls",
      "model_module_version": "2.0.0",
      "model_name": "ToggleButtonsModel",
      "state": {
       "_options_labels": [
        "uncompressed",
        "tar",
        "zip"
       ],
       "button_style": "",
       "description": "Download Type:",
       "icons": [],
       "index": 0,
       "layout": "IPY_MODEL_2c50ac9c1ebe4b4b934924a4410f0d2c",
       "style": "IPY_MODEL_bf1281044a4c4354bc73da925ca8a3dc",
       "tooltips": [
        "uncompressed",
        "tar",
        "zip"
       ]
      }
     },
     "8be90dd3473b46a2a80527f0c3bf6f82": {
      "model_module": "@jupyter-widgets/controls",
      "model_module_version": "2.0.0",
      "model_name": "DescriptionStyleModel",
      "state": {
       "description_width": ""
      }
     },
     "8c712b41de3548058875c55c65f97fa6": {
      "model_module": "@jupyter-widgets/controls",
      "model_module_version": "2.0.0",
      "model_name": "ToggleButtonsModel",
      "state": {
       "_options_labels": [
        "uncompressed",
        "tar",
        "zip"
       ],
       "button_style": "",
       "description": "Download Type:",
       "icons": [],
       "index": 0,
       "layout": "IPY_MODEL_644b51c542ed43b9b45000085e8d15e7",
       "style": "IPY_MODEL_72e6381928e441abbceeb6db9eea9dd1",
       "tooltips": [
        "uncompressed",
        "tar",
        "zip"
       ]
      }
     },
     "8d59760af6364498a3d2e32b9e103cda": {
      "model_module": "@jupyter-widgets/controls",
      "model_module_version": "2.0.0",
      "model_name": "CheckboxModel",
      "state": {
       "description": "Overwrite Data",
       "disabled": false,
       "indent": false,
       "layout": "IPY_MODEL_e8ad37a13b4c48e6bb94b1331f5a8b0e",
       "style": "IPY_MODEL_6a9c338e762e4f0c9fff7eac2c0d1e87",
       "value": false
      }
     },
     "8d6e9df92e454d7293f0514cae697d57": {
      "model_module": "@jupyter-widgets/base",
      "model_module_version": "2.0.0",
      "model_name": "LayoutModel",
      "state": {}
     },
     "8db9b81e59ee4c689e538212b2bb821b": {
      "model_module": "@jupyter-widgets/controls",
      "model_module_version": "2.0.0",
      "model_name": "ButtonStyleModel",
      "state": {
       "font_family": null,
       "font_size": null,
       "font_style": null,
       "font_variant": null,
       "font_weight": null,
       "text_color": null,
       "text_decoration": null
      }
     },
     "8dd8d892a5714d31a44dae0a0bd12d08": {
      "model_module": "@jupyter-widgets/base",
      "model_module_version": "2.0.0",
      "model_name": "LayoutModel",
      "state": {}
     },
     "8e02a7d2ee8d40a185dd52f549d5a3c8": {
      "model_module": "@jupyter-widgets/controls",
      "model_module_version": "2.0.0",
      "model_name": "TextStyleModel",
      "state": {
       "description_width": "",
       "font_size": null,
       "text_color": null
      }
     },
     "8e369b8ffd42435a84be5ee3b50bc565": {
      "model_module": "@jupyter-widgets/base",
      "model_module_version": "2.0.0",
      "model_name": "LayoutModel",
      "state": {}
     },
     "907a9247ffcf488585019489d4c0fd6f": {
      "model_module": "@jupyter-widgets/base",
      "model_module_version": "2.0.0",
      "model_name": "LayoutModel",
      "state": {}
     },
     "90d2d334adf04578915d0fdf9e7fb09a": {
      "model_module": "@jupyter-widgets/controls",
      "model_module_version": "2.0.0",
      "model_name": "ButtonModel",
      "state": {
       "description": "Confirm",
       "layout": "IPY_MODEL_907a9247ffcf488585019489d4c0fd6f",
       "style": "IPY_MODEL_607c71a91d274608b8e2a88de37dab83",
       "tooltip": "Confirm download"
      }
     },
     "912b77f2fe054f12b22e0f1392e47cc2": {
      "model_module": "@jupyter-widgets/controls",
      "model_module_version": "2.0.0",
      "model_name": "ButtonModel",
      "state": {
       "description": "Confirm",
       "layout": "IPY_MODEL_bace51d420a6466d831e982033694b84",
       "style": "IPY_MODEL_85e99e111d704ef98e6a125300b2e3ac",
       "tooltip": "Confirm download"
      }
     },
     "9163978911e94f0d90d2c2d8323bcac5": {
      "model_module": "@jupyter-widgets/base",
      "model_module_version": "2.0.0",
      "model_name": "LayoutModel",
      "state": {}
     },
     "919b20b9ba4649b992083f89f56af359": {
      "model_module": "@jupyter-widgets/controls",
      "model_module_version": "2.0.0",
      "model_name": "DropdownModel",
      "state": {
       "_options_labels": [
        "0",
        "1"
       ],
       "description": "Selection:",
       "index": 0,
       "layout": "IPY_MODEL_c23528314c694e0ab8c24fbeeaca1a2f",
       "style": "IPY_MODEL_66a5b8ce013c4eeb8b30589a826ced41"
      }
     },
     "91a4ebb2c2ae4b6eb893074d9e1903a8": {
      "model_module": "@jupyter-widgets/output",
      "model_module_version": "1.0.0",
      "model_name": "OutputModel",
      "state": {
       "layout": "IPY_MODEL_2b43986c2137498eb0643a9801e757bd"
      }
     },
     "91aeb28e31ba4b4584937c4549818217": {
      "model_module": "@jupyter-widgets/controls",
      "model_module_version": "2.0.0",
      "model_name": "SelectMultipleModel",
      "state": {
       "_options_labels": [
        "auxil",
        "bat",
        "xrt",
        "uvot",
        "log"
       ],
       "description": "File Type(s)",
       "index": [
        0
       ],
       "layout": "IPY_MODEL_9ba92c47b5eb420baada84be6f05cde0",
       "rows": 5,
       "style": "IPY_MODEL_aa7984aefdc443d5b5cb3e2fc08e242a"
      }
     },
     "91d4691a81fb411db4f039585607c1d3": {
      "model_module": "@jupyter-widgets/controls",
      "model_module_version": "2.0.0",
      "model_name": "CheckboxModel",
      "state": {
       "description": "Overwrite Data",
       "disabled": false,
       "indent": false,
       "layout": "IPY_MODEL_0071527ca78544beb8782eb9d2d66a02",
       "style": "IPY_MODEL_098fa7fef1a9417bab2c4d61f553a96b",
       "value": false
      }
     },
     "91fdf121c3af4ce5aebc040efc15cbe2": {
      "model_module": "@jupyter-widgets/controls",
      "model_module_version": "2.0.0",
      "model_name": "ButtonModel",
      "state": {
       "description": "Confirm",
       "layout": "IPY_MODEL_5a1ef1cf75f64d70be789590cc1c443c",
       "style": "IPY_MODEL_8b4dac6aa14746ec81fe12a17171ec4b",
       "tooltip": "Confirm download"
      }
     },
     "92917d7391374db0b9ff2f6b75101cfc": {
      "model_module": "@jupyter-widgets/base",
      "model_module_version": "2.0.0",
      "model_name": "LayoutModel",
      "state": {}
     },
     "9393429fb3234914ab348614d478efaf": {
      "model_module": "@jupyter-widgets/controls",
      "model_module_version": "2.0.0",
      "model_name": "ButtonModel",
      "state": {
       "description": "Confirm",
       "layout": "IPY_MODEL_b5120688a8ca4aa4a2be8a600c0eb56a",
       "style": "IPY_MODEL_7e9ea6cd03554886b2bc20cb0772b241",
       "tooltip": "Confirm download"
      }
     },
     "93c1397bb1174dc8ad1b8a146244d461": {
      "model_module": "@jupyter-widgets/output",
      "model_module_version": "1.0.0",
      "model_name": "OutputModel",
      "state": {
       "layout": "IPY_MODEL_07ea024cdca749028bb6b58cbe3a1bb9",
       "outputs": [
        {
         "name": "stdout",
         "output_type": "stream",
         "text": "----------------------------------------------------------------------------------------------------\n\nFound a single data file for the search term 'C/2013US10CatalinaOrbit2Ptg2':\n\n----------------------------------------------------------------------------------------------------\n\nName of observation: C/2013US10CatalinaOrbit2Ptg2 \t\t Total number of observations: 1\n\n----------------------------------------------------------------------------------------------------\nSelect one of the following:\n\n\t\t0\tDownload the data file listed above to /Users/jduffy0121/Desktop\n\t\t1\tCancel download\n\n"
        },
        {
         "data": {
          "application/vnd.jupyter.widget-view+json": {
           "model_id": "7b240b2b4f4b43c5af24b5c27cb81cc0",
           "version_major": 2,
           "version_minor": 0
          },
          "text/plain": "Dropdown(description='Selection:', options=(('0', 0), ('1', 1)), value=0)"
         },
         "metadata": {},
         "output_type": "display_data"
        },
        {
         "data": {
          "application/vnd.jupyter.widget-view+json": {
           "model_id": "a2f9f584a81d4f3986adba64cfcf451b",
           "version_major": 2,
           "version_minor": 0
          },
          "text/plain": "Button(description='Confirm', style=ButtonStyle(), tooltip='Confirm download')"
         },
         "metadata": {},
         "output_type": "display_data"
        },
        {
         "data": {
          "application/vnd.jupyter.widget-view+json": {
           "model_id": "8a92cd40ea7541c58ca2c63f3ce4f0be",
           "version_major": 2,
           "version_minor": 0
          },
          "text/plain": "Output()"
         },
         "metadata": {},
         "output_type": "display_data"
        },
        {
         "name": "stdout",
         "output_type": "stream",
         "text": "----------------------------------------------------------------------------------------------------\n"
        }
       ]
      }
     },
     "945ee8018a7f4945a5f94396b5ef77d5": {
      "model_module": "@jupyter-widgets/controls",
      "model_module_version": "2.0.0",
      "model_name": "ToggleButtonsStyleModel",
      "state": {
       "button_width": "",
       "description_width": ""
      }
     },
     "9501f66b96b44c7687b543a5cbbba7d3": {
      "model_module": "@jupyter-widgets/controls",
      "model_module_version": "2.0.0",
      "model_name": "TextStyleModel",
      "state": {
       "description_width": "",
       "font_size": null,
       "text_color": null
      }
     },
     "95236eed5fc2440a9d8844ebb3779045": {
      "model_module": "@jupyter-widgets/controls",
      "model_module_version": "2.0.0",
      "model_name": "ToggleButtonsModel",
      "state": {
       "_options_labels": [
        "uncompressed",
        "tar",
        "zip"
       ],
       "button_style": "",
       "description": "Download Type:",
       "icons": [],
       "index": 2,
       "layout": "IPY_MODEL_1a04e36b85c040d9853c41deffbdeaa3",
       "style": "IPY_MODEL_fc9324e9a01f4112b65133da7e900511",
       "tooltips": [
        "uncompressed",
        "tar",
        "zip"
       ]
      }
     },
     "9529ddf3adfc4e5cb635e4267d161bd5": {
      "model_module": "@jupyter-widgets/base",
      "model_module_version": "2.0.0",
      "model_name": "LayoutModel",
      "state": {}
     },
     "9541ad5f312b473aa6f8f20d67b2dcfc": {
      "model_module": "@jupyter-widgets/controls",
      "model_module_version": "2.0.0",
      "model_name": "ButtonStyleModel",
      "state": {
       "font_family": null,
       "font_size": null,
       "font_style": null,
       "font_variant": null,
       "font_weight": null,
       "text_color": null,
       "text_decoration": null
      }
     },
     "95c784a96e26474b8dcc1edd55948910": {
      "model_module": "@jupyter-widgets/controls",
      "model_module_version": "2.0.0",
      "model_name": "ButtonStyleModel",
      "state": {
       "font_family": null,
       "font_size": null,
       "font_style": null,
       "font_variant": null,
       "font_weight": null,
       "text_color": null,
       "text_decoration": null
      }
     },
     "95dfd67551eb405db9c5fd8794da39c4": {
      "model_module": "@jupyter-widgets/base",
      "model_module_version": "2.0.0",
      "model_name": "LayoutModel",
      "state": {}
     },
     "963a48095f294805a5f50f9009c3fb03": {
      "model_module": "@jupyter-widgets/base",
      "model_module_version": "2.0.0",
      "model_name": "LayoutModel",
      "state": {}
     },
     "967ab438958d4848a45791f051a5f5f0": {
      "model_module": "@jupyter-widgets/output",
      "model_module_version": "1.0.0",
      "model_name": "OutputModel",
      "state": {
       "layout": "IPY_MODEL_1913df73890e4f9bb35dd4499921f688",
       "outputs": [
        {
         "name": "stdout",
         "output_type": "stream",
         "text": "----------------------------------------------------------------------------------------------------\n\nFound a single data file for the search term 'C/2013US10CatalinaOrbit2Ptg2':\n\n----------------------------------------------------------------------------------------------------\n\nName of observation: C/2013US10CatalinaOrbit2Ptg2 \t\t Total number of observations: 1\n\n----------------------------------------------------------------------------------------------------\nSelect one of the following:\n\n\t\t0\tDownload the data file listed above to /Users/jduffy0121/Desktop\n\t\t1\tCancel download\n\n----------------------------------------------------------------------------------------------------\n"
        }
       ]
      }
     },
     "97674c547b174da3b2ae77c59c649119": {
      "model_module": "@jupyter-widgets/controls",
      "model_module_version": "2.0.0",
      "model_name": "DropdownModel",
      "state": {
       "_options_labels": [
        "0",
        "1"
       ],
       "description": "Selection:",
       "index": 0,
       "layout": "IPY_MODEL_a8a9aad229554ceaa0e914927208f70a",
       "style": "IPY_MODEL_d2b398b1ae6445a88d0ceb5fe55c2cef"
      }
     },
     "97954e57e759439f823bd1370cd1ac44": {
      "model_module": "@jupyter-widgets/base",
      "model_module_version": "2.0.0",
      "model_name": "LayoutModel",
      "state": {}
     },
     "97b21bb68a6d42ac9e6cd38c0b89c7b6": {
      "model_module": "@jupyter-widgets/controls",
      "model_module_version": "2.0.0",
      "model_name": "DropdownModel",
      "state": {
       "_options_labels": [
        "0",
        "1"
       ],
       "description": "Selection:",
       "index": 0,
       "layout": "IPY_MODEL_0cc1303d8a844ef7862e9ec875fd8ba3",
       "style": "IPY_MODEL_48798a9a7f3842d1b72d1ed4d61fcd10"
      }
     },
     "9848f7f021d2426092ba98fcf32fe479": {
      "model_module": "@jupyter-widgets/base",
      "model_module_version": "2.0.0",
      "model_name": "LayoutModel",
      "state": {}
     },
     "9917609dc6da4c63b36f864f7b0b1c97": {
      "model_module": "@jupyter-widgets/base",
      "model_module_version": "2.0.0",
      "model_name": "LayoutModel",
      "state": {}
     },
     "996553ee523e4792a22a904515f6d81c": {
      "model_module": "@jupyter-widgets/controls",
      "model_module_version": "2.0.0",
      "model_name": "ButtonModel",
      "state": {
       "description": "Search Archives",
       "disabled": true,
       "layout": "IPY_MODEL_a139dfe16f444bcab05b7955c3a0c7d5",
       "style": "IPY_MODEL_9541ad5f312b473aa6f8f20d67b2dcfc",
       "tooltip": "Search the Swift archives"
      }
     },
     "9980228df6564cc99c2c0d2ca56278d8": {
      "model_module": "@jupyter-widgets/output",
      "model_module_version": "1.0.0",
      "model_name": "OutputModel",
      "state": {
       "layout": "IPY_MODEL_1a6da194077d411497d9f53b11cd83de"
      }
     },
     "9a2cf3aa46994b5dbc4248da96e9d30c": {
      "model_module": "@jupyter-widgets/controls",
      "model_module_version": "2.0.0",
      "model_name": "ButtonModel",
      "state": {
       "description": "Search Archives",
       "disabled": true,
       "layout": "IPY_MODEL_d054217fb7954547b250d77a0483ba5f",
       "style": "IPY_MODEL_f88ef4dec5e9469dbe5a275ee3969cbe",
       "tooltip": "Search the Swift archives"
      }
     },
     "9a83f42569c347979291060d6fc62ba4": {
      "model_module": "@jupyter-widgets/base",
      "model_module_version": "2.0.0",
      "model_name": "LayoutModel",
      "state": {}
     },
     "9aa09342fb694f66ab60c3b9e9d6668f": {
      "model_module": "@jupyter-widgets/controls",
      "model_module_version": "2.0.0",
      "model_name": "ToggleButtonsStyleModel",
      "state": {
       "button_width": "",
       "description_width": ""
      }
     },
     "9aa8aa1b85e14d7598421161e2cb9167": {
      "model_module": "@jupyter-widgets/controls",
      "model_module_version": "2.0.0",
      "model_name": "CheckboxModel",
      "state": {
       "description": "Overwrite Data",
       "disabled": false,
       "indent": false,
       "layout": "IPY_MODEL_f9b166395b3744958b24afc33213a3f3",
       "style": "IPY_MODEL_0b6d6a17365b455e8b2b555353fdf3bc",
       "value": false
      }
     },
     "9af072166ec74b9fb68c0b98945d7ccc": {
      "model_module": "@jupyter-widgets/controls",
      "model_module_version": "2.0.0",
      "model_name": "TextModel",
      "state": {
       "description": "Search Term:",
       "layout": "IPY_MODEL_346b28293b4c46b4b8d98f8e5fff73e6",
       "placeholder": "",
       "style": "IPY_MODEL_b1c38c6c564a4e598486685316eadbe1"
      }
     },
     "9b157181bd5f4fbc84483472a27bbcd4": {
      "model_module": "@jupyter-widgets/controls",
      "model_module_version": "2.0.0",
      "model_name": "CheckboxModel",
      "state": {
       "description": "Overwrite Data",
       "disabled": false,
       "indent": false,
       "layout": "IPY_MODEL_8b5a3934a4d042138bccbc57d74847ae",
       "style": "IPY_MODEL_c70c199329d648f18720d259871b3121",
       "value": false
      }
     },
     "9b2c343c8039411a84064ae51e0e37b7": {
      "model_module": "@jupyter-widgets/base",
      "model_module_version": "2.0.0",
      "model_name": "LayoutModel",
      "state": {}
     },
     "9b5b17c1575a458ca3547f1d878522c8": {
      "model_module": "@jupyter-widgets/controls",
      "model_module_version": "2.0.0",
      "model_name": "ToggleButtonsStyleModel",
      "state": {
       "button_width": "",
       "description_width": ""
      }
     },
     "9b712aaaeb41423aa3baaedcc3f19bf4": {
      "model_module": "@jupyter-widgets/base",
      "model_module_version": "2.0.0",
      "model_name": "LayoutModel",
      "state": {}
     },
     "9ba92c47b5eb420baada84be6f05cde0": {
      "model_module": "@jupyter-widgets/base",
      "model_module_version": "2.0.0",
      "model_name": "LayoutModel",
      "state": {}
     },
     "9c889645410b4c4aa00b31b02c8d3b4f": {
      "model_module": "@jupyter-widgets/controls",
      "model_module_version": "2.0.0",
      "model_name": "DescriptionStyleModel",
      "state": {
       "description_width": ""
      }
     },
     "9cf00bc6f76242638c5042b79a46fb03": {
      "model_module": "@jupyter-widgets/base",
      "model_module_version": "2.0.0",
      "model_name": "LayoutModel",
      "state": {}
     },
     "9d53f25df06a4d32aa9c092c003348dd": {
      "model_module": "@jupyter-widgets/controls",
      "model_module_version": "2.0.0",
      "model_name": "DescriptionStyleModel",
      "state": {
       "description_width": ""
      }
     },
     "9d8903409ff14674b8a31af775c8df4e": {
      "model_module": "@jupyter-widgets/base",
      "model_module_version": "2.0.0",
      "model_name": "LayoutModel",
      "state": {}
     },
     "9d9cc5e9c18d4667bae44cffe162ae0f": {
      "model_module": "@jupyter-widgets/controls",
      "model_module_version": "2.0.0",
      "model_name": "CheckboxModel",
      "state": {
       "description": "Overwrite Data",
       "disabled": false,
       "indent": false,
       "layout": "IPY_MODEL_5129ad9e28b546d3b495aa7a6f887354",
       "style": "IPY_MODEL_6dfc4ede3a21408998e836c16b9de5d6",
       "value": false
      }
     },
     "9df088a1fc5c424ab98569e4e0c5d715": {
      "model_module": "@jupyter-widgets/base",
      "model_module_version": "2.0.0",
      "model_name": "LayoutModel",
      "state": {}
     },
     "9e2cb2037fb8444582d40391c83c9b10": {
      "model_module": "@jupyter-widgets/controls",
      "model_module_version": "2.0.0",
      "model_name": "TextModel",
      "state": {
       "description": "Search Term:",
       "layout": "IPY_MODEL_b896852878f84bef9d951ca0cc728a52",
       "placeholder": "",
       "style": "IPY_MODEL_d11345267fbb4475b98bf4cc56af07bc"
      }
     },
     "9ec6619f381f4ec08620b6f15bf538f4": {
      "model_module": "@jupyter-widgets/base",
      "model_module_version": "2.0.0",
      "model_name": "LayoutModel",
      "state": {}
     },
     "a010a22111704c928decd407b3d3c252": {
      "model_module": "@jupyter-widgets/base",
      "model_module_version": "2.0.0",
      "model_name": "LayoutModel",
      "state": {}
     },
     "a0a6aa0c9f79455ca99726c2b474db71": {
      "model_module": "@jupyter-widgets/controls",
      "model_module_version": "2.0.0",
      "model_name": "ButtonModel",
      "state": {
       "description": "Search Archives",
       "layout": "IPY_MODEL_7316d93e0f244004b2fbbd20ee9c7473",
       "style": "IPY_MODEL_c32fd51cbddd415d9f9c50ee5149e05d",
       "tooltip": "Search the Swift archives"
      }
     },
     "a139dfe16f444bcab05b7955c3a0c7d5": {
      "model_module": "@jupyter-widgets/base",
      "model_module_version": "2.0.0",
      "model_name": "LayoutModel",
      "state": {}
     },
     "a1dacfc1aee44ae9904542b792c82175": {
      "model_module": "@jupyter-widgets/controls",
      "model_module_version": "2.0.0",
      "model_name": "ButtonStyleModel",
      "state": {
       "font_family": null,
       "font_size": null,
       "font_style": null,
       "font_variant": null,
       "font_weight": null,
       "text_color": null,
       "text_decoration": null
      }
     },
     "a269b0b7c70f44ba8938728fc0caf0c9": {
      "model_module": "@jupyter-widgets/controls",
      "model_module_version": "2.0.0",
      "model_name": "DescriptionStyleModel",
      "state": {
       "description_width": ""
      }
     },
     "a26f0c6310e74ae2a264e30900c02a30": {
      "model_module": "@jupyter-widgets/controls",
      "model_module_version": "2.0.0",
      "model_name": "ToggleButtonsModel",
      "state": {
       "_options_labels": [
        "uncompressed",
        "tar",
        "zip"
       ],
       "button_style": "",
       "description": "Download Type:",
       "icons": [],
       "index": 0,
       "layout": "IPY_MODEL_67820e087d2f470b915e4923cd00e12d",
       "style": "IPY_MODEL_153400312a8843839e8a2f4629cc65d5",
       "tooltips": [
        "uncompressed",
        "tar",
        "zip"
       ]
      }
     },
     "a27c1545f0714362878fc61b6f1cb816": {
      "model_module": "@jupyter-widgets/controls",
      "model_module_version": "2.0.0",
      "model_name": "DescriptionStyleModel",
      "state": {
       "description_width": ""
      }
     },
     "a27cdfb18aaf42d2afe35d1d7cd6bcb4": {
      "model_module": "@jupyter-widgets/controls",
      "model_module_version": "2.0.0",
      "model_name": "ToggleButtonsModel",
      "state": {
       "_options_labels": [
        "uncompressed",
        "tar",
        "zip"
       ],
       "button_style": "",
       "description": "Download Type:",
       "icons": [],
       "index": 0,
       "layout": "IPY_MODEL_3b70194b740f448f814ed540121b645e",
       "style": "IPY_MODEL_7e63e22163024192861ec600039f4825",
       "tooltips": [
        "uncompressed",
        "tar",
        "zip"
       ]
      }
     },
     "a281523e441444c3912ea8ff3489f8ea": {
      "model_module": "@jupyter-widgets/controls",
      "model_module_version": "2.0.0",
      "model_name": "DescriptionStyleModel",
      "state": {
       "description_width": ""
      }
     },
     "a2f9f584a81d4f3986adba64cfcf451b": {
      "model_module": "@jupyter-widgets/controls",
      "model_module_version": "2.0.0",
      "model_name": "ButtonModel",
      "state": {
       "description": "Confirm",
       "layout": "IPY_MODEL_d3e0160d61014744b984429b785c5f04",
       "style": "IPY_MODEL_e3329d9a162c4bde9f20bb682d983c07",
       "tooltip": "Confirm download"
      }
     },
     "a31a09afa14a42f29ee66ec4913596fd": {
      "model_module": "@jupyter-widgets/controls",
      "model_module_version": "2.0.0",
      "model_name": "SelectMultipleModel",
      "state": {
       "_options_labels": [
        "auxil",
        "bat",
        "xrt",
        "uvot",
        "log"
       ],
       "description": "File Type(s)",
       "index": [
        0
       ],
       "layout": "IPY_MODEL_78c4c3ef9fa144d99c540b06d7336009",
       "rows": 5,
       "style": "IPY_MODEL_8be90dd3473b46a2a80527f0c3bf6f82"
      }
     },
     "a3a97f2a73e94da28efaff2f42222ff0": {
      "model_module": "@jupyter-widgets/base",
      "model_module_version": "2.0.0",
      "model_name": "LayoutModel",
      "state": {}
     },
     "a3d3c4719fb345c6babbc4e0c031b4c6": {
      "model_module": "@jupyter-widgets/base",
      "model_module_version": "2.0.0",
      "model_name": "LayoutModel",
      "state": {}
     },
     "a41978e47e754ab58962df770a871936": {
      "model_module": "@jupyter-widgets/base",
      "model_module_version": "2.0.0",
      "model_name": "LayoutModel",
      "state": {}
     },
     "a47326593d6d4805a218a13e9fdd9447": {
      "model_module": "@jupyter-widgets/controls",
      "model_module_version": "2.0.0",
      "model_name": "ButtonStyleModel",
      "state": {
       "font_family": null,
       "font_size": null,
       "font_style": null,
       "font_variant": null,
       "font_weight": null,
       "text_color": null,
       "text_decoration": null
      }
     },
     "a49f527940e74fd1be0c345f90a5ccc4": {
      "model_module": "@jupyter-widgets/controls",
      "model_module_version": "2.0.0",
      "model_name": "TextModel",
      "state": {
       "description": "Search Term:",
       "layout": "IPY_MODEL_8080112ee9f84883b9c5176ced5d209e",
       "placeholder": "",
       "style": "IPY_MODEL_f5d92ae9989f41c98662586e5552281c",
       "value": "C/2013US10CatalinaOrbit2Ptg2"
      }
     },
     "a49f99fc17ff4e1e855ad7b11b38c124": {
      "model_module": "@jupyter-widgets/controls",
      "model_module_version": "2.0.0",
      "model_name": "ButtonStyleModel",
      "state": {
       "font_family": null,
       "font_size": null,
       "font_style": null,
       "font_variant": null,
       "font_weight": null,
       "text_color": null,
       "text_decoration": null
      }
     },
     "a543bb5bc3614381b1e1aa0b47f43aa4": {
      "model_module": "@jupyter-widgets/controls",
      "model_module_version": "2.0.0",
      "model_name": "SelectMultipleModel",
      "state": {
       "_options_labels": [
        "auxil",
        "bat",
        "xrt",
        "uvot",
        "log"
       ],
       "description": "File Type(s)",
       "index": [
        0
       ],
       "layout": "IPY_MODEL_c840f32103ca4f17949d476d1741361d",
       "rows": 5,
       "style": "IPY_MODEL_a281523e441444c3912ea8ff3489f8ea"
      }
     },
     "a560cfa008f943efba261c3e5171005e": {
      "model_module": "@jupyter-widgets/base",
      "model_module_version": "2.0.0",
      "model_name": "LayoutModel",
      "state": {}
     },
     "a627ec3bc05547f4958a0cc73cfdc635": {
      "model_module": "@jupyter-widgets/controls",
      "model_module_version": "2.0.0",
      "model_name": "DescriptionStyleModel",
      "state": {
       "description_width": ""
      }
     },
     "a7055c634e60478984db3e33c40acb28": {
      "model_module": "@jupyter-widgets/controls",
      "model_module_version": "2.0.0",
      "model_name": "DescriptionStyleModel",
      "state": {
       "description_width": ""
      }
     },
     "a7437beed8e94a11be0c66e1e1ea176e": {
      "model_module": "@jupyter-widgets/base",
      "model_module_version": "2.0.0",
      "model_name": "LayoutModel",
      "state": {}
     },
     "a8a69abb05224d0cb775a86221c818f7": {
      "model_module": "@jupyter-widgets/base",
      "model_module_version": "2.0.0",
      "model_name": "LayoutModel",
      "state": {}
     },
     "a8a9aad229554ceaa0e914927208f70a": {
      "model_module": "@jupyter-widgets/base",
      "model_module_version": "2.0.0",
      "model_name": "LayoutModel",
      "state": {}
     },
     "a8cc7a22203a4a98bbe0c5dfe89d5122": {
      "model_module": "@jupyter-widgets/controls",
      "model_module_version": "2.0.0",
      "model_name": "CheckboxModel",
      "state": {
       "description": "Overwrite Data",
       "disabled": true,
       "indent": false,
       "layout": "IPY_MODEL_f3a94d5c0add4258aa17467efe7373b0",
       "style": "IPY_MODEL_80433425e852461b855afd909b83f9ba",
       "value": false
      }
     },
     "a8fa31f8552d4ecaa0015b54b9df0aeb": {
      "model_module": "@jupyter-widgets/controls",
      "model_module_version": "2.0.0",
      "model_name": "DropdownModel",
      "state": {
       "_options_labels": [
        "0",
        "1"
       ],
       "description": "Selection:",
       "index": 0,
       "layout": "IPY_MODEL_aa511943375f44e89b6f324312703914",
       "style": "IPY_MODEL_eed400e8b03d473daeddd8a2d536fde8"
      }
     },
     "a936a91bfcfe4ef486ab307eac1f9fa4": {
      "model_module": "@jupyter-widgets/controls",
      "model_module_version": "2.0.0",
      "model_name": "ButtonModel",
      "state": {
       "description": "Confirm",
       "layout": "IPY_MODEL_43f388805c1045e696b58c2ba08b28b9",
       "style": "IPY_MODEL_2f68ac08666e4a26befe10f288b9c457",
       "tooltip": "Confirm download"
      }
     },
     "a9718996138c4fc0baac97f2ac3dabd6": {
      "model_module": "@jupyter-widgets/controls",
      "model_module_version": "2.0.0",
      "model_name": "TextModel",
      "state": {
       "description": "Search Term:",
       "layout": "IPY_MODEL_ced9f20901b846f1b8fd35c78a069430",
       "placeholder": "",
       "style": "IPY_MODEL_8e02a7d2ee8d40a185dd52f549d5a3c8"
      }
     },
     "a9b475401d1b4213b9f8aabcc1655a4d": {
      "model_module": "@jupyter-widgets/controls",
      "model_module_version": "2.0.0",
      "model_name": "TextStyleModel",
      "state": {
       "description_width": "",
       "font_size": null,
       "text_color": null
      }
     },
     "aa511943375f44e89b6f324312703914": {
      "model_module": "@jupyter-widgets/base",
      "model_module_version": "2.0.0",
      "model_name": "LayoutModel",
      "state": {}
     },
     "aa7984aefdc443d5b5cb3e2fc08e242a": {
      "model_module": "@jupyter-widgets/controls",
      "model_module_version": "2.0.0",
      "model_name": "DescriptionStyleModel",
      "state": {
       "description_width": ""
      }
     },
     "ac21511618e54e84b2edfb942c47297c": {
      "model_module": "@jupyter-widgets/controls",
      "model_module_version": "2.0.0",
      "model_name": "SelectMultipleModel",
      "state": {
       "_options_labels": [
        "auxil",
        "bat",
        "xrt",
        "uvot",
        "log"
       ],
       "description": "File Type(s)",
       "index": [
        0
       ],
       "layout": "IPY_MODEL_9a83f42569c347979291060d6fc62ba4",
       "rows": 5,
       "style": "IPY_MODEL_d5fa55ae25794773a397dca94e8a5301"
      }
     },
     "ace54ecb732a490d9e74d109064479c9": {
      "model_module": "@jupyter-widgets/output",
      "model_module_version": "1.0.0",
      "model_name": "OutputModel",
      "state": {
       "layout": "IPY_MODEL_2fd063d093e54d8aabb459bab9c84f01"
      }
     },
     "adbe4cbfd671454e83e69d37fde3932b": {
      "model_module": "@jupyter-widgets/base",
      "model_module_version": "2.0.0",
      "model_name": "LayoutModel",
      "state": {}
     },
     "adda5d0726c64e85a068de7187e47b37": {
      "model_module": "@jupyter-widgets/controls",
      "model_module_version": "2.0.0",
      "model_name": "ButtonModel",
      "state": {
       "description": "Search Archives",
       "layout": "IPY_MODEL_d42255d64321486b8072d8000e263eea",
       "style": "IPY_MODEL_4362d6a55e72449791c45fb6d6e154bc",
       "tooltip": "Search the Swift archives"
      }
     },
     "ae1b5843c45d4294b4197164667a96e0": {
      "model_module": "@jupyter-widgets/base",
      "model_module_version": "2.0.0",
      "model_name": "LayoutModel",
      "state": {}
     },
     "af0636815b2640d2942d7a0acb0460c7": {
      "model_module": "@jupyter-widgets/controls",
      "model_module_version": "2.0.0",
      "model_name": "ButtonStyleModel",
      "state": {
       "font_family": null,
       "font_size": null,
       "font_style": null,
       "font_variant": null,
       "font_weight": null,
       "text_color": null,
       "text_decoration": null
      }
     },
     "afbce40fddb54722bba7362d7fcaa60f": {
      "model_module": "@jupyter-widgets/controls",
      "model_module_version": "2.0.0",
      "model_name": "CheckboxStyleModel",
      "state": {
       "description_width": ""
      }
     },
     "affe2cf229bb486f990c5f2231077082": {
      "model_module": "@jupyter-widgets/output",
      "model_module_version": "1.0.0",
      "model_name": "OutputModel",
      "state": {
       "layout": "IPY_MODEL_6b780f59f26048b8a49696c4a485a8f2",
       "outputs": [
        {
         "name": "stdout",
         "output_type": "stream",
         "text": "----------------------------------------------------------------------------------------------------\n\nFound a single data file for the search term 'C/2013US10CatalinaOrbit2Ptg2':\n\n----------------------------------------------------------------------------------------------------\n\nName of observation: C/2013US10CatalinaOrbit2Ptg2 \t\t Total number of observations: 1\n\n----------------------------------------------------------------------------------------------------\nSelect one of the following:\n\n\t\t0\tDownload the data file listed above to /Users/jduffy0121/Desktop\n\t\t1\tCancel download\n\n"
        },
        {
         "data": {
          "application/vnd.jupyter.widget-view+json": {
           "model_id": "751043b49a664d45bacb1975bee922af",
           "version_major": 2,
           "version_minor": 0
          },
          "text/plain": "Dropdown(description='Selection:', options=(('0', 0), ('1', 1)), value=0)"
         },
         "metadata": {},
         "output_type": "display_data"
        },
        {
         "data": {
          "application/vnd.jupyter.widget-view+json": {
           "model_id": "6786b6eb198449018ad4360d8d398013",
           "version_major": 2,
           "version_minor": 0
          },
          "text/plain": "Button(description='Confirm', style=ButtonStyle(), tooltip='Confirm download')"
         },
         "metadata": {},
         "output_type": "display_data"
        },
        {
         "data": {
          "application/vnd.jupyter.widget-view+json": {
           "model_id": "8b14e2ac24aa406fb29d05214c2e2073",
           "version_major": 2,
           "version_minor": 0
          },
          "text/plain": "Output()"
         },
         "metadata": {},
         "output_type": "display_data"
        },
        {
         "name": "stdout",
         "output_type": "stream",
         "text": "----------------------------------------------------------------------------------------------------\n\nNo files downloaded\n\n----------------------------------------------------------------------------------------------------\n"
        }
       ]
      }
     },
     "b1936cff77b841379b7aba5515cb7043": {
      "model_module": "@jupyter-widgets/base",
      "model_module_version": "2.0.0",
      "model_name": "LayoutModel",
      "state": {}
     },
     "b1c38c6c564a4e598486685316eadbe1": {
      "model_module": "@jupyter-widgets/controls",
      "model_module_version": "2.0.0",
      "model_name": "TextStyleModel",
      "state": {
       "description_width": "",
       "font_size": null,
       "text_color": null
      }
     },
     "b1fb63160447461c8ca07e2ad915bb8b": {
      "model_module": "@jupyter-widgets/controls",
      "model_module_version": "2.0.0",
      "model_name": "ToggleButtonsModel",
      "state": {
       "_options_labels": [
        "uncompressed",
        "tar",
        "zip"
       ],
       "button_style": "",
       "description": "Download Type:",
       "icons": [],
       "index": 0,
       "layout": "IPY_MODEL_badfd25d57f54ec99eaa48dcff647f66",
       "style": "IPY_MODEL_6c5de95707894168b6031af2c9e25460",
       "tooltips": [
        "uncompressed",
        "tar",
        "zip"
       ]
      }
     },
     "b1ff8f8bec0d4f19954f33271cca6d92": {
      "model_module": "@jupyter-widgets/controls",
      "model_module_version": "2.0.0",
      "model_name": "ToggleButtonsStyleModel",
      "state": {
       "button_width": "",
       "description_width": ""
      }
     },
     "b2d8b382cc044451a3fb32df2d65557b": {
      "model_module": "@jupyter-widgets/base",
      "model_module_version": "2.0.0",
      "model_name": "LayoutModel",
      "state": {}
     },
     "b2f1a05f40da45d0bf95ce84978ae3aa": {
      "model_module": "@jupyter-widgets/controls",
      "model_module_version": "2.0.0",
      "model_name": "DescriptionStyleModel",
      "state": {
       "description_width": ""
      }
     },
     "b333b85fbc904c0493c6e671acce6686": {
      "model_module": "@jupyter-widgets/controls",
      "model_module_version": "2.0.0",
      "model_name": "TextStyleModel",
      "state": {
       "description_width": "",
       "font_size": null,
       "text_color": null
      }
     },
     "b445052bbc244a3eb63f892d015e74dc": {
      "model_module": "@jupyter-widgets/controls",
      "model_module_version": "2.0.0",
      "model_name": "ToggleButtonsModel",
      "state": {
       "_options_labels": [
        "uncompressed",
        "tar",
        "zip"
       ],
       "button_style": "",
       "description": "Download Type:",
       "icons": [],
       "index": 0,
       "layout": "IPY_MODEL_c8dba9eb2dde48b487b45e8b8cdec39c",
       "style": "IPY_MODEL_496bf5e9bc524ec7924802eef835be13",
       "tooltips": [
        "uncompressed",
        "tar",
        "zip"
       ]
      }
     },
     "b4f7b290f2484fee81b8a9591b450fff": {
      "model_module": "@jupyter-widgets/base",
      "model_module_version": "2.0.0",
      "model_name": "LayoutModel",
      "state": {}
     },
     "b505a1f6d193492bb67966c6ee50b2f9": {
      "model_module": "@jupyter-widgets/output",
      "model_module_version": "1.0.0",
      "model_name": "OutputModel",
      "state": {
       "layout": "IPY_MODEL_4f89424450ee47ab92703af0e5c87a0f"
      }
     },
     "b5120688a8ca4aa4a2be8a600c0eb56a": {
      "model_module": "@jupyter-widgets/base",
      "model_module_version": "2.0.0",
      "model_name": "LayoutModel",
      "state": {}
     },
     "b59bc2b741004d21a90b4bff39e9c835": {
      "model_module": "@jupyter-widgets/base",
      "model_module_version": "2.0.0",
      "model_name": "LayoutModel",
      "state": {}
     },
     "b5adcfcf33564273a47362a28160db94": {
      "model_module": "@jupyter-widgets/controls",
      "model_module_version": "2.0.0",
      "model_name": "DropdownModel",
      "state": {
       "_options_labels": [
        "0",
        "1"
       ],
       "description": "Selection:",
       "disabled": true,
       "index": 1,
       "layout": "IPY_MODEL_e791d59bf52848198125f2efd6835bd2",
       "style": "IPY_MODEL_fecc67fafbdb481a8b6c4a36062f1294"
      }
     },
     "b5d6523cbf9f4838b89ff7647ab3c727": {
      "model_module": "@jupyter-widgets/controls",
      "model_module_version": "2.0.0",
      "model_name": "CheckboxStyleModel",
      "state": {
       "description_width": ""
      }
     },
     "b5ecf4454c6647d28ed529d48272ba08": {
      "model_module": "@jupyter-widgets/output",
      "model_module_version": "1.0.0",
      "model_name": "OutputModel",
      "state": {
       "layout": "IPY_MODEL_963a48095f294805a5f50f9009c3fb03"
      }
     },
     "b6468708d49441089822e8e682e2a1f8": {
      "model_module": "@jupyter-widgets/output",
      "model_module_version": "1.0.0",
      "model_name": "OutputModel",
      "state": {
       "layout": "IPY_MODEL_fb4433d778b142869f0507fa0b327b1a",
       "outputs": [
        {
         "name": "stdout",
         "output_type": "stream",
         "text": "----------------------------------------------------------------------------------------------------\n\nFound a single data file for the search term 'C/2013US10CatalinaOrbit2Ptg2':\n\n----------------------------------------------------------------------------------------------------\n\nName of observation: C/2013US10CatalinaOrbit2Ptg2 \t\t Total number of observations: 1\n\n----------------------------------------------------------------------------------------------------\nSelect one of the following:\n\n\t\t0\tDownload the data file listed above to /Users/jduffy0121/Desktop\n\t\t1\tCancel download\n\n----------------------------------------------------------------------------------------------------\n"
        }
       ]
      }
     },
     "b6551f32624a4a558fbdbc6c0fa726d5": {
      "model_module": "@jupyter-widgets/controls",
      "model_module_version": "2.0.0",
      "model_name": "TextModel",
      "state": {
       "description": "Search Term:",
       "layout": "IPY_MODEL_76491be737ff419cb8a0b6f9b06695aa",
       "placeholder": "",
       "style": "IPY_MODEL_89e7468c242c4ec8a996bc3fb692535a",
       "value": "C/2013US10CatalinaOrbit2Ptg2"
      }
     },
     "b6595e0590d844b19c84ba3774b083c9": {
      "model_module": "@jupyter-widgets/controls",
      "model_module_version": "2.0.0",
      "model_name": "ButtonStyleModel",
      "state": {
       "font_family": null,
       "font_size": null,
       "font_style": null,
       "font_variant": null,
       "font_weight": null,
       "text_color": null,
       "text_decoration": null
      }
     },
     "b6cf1f37cdba4ac68e671747fe8e4e08": {
      "model_module": "@jupyter-widgets/controls",
      "model_module_version": "2.0.0",
      "model_name": "ButtonStyleModel",
      "state": {
       "font_family": null,
       "font_size": null,
       "font_style": null,
       "font_variant": null,
       "font_weight": null,
       "text_color": null,
       "text_decoration": null
      }
     },
     "b7ac0dcfcd374a8aa0ab287a7488eaa4": {
      "model_module": "@jupyter-widgets/controls",
      "model_module_version": "2.0.0",
      "model_name": "ButtonModel",
      "state": {
       "description": "Confirm",
       "layout": "IPY_MODEL_196cb0d7a88b41d191bf4dd4e53b0adc",
       "style": "IPY_MODEL_af0636815b2640d2942d7a0acb0460c7",
       "tooltip": "Confirm download"
      }
     },
     "b7be7a10836d47e2b6bf053cf77c80a7": {
      "model_module": "@jupyter-widgets/controls",
      "model_module_version": "2.0.0",
      "model_name": "TextModel",
      "state": {
       "description": "Search Term:",
       "layout": "IPY_MODEL_58565069e6814c60b672ffe643f05d35",
       "placeholder": "",
       "style": "IPY_MODEL_290b89d3db054ed0993f7618618f3ce4",
       "value": "C/2013US10CatalinaOrbit2Ptg2"
      }
     },
     "b7cc895e7e214d3094b86d2fb216aff0": {
      "model_module": "@jupyter-widgets/base",
      "model_module_version": "2.0.0",
      "model_name": "LayoutModel",
      "state": {}
     },
     "b8398ffdf44d4b18bc92582bb7064471": {
      "model_module": "@jupyter-widgets/controls",
      "model_module_version": "2.0.0",
      "model_name": "DescriptionStyleModel",
      "state": {
       "description_width": ""
      }
     },
     "b896852878f84bef9d951ca0cc728a52": {
      "model_module": "@jupyter-widgets/base",
      "model_module_version": "2.0.0",
      "model_name": "LayoutModel",
      "state": {}
     },
     "b897dd4f764a40848d7f6299b622bdbd": {
      "model_module": "@jupyter-widgets/controls",
      "model_module_version": "2.0.0",
      "model_name": "ToggleButtonsStyleModel",
      "state": {
       "button_width": "",
       "description_width": ""
      }
     },
     "b8b71cd7ad0847e2ae8f5c60d3abfc54": {
      "model_module": "@jupyter-widgets/base",
      "model_module_version": "2.0.0",
      "model_name": "LayoutModel",
      "state": {}
     },
     "b90f7a82727c4ebdb437b36c4e7aebcb": {
      "model_module": "@jupyter-widgets/base",
      "model_module_version": "2.0.0",
      "model_name": "LayoutModel",
      "state": {}
     },
     "b9b2fc63eadc4a07a101fcb9bb619808": {
      "model_module": "@jupyter-widgets/controls",
      "model_module_version": "2.0.0",
      "model_name": "DropdownModel",
      "state": {
       "_options_labels": [
        "0",
        "1"
       ],
       "description": "Selection:",
       "index": 0,
       "layout": "IPY_MODEL_9ec6619f381f4ec08620b6f15bf538f4",
       "style": "IPY_MODEL_02a9e7ff04864ae29b1c9e36e390355c"
      }
     },
     "ba48261585e34f6eba5706aa5f5539cc": {
      "model_module": "@jupyter-widgets/controls",
      "model_module_version": "2.0.0",
      "model_name": "ButtonStyleModel",
      "state": {
       "font_family": null,
       "font_size": null,
       "font_style": null,
       "font_variant": null,
       "font_weight": null,
       "text_color": null,
       "text_decoration": null
      }
     },
     "ba7f2e63764642ffb99b75658323d3cb": {
      "model_module": "@jupyter-widgets/base",
      "model_module_version": "2.0.0",
      "model_name": "LayoutModel",
      "state": {}
     },
     "ba94524bdd1c449ca8d3d1236fcc7e38": {
      "model_module": "@jupyter-widgets/base",
      "model_module_version": "2.0.0",
      "model_name": "LayoutModel",
      "state": {}
     },
     "bace51d420a6466d831e982033694b84": {
      "model_module": "@jupyter-widgets/base",
      "model_module_version": "2.0.0",
      "model_name": "LayoutModel",
      "state": {}
     },
     "bad32bf8ac604262bf687111d2ad4082": {
      "model_module": "@jupyter-widgets/controls",
      "model_module_version": "2.0.0",
      "model_name": "ButtonStyleModel",
      "state": {
       "font_family": null,
       "font_size": null,
       "font_style": null,
       "font_variant": null,
       "font_weight": null,
       "text_color": null,
       "text_decoration": null
      }
     },
     "badfd25d57f54ec99eaa48dcff647f66": {
      "model_module": "@jupyter-widgets/base",
      "model_module_version": "2.0.0",
      "model_name": "LayoutModel",
      "state": {}
     },
     "bc9d0ee5fd3d41dfa040bc4e415ca41e": {
      "model_module": "@jupyter-widgets/controls",
      "model_module_version": "2.0.0",
      "model_name": "ButtonStyleModel",
      "state": {
       "font_family": null,
       "font_size": null,
       "font_style": null,
       "font_variant": null,
       "font_weight": null,
       "text_color": null,
       "text_decoration": null
      }
     },
     "bedf343f7fd745028f524a561efd1a37": {
      "model_module": "@jupyter-widgets/controls",
      "model_module_version": "2.0.0",
      "model_name": "CheckboxModel",
      "state": {
       "description": "Overwrite Data",
       "disabled": false,
       "indent": false,
       "layout": "IPY_MODEL_4cf6f02d7d8e48fdab2c7394228d9c52",
       "style": "IPY_MODEL_c8544e81121042828d1b1d7196399b1f",
       "value": false
      }
     },
     "bee196202bab43cfa88ad8adc63612c6": {
      "model_module": "@jupyter-widgets/controls",
      "model_module_version": "2.0.0",
      "model_name": "DescriptionStyleModel",
      "state": {
       "description_width": ""
      }
     },
     "bee434c62b024fcfac5b1ed1c7435725": {
      "model_module": "@jupyter-widgets/base",
      "model_module_version": "2.0.0",
      "model_name": "LayoutModel",
      "state": {}
     },
     "bf1281044a4c4354bc73da925ca8a3dc": {
      "model_module": "@jupyter-widgets/controls",
      "model_module_version": "2.0.0",
      "model_name": "ToggleButtonsStyleModel",
      "state": {
       "button_width": "",
       "description_width": ""
      }
     },
     "bfe4d4e8e3084cf0ae7ddeb0a5ec699b": {
      "model_module": "@jupyter-widgets/base",
      "model_module_version": "2.0.0",
      "model_name": "LayoutModel",
      "state": {}
     },
     "c1eab084e3b047e194445b590ca62c8d": {
      "model_module": "@jupyter-widgets/controls",
      "model_module_version": "2.0.0",
      "model_name": "CheckboxModel",
      "state": {
       "description": "Overwrite Data",
       "disabled": false,
       "indent": false,
       "layout": "IPY_MODEL_6eda16079f064a2d9cf184f81e9a64ab",
       "style": "IPY_MODEL_133dd08ffaa94b61b5cea0e1f15c4ac3",
       "value": false
      }
     },
     "c22e90b8b7ff40c7880eda665a02ee37": {
      "model_module": "@jupyter-widgets/controls",
      "model_module_version": "2.0.0",
      "model_name": "TextModel",
      "state": {
       "description": "Search Term:",
       "layout": "IPY_MODEL_a8a69abb05224d0cb775a86221c818f7",
       "placeholder": "",
       "style": "IPY_MODEL_3ecf472aeb104f8dad332e4ba6532ce2"
      }
     },
     "c23528314c694e0ab8c24fbeeaca1a2f": {
      "model_module": "@jupyter-widgets/base",
      "model_module_version": "2.0.0",
      "model_name": "LayoutModel",
      "state": {}
     },
     "c322930b858c489dacce202fbf1fb449": {
      "model_module": "@jupyter-widgets/base",
      "model_module_version": "2.0.0",
      "model_name": "LayoutModel",
      "state": {}
     },
     "c32fd51cbddd415d9f9c50ee5149e05d": {
      "model_module": "@jupyter-widgets/controls",
      "model_module_version": "2.0.0",
      "model_name": "ButtonStyleModel",
      "state": {
       "font_family": null,
       "font_size": null,
       "font_style": null,
       "font_variant": null,
       "font_weight": null,
       "text_color": null,
       "text_decoration": null
      }
     },
     "c3c55362c795457e8d3def19a25b9aab": {
      "model_module": "@jupyter-widgets/controls",
      "model_module_version": "2.0.0",
      "model_name": "DescriptionStyleModel",
      "state": {
       "description_width": ""
      }
     },
     "c413428757ec411cb5134a51d7b406e1": {
      "model_module": "@jupyter-widgets/base",
      "model_module_version": "2.0.0",
      "model_name": "LayoutModel",
      "state": {}
     },
     "c423adc4377542539c9b4a6250e3ce33": {
      "model_module": "@jupyter-widgets/controls",
      "model_module_version": "2.0.0",
      "model_name": "ButtonStyleModel",
      "state": {
       "font_family": null,
       "font_size": null,
       "font_style": null,
       "font_variant": null,
       "font_weight": null,
       "text_color": null,
       "text_decoration": null
      }
     },
     "c482a021f4a04640a9a87cbc8e123344": {
      "model_module": "@jupyter-widgets/controls",
      "model_module_version": "2.0.0",
      "model_name": "ButtonModel",
      "state": {
       "description": "Search Archives",
       "disabled": true,
       "layout": "IPY_MODEL_05c715f65b824fb883f36b6f71a2cda6",
       "style": "IPY_MODEL_ba48261585e34f6eba5706aa5f5539cc",
       "tooltip": "Search the Swift archives"
      }
     },
     "c52688c5886b4622a9d69acc6c414157": {
      "model_module": "@jupyter-widgets/controls",
      "model_module_version": "2.0.0",
      "model_name": "DescriptionStyleModel",
      "state": {
       "description_width": ""
      }
     },
     "c5ad788756cd4275ba72937f0d5c357e": {
      "model_module": "@jupyter-widgets/controls",
      "model_module_version": "2.0.0",
      "model_name": "ToggleButtonsStyleModel",
      "state": {
       "button_width": "",
       "description_width": ""
      }
     },
     "c5c7b53431294a49a1adb3a143962ad4": {
      "model_module": "@jupyter-widgets/controls",
      "model_module_version": "2.0.0",
      "model_name": "ButtonModel",
      "state": {
       "description": "Search Archives",
       "layout": "IPY_MODEL_f0034b1b45e9404abca725ec6f2551ae",
       "style": "IPY_MODEL_a47326593d6d4805a218a13e9fdd9447",
       "tooltip": "Search the Swift archives"
      }
     },
     "c5cfd4cfb0df4a959f49bb6c72d340d6": {
      "model_module": "@jupyter-widgets/controls",
      "model_module_version": "2.0.0",
      "model_name": "CheckboxStyleModel",
      "state": {
       "description_width": ""
      }
     },
     "c6714848545e4c029ec8043063557866": {
      "model_module": "@jupyter-widgets/base",
      "model_module_version": "2.0.0",
      "model_name": "LayoutModel",
      "state": {}
     },
     "c6e3c453c42649f5b34a6129800ee505": {
      "model_module": "@jupyter-widgets/output",
      "model_module_version": "1.0.0",
      "model_name": "OutputModel",
      "state": {
       "layout": "IPY_MODEL_e654926b393b4ca99c932b8114c02c2e"
      }
     },
     "c6f22b527a9f47ad96b76db096d8d2c3": {
      "model_module": "@jupyter-widgets/controls",
      "model_module_version": "2.0.0",
      "model_name": "ButtonStyleModel",
      "state": {
       "font_family": null,
       "font_size": null,
       "font_style": null,
       "font_variant": null,
       "font_weight": null,
       "text_color": null,
       "text_decoration": null
      }
     },
     "c70c199329d648f18720d259871b3121": {
      "model_module": "@jupyter-widgets/controls",
      "model_module_version": "2.0.0",
      "model_name": "CheckboxStyleModel",
      "state": {
       "description_width": ""
      }
     },
     "c8046ba773464284964fe7991762aedf": {
      "model_module": "@jupyter-widgets/base",
      "model_module_version": "2.0.0",
      "model_name": "LayoutModel",
      "state": {}
     },
     "c840f32103ca4f17949d476d1741361d": {
      "model_module": "@jupyter-widgets/base",
      "model_module_version": "2.0.0",
      "model_name": "LayoutModel",
      "state": {}
     },
     "c8544e81121042828d1b1d7196399b1f": {
      "model_module": "@jupyter-widgets/controls",
      "model_module_version": "2.0.0",
      "model_name": "CheckboxStyleModel",
      "state": {
       "description_width": ""
      }
     },
     "c8dba9eb2dde48b487b45e8b8cdec39c": {
      "model_module": "@jupyter-widgets/base",
      "model_module_version": "2.0.0",
      "model_name": "LayoutModel",
      "state": {}
     },
     "c93c8846197948068217635801bf994f": {
      "model_module": "@jupyter-widgets/controls",
      "model_module_version": "2.0.0",
      "model_name": "ButtonModel",
      "state": {
       "description": "Search Archives",
       "layout": "IPY_MODEL_ded4ae2955e14d3c9681739515b52e9a",
       "style": "IPY_MODEL_d96d07b4a80a4651bd497f4af0896697",
       "tooltip": "Search the Swift archives"
      }
     },
     "c953291a23ef40cfa9372fd3787b2e5c": {
      "model_module": "@jupyter-widgets/controls",
      "model_module_version": "2.0.0",
      "model_name": "SelectMultipleModel",
      "state": {
       "_options_labels": [
        "auxil",
        "bat",
        "xrt",
        "uvot",
        "log"
       ],
       "description": "File Type(s)",
       "index": [
        0
       ],
       "layout": "IPY_MODEL_3550c01816e8408a9b75cd6a4426f076",
       "rows": 5,
       "style": "IPY_MODEL_41abbf492c474a46a8080c703dc3bbef"
      }
     },
     "c98991937cd144eb927680cd9b564b7a": {
      "model_module": "@jupyter-widgets/controls",
      "model_module_version": "2.0.0",
      "model_name": "CheckboxStyleModel",
      "state": {
       "description_width": ""
      }
     },
     "c98994737d2c408e83cd6dad2736cf6b": {
      "model_module": "@jupyter-widgets/controls",
      "model_module_version": "2.0.0",
      "model_name": "ToggleButtonsStyleModel",
      "state": {
       "button_width": "",
       "description_width": ""
      }
     },
     "c9c1a7ae9adb4015b74a04de0ad96157": {
      "model_module": "@jupyter-widgets/controls",
      "model_module_version": "2.0.0",
      "model_name": "ButtonModel",
      "state": {
       "description": "Confirm",
       "layout": "IPY_MODEL_f5413dfbefd849ae9a220b0631e95450",
       "style": "IPY_MODEL_75e3299494674bbfb424734f27d2cf6d",
       "tooltip": "Confirm download"
      }
     },
     "caf6ec06ba954d7b800b6f55d5a6276b": {
      "model_module": "@jupyter-widgets/base",
      "model_module_version": "2.0.0",
      "model_name": "LayoutModel",
      "state": {}
     },
     "cb30528902db4301b7164c4d7c328bf3": {
      "model_module": "@jupyter-widgets/base",
      "model_module_version": "2.0.0",
      "model_name": "LayoutModel",
      "state": {}
     },
     "cb7ee1ee978547f294a0b8ef02c64a6c": {
      "model_module": "@jupyter-widgets/controls",
      "model_module_version": "2.0.0",
      "model_name": "ToggleButtonsModel",
      "state": {
       "_options_labels": [
        "uncompressed",
        "tar",
        "zip"
       ],
       "button_style": "",
       "description": "Download Type:",
       "icons": [],
       "index": 0,
       "layout": "IPY_MODEL_b1936cff77b841379b7aba5515cb7043",
       "style": "IPY_MODEL_5da9afa9e53a49269921dc574a4c2912",
       "tooltips": [
        "uncompressed",
        "tar",
        "zip"
       ]
      }
     },
     "cbd6c3bee1b44942a440151d3fb3590a": {
      "model_module": "@jupyter-widgets/base",
      "model_module_version": "2.0.0",
      "model_name": "LayoutModel",
      "state": {}
     },
     "cbf61e868a87409a8d6376729bbb6a55": {
      "model_module": "@jupyter-widgets/controls",
      "model_module_version": "2.0.0",
      "model_name": "ToggleButtonsModel",
      "state": {
       "_options_labels": [
        "uncompressed",
        "tar",
        "zip"
       ],
       "button_style": "",
       "description": "Download Type:",
       "icons": [],
       "index": 0,
       "layout": "IPY_MODEL_c8046ba773464284964fe7991762aedf",
       "style": "IPY_MODEL_411b6f79fcad42af8d708af35d6fa513",
       "tooltips": [
        "uncompressed",
        "tar",
        "zip"
       ]
      }
     },
     "cc15b7dc3e1b42f9b5a435e5470a9c9b": {
      "model_module": "@jupyter-widgets/base",
      "model_module_version": "2.0.0",
      "model_name": "LayoutModel",
      "state": {}
     },
     "cd2e85002ade4480986f318e2e830933": {
      "model_module": "@jupyter-widgets/base",
      "model_module_version": "2.0.0",
      "model_name": "LayoutModel",
      "state": {}
     },
     "ced9f20901b846f1b8fd35c78a069430": {
      "model_module": "@jupyter-widgets/base",
      "model_module_version": "2.0.0",
      "model_name": "LayoutModel",
      "state": {}
     },
     "cf4e4fa2768b49d2b4eae8e5e05c0553": {
      "model_module": "@jupyter-widgets/controls",
      "model_module_version": "2.0.0",
      "model_name": "ButtonStyleModel",
      "state": {
       "font_family": null,
       "font_size": null,
       "font_style": null,
       "font_variant": null,
       "font_weight": null,
       "text_color": null,
       "text_decoration": null
      }
     },
     "cf66f66280b34968be30fe5e4aee7a93": {
      "model_module": "@jupyter-widgets/base",
      "model_module_version": "2.0.0",
      "model_name": "LayoutModel",
      "state": {}
     },
     "d054217fb7954547b250d77a0483ba5f": {
      "model_module": "@jupyter-widgets/base",
      "model_module_version": "2.0.0",
      "model_name": "LayoutModel",
      "state": {}
     },
     "d057a8f2e8674899a83561fe4768c831": {
      "model_module": "@jupyter-widgets/controls",
      "model_module_version": "2.0.0",
      "model_name": "ButtonStyleModel",
      "state": {
       "font_family": null,
       "font_size": null,
       "font_style": null,
       "font_variant": null,
       "font_weight": null,
       "text_color": null,
       "text_decoration": null
      }
     },
     "d0dad508e66b4a2681577645e1f3cdda": {
      "model_module": "@jupyter-widgets/base",
      "model_module_version": "2.0.0",
      "model_name": "LayoutModel",
      "state": {}
     },
     "d11345267fbb4475b98bf4cc56af07bc": {
      "model_module": "@jupyter-widgets/controls",
      "model_module_version": "2.0.0",
      "model_name": "TextStyleModel",
      "state": {
       "description_width": "",
       "font_size": null,
       "text_color": null
      }
     },
     "d18f5d3946e247788b7610e99d1c3f99": {
      "model_module": "@jupyter-widgets/base",
      "model_module_version": "2.0.0",
      "model_name": "LayoutModel",
      "state": {}
     },
     "d1e00b59b9a44547bfec2fe3efd77b6b": {
      "model_module": "@jupyter-widgets/controls",
      "model_module_version": "2.0.0",
      "model_name": "DescriptionStyleModel",
      "state": {
       "description_width": ""
      }
     },
     "d2b398b1ae6445a88d0ceb5fe55c2cef": {
      "model_module": "@jupyter-widgets/controls",
      "model_module_version": "2.0.0",
      "model_name": "DescriptionStyleModel",
      "state": {
       "description_width": ""
      }
     },
     "d2c86628763e40409344f838d4cffbab": {
      "model_module": "@jupyter-widgets/controls",
      "model_module_version": "2.0.0",
      "model_name": "ButtonModel",
      "state": {
       "description": "Search Archives",
       "layout": "IPY_MODEL_dd78512aefe34ba486b7e2ff8d6c94c7",
       "style": "IPY_MODEL_ffe8c6bf2a72476c8fd7b104d9aebc7c",
       "tooltip": "Search the Swift archives"
      }
     },
     "d3e0160d61014744b984429b785c5f04": {
      "model_module": "@jupyter-widgets/base",
      "model_module_version": "2.0.0",
      "model_name": "LayoutModel",
      "state": {}
     },
     "d409e34ee77b4bb099ef2f8246b7245b": {
      "model_module": "@jupyter-widgets/output",
      "model_module_version": "1.0.0",
      "model_name": "OutputModel",
      "state": {
       "layout": "IPY_MODEL_dd93f1727f4c40828c6d6a9a1d460cd3"
      }
     },
     "d42255d64321486b8072d8000e263eea": {
      "model_module": "@jupyter-widgets/base",
      "model_module_version": "2.0.0",
      "model_name": "LayoutModel",
      "state": {}
     },
     "d4b2eafb9e2b4b638201d72bf8642607": {
      "model_module": "@jupyter-widgets/base",
      "model_module_version": "2.0.0",
      "model_name": "LayoutModel",
      "state": {}
     },
     "d508daced76e4a7db954970a5eeb3354": {
      "model_module": "@jupyter-widgets/controls",
      "model_module_version": "2.0.0",
      "model_name": "ButtonModel",
      "state": {
       "description": "Search Archives",
       "layout": "IPY_MODEL_331f8418b55b472a8e285372274ec0e4",
       "style": "IPY_MODEL_b6cf1f37cdba4ac68e671747fe8e4e08",
       "tooltip": "Search the Swift archives"
      }
     },
     "d5386744333f45bbb797038acc24b122": {
      "model_module": "@jupyter-widgets/controls",
      "model_module_version": "2.0.0",
      "model_name": "CheckboxModel",
      "state": {
       "description": "Overwrite Data",
       "disabled": false,
       "indent": false,
       "layout": "IPY_MODEL_bfe4d4e8e3084cf0ae7ddeb0a5ec699b",
       "style": "IPY_MODEL_6852cd2e3df8423098810279a0d5b832",
       "value": false
      }
     },
     "d5d958eda4c54289aa4f152c94945be9": {
      "model_module": "@jupyter-widgets/controls",
      "model_module_version": "2.0.0",
      "model_name": "ButtonStyleModel",
      "state": {
       "font_family": null,
       "font_size": null,
       "font_style": null,
       "font_variant": null,
       "font_weight": null,
       "text_color": null,
       "text_decoration": null
      }
     },
     "d5fa55ae25794773a397dca94e8a5301": {
      "model_module": "@jupyter-widgets/controls",
      "model_module_version": "2.0.0",
      "model_name": "DescriptionStyleModel",
      "state": {
       "description_width": ""
      }
     },
     "d625655f1f7042c081eef61a9b29d155": {
      "model_module": "@jupyter-widgets/base",
      "model_module_version": "2.0.0",
      "model_name": "LayoutModel",
      "state": {}
     },
     "d62b1d56b8bf4324a7564b1f2030d6be": {
      "model_module": "@jupyter-widgets/output",
      "model_module_version": "1.0.0",
      "model_name": "OutputModel",
      "state": {
       "layout": "IPY_MODEL_d4b2eafb9e2b4b638201d72bf8642607",
       "outputs": [
        {
         "name": "stdout",
         "output_type": "stream",
         "text": "----------------------------------------------------------------------------------------------------\n\nNo search term entered.\nPlease try again.\n\n----------------------------------------------------------------------------------------------------\n"
        }
       ]
      }
     },
     "d7524e183deb4ec7a01123fa45cbff0e": {
      "model_module": "@jupyter-widgets/base",
      "model_module_version": "2.0.0",
      "model_name": "LayoutModel",
      "state": {}
     },
     "d76499f59aa844c2a9baa81e0dc61449": {
      "model_module": "@jupyter-widgets/controls",
      "model_module_version": "2.0.0",
      "model_name": "TextModel",
      "state": {
       "description": "Search Term:",
       "layout": "IPY_MODEL_b59bc2b741004d21a90b4bff39e9c835",
       "placeholder": "",
       "style": "IPY_MODEL_dc26c558da3a419fbe0ed06038a83d3c"
      }
     },
     "d810a954db844ae9b4dd0b3ca410d6ff": {
      "model_module": "@jupyter-widgets/controls",
      "model_module_version": "2.0.0",
      "model_name": "SelectMultipleModel",
      "state": {
       "_options_labels": [
        "auxil",
        "bat",
        "xrt",
        "uvot",
        "log"
       ],
       "description": "File Type(s)",
       "index": [
        0
       ],
       "layout": "IPY_MODEL_9163978911e94f0d90d2c2d8323bcac5",
       "rows": 5,
       "style": "IPY_MODEL_d92b554809b942cc935b347459d98338"
      }
     },
     "d83c9c07b4ad40249b2d78b2cd00129b": {
      "model_module": "@jupyter-widgets/controls",
      "model_module_version": "2.0.0",
      "model_name": "ButtonStyleModel",
      "state": {
       "font_family": null,
       "font_size": null,
       "font_style": null,
       "font_variant": null,
       "font_weight": null,
       "text_color": null,
       "text_decoration": null
      }
     },
     "d8957e706d28489b8084d75be5bcd93b": {
      "model_module": "@jupyter-widgets/controls",
      "model_module_version": "2.0.0",
      "model_name": "ButtonModel",
      "state": {
       "description": "Search Archives",
       "layout": "IPY_MODEL_9b712aaaeb41423aa3baaedcc3f19bf4",
       "style": "IPY_MODEL_f7aa92ef9ba946c192c7f920f6ab7c53",
       "tooltip": "Search the Swift archives"
      }
     },
     "d92b554809b942cc935b347459d98338": {
      "model_module": "@jupyter-widgets/controls",
      "model_module_version": "2.0.0",
      "model_name": "DescriptionStyleModel",
      "state": {
       "description_width": ""
      }
     },
     "d96d07b4a80a4651bd497f4af0896697": {
      "model_module": "@jupyter-widgets/controls",
      "model_module_version": "2.0.0",
      "model_name": "ButtonStyleModel",
      "state": {
       "font_family": null,
       "font_size": null,
       "font_style": null,
       "font_variant": null,
       "font_weight": null,
       "text_color": null,
       "text_decoration": null
      }
     },
     "d9883e1f584c4e188ccd918e78f39174": {
      "model_module": "@jupyter-widgets/base",
      "model_module_version": "2.0.0",
      "model_name": "LayoutModel",
      "state": {}
     },
     "db0de1828c5847c4bb759e869c8b98be": {
      "model_module": "@jupyter-widgets/base",
      "model_module_version": "2.0.0",
      "model_name": "LayoutModel",
      "state": {}
     },
     "db23a954a0634828b99d2603ccb5c623": {
      "model_module": "@jupyter-widgets/output",
      "model_module_version": "1.0.0",
      "model_name": "OutputModel",
      "state": {
       "layout": "IPY_MODEL_ae1b5843c45d4294b4197164667a96e0"
      }
     },
     "db5929cf5a39479b961e56b370384311": {
      "model_module": "@jupyter-widgets/controls",
      "model_module_version": "2.0.0",
      "model_name": "ButtonModel",
      "state": {
       "description": "Confirm",
       "layout": "IPY_MODEL_febf306833c94e54a8f27c72b4469f66",
       "style": "IPY_MODEL_082af91cb9ce4b91991516c9e4fb11b9",
       "tooltip": "Confirm download"
      }
     },
     "dbc398e5b9aa4d2db447617ea83b3944": {
      "model_module": "@jupyter-widgets/output",
      "model_module_version": "1.0.0",
      "model_name": "OutputModel",
      "state": {
       "layout": "IPY_MODEL_30aebd7e263740e0b969001c65b5de4a"
      }
     },
     "dc1303fa906e4b43aabee9c5b74c5a6f": {
      "model_module": "@jupyter-widgets/base",
      "model_module_version": "2.0.0",
      "model_name": "LayoutModel",
      "state": {}
     },
     "dc26c558da3a419fbe0ed06038a83d3c": {
      "model_module": "@jupyter-widgets/controls",
      "model_module_version": "2.0.0",
      "model_name": "TextStyleModel",
      "state": {
       "description_width": "",
       "font_size": null,
       "text_color": null
      }
     },
     "dc29ec3659c541beb8fa7ec8ba8076ad": {
      "model_module": "@jupyter-widgets/controls",
      "model_module_version": "2.0.0",
      "model_name": "ToggleButtonsStyleModel",
      "state": {
       "button_width": "",
       "description_width": ""
      }
     },
     "dc686f018311405eb1e9e1df4e9c1c55": {
      "model_module": "@jupyter-widgets/controls",
      "model_module_version": "2.0.0",
      "model_name": "TextModel",
      "state": {
       "description": "Search Term:",
       "layout": "IPY_MODEL_10497ff0a1ea4e58b7c163d37e87c678",
       "placeholder": "",
       "style": "IPY_MODEL_9501f66b96b44c7687b543a5cbbba7d3"
      }
     },
     "dcc35aac7b3e4abfabfed4ef09dc467b": {
      "model_module": "@jupyter-widgets/base",
      "model_module_version": "2.0.0",
      "model_name": "LayoutModel",
      "state": {}
     },
     "dcdbcda22734410fb19458aab3f7a4d2": {
      "model_module": "@jupyter-widgets/controls",
      "model_module_version": "2.0.0",
      "model_name": "SelectMultipleModel",
      "state": {
       "_options_labels": [
        "auxil",
        "bat",
        "xrt",
        "uvot",
        "log"
       ],
       "description": "File Type(s)",
       "index": [
        0
       ],
       "layout": "IPY_MODEL_e652e6509dfb4ed78d0ccc6c7b5f6d79",
       "rows": 5,
       "style": "IPY_MODEL_2fd29edc3e6140a1a0ee392e17f3b973"
      }
     },
     "dd78512aefe34ba486b7e2ff8d6c94c7": {
      "model_module": "@jupyter-widgets/base",
      "model_module_version": "2.0.0",
      "model_name": "LayoutModel",
      "state": {}
     },
     "dd93f1727f4c40828c6d6a9a1d460cd3": {
      "model_module": "@jupyter-widgets/base",
      "model_module_version": "2.0.0",
      "model_name": "LayoutModel",
      "state": {}
     },
     "ddd6793f16f54e38886a37ec7963ec3e": {
      "model_module": "@jupyter-widgets/base",
      "model_module_version": "2.0.0",
      "model_name": "LayoutModel",
      "state": {}
     },
     "ded4ae2955e14d3c9681739515b52e9a": {
      "model_module": "@jupyter-widgets/base",
      "model_module_version": "2.0.0",
      "model_name": "LayoutModel",
      "state": {}
     },
     "dedcd8becfd5412aa284eea6c5de4426": {
      "model_module": "@jupyter-widgets/base",
      "model_module_version": "2.0.0",
      "model_name": "LayoutModel",
      "state": {}
     },
     "df28fa5925924487884a40908e8c6629": {
      "model_module": "@jupyter-widgets/controls",
      "model_module_version": "2.0.0",
      "model_name": "DescriptionStyleModel",
      "state": {
       "description_width": ""
      }
     },
     "df6ab55d9bf04f27824bd1959ea9fcd2": {
      "model_module": "@jupyter-widgets/base",
      "model_module_version": "2.0.0",
      "model_name": "LayoutModel",
      "state": {}
     },
     "dfb56be29e674f1e8f1d2b7c6c03f549": {
      "model_module": "@jupyter-widgets/base",
      "model_module_version": "2.0.0",
      "model_name": "LayoutModel",
      "state": {}
     },
     "e16fb55239824809a256873b9cd01d9e": {
      "model_module": "@jupyter-widgets/controls",
      "model_module_version": "2.0.0",
      "model_name": "ButtonModel",
      "state": {
       "description": "Search Archives",
       "layout": "IPY_MODEL_f278b49ce2894d71b49ba32afa0139f9",
       "style": "IPY_MODEL_0d60e250258a4c91931e415a8e8df9d2",
       "tooltip": "Search the Swift archives"
      }
     },
     "e2a58fd729084324803d268045f42fc1": {
      "model_module": "@jupyter-widgets/controls",
      "model_module_version": "2.0.0",
      "model_name": "CheckboxModel",
      "state": {
       "description": "Overwrite Data",
       "disabled": false,
       "indent": false,
       "layout": "IPY_MODEL_6728148d8e1a4ea1b2cf544e7299f940",
       "style": "IPY_MODEL_554d198e0b894201b6e67854b3dcadb9",
       "value": false
      }
     },
     "e2b710da63594df993002a8ee21608d3": {
      "model_module": "@jupyter-widgets/output",
      "model_module_version": "1.0.0",
      "model_name": "OutputModel",
      "state": {
       "layout": "IPY_MODEL_77e8c2ab34754a1d88bf0503ad53fdaf",
       "outputs": [
        {
         "name": "stdout",
         "output_type": "stream",
         "text": "----------------------------------------------------------------------------------------------------\n\nNo search term entered.\nPlease try again.\n\n----------------------------------------------------------------------------------------------------\n----------------------------------------------------------------------------------------------------\n\nNo search term entered.\nPlease try again.\n\n----------------------------------------------------------------------------------------------------\n----------------------------------------------------------------------------------------------------\n\nFound a single data file for the search term 'C/2013US10CatalinaOrbit2Ptg2':\n\n----------------------------------------------------------------------------------------------------\n\nName of observation: C/2013US10CatalinaOrbit2Ptg2 \t\t Total number of observations: 1\n\n----------------------------------------------------------------------------------------------------\nSelect one of the following:\n\n\t\t0\tDownload the data file listed above to /Users/jduffy0121/Desktop\n\t\t1\tCancel download\n\n"
        },
        {
         "data": {
          "application/vnd.jupyter.widget-view+json": {
           "model_id": "1ca20a28f69049c29e77129010a15850",
           "version_major": 2,
           "version_minor": 0
          },
          "text/plain": "Dropdown(description='Selection:', options=(('0', 0), ('1', 1)), value=0)"
         },
         "metadata": {},
         "output_type": "display_data"
        },
        {
         "data": {
          "application/vnd.jupyter.widget-view+json": {
           "model_id": "64f930c8e88c451bacb3039532644cbe",
           "version_major": 2,
           "version_minor": 0
          },
          "text/plain": "Button(description='Confirm', style=ButtonStyle(), tooltip='Confirm download')"
         },
         "metadata": {},
         "output_type": "display_data"
        },
        {
         "data": {
          "application/vnd.jupyter.widget-view+json": {
           "model_id": "7a47969a3164453ca9b4f28255520d17",
           "version_major": 2,
           "version_minor": 0
          },
          "text/plain": "Output()"
         },
         "metadata": {},
         "output_type": "display_data"
        },
        {
         "name": "stdout",
         "output_type": "stream",
         "text": "----------------------------------------------------------------------------------------------------\n\nNo files downloaded\n\n----------------------------------------------------------------------------------------------------\n"
        }
       ]
      }
     },
     "e2db4ad065d1437f92a4f95f022ec29b": {
      "model_module": "@jupyter-widgets/controls",
      "model_module_version": "2.0.0",
      "model_name": "ToggleButtonsModel",
      "state": {
       "_options_labels": [
        "uncompressed",
        "tar",
        "zip"
       ],
       "button_style": "",
       "description": "Download Type:",
       "icons": [],
       "index": 0,
       "layout": "IPY_MODEL_2e161293ddcc4c45a0cbacae7b0d395e",
       "style": "IPY_MODEL_b1ff8f8bec0d4f19954f33271cca6d92",
       "tooltips": [
        "uncompressed",
        "tar",
        "zip"
       ]
      }
     },
     "e3329d9a162c4bde9f20bb682d983c07": {
      "model_module": "@jupyter-widgets/controls",
      "model_module_version": "2.0.0",
      "model_name": "ButtonStyleModel",
      "state": {
       "font_family": null,
       "font_size": null,
       "font_style": null,
       "font_variant": null,
       "font_weight": null,
       "text_color": null,
       "text_decoration": null
      }
     },
     "e3aa2537ec504d048ebf582b379102fc": {
      "model_module": "@jupyter-widgets/base",
      "model_module_version": "2.0.0",
      "model_name": "LayoutModel",
      "state": {}
     },
     "e55f67bd2cad4d70af960553e1f8d7af": {
      "model_module": "@jupyter-widgets/controls",
      "model_module_version": "2.0.0",
      "model_name": "DropdownModel",
      "state": {
       "_options_labels": [
        "0",
        "1"
       ],
       "description": "Selection:",
       "index": 0,
       "layout": "IPY_MODEL_2c8b0a92a2c94ee98c0ded7bdeee5151",
       "style": "IPY_MODEL_b8398ffdf44d4b18bc92582bb7064471"
      }
     },
     "e652e6509dfb4ed78d0ccc6c7b5f6d79": {
      "model_module": "@jupyter-widgets/base",
      "model_module_version": "2.0.0",
      "model_name": "LayoutModel",
      "state": {}
     },
     "e654926b393b4ca99c932b8114c02c2e": {
      "model_module": "@jupyter-widgets/base",
      "model_module_version": "2.0.0",
      "model_name": "LayoutModel",
      "state": {}
     },
     "e744ae2fa5f24d89a02e51ea70cd9709": {
      "model_module": "@jupyter-widgets/controls",
      "model_module_version": "2.0.0",
      "model_name": "SelectMultipleModel",
      "state": {
       "_options_labels": [
        "auxil",
        "bat",
        "xrt",
        "uvot",
        "log"
       ],
       "description": "File Type(s)",
       "index": [
        0
       ],
       "layout": "IPY_MODEL_dc1303fa906e4b43aabee9c5b74c5a6f",
       "rows": 5,
       "style": "IPY_MODEL_56b5af4f82694a89a6b024d381fde7ef"
      }
     },
     "e791d59bf52848198125f2efd6835bd2": {
      "model_module": "@jupyter-widgets/base",
      "model_module_version": "2.0.0",
      "model_name": "LayoutModel",
      "state": {}
     },
     "e8ad37a13b4c48e6bb94b1331f5a8b0e": {
      "model_module": "@jupyter-widgets/base",
      "model_module_version": "2.0.0",
      "model_name": "LayoutModel",
      "state": {}
     },
     "e8c1abf8acd54f5cbc5ea004d75f606a": {
      "model_module": "@jupyter-widgets/output",
      "model_module_version": "1.0.0",
      "model_name": "OutputModel",
      "state": {
       "layout": "IPY_MODEL_178dbac6a8e34e3d9af724fc77d5d4e0"
      }
     },
     "e964b23ba1924b3b8143319ec2108240": {
      "model_module": "@jupyter-widgets/base",
      "model_module_version": "2.0.0",
      "model_name": "LayoutModel",
      "state": {}
     },
     "ea6b5d6d78b34f58a2ce37db030e0ef4": {
      "model_module": "@jupyter-widgets/controls",
      "model_module_version": "2.0.0",
      "model_name": "ButtonModel",
      "state": {
       "description": "Search Archives",
       "layout": "IPY_MODEL_6f557621468e487c88c5ffd10d45100d",
       "style": "IPY_MODEL_bad32bf8ac604262bf687111d2ad4082",
       "tooltip": "Search the Swift archives"
      }
     },
     "ebcfd21dbe3b4ba79d52a176bf5b3432": {
      "model_module": "@jupyter-widgets/controls",
      "model_module_version": "2.0.0",
      "model_name": "TextModel",
      "state": {
       "description": "Search Term:",
       "disabled": true,
       "layout": "IPY_MODEL_adbe4cbfd671454e83e69d37fde3932b",
       "placeholder": "",
       "style": "IPY_MODEL_fed9500032e2485b907e3c439075c627",
       "value": "C/2013US10CatalinaOrbit2Ptg2"
      }
     },
     "ed0ed8298ab44c43b2295165bae246d8": {
      "model_module": "@jupyter-widgets/controls",
      "model_module_version": "2.0.0",
      "model_name": "SelectMultipleModel",
      "state": {
       "_options_labels": [
        "auxil",
        "bat",
        "xrt",
        "uvot",
        "log"
       ],
       "description": "File Type(s)",
       "index": [
        0
       ],
       "layout": "IPY_MODEL_f095ddf3c28d40c0832ff852c7c2a4af",
       "rows": 5,
       "style": "IPY_MODEL_50afe263a92840b1b1102a2e6820a77d"
      }
     },
     "edb65cadbd7e485fb44fe3cf3ddc24fc": {
      "model_module": "@jupyter-widgets/controls",
      "model_module_version": "2.0.0",
      "model_name": "SelectMultipleModel",
      "state": {
       "_options_labels": [
        "auxil",
        "bat",
        "xrt",
        "uvot",
        "log"
       ],
       "description": "File Type(s)",
       "index": [
        0
       ],
       "layout": "IPY_MODEL_7714746609d54fe38fbe537b19d8e3af",
       "rows": 5,
       "style": "IPY_MODEL_611f3d96f2ad47929e5bdbe3ab089de5"
      }
     },
     "eed400e8b03d473daeddd8a2d536fde8": {
      "model_module": "@jupyter-widgets/controls",
      "model_module_version": "2.0.0",
      "model_name": "DescriptionStyleModel",
      "state": {
       "description_width": ""
      }
     },
     "efcb47fac03442fa89e22aa1a934ccc8": {
      "model_module": "@jupyter-widgets/base",
      "model_module_version": "2.0.0",
      "model_name": "LayoutModel",
      "state": {}
     },
     "f0034b1b45e9404abca725ec6f2551ae": {
      "model_module": "@jupyter-widgets/base",
      "model_module_version": "2.0.0",
      "model_name": "LayoutModel",
      "state": {}
     },
     "f095ddf3c28d40c0832ff852c7c2a4af": {
      "model_module": "@jupyter-widgets/base",
      "model_module_version": "2.0.0",
      "model_name": "LayoutModel",
      "state": {}
     },
     "f167fdd2da634fafb5539bb29ba9740a": {
      "model_module": "@jupyter-widgets/controls",
      "model_module_version": "2.0.0",
      "model_name": "CheckboxModel",
      "state": {
       "description": "Overwrite Data",
       "disabled": false,
       "indent": false,
       "layout": "IPY_MODEL_df6ab55d9bf04f27824bd1959ea9fcd2",
       "style": "IPY_MODEL_52d6458b9a864ff69bf457d831965126",
       "value": false
      }
     },
     "f1bffa7e882b44cd825fb18dbdef2837": {
      "model_module": "@jupyter-widgets/controls",
      "model_module_version": "2.0.0",
      "model_name": "ButtonModel",
      "state": {
       "description": "Confirm",
       "layout": "IPY_MODEL_2a1244767bdf40e1abb87846114584e8",
       "style": "IPY_MODEL_b6595e0590d844b19c84ba3774b083c9",
       "tooltip": "Confirm download"
      }
     },
     "f22c80fdceb5442e91f1a31077944fcb": {
      "model_module": "@jupyter-widgets/controls",
      "model_module_version": "2.0.0",
      "model_name": "TextStyleModel",
      "state": {
       "description_width": "",
       "font_size": null,
       "text_color": null
      }
     },
     "f278b49ce2894d71b49ba32afa0139f9": {
      "model_module": "@jupyter-widgets/base",
      "model_module_version": "2.0.0",
      "model_name": "LayoutModel",
      "state": {}
     },
     "f2814bbfa569433090e54b012ed1520e": {
      "model_module": "@jupyter-widgets/controls",
      "model_module_version": "2.0.0",
      "model_name": "SelectMultipleModel",
      "state": {
       "_options_labels": [
        "auxil",
        "bat",
        "xrt",
        "uvot",
        "log"
       ],
       "description": "File Type(s)",
       "index": [
        0
       ],
       "layout": "IPY_MODEL_435d7e1e104e456ab76a8b943b9deb56",
       "rows": 5,
       "style": "IPY_MODEL_75960a270f4240288f63261323ab7076"
      }
     },
     "f2c833f2a0884598b194ef5dddc5f55b": {
      "model_module": "@jupyter-widgets/output",
      "model_module_version": "1.0.0",
      "model_name": "OutputModel",
      "state": {
       "layout": "IPY_MODEL_c322930b858c489dacce202fbf1fb449"
      }
     },
     "f306b5aa9d1d44f8bdb60dda34ffcee3": {
      "model_module": "@jupyter-widgets/base",
      "model_module_version": "2.0.0",
      "model_name": "LayoutModel",
      "state": {}
     },
     "f3a94d5c0add4258aa17467efe7373b0": {
      "model_module": "@jupyter-widgets/base",
      "model_module_version": "2.0.0",
      "model_name": "LayoutModel",
      "state": {}
     },
     "f3a9fc7cedf748e0893008551ba1b5b2": {
      "model_module": "@jupyter-widgets/controls",
      "model_module_version": "2.0.0",
      "model_name": "DropdownModel",
      "state": {
       "_options_labels": [
        "0",
        "1"
       ],
       "description": "Selection:",
       "index": 0,
       "layout": "IPY_MODEL_19becb66ae3c4485bf0d7a559660963f",
       "style": "IPY_MODEL_488f14c47a7c4af2a9c5d70eb6f2f2b4"
      }
     },
     "f413fb2fda1046ee97f8386fe3afc9ae": {
      "model_module": "@jupyter-widgets/controls",
      "model_module_version": "2.0.0",
      "model_name": "ButtonModel",
      "state": {
       "description": "Search Archives",
       "layout": "IPY_MODEL_73b937d31f224e2c9f2455e331bce628",
       "style": "IPY_MODEL_45c859751f3d481998fcf7cf79c17e3c",
       "tooltip": "Search the Swift archives"
      }
     },
     "f5413dfbefd849ae9a220b0631e95450": {
      "model_module": "@jupyter-widgets/base",
      "model_module_version": "2.0.0",
      "model_name": "LayoutModel",
      "state": {}
     },
     "f5d92ae9989f41c98662586e5552281c": {
      "model_module": "@jupyter-widgets/controls",
      "model_module_version": "2.0.0",
      "model_name": "TextStyleModel",
      "state": {
       "description_width": "",
       "font_size": null,
       "text_color": null
      }
     },
     "f715ccc67c2042d7ac9a1c27eb9946d7": {
      "model_module": "@jupyter-widgets/output",
      "model_module_version": "1.0.0",
      "model_name": "OutputModel",
      "state": {
       "layout": "IPY_MODEL_d7524e183deb4ec7a01123fa45cbff0e",
       "outputs": [
        {
         "data": {
          "application/vnd.jupyter.widget-view+json": {
           "model_id": "97674c547b174da3b2ae77c59c649119",
           "version_major": 2,
           "version_minor": 0
          },
          "text/plain": "Dropdown(description='Selection:', options=(('0', 0), ('1', 1)), value=0)"
         },
         "metadata": {},
         "output_type": "display_data"
        },
        {
         "data": {
          "application/vnd.jupyter.widget-view+json": {
           "model_id": "91fdf121c3af4ce5aebc040efc15cbe2",
           "version_major": 2,
           "version_minor": 0
          },
          "text/plain": "Button(description='Confirm', style=ButtonStyle(), tooltip='Confirm download')"
         },
         "metadata": {},
         "output_type": "display_data"
        },
        {
         "data": {
          "application/vnd.jupyter.widget-view+json": {
           "model_id": "f715ccc67c2042d7ac9a1c27eb9946d7",
           "version_major": 2,
           "version_minor": 0
          },
          "text/plain": "Output(msg_id='db002ded-6d81-42c8-a4bd-d9e2fdfbb70d')"
         },
         "metadata": {},
         "output_type": "display_data"
        }
       ]
      }
     },
     "f7aa92ef9ba946c192c7f920f6ab7c53": {
      "model_module": "@jupyter-widgets/controls",
      "model_module_version": "2.0.0",
      "model_name": "ButtonStyleModel",
      "state": {
       "font_family": null,
       "font_size": null,
       "font_style": null,
       "font_variant": null,
       "font_weight": null,
       "text_color": null,
       "text_decoration": null
      }
     },
     "f7f316476a934754a9a83037a7f5cf0b": {
      "model_module": "@jupyter-widgets/base",
      "model_module_version": "2.0.0",
      "model_name": "LayoutModel",
      "state": {}
     },
     "f80092131f794de5bc118b7ed2db78a1": {
      "model_module": "@jupyter-widgets/base",
      "model_module_version": "2.0.0",
      "model_name": "LayoutModel",
      "state": {}
     },
     "f88061a586cd4659a5fabb860a0cc531": {
      "model_module": "@jupyter-widgets/controls",
      "model_module_version": "2.0.0",
      "model_name": "TextModel",
      "state": {
       "description": "Search Term:",
       "layout": "IPY_MODEL_9cf00bc6f76242638c5042b79a46fb03",
       "placeholder": "",
       "style": "IPY_MODEL_2e376d084b05426ba872269bc2569b02",
       "value": "C/2013US10CatalinaOrbit2Ptg2"
      }
     },
     "f88ef4dec5e9469dbe5a275ee3969cbe": {
      "model_module": "@jupyter-widgets/controls",
      "model_module_version": "2.0.0",
      "model_name": "ButtonStyleModel",
      "state": {
       "font_family": null,
       "font_size": null,
       "font_style": null,
       "font_variant": null,
       "font_weight": null,
       "text_color": null,
       "text_decoration": null
      }
     },
     "f8e18b0cbd1c4dfda9deb81896b5d137": {
      "model_module": "@jupyter-widgets/controls",
      "model_module_version": "2.0.0",
      "model_name": "ButtonModel",
      "state": {
       "description": "Confirm",
       "layout": "IPY_MODEL_22b957701bbc448cb76249055f759c4f",
       "style": "IPY_MODEL_fa99e0dfba0541d69bc6d955175fc76f",
       "tooltip": "Confirm or cancel download"
      }
     },
     "f94689a492934f42b48bb9b9c27a8997": {
      "model_module": "@jupyter-widgets/controls",
      "model_module_version": "2.0.0",
      "model_name": "CheckboxModel",
      "state": {
       "description": "Overwrite Data",
       "disabled": false,
       "indent": false,
       "layout": "IPY_MODEL_cc15b7dc3e1b42f9b5a435e5470a9c9b",
       "style": "IPY_MODEL_16b71da78e6a44589f2951eb13bb1f08",
       "value": false
      }
     },
     "f9b166395b3744958b24afc33213a3f3": {
      "model_module": "@jupyter-widgets/base",
      "model_module_version": "2.0.0",
      "model_name": "LayoutModel",
      "state": {}
     },
     "f9ea3cc282104e6b8b257c0488478ad8": {
      "model_module": "@jupyter-widgets/base",
      "model_module_version": "2.0.0",
      "model_name": "LayoutModel",
      "state": {}
     },
     "fa7fa2bf5a3b48eb86d64c14411d07e7": {
      "model_module": "@jupyter-widgets/controls",
      "model_module_version": "2.0.0",
      "model_name": "DropdownModel",
      "state": {
       "_options_labels": [
        "0",
        "1"
       ],
       "description": "Selection:",
       "index": 0,
       "layout": "IPY_MODEL_6294de6ff005466fa1f18ee02dfd1efa",
       "style": "IPY_MODEL_251fa7a14a9c445db36fdd965e2bcec1"
      }
     },
     "fa99e0dfba0541d69bc6d955175fc76f": {
      "model_module": "@jupyter-widgets/controls",
      "model_module_version": "2.0.0",
      "model_name": "ButtonStyleModel",
      "state": {
       "font_family": null,
       "font_size": null,
       "font_style": null,
       "font_variant": null,
       "font_weight": null,
       "text_color": null,
       "text_decoration": null
      }
     },
     "fae93a3c29d34e26a62698b5c88b4b34": {
      "model_module": "@jupyter-widgets/base",
      "model_module_version": "2.0.0",
      "model_name": "LayoutModel",
      "state": {}
     },
     "fb03d97ac9974100bea82b09b27dd475": {
      "model_module": "@jupyter-widgets/controls",
      "model_module_version": "2.0.0",
      "model_name": "ButtonStyleModel",
      "state": {
       "font_family": null,
       "font_size": null,
       "font_style": null,
       "font_variant": null,
       "font_weight": null,
       "text_color": null,
       "text_decoration": null
      }
     },
     "fb4433d778b142869f0507fa0b327b1a": {
      "model_module": "@jupyter-widgets/base",
      "model_module_version": "2.0.0",
      "model_name": "LayoutModel",
      "state": {}
     },
     "fbf21840a7ea40e09721709b8d594a82": {
      "model_module": "@jupyter-widgets/base",
      "model_module_version": "2.0.0",
      "model_name": "LayoutModel",
      "state": {}
     },
     "fbfdddf6fe5a4cd4b95683e6cabf8ce5": {
      "model_module": "@jupyter-widgets/base",
      "model_module_version": "2.0.0",
      "model_name": "LayoutModel",
      "state": {}
     },
     "fc5b2129a59b4151a3bbf9196d08fabd": {
      "model_module": "@jupyter-widgets/controls",
      "model_module_version": "2.0.0",
      "model_name": "TextStyleModel",
      "state": {
       "description_width": "",
       "font_size": null,
       "text_color": null
      }
     },
     "fc7004ff2c9442e6b2a5e99290183383": {
      "model_module": "@jupyter-widgets/base",
      "model_module_version": "2.0.0",
      "model_name": "LayoutModel",
      "state": {}
     },
     "fc9324e9a01f4112b65133da7e900511": {
      "model_module": "@jupyter-widgets/controls",
      "model_module_version": "2.0.0",
      "model_name": "ToggleButtonsStyleModel",
      "state": {
       "button_width": "",
       "description_width": ""
      }
     },
     "fd0d9eb2fe8a46d58a8955caafdead2e": {
      "model_module": "@jupyter-widgets/controls",
      "model_module_version": "2.0.0",
      "model_name": "CheckboxStyleModel",
      "state": {
       "description_width": ""
      }
     },
     "fd2728a905e44529911cb2a6961a5382": {
      "model_module": "@jupyter-widgets/base",
      "model_module_version": "2.0.0",
      "model_name": "LayoutModel",
      "state": {}
     },
     "fd8efa1bfd43404cb4413efeb284cdb5": {
      "model_module": "@jupyter-widgets/controls",
      "model_module_version": "2.0.0",
      "model_name": "ToggleButtonsStyleModel",
      "state": {
       "button_width": "",
       "description_width": ""
      }
     },
     "febf306833c94e54a8f27c72b4469f66": {
      "model_module": "@jupyter-widgets/base",
      "model_module_version": "2.0.0",
      "model_name": "LayoutModel",
      "state": {}
     },
     "fecc67fafbdb481a8b6c4a36062f1294": {
      "model_module": "@jupyter-widgets/controls",
      "model_module_version": "2.0.0",
      "model_name": "DescriptionStyleModel",
      "state": {
       "description_width": ""
      }
     },
     "fed9500032e2485b907e3c439075c627": {
      "model_module": "@jupyter-widgets/controls",
      "model_module_version": "2.0.0",
      "model_name": "TextStyleModel",
      "state": {
       "description_width": "",
       "font_size": null,
       "text_color": null
      }
     },
     "ff0e3d249ee842dcb83afd14d0c54137": {
      "model_module": "@jupyter-widgets/base",
      "model_module_version": "2.0.0",
      "model_name": "LayoutModel",
      "state": {}
     },
     "ffd8baf6cc194ec1a14cec85412f5a94": {
      "model_module": "@jupyter-widgets/base",
      "model_module_version": "2.0.0",
      "model_name": "LayoutModel",
      "state": {}
     },
     "ffe8c6bf2a72476c8fd7b104d9aebc7c": {
      "model_module": "@jupyter-widgets/controls",
      "model_module_version": "2.0.0",
      "model_name": "ButtonStyleModel",
      "state": {
       "font_family": null,
       "font_size": null,
       "font_style": null,
       "font_variant": null,
       "font_weight": null,
       "text_color": null,
       "text_decoration": null
      }
     },
     "fff79444998141288d1da5b78e3f7f92": {
      "model_module": "@jupyter-widgets/controls",
      "model_module_version": "2.0.0",
      "model_name": "SelectMultipleModel",
      "state": {
       "_options_labels": [
        "auxil",
        "bat",
        "xrt",
        "uvot",
        "log"
       ],
       "description": "File Type(s)",
       "index": [
        0
       ],
       "layout": "IPY_MODEL_97954e57e759439f823bd1370cd1ac44",
       "rows": 5,
       "style": "IPY_MODEL_bee196202bab43cfa88ad8adc63612c6"
      }
     }
    },
    "version_major": 2,
    "version_minor": 0
   }
  }
 },
 "nbformat": 4,
 "nbformat_minor": 5
}
